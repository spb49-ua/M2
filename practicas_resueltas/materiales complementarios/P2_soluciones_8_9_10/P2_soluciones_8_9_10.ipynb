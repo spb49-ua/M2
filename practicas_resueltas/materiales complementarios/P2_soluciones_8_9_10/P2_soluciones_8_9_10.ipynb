{
  "cells": [
    {
      "cell_type": "markdown",
      "metadata": {
        "id": "92M_pBu5Xver"
      },
      "source": [
        "Importación de las librerías necesarias"
      ]
    },
    {
      "cell_type": "code",
      "execution_count": 5,
      "metadata": {
        "id": "dd-D0oQEXhYt"
      },
      "outputs": [],
      "source": [
        "import numpy as np\n",
        "from sympy import * # Librería de Calculo\n",
        "from sympy.plotting import plot as symplot # Librería para las gráficas\n",
        "from sympy.abc import x, y, h # Carga de un simbolico \"x\"\n",
        "from sympy.plotting.pygletplot import PygletPlot as Plot # Librería para las gráficas"
      ]
    },
    {
      "cell_type": "markdown",
      "metadata": {
        "id": "7KvI_DGZWQK9"
      },
      "source": [
        "## Ejercicio 8"
      ]
    },
    {
      "cell_type": "markdown",
      "metadata": {
        "id": "dvKCo6tQgqr5"
      },
      "source": [
        "Analiza las siguientes expresiones. Crea una función que al introducir las expresiones cree un gráfico con la función junto con sus\n",
        "raíces, asíntotas y puntos críticos.\n",
        "\n",
        "$\\frac{2x}{x^2+1}$\n",
        "\n",
        "$\\frac{log(x)}{x}$\n",
        "\n",
        "$\\frac{x+1}{\\sqrt{x-1}-5}$\n",
        "\n",
        "$\\frac{x^3}{(x-1)^2}-8$"
      ]
    },
    {
      "cell_type": "code",
      "execution_count": 6,
      "metadata": {
        "id": "ANx46Gsg6OBp"
      },
      "outputs": [],
      "source": [
        "def analisis(f):\n",
        "  \n",
        "  # Enseña la expresión recibida\n",
        "  print(\"Original:\", end=\"\")\n",
        "  display(f)\n",
        "  \n",
        "  # separa la expresión en numerador y denominador\n",
        "  num, den = f.as_numer_denom()\n",
        "\n",
        "  # busca los ceros (raíces) del numerador (donde la expresión es 0)\n",
        "  raices = solve(num)\n",
        "\n",
        "  # calcula las asíntotas horizontales\n",
        "  asintotas_horizontales = limit(f,x,oo)\n",
        "\n",
        "  # calcula las asíntotas verticales\n",
        "  # solveset es equivalente a solve pero permite definir un dominio (R.Reals), efectivamente barrando todos los resultados que no son numéricos\n",
        "  # se converte para una lista para poder ser iterable\n",
        "  asintotas_verticales = list(solveset(den, x, domain=S.Reals))\n",
        "  \n",
        "  print(\"Asíntotas horizontales:\",asintotas_horizontales)\n",
        "  print(\"Asíntotas verticales:\",asintotas_verticales)\n",
        "\n",
        "  # Calculo de puntos críticos\n",
        "  # 1) 1a derivada\n",
        "  derivada = diff(f,x)\n",
        "  print(\"Derivada:\", end=\"\")\n",
        "  display(derivada)\n",
        "  # 2) calcular los ceros de la 1a derivada - el resultado son los puntos críticos\n",
        "  criticos = solve(derivada, x, domain=S.Reals)\n",
        "  print(\"Puntos críticos:\", criticos)\n",
        "\n",
        "  # 3) calcular la 2a derivada\n",
        "  segunda_derivada = diff(derivada, x, 2)\n",
        "  # 4) aplicar los puntos críticos en la segunda derivada\n",
        "  #    si < 0 es un máximo, si > 0 es un mínimo\n",
        "  criticos_en_segunda_derivada = [segunda_derivada.subs(x, cr) for cr in criticos]\n",
        "  # 5) imprimir información de minimos y maximos\n",
        "  #    itera los valores resultantes de sustituir los puntos críticos en la segunda derivada\n",
        "  #    verifica su signo para descubrir si es máximo o mínimo\n",
        "  #    imprime el valor del critico y f(critico) - hecho de forma posicional (críticos y criticos_en_segunda_derivada tienen la misma dimensión)\n",
        "  for crit, crit2d in enumerate(criticos_en_segunda_derivada):\n",
        "    if crit2d > 0:\n",
        "      print(f\"Hay un mínimo en ({criticos[crit]},{f.subs(x,criticos[crit])})\")\n",
        "    elif crit2d < 0:\n",
        "      print(f\"Hay un máximo en ({criticos[crit]},{f.subs(x,criticos[crit])})\")\n",
        "    else:\n",
        "      print(f\"El punto ({criticos[crit]},{f.subs(x,criticos[crit])}) es inconcluyente\")\n",
        "\n",
        "  # Calcula el valor del eje x\n",
        "  minimos = min(float(min(criticos)-1), float(min(raices)-1), 0)\n",
        "  maximos = max(float(max(criticos)+1), float(max(raices)+1))\n",
        "\n",
        "  import matplotlib.pyplot as plt\n",
        "  \n",
        "  # Calcula el valor de f(criticos) -> sale un vector\n",
        "  criticosY = [f.subs(x,crit) for crit in criticos]\n",
        "\n",
        "  # Dibuja los puntos criticos\n",
        "  # plt.plot solo acepta vectores x e y de entrada\n",
        "  plt.plot(criticos, criticosY, 'k*')\n",
        "\n",
        "  # Dibuja las raíces\n",
        "  # hace el calculo de f(raíces) directamente dentro del plot\n",
        "  plt.plot(raices, [f.subs(x,raiz) for raiz in raices], 'ro')\n",
        "  \n",
        "  # Caso exista asíntota horizontal la dibuja\n",
        "  # toma 2 puntos (automáticamente dibuja una línea entra los 2)\n",
        "  # punto 1: (valor mínimo del eje x, valor asintotas_horizontales)\n",
        "  # punto 2: (valor máximo del eje x, valor asintotas_horizontales)\n",
        "  # efectivamente se varia el valor de x manteniendo el valor de y constante -> línea horizontal\n",
        "  if asintotas_horizontales != oo:\n",
        "    plt.plot([minimos,maximos],[asintotas_horizontales,asintotas_horizontales], 'g')\n",
        "\n",
        "  # Caso existan asíntotas verticales las dibuja\n",
        "  # toma 2 puntos (automáticamente dibuja una línea entra los 2)\n",
        "  # punto 1: (valor asíntota vertical, valor mínimo del eje y)\n",
        "  # punto 2: (valor asíntota vertical, valor máximo del eje y)\n",
        "  # efectivamente se varia el valor de y manteniendo el valor de x constante -> línea vertical\n",
        "  for av in asintotas_verticales:\n",
        "    plt.plot([av, av],[min(criticosY),max(criticosY)], 'y')\n",
        "\n",
        "  # Dibujar la expresión\n",
        "  # Se crea un vector que vaya desde el mínimo valor del eje x hasta el máximo, conteniendo 1000 elementos equidistantes\n",
        "  xx = np.linspace(minimos, maximos, 1000)\n",
        "  # Se quita valores donde f(x) sea imposible (en las asíntotas verticales)\n",
        "  if asintotas_verticales:\n",
        "    xx = xx[xx != asintotas_verticales]\n",
        "  # se convierte la función simbólica en numérica (lambdify) y se introduce el vector xx -> resultado: vector de f(xx)\n",
        "  yy = lambdify(x, f)(xx)\n",
        "\n",
        "  # Dibuja la expresión f(x)\n",
        "  plt.plot(xx,yy)\n",
        "  # Cambia VISUALMENTE los ejes x e y\n",
        "  plt.xlim(minimos,maximos)\n",
        "  plt.ylim(float(min(criticosY)-1),float(max(criticosY)+1))\n",
        "\n",
        "  # Enseña gráfica\n",
        "  plt.show()"
      ]
    },
    {
      "cell_type": "code",
      "execution_count": 7,
      "metadata": {
        "colab": {
          "base_uri": "https://localhost:8080/",
          "height": 470
        },
        "id": "Nsyp3fp66N2t",
        "outputId": "cebb7f50-d8bd-479a-ee16-d38d8d91dcdc"
      },
      "outputs": [
        {
          "output_type": "stream",
          "name": "stdout",
          "text": [
            "Original:"
          ]
        },
        {
          "output_type": "display_data",
          "data": {
            "text/plain": [
              "2*x/(x**2 + 1)"
            ],
            "text/latex": "$\\displaystyle \\frac{2 x}{x^{2} + 1}$"
          },
          "metadata": {}
        },
        {
          "output_type": "stream",
          "name": "stdout",
          "text": [
            "Asíntotas horizontales: 0\n",
            "Asíntotas verticales: []\n",
            "Derivada:"
          ]
        },
        {
          "output_type": "display_data",
          "data": {
            "text/plain": [
              "-4*x**2/(x**2 + 1)**2 + 2/(x**2 + 1)"
            ],
            "text/latex": "$\\displaystyle - \\frac{4 x^{2}}{\\left(x^{2} + 1\\right)^{2}} + \\frac{2}{x^{2} + 1}$"
          },
          "metadata": {}
        },
        {
          "output_type": "stream",
          "name": "stdout",
          "text": [
            "Puntos críticos: [-1, 1]\n",
            "Hay un mínimo en (-1,-1)\n",
            "Hay un mínimo en (1,1)\n"
          ]
        },
        {
          "output_type": "display_data",
          "data": {
            "text/plain": [
              "<Figure size 432x288 with 1 Axes>"
            ],
            "image/png": "[encoded data removed]"
          },
          "metadata": {
            "needs_background": "light"
          }
        }
      ],
      "source": [
        "analisis((2*x)/(x**2+1))"
      ]
    },
    {
      "cell_type": "code",
      "execution_count": 8,
      "metadata": {
        "colab": {
          "base_uri": "https://localhost:8080/",
          "height": 441
        },
        "id": "C1bM_eDj6NqS",
        "outputId": "964baf06-8bfe-4b63-dbf5-b882d3e7f90b"
      },
      "outputs": [
        {
          "output_type": "stream",
          "name": "stdout",
          "text": [
            "Original:"
          ]
        },
        {
          "output_type": "display_data",
          "data": {
            "text/plain": [
              "log(x)/x"
            ],
            "text/latex": "$\\displaystyle \\frac{\\log{\\left(x \\right)}}{x}$"
          },
          "metadata": {}
        },
        {
          "output_type": "stream",
          "name": "stdout",
          "text": [
            "Asíntotas horizontales: 0\n",
            "Asíntotas verticales: [0]\n",
            "Derivada:"
          ]
        },
        {
          "output_type": "display_data",
          "data": {
            "text/plain": [
              "-log(x)/x**2 + x**(-2)"
            ],
            "text/latex": "$\\displaystyle - \\frac{\\log{\\left(x \\right)}}{x^{2}} + \\frac{1}{x^{2}}$"
          },
          "metadata": {}
        },
        {
          "output_type": "stream",
          "name": "stdout",
          "text": [
            "Puntos críticos: [E]\n",
            "Hay un mínimo en (E,exp(-1))\n"
          ]
        },
        {
          "output_type": "display_data",
          "data": {
            "text/plain": [
              "<Figure size 432x288 with 1 Axes>"
            ],
            "image/png": "[encoded data removed]"
          },
          "metadata": {
            "needs_background": "light"
          }
        }
      ],
      "source": [
        "analisis(ln(x)/x)"
      ]
    },
    {
      "cell_type": "code",
      "execution_count": 9,
      "metadata": {
        "colab": {
          "base_uri": "https://localhost:8080/",
          "height": 487
        },
        "id": "9PXUyXxQ6Nc0",
        "outputId": "0f72e6ab-6a75-4c4a-d729-d51c182cbbd9"
      },
      "outputs": [
        {
          "output_type": "stream",
          "name": "stdout",
          "text": [
            "Original:"
          ]
        },
        {
          "output_type": "display_data",
          "data": {
            "text/plain": [
              "(x + 1)/(sqrt(x - 1) - 5)"
            ],
            "text/latex": "$\\displaystyle \\frac{x + 1}{\\sqrt{x - 1} - 5}$"
          },
          "metadata": {}
        },
        {
          "output_type": "stream",
          "name": "stdout",
          "text": [
            "Asíntotas horizontales: oo\n",
            "Asíntotas verticales: [26]\n",
            "Derivada:"
          ]
        },
        {
          "output_type": "display_data",
          "data": {
            "text/plain": [
              "1/(sqrt(x - 1) - 5) - (x + 1)/(2*sqrt(x - 1)*(sqrt(x - 1) - 5)**2)"
            ],
            "text/latex": "$\\displaystyle \\frac{1}{\\sqrt{x - 1} - 5} - \\frac{x + 1}{2 \\sqrt{x - 1} \\left(\\sqrt{x - 1} - 5\\right)^{2}}$"
          },
          "metadata": {}
        },
        {
          "output_type": "stream",
          "name": "stdout",
          "text": [
            "Puntos críticos: [30*sqrt(3) + 53]\n",
            "Hay un máximo en (30*sqrt(3) + 53,(30*sqrt(3) + 54)/(-5 + sqrt(30*sqrt(3) + 52)))\n"
          ]
        },
        {
          "output_type": "stream",
          "name": "stderr",
          "text": [
            "<lambdifygenerated-3>:2: RuntimeWarning: invalid value encountered in sqrt\n",
            "  return ((x + 1)/(sqrt(x - 1) - 5))\n"
          ]
        },
        {
          "output_type": "display_data",
          "data": {
            "text/plain": [
              "<Figure size 432x288 with 1 Axes>"
            ],
            "image/png": "[encoded data removed]"
          },
          "metadata": {
            "needs_background": "light"
          }
        }
      ],
      "source": [
        "analisis((x+1)/(sqrt(x-1)-5))"
      ]
    },
    {
      "cell_type": "code",
      "execution_count": 10,
      "metadata": {
        "colab": {
          "base_uri": "https://localhost:8080/",
          "height": 474
        },
        "id": "_pUD6aki6ixK",
        "outputId": "8ce2b1f0-ce93-4e76-9067-bd4019261eed"
      },
      "outputs": [
        {
          "output_type": "stream",
          "name": "stdout",
          "text": [
            "Original:"
          ]
        },
        {
          "output_type": "display_data",
          "data": {
            "text/plain": [
              "x**3/(x - 1)**2 - 8"
            ],
            "text/latex": "$\\displaystyle \\frac{x^{3}}{\\left(x - 1\\right)^{2}} - 8$"
          },
          "metadata": {}
        },
        {
          "output_type": "stream",
          "name": "stdout",
          "text": [
            "Asíntotas horizontales: oo\n",
            "Asíntotas verticales: [1]\n",
            "Derivada:"
          ]
        },
        {
          "output_type": "display_data",
          "data": {
            "text/plain": [
              "-2*x**3/(x - 1)**3 + 3*x**2/(x - 1)**2"
            ],
            "text/latex": "$\\displaystyle - \\frac{2 x^{3}}{\\left(x - 1\\right)^{3}} + \\frac{3 x^{2}}{\\left(x - 1\\right)^{2}}$"
          },
          "metadata": {}
        },
        {
          "output_type": "stream",
          "name": "stdout",
          "text": [
            "Puntos críticos: [0, 3]\n",
            "Hay un mínimo en (0,-8)\n",
            "Hay un máximo en (3,-5/4)\n"
          ]
        },
        {
          "output_type": "display_data",
          "data": {
            "text/plain": [
              "<Figure size 432x288 with 1 Axes>"
            ],
            "image/png": "[encoded data removed]"
          },
          "metadata": {
            "needs_background": "light"
          }
        }
      ],
      "source": [
        "analisis((x**3)/((x-1)**2)-8)"
      ]
    },
    {
      "cell_type": "markdown",
      "metadata": {
        "id": "PWhPvzePWQR1"
      },
      "source": [
        "## Ejercicio 9"
      ]
    },
    {
      "cell_type": "markdown",
      "metadata": {
        "id": "bU-rNSKWh1SR"
      },
      "source": [
        "Una ventana se construye en su parte superior con un semicírculo y en su parte inferior con un rectángulo. Si hay 12m de materiales, ¿cuáles serán las dimensiones de la ventana para que entre la mayor cantidad de luz?"
      ]
    },
    {
      "cell_type": "code",
      "execution_count": 11,
      "metadata": {
        "colab": {
          "base_uri": "https://localhost:8080/",
          "height": 365
        },
        "id": "FM4Htp_B6xGl",
        "outputId": "d1714f77-cf1f-47f6-d430-8d2c9743c233"
      },
      "outputs": [
        {
          "output_type": "stream",
          "name": "stdout",
          "text": [
            "nuevo_y:\n"
          ]
        },
        {
          "output_type": "display_data",
          "data": {
            "text/plain": [
              "-pi*x/2 - x + 6"
            ],
            "text/latex": "$\\displaystyle - \\frac{\\pi x}{2} - x + 6$"
          },
          "metadata": {}
        },
        {
          "output_type": "stream",
          "name": "stdout",
          "text": [
            "Puntos criticos: [12/(pi + 4)]\n",
            "Anchura optima: 24/(pi + 4)\n",
            "Altura optima: -6*pi/(pi + 4) - 12/(pi + 4) + 6\n"
          ]
        },
        {
          "output_type": "display_data",
          "data": {
            "text/plain": [
              "<Figure size 432x288 with 1 Axes>"
            ],
            "image/png": "[encoded data removed]"
          },
          "metadata": {
            "needs_background": "light"
          }
        }
      ],
      "source": [
        "# radio es x\n",
        "# Perimetro semicirculo\n",
        "Perimetro_semi = x * (2 + pi)\n",
        "# Perimetro rectangulo; y es la altura\n",
        "Perimetro_rect = ((x * 2) + y) * 2\n",
        "\n",
        "# El perimetro total es 12, así que hay que resolver los perimetros para ese valor\n",
        "# para no borrar el y (que es simbolico) se crea una nueva variable\n",
        "# Hay que restar la parte de bajo del semicirculo y la de arriba del rectangulo (porque están unidas) -> x*2\n",
        "nuevo_y = solve((Perimetro_semi - x * 2) + (Perimetro_rect - x*2) - 12, y)[0]\n",
        "print(\"nuevo_y:\")\n",
        "display(nuevo_y)\n",
        "\n",
        "# Area de semicirculo\n",
        "Area_semi = (pi * (x ** 2))/2\n",
        "# area rectangulo\n",
        "Area_rectangulo = (x * 2) * nuevo_y\n",
        "# Total de area que se va a minimizar\n",
        "Area_total = Area_rectangulo + Area_semi\n",
        "# Hallar la derivada\n",
        "derivada_Area = diff(Area_total,x)\n",
        "# Hallar los criticos -> correspondiente al radio (x)\n",
        "criticos = solve(derivada_Area)\n",
        "# Hallar los correspondientes valores de y de los criticos\n",
        "criticosY = [Area_total.subs(x,crit) for crit in criticos]\n",
        "# Dibujar\n",
        "import matplotlib.pyplot as plt\n",
        "plt.plot(criticos, criticosY, 'k*')\n",
        "plt.plot([crit for crit in np.linspace(float(min(criticos))-1, float(max(criticos))+1, 100)],[Area_total.subs(x,crit) for crit in np.linspace(float(min(criticos))-1, float(max(criticos))+1, 100)])\n",
        "\n",
        "print(\"Puntos criticos:\", criticos)\n",
        "print(\"Anchura optima:\", criticos[0]*2)\n",
        "print(\"Altura optima:\", nuevo_y.subs(x,criticos[0]))"
      ]
    },
    {
      "cell_type": "markdown",
      "metadata": {
        "id": "CRYK3tRhWQXK"
      },
      "source": [
        "## Ejercicio 10"
      ]
    },
    {
      "cell_type": "markdown",
      "metadata": {
        "id": "JauMrJI8iA0Y"
      },
      "source": [
        "Determina los puntos sobre $y = x^2 + 1$ más cercanos a $(0, 2)$"
      ]
    },
    {
      "cell_type": "code",
      "execution_count": 12,
      "metadata": {
        "colab": {
          "base_uri": "https://localhost:8080/",
          "height": 300
        },
        "id": "IKs21ShP610l",
        "outputId": "a71eedd4-7b23-45ca-feed-685f8fd6c8b6"
      },
      "outputs": [
        {
          "output_type": "stream",
          "name": "stdout",
          "text": [
            "Puntos críticos: [0, -sqrt(2)/2, sqrt(2)/2]\n"
          ]
        },
        {
          "output_type": "execute_result",
          "data": {
            "text/plain": [
              "[<matplotlib.lines.Line2D at 0x7f4e452c8a30>]"
            ]
          },
          "metadata": {},
          "execution_count": 12
        },
        {
          "output_type": "display_data",
          "data": {
            "text/plain": [
              "<Figure size 432x288 with 1 Axes>"
            ],
            "image/png": "[encoded data removed]"
          },
          "metadata": {
            "needs_background": "light"
          }
        }
      ],
      "source": [
        "# Versión Manual\n",
        "puntox = 0\n",
        "puntoy = 2\n",
        "f = x**2+1\n",
        "# Distancia euclidiana\n",
        "distancia = sqrt((x - puntox)**2 + (f - puntoy)**2)\n",
        "distancia\n",
        "derivada = diff(distancia)\n",
        "criticos = solve(derivada)\n",
        "print(\"Puntos críticos:\", criticos)\n",
        "funcion_y = [f.subs(x,puntos) for puntos in np.linspace(-1,3,100)]\n",
        "plt.plot(np.linspace(-1,3,100), funcion_y)\n",
        "criticos_y = [f.subs(x,puntos) for puntos in criticos]\n",
        "plt.plot(criticos, criticos_y, 'ro')\n",
        "plt.plot(0,2,'ob')"
      ]
    }
  ],
  "metadata": {
    "colab": {
      "provenance": []
    },
    "kernelspec": {
      "display_name": "Python 3",
      "language": "python",
      "name": "python3"
    },
    "language_info": {
      "codemirror_mode": {
        "name": "ipython",
        "version": 3
      },
      "file_extension": ".py",
      "mimetype": "text/x-python",
      "name": "python",
      "nbconvert_exporter": "python",
      "pygments_lexer": "ipython3",
      "version": "3.8.10"
    },
    "vscode": {
      "interpreter": {
        "hash": "b197d077b85383597bf8661f92fb5e9423b402f9618d7eba444b50c094388fdb"
      }
    }
  },
  "nbformat": 4,
  "nbformat_minor": 0
}
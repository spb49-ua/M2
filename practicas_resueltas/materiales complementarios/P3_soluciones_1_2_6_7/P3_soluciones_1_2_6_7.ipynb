{
  "cells": [
    {
      "cell_type": "markdown",
      "metadata": {
        "id": "s816e4mZZrPh"
      },
      "source": [
        "# Integrales"
      ]
    },
    {
      "cell_type": "markdown",
      "metadata": {
        "id": "92M_pBu5Xver"
      },
      "source": [
        "Importación de las librerías necesarias"
      ]
    },
    {
      "cell_type": "code",
      "execution_count": null,
      "metadata": {
        "id": "dd-D0oQEXhYt"
      },
      "outputs": [],
      "source": [
        "import numpy as np # biblioteca de cálculo numérico y análisis de datos\n",
        "import pylab as plt # biblioteca para la generación de gráficos a partir de listas o arrays\n",
        "from sympy import * # Librería de Cálculo\n",
        "from sympy.plotting import plot as symplot # Librería para los gráficos\n",
        "from sympy.abc import x, y, h # Carga de un simbólico \"x\"\n",
        "from sympy.plotting.pygletplot import PygletPlot as Plot # Librería para los gráficos\n",
        "import math"
      ]
    },
    {
      "cell_type": "markdown",
      "metadata": {
        "id": "1lqyB4NKZp0l"
      },
      "source": [
        "## Definición de área bajo una curva\n",
        "\n",
        "Dada la gráfica de una función, se puede definir la integral definida como el área bajo la función entre dos valores $a$ y $b$.\n",
        "\n",
        "\n",
        "Así por ejemplo para la función\n",
        "$cos(2πx)e^{-x}+1$ entre los valores $1$ y $4$ se puede representar como \n"
      ]
    },
    {
      "cell_type": "code",
      "execution_count": null,
      "metadata": {
        "colab": {
          "base_uri": "https://localhost:8080/",
          "height": 265
        },
        "id": "Pkqoy_QlxInI",
        "outputId": "194f102e-ea3e-48c8-859d-d10a961451c3"
      },
      "outputs": [
        {
          "data": {
            "image/png": "[encoded data removed]",
            "text/plain": [
              "<Figure size 432x288 with 1 Axes>"
            ]
          },
          "metadata": {
            "needs_background": "light"
          },
          "output_type": "display_data"
        }
      ],
      "source": [
        "from matplotlib import pyplot as plt\n",
        "\n",
        "a=0\n",
        "b=6\n",
        "n=1000\n",
        "\n",
        "# Creamos la función simbólica\n",
        "f = cos(2*pi*x)*exp(-x)+1\n",
        "# Definimos los subintervalos entre a y b como n valores espaciados uniformemente\n",
        "xvalues = np.linspace(a,b,n)\n",
        "# Obtenemos los valores correspondientes para la y\n",
        "yvalues = lambdify(x, f)(xvalues) \n",
        "\n",
        "plt.plot(xvalues,yvalues)     # Dibujamos la curva a partir de sus coordenadas x, y \n",
        "# Rellenamos el área de integración en color azul \n",
        "plt.fill_between(xvalues,y1=yvalues,y2=0,where=(xvalues>=1)&(xvalues<=4), facecolor='blue',alpha=0.2)\n",
        "# Añadimos un texto explicativo en la posición (2.5, 0.4)\n",
        "plt.text(2.5,0.4,r\"$\\int_{1}^4(cos(2πx)e^{-x}+1)\\mathrm{d}x$\",horizontalalignment='center',fontsize=14)\n",
        "plt.show()"
      ]
    },
    {
      "cell_type": "markdown",
      "metadata": {
        "id": "nTCABPbOB9mZ"
      },
      "source": [
        "Una forma de calcular una aproximación del área bajo una curva sería mediante una suma finita. De esta forma, se define la Suma de Riemann como una  aproximación del valor de una integral mediante una suma finita.\n",
        "\n",
        "La suma se calcula dividiendo la región en formas (rectángulos, trapezoides, cuadrados, polinomios cuadráticos o cúbicos, etc.) que si las juntamos todas se forma un zona similar a la región que se está midiendo. Después, calculando el área para cada una de estas formas y sumåndolas todas, se puede encontrar una aproximación numérica para una integral definida.  \n",
        "\n",
        "Hay que tener en cuenta que la región rellenada por las formas pequeñas generalmente no es exactamente la misma forma que la región que se está midiendo, con lo que la suma de Riemann será una aproximación diferente del área que se está midiendo. El error que se comete, se puede reducir utilizando formas cada vez más pequeñas. Así, a medida que las formas se hacen cada vez más pequeñas, la suma se acerca a la integral buscada.\n",
        "\n",
        "Una de las formas más simples es el rectángulo. Así pues, vamos a aproximar el área bajo la curva mediante una suma de áreas de rectángulos. Para ello, primeramente, vamos a realizar una partición del intervalo $[a, b]$ en $n$ particiones de longitud $\\Delta x$.\n",
        "\n",
        "Para calcular la altura de los rectángulos vamos a elegir dos valores el valor de la función en el punto inicial izquierdo y el valor en el punto final derecho de cada elemento de la partición. Estas sumas de las áreas de esos rectángulos se denominarán suma izquierda en un caso, y suma derecha en el otro.\n",
        "\n",
        "Así pues, tomando cada intervalo de igual longitud $\\Delta x = \\frac{(b-a)}{n}$, con $n$ número de intervalos definidos mediante la partición $\\{a=x_1, x_2, \\ldots,x_n,x_{n+1}=b\\}$, y tomando como alturas de los rectángulos los valores de $f(x_{i})$ y $f(x_{i+1})$ respectivamente, se obtienen las áreas de los rectángulos.\n",
        "\n",
        "Ahora solo queda sumar las áreas de los rectángulos para obtener una aproximación, así la Suma Izquierda será\n",
        "\n",
        "$$L_n = \\sum_{i=1}^n \\Delta x f(x_{i}) = \\Delta x  \\sum_{i=1}^n f(x_{i}) = \\frac{b-a}{n} \\sum_{i=1}^n f(x_{i}),$$\n",
        "\n",
        "y la Suma Derecha\n",
        "\n",
        "$$R_n = \\sum_{i=1}^n \\Delta x f(x_{i+1}) = \\Delta x  \\sum_{i=1}^n f(x_{i+1}) = \\frac{b-a}{n} \\sum_{i=1}^n f(x_{i+1}) $$\n",
        "\n",
        "Esto se puede implementar en python de la forma siguiente"
      ]
    },
    {
      "cell_type": "code",
      "execution_count": null,
      "metadata": {
        "colab": {
          "base_uri": "https://localhost:8080/"
        },
        "id": "B6u3OcZdZ147",
        "outputId": "ae1939bd-6a60-4441-c95f-56d4b4b7386f"
      },
      "outputs": [
        {
          "name": "stdout",
          "output_type": "stream",
          "text": [
            "La Suma Izquierda de: 10**(-x)*x**2*sin(x)**2 de 0.00 a 3.14 es 0.089965\n",
            "La Suma Derecha   de: 10**(-x)*x**2*sin(x)**2 de 0.00 a 3.14 es 0.089965\n"
          ]
        }
      ],
      "source": [
        "# Función que calcula la suma izquierda donde\n",
        "# function: función a integrar de forma simbólica\n",
        "# a: límite inferior de integración\n",
        "# b: límite superior de integración\n",
        "# n: número de intervalos entre a y b\n",
        "\n",
        "def L_n(function, a, b, n): \n",
        "    xvalues = np.linspace(a, b, n) # Devuelve n valores espaciados uniformemente en el intervalo [a, b]\n",
        "\n",
        "    # Obtenemos los valores correspondientes a f(xi)\n",
        "    yvalues = lambdify(x, function)(xvalues[:-1]) \n",
        "\n",
        "    Lsum = 0\n",
        "    for i in yvalues:\n",
        "        Lsum += i\n",
        "    \n",
        "    Ax = (b-a)/n\n",
        "    Lsum = Ax * Lsum\n",
        "\n",
        "    return Lsum\n",
        "\n",
        "# Función que calcula la suma derecha\n",
        "def R_n(function, a, b, n):\n",
        "    xvalues = np.linspace(a, b, n) # Devuelve n valores espaciados uniformemente en el intervalo [a, b]\n",
        "\n",
        "    # Obtenemos los valores correspondientes a f(xi+1)\n",
        "    yvalues = lambdify(x, function)(xvalues[1:]) \n",
        "\n",
        "    Rsum = 0\n",
        "    for i in yvalues:\n",
        "        Rsum += i\n",
        "    \n",
        "    Ax = (b-a)/n\n",
        "    Rsum = Ax * Rsum\n",
        "\n",
        "    return Rsum\n",
        "\n",
        "# La siguiente función llama a las dos anteriores y devuelve una tupla con sus valores\n",
        "def Riemann_sum(function, a, b, n):\n",
        "     Ln = L_n(function, a, b, n) \n",
        "     Rn = R_n(function, a, b, n)\n",
        "     return (Ln, Rn)\n",
        "\n",
        "## ejemplo \n",
        "n = 10 #100\n",
        "a = 0\n",
        "b = np.pi\n",
        "\n",
        "function = sin(x)**2 * x**2 * 10**-x\n",
        "Ln, Rn = Riemann_sum(function, a, b, n)\n",
        "\n",
        "print(f\"La Suma Izquierda de: {function} de {a:.2f} a {b:.2f} es {Ln:.6f}\")\n",
        "print(f\"La Suma Derecha   de: {function} de {a:.2f} a {b:.2f} es {Rn:.6f}\")"
      ]
    },
    {
      "cell_type": "markdown",
      "metadata": {
        "id": "FsA-6Jo4YvMh"
      },
      "source": [
        "También podemos usar la regla trapezoidal que consiste en aproximar la altura de la función a una constante en cada subintervalo $[a,b]$ como si fuera un polinomio lineal.  En este caso, la región bajo el polinomio lineal es un  trapezoide. \n",
        "\n",
        "En cada sub-intervalo $x_{i}$ y $x_{i+1}$, el trapezoide tiene de área\n",
        "$$\\frac{f(x_{i})+ f(x_{i+1})}{2}\\Delta x $$\n",
        "\n",
        "Y sumando estas áreas en todos los sub-intervalos obtenemos:\n",
        "\n",
        "$$\\int_a^b f(x)dx = \\sum_{i=1}^n \\frac{f(x_i)+f(x_{i+1})}{2}\\Delta x $$\n",
        "\n",
        "Esto se puede implementar fácilemente en python mediante el siguiente código\n"
      ]
    },
    {
      "cell_type": "code",
      "execution_count": null,
      "metadata": {
        "colab": {
          "base_uri": "https://localhost:8080/"
        },
        "id": "6Y5s9IHLcEbu",
        "outputId": "2efeaa21-d016-4557-83c4-9cfb442117ec"
      },
      "outputs": [
        {
          "name": "stdout",
          "output_type": "stream",
          "text": [
            "La Suma Trapezoidal de: 10**(-x)*x**2*sin(x)**2 de 0 a 3.14 es 0.098944\n"
          ]
        }
      ],
      "source": [
        "def suma_trapezoidal(function, a, b, n):\n",
        "    Ax = (b - a)/n\n",
        "    \n",
        "    xvalues = np.linspace(a, b, n) # Devuelve n valores espaciados uniformemente en el intervalo [a, b]\n",
        "\n",
        "    # Obtenemos los valores de f(xi+1)\n",
        "    yvalues = lambdify(x, function)(xvalues)\n",
        "\n",
        "    sum = 0\n",
        "    for i in range(len(yvalues)-1):\n",
        "      sum += (yvalues[i]+yvalues[i+1])/2\n",
        "    \n",
        "    sum = Ax * sum\n",
        "    \n",
        "    return sum\n",
        "\n",
        "n= 100\n",
        "a = 0\n",
        "b = np.pi\n",
        "\n",
        "f = sin(x)**2 * x**2 * 10**-x\n",
        "\n",
        "STn = suma_trapezoidal(f, a, b, n)\n",
        "print(f\"La Suma Trapezoidal de: {f} de {a} a {b:.2f} es {STn:.6f}\")\n"
      ]
    },
    {
      "cell_type": "markdown",
      "metadata": {
        "id": "XO-aJySGhhKN"
      },
      "source": [
        "## Cálculo de integrales en Python\n",
        "\n",
        "Para calcular integrales definidas, la librería *scipy* proporciona un comando de cálculo inmediato *quad*. Este comando devuelve una tupla cuyo primer elemento es el valor de la integral y tiene la sintaxis siguiente\n",
        "*quad(función, a, b)*"
      ]
    },
    {
      "cell_type": "code",
      "execution_count": null,
      "metadata": {
        "colab": {
          "base_uri": "https://localhost:8080/"
        },
        "id": "ypCUSCdAjXKx",
        "outputId": "09c66ae0-7120-47b4-ec5f-fcf3feae2cee"
      },
      "outputs": [
        {
          "data": {
            "text/plain": [
              "(16.5, 1.8318679906315083e-13)"
            ]
          },
          "execution_count": 6,
          "metadata": {},
          "output_type": "execute_result"
        }
      ],
      "source": [
        "# scipy es una biblioteca de herramientas y algoritmos matemáticos, entre ellos quad para calcular integrales \n",
        "from scipy.integrate import quad\n",
        "\n",
        "# Necesitamos definir una función de usuario para poder utilizar la función quad\n",
        "# Como mínimo, incluirá el argumento x\n",
        "def integrand(x):\n",
        "    return x**2+x+1\n",
        "\n",
        "a=0\n",
        "b=3\n",
        "J = quad(integrand,a,b)\n",
        "J # Tupla valor del integral y error absoluto"
      ]
    },
    {
      "cell_type": "markdown",
      "metadata": {
        "id": "JvxF2cAEhv1U"
      },
      "source": [
        "Con Python, se pueden resolver integrales indefinidas de forma simbólica con la ayuda de la librería *SymPy*. Para ello, vamos a utilizar el objeto *integrate* cuya sintaxis es la siguiente: *integrate(funcion, variable)*."
      ]
    },
    {
      "cell_type": "code",
      "execution_count": null,
      "metadata": {
        "colab": {
          "base_uri": "https://localhost:8080/",
          "height": 91
        },
        "id": "lBeFJggCiDFm",
        "outputId": "8cc2c9db-1cb6-419a-dff1-ace8e75906a0"
      },
      "outputs": [
        {
          "data": {
            "text/latex": [
              "$\\displaystyle \\frac{x^{4}}{4} - 3 x^{2}$"
            ],
            "text/plain": [
              "x**4/4 - 3*x**2"
            ]
          },
          "metadata": {},
          "output_type": "display_data"
        },
        {
          "data": {
            "text/latex": [
              "$\\displaystyle \\frac{x^{3}}{3} - \\frac{3 x^{2}}{2} + 2 x$"
            ],
            "text/plain": [
              "x**3/3 - 3*x**2/2 + 2*x"
            ]
          },
          "metadata": {},
          "output_type": "display_data"
        }
      ],
      "source": [
        "from sympy import integrate\n",
        "\n",
        "fx = x**3-6*x # Creando la función simbólica\n",
        "\n",
        "dx1=integrate(fx,x)\n",
        "display(dx1)\n",
        "\n",
        "fx2 = x**2-3*x + 2\n",
        "dx2=integrate(fx2)\n",
        "display(dx2)"
      ]
    },
    {
      "cell_type": "markdown",
      "metadata": {
        "id": "8xwKX7oij8MA"
      },
      "source": [
        "La función *Integral* da el mismo resultado"
      ]
    },
    {
      "cell_type": "code",
      "execution_count": null,
      "metadata": {
        "colab": {
          "base_uri": "https://localhost:8080/",
          "height": 128
        },
        "id": "n2rUIGNDje80",
        "outputId": "cf43f92e-97c4-4e59-b5bc-45c8d8ba468c"
      },
      "outputs": [
        {
          "data": {
            "text/latex": [
              "$\\displaystyle \\frac{x^{4}}{4} - 3 x^{2}$"
            ],
            "text/plain": [
              "x**4/4 - 3*x**2"
            ]
          },
          "metadata": {},
          "output_type": "display_data"
        },
        {
          "data": {
            "text/latex": [
              "$\\displaystyle \\frac{x^{3}}{3} - \\frac{3 x^{2}}{2} + 2 x$"
            ],
            "text/plain": [
              "x**3/3 - 3*x**2/2 + 2*x"
            ]
          },
          "metadata": {},
          "output_type": "display_data"
        },
        {
          "data": {
            "text/latex": [
              "$\\displaystyle \\frac{x^{3}}{3} - \\frac{3 x^{2}}{2} + 2 x$"
            ],
            "text/plain": [
              "x**3/3 - 3*x**2/2 + 2*x"
            ]
          },
          "metadata": {},
          "output_type": "display_data"
        }
      ],
      "source": [
        "from sympy import Integral\n",
        "\n",
        "fx = x**3-6*x # Creando la función simbólica\n",
        "dx1 = Integral(fx,x).doit()\n",
        "display(dx1)\n",
        "\n",
        "fx2 = x**2-3*x+2\n",
        "dx2=Integral(fx2).doit()\n",
        "display(dx2)\n",
        "\n",
        "dx3=Integral(x**2-3*x+2).doit()\n",
        "display(dx3)"
      ]
    },
    {
      "cell_type": "markdown",
      "metadata": {
        "id": "ALSwW2HrmsrG"
      },
      "source": [
        "En *SymPy*, también se pueden calcular integrales definidas mediante las funciones *integrate*, considerando el hecho que deben añadirse los límites de integración:"
      ]
    },
    {
      "cell_type": "code",
      "execution_count": null,
      "metadata": {
        "colab": {
          "base_uri": "https://localhost:8080/",
          "height": 317
        },
        "id": "2ZDQwtCMmeuE",
        "outputId": "4c8a91b8-5819-4833-9c43-13191c9e5223"
      },
      "outputs": [
        {
          "data": {
            "text/latex": [
              "$\\displaystyle - \\frac{27}{4}$"
            ],
            "text/plain": [
              "-27/4"
            ]
          },
          "metadata": {},
          "output_type": "display_data"
        },
        {
          "data": {
            "text/plain": [
              "<matplotlib.collections.PolyCollection at 0x7f0501722ed0>"
            ]
          },
          "execution_count": 9,
          "metadata": {},
          "output_type": "execute_result"
        },
        {
          "data": {
            "image/png": "[encoded data removed]",
            "text/plain": [
              "<Figure size 432x288 with 1 Axes>"
            ]
          },
          "metadata": {
            "needs_background": "light"
          },
          "output_type": "display_data"
        }
      ],
      "source": [
        "from sympy import integrate\n",
        "\n",
        "fx = x**3-6*x # Creando la función simbólica\n",
        "\n",
        "Id2 = integrate(fx,(x,0,3))\n",
        "display(Id2)\n",
        "\n",
        "xx = np.linspace(0,3,100)\n",
        "yy = lambdify(x,fx)(xx)\n",
        "\n",
        "plt.grid(alpha=0.4)\n",
        "plt.plot(xx,yy,'r')\n",
        "plt.fill_between(xx,yy)"
      ]
    },
    {
      "cell_type": "markdown",
      "metadata": {
        "id": "ssEvWWKMph2L"
      },
      "source": [
        "Cuando la expresión a integrar incluye más de una variable simbólica, es necesario especificar de manera explícita la variable respecto a la cual se integra, de lo contrario Python nos mostrará un error."
      ]
    },
    {
      "cell_type": "code",
      "execution_count": null,
      "metadata": {
        "colab": {
          "base_uri": "https://localhost:8080/",
          "height": 54
        },
        "id": "fc49r9qBqGrr",
        "outputId": "a0632dc3-4d12-4f56-9adc-6c85ac81708f"
      },
      "outputs": [
        {
          "data": {
            "text/latex": [
              "$\\displaystyle \\frac{a x^{3}}{3} + \\frac{b x^{2}}{2} + c x$"
            ],
            "text/plain": [
              "a*x**3/3 + b*x**2/2 + c*x"
            ]
          },
          "execution_count": 10,
          "metadata": {},
          "output_type": "execute_result"
        }
      ],
      "source": [
        "from sympy.abc import a,b,c\n",
        "from sympy import integrate\n",
        "\n",
        "f = a*x**2+b*x+c\n",
        "integrate(f,x)"
      ]
    },
    {
      "cell_type": "markdown",
      "metadata": {
        "id": "Hf2nsdzdqZNb"
      },
      "source": [
        "En SymPy, también se puede calcular una integral definida mediante *integrate*, considerando el hecho que deben añadirse los límites de integración, mediante la sintaxis:"
      ]
    },
    {
      "cell_type": "code",
      "execution_count": null,
      "metadata": {
        "colab": {
          "base_uri": "https://localhost:8080/"
        },
        "id": "PFoOsH9kp5J6",
        "outputId": "3b1f1f08-a37c-43c2-f14f-376b3419e39b"
      },
      "outputs": [
        {
          "name": "stdout",
          "output_type": "stream",
          "text": [
            "la integral definida de cos(x) entre 0 y pi/2 es 1\n",
            "la integral definida de x entre 0 y 5 es 12.5000000000000\n"
          ]
        }
      ],
      "source": [
        "from sympy import cos,pi\n",
        "from sympy import integrate, init_printing\n",
        "from sympy.abc import x\n",
        "\n",
        "f = x**2 - 3*x + 2\n",
        "ID = integrate(f)\n",
        "ID\n",
        "\n",
        "# o integrales definidas\n",
        "Res1 = integrate(cos(x), (x,0,pi/2.0))\n",
        "print(\"la integral definida de cos(x) entre 0 y pi/2 es {}\".format(Res1))\n",
        "\n",
        "Res2 = integrate(x, (x, 0, 5))\n",
        "print(\"la integral definida de x entre 0 y 5 es {}\".format(N(Res2)))"
      ]
    },
    {
      "cell_type": "markdown",
      "metadata": {
        "id": "cva1A1x0znQY"
      },
      "source": [
        "## Integrales múltiples\n",
        "\n",
        "Aunque se van a resolver integrales dobles, la sintaxis y metodología se puede extrapolar de forma fácil a cualquier integral múltiple.\n",
        "\n",
        "Para resolver\n",
        "$$ \\int_a^b \\int_c^d 1 \\ dy dx,$$\n",
        "\n",
        "hay que recordar que este tipo de integrales dobles se pueden resolver de forma iterada\n",
        "$$ I_1 = \\int_c^d 1 \\ dy  \\Rightarrow I = \\int_a^b I_1 dx.$$\n",
        "\n",
        "En Python se puede realizar exactamente lo mismo "
      ]
    },
    {
      "cell_type": "code",
      "execution_count": null,
      "metadata": {
        "colab": {
          "base_uri": "https://localhost:8080/",
          "height": 38
        },
        "id": "Av5woow_1vHE",
        "outputId": "0bb6fe64-26fc-41d2-aac2-502d182b8739"
      },
      "outputs": [
        {
          "data": {
            "text/latex": [
              "$\\displaystyle \\left(a - b\\right) \\left(c - d\\right)$"
            ],
            "text/plain": [
              "(a - b)*(c - d)"
            ]
          },
          "execution_count": 12,
          "metadata": {},
          "output_type": "execute_result"
        }
      ],
      "source": [
        "from sympy.abc import x,y,z,a,b,c,d\n",
        "from sympy import simplify\n",
        "\n",
        "I1 = integrate(1, (y,c,d))\n",
        "simplify(integrate(I1, (x,a,b)))"
      ]
    },
    {
      "cell_type": "markdown",
      "metadata": {
        "id": "ClCTksbJ8Xav"
      },
      "source": [
        "También existen funciones para el cálculo de integrales dobles, triples o múltiples. La mecánica para este tipo de integración se ha agrupado en las funciones *dblquad, tplquad* y *nquad*. Hay que remarcar, que los límites de todas las integrales internas deben definirse como funciones.\n",
        "\n",
        "La sintaxis general de la función *dblquad* es *dblquad(func, a, b, gfun, hfun)*. Donde, *func* es el nombre de la función a integrar, *a* y *b* son los límites inferior y superior de la variable *x*, respectivamente, mientras que *gfun* y *hfun* son los nombres de las funciones que definen los límites inferior y superior de la variable *y*.\n",
        "\n",
        "Como ejemplo, veamos el cálculo de la integral doble\n",
        "$$\\int_{0}^{1/2}\\int_{0}^{\\sqrt{1-4y^2}} 16xy \\:dx dy$$\n"
      ]
    },
    {
      "cell_type": "code",
      "execution_count": null,
      "metadata": {
        "colab": {
          "base_uri": "https://localhost:8080/"
        },
        "id": "MNEKpm319p9M",
        "outputId": "819d4aa6-0eeb-426c-c6c4-5a09cd8a0fbb"
      },
      "outputs": [
        {
          "name": "stdout",
          "output_type": "stream",
          "text": [
            "(0.5, 1.7092350012594845e-14)\n"
          ]
        }
      ],
      "source": [
        "from scipy.integrate import dblquad\n",
        "\n",
        "# definición de las funciones \n",
        "def integrand(x, y):\n",
        "  return 16*x*y\n",
        "\n",
        "def xlimit(y):\n",
        "  return sqrt(1-4*y**2)\n",
        "\n",
        "i = dblquad(integrand, 0, 0.5, 0, xlimit)\n",
        "print(i)"
      ]
    },
    {
      "cell_type": "markdown",
      "metadata": {
        "id": "Cn7o1JRypW0O"
      },
      "source": [
        "## Ejercicios"
      ]
    },
    {
      "cell_type": "markdown",
      "metadata": {
        "id": "KYi-lM2R43tn"
      },
      "source": [
        "### Ejercicio 1\n",
        "Dadas las funciones:\n",
        "\n",
        "* $f(x)=x^2-2x+3$ en $[-2, 3]$\n",
        "* $f(x)=sen(2x)$ en $[-1, 5]$\n",
        "* $f(x)=-x^2+8x+5$ en $[-2, 3]$\n",
        "\n",
        "calcula:\n",
        "1.   El valor de la suma izquierda $Ln$ para $n=6$\n",
        "2.   El valor de la suma derecha $Rn$ para $n=6$\n",
        "3.   El valor de la suma trapezoidal STn para $n=6$\n",
        "4.   Valor exacto de la integral (utilizar la función *quad*)\n",
        "5.   El error relativo (Valor real menos valor aproximado y dividido por el valor real) para las tres aproximaciones."
      ]
    },
    {
      "cell_type": "code",
      "execution_count": null,
      "metadata": {
        "colab": {
          "base_uri": "https://localhost:8080/"
        },
        "id": "oI827w65qhyZ",
        "outputId": "cd62f723-d817-48eb-e7a7-94632828b482"
      },
      "outputs": [
        {
          "name": "stdout",
          "output_type": "stream",
          "text": [
            "Resultado de 1) y 2)\n",
            "Suma izquierda: 20.8333, suma derecha: 16.6667\n",
            "Suma izquierda: -0.1004, suma derecha: 0.2649\n",
            "Suma izquierda: 12.5000, suma derecha: 41.6667\n",
            "Resultado de 3)\n",
            "Suma trapezoidal: 18.7500\n",
            "Suma trapezoidal: 0.0822\n",
            "Suma trapezoidal: 27.0833\n",
            "Resultado de 4)\n",
            "Integral con quad: 21.6667\n",
            "Integral con quad: 0.2115\n",
            "Integral con quad: 33.3333\n",
            "Resultado de 5)\n",
            "f1\n",
            "Error relativo con izq.: 0.0385\n",
            "Error relativo con der.: 0.2308\n",
            "Error relativo con tra.: 0.1346\n",
            "f2\n",
            "Error relativo con izq.: 1.4749\n",
            "Error relativo con der.: -0.2525\n",
            "Error relativo con tra.: 0.6112\n",
            "f3\n",
            "Error relativo con izq.: 0.6250\n",
            "Error relativo con der.: -0.2500\n",
            "Error relativo con tra.: 0.1875\n"
          ]
        }
      ],
      "source": [
        "f1 = x**2-2*x+3\n",
        "f2 = sin(2*x)\n",
        "f3 = -x**2+8*x+5\n",
        "\n",
        "# Sol 1 y 2\n",
        "\n",
        "# Suma izq. y derec.\n",
        "Ln1, Rn1 = Riemann_sum(f1,-2,3,6)\n",
        "Ln2, Rn2 = Riemann_sum(f2,-1,5,6)\n",
        "Ln3, Rn3 = Riemann_sum(f3,-2,3,6)\n",
        "\n",
        "print(\"Resultado de 1) y 2)\")\n",
        "print(f'Suma izquierda: {Ln1:.4f}, suma derecha: {Rn1:.4f}')\n",
        "print(f'Suma izquierda: {Ln2:.4f}, suma derecha: {Rn2:.4f}')\n",
        "print(f'Suma izquierda: {Ln3:.4f}, suma derecha: {Rn3:.4f}')\n",
        "\n",
        "# Suma trapezoidal\n",
        "STn1 = suma_trapezoidal(f1,-2,3,6)\n",
        "STn2 = suma_trapezoidal(f2,-1,5,6)\n",
        "STn3 = suma_trapezoidal(f3,-2,3,6)\n",
        "\n",
        "print(\"Resultado de 3)\")\n",
        "print(f'Suma trapezoidal: {STn1:.4f}')\n",
        "print(f'Suma trapezoidal: {STn2:.4f}')\n",
        "print(f'Suma trapezoidal: {STn3:.4f}')\n",
        "\n",
        "# Quad\n",
        "q1,e1 = quad(lambdify(x,f1),-2,3)\n",
        "q2,e2 = quad(lambdify(x,f2),-1,5)\n",
        "q3,e3 = quad(lambdify(x,f3),-2,3)\n",
        "\n",
        "print(\"Resultado de 4)\")\n",
        "print(f'Integral con quad: {q1:.4f}')\n",
        "print(f'Integral con quad: {q2:.4f}')\n",
        "print(f'Integral con quad: {q3:.4f}')\n",
        "\n",
        "# Error relativo\n",
        "ER1L = (q1 - Ln1)/q1\n",
        "ER1R = (q1 - Rn1)/q1\n",
        "ER1S = (q1 - STn1)/q1\n",
        "\n",
        "ER2L = (q2 - Ln2)/q2\n",
        "ER2R = (q2 - Rn2)/q2\n",
        "ER2S = (q2 - STn2)/q2\n",
        "\n",
        "ER3L = (q3 - Ln3)/q3\n",
        "ER3R = (q3 - Rn3)/q3\n",
        "ER3S = (q3 - STn3)/q3\n",
        "\n",
        "print(\"Resultado de 5)\")\n",
        "print(\"f1\")\n",
        "print(f'Error relativo con izq.: {ER1L:.4f}')\n",
        "print(f'Error relativo con der.: {ER1R:.4f}')\n",
        "print(f'Error relativo con tra.: {ER1S:.4f}')\n",
        "print(\"f2\")\n",
        "print(f'Error relativo con izq.: {ER2L:.4f}')\n",
        "print(f'Error relativo con der.: {ER2R:.4f}')\n",
        "print(f'Error relativo con tra.: {ER2S:.4f}')\n",
        "print(\"f3\")\n",
        "print(f'Error relativo con izq.: {ER3L:.4f}')\n",
        "print(f'Error relativo con der.: {ER3R:.4f}')\n",
        "print(f'Error relativo con tra.: {ER3S:.4f}')"
      ]
    },
    {
      "cell_type": "markdown",
      "metadata": {
        "id": "1AOgRdXzkqQJ"
      },
      "source": [
        "### Ejercicio 2 (Regla de Simpson)\n",
        "\n",
        "La regla de Simpson consiste en aproximar la integral de una función $f$ con polinomios cuadráticos. Así, dada una partición $p$ del intervalo $[a, b]$ para algún número par $n$. En cada subintervalo, el área debajo de $f$ se aproxima con el área debajo de un polinomio cuadrático:\n",
        "$$[ f(x_{i-1})+4f(x_{i})+f(x_{i+1}) ]\\frac{\\Delta x}{3} $$\n",
        "\n",
        "Sumando estas áreas para todos los subintervalos obtenemos la aproximación de la integral:\n",
        "$$\\int_a^b f(x)dx =\\sum_{i=2}^{n-1} [f(x_{i-1})+4f(x_{i})+f(x_{i+1})]\\frac{\\Delta x}{3}  = [f(x_{0})+4f(x_{1})+2f(x_{2})+4f(x_{3})+2f(x_{4})+...+4f(x_{n-1})+f(x_{n})]\\frac{Δx}{3}$$\n",
        "\n",
        "Implementa en python la Regla de Simpson y pruebala para las funciones del ejercicio 1."
      ]
    },
    {
      "cell_type": "code",
      "execution_count": null,
      "metadata": {
        "colab": {
          "base_uri": "https://localhost:8080/"
        },
        "id": "acO7F-dTkkRk",
        "outputId": "8856164a-0d07-475c-f77f-d09ddbb67a93"
      },
      "outputs": [
        {
          "name": "stdout",
          "output_type": "stream",
          "text": [
            "Metodo 1\n",
            "21.651683501683507\n",
            "0.18656882638835265\n",
            "33.66750841750842\n",
            "Metodo 2\n",
            "21.155007992381723\n",
            "0.23886197018946814\n",
            "32.00256776519402\n"
          ]
        }
      ],
      "source": [
        "def simpson(f,a,b,n):\n",
        "  Ax = (b-a)/n\n",
        "  xx = np.linspace(a,b,n)\n",
        "  yy = lambdify(x,f)(xx)\n",
        "\n",
        "  xx = xx[~np.isnan(yy)] # Elimina todos los nan (ej. sqrt(-1))\n",
        "  yy = yy[~np.isnan(yy)] # Elimina todos los nan (ej. sqrt(-1))\n",
        "\n",
        "  # sum(yy[0:-1:2]) -> suma todos los numeros desde 0 hasta el (final-1) con saltos de 2 en 2 (saltos pares 0,2,4,6,8,...)\n",
        "  # sum(4*yy[1::2]) -> suma el resultado de la multiplicación de todos los numeros desde 0 hasta el final con saltos de 2 en 2 (saltos impares 1,3,5,7,...)\n",
        "  # sum(yy[2::2]) -> suma todos los numeros desde 2 hasta el final con saltos de 2 en 2 (saltos pares 2,4,6,8,...)\n",
        "  simp = Ax/3 * (sum(yy[0:-1:2])+sum(4*yy[1::2])+sum(yy[2::2]))\n",
        "  return simp\n",
        "\n",
        "# mismo que el anterior\n",
        "def simpson2(f,a,b,n):\n",
        "  Ax = (b-a)/n\n",
        "  xx = np.linspace(a,b,n)\n",
        "  yy = lambdify(x,f)(xx)\n",
        "\n",
        "  xx = xx[~np.isnan(yy)] # Elimina todos los nan (ej. sqrt(-1))\n",
        "  yy = yy[~np.isnan(yy)] # Elimina todos los nan (ej. sqrt(-1))\n",
        "\n",
        "  simp = 0\n",
        "  for i in range(0,len(xx)-2,2):\n",
        "    simp = simp + yy[i]+4*yy[i+1]+yy[i+2]\n",
        "  return Ax/3 * simp\n",
        "\n",
        "print(\"Metodo 1\")\n",
        "print(simpson(f1,-2,3,100))\n",
        "print(simpson(f2,-1,5,100))\n",
        "print(simpson(f3,-2,3,100))\n",
        "\n",
        "print(\"Metodo 2\")\n",
        "print(simpson2(f1,-2,3,100))\n",
        "print(simpson2(f2,-1,5,100))\n",
        "print(simpson2(f3,-2,3,100))"
      ]
    },
    {
      "cell_type": "markdown",
      "metadata": {
        "id": "N9P4A6Tlk04e"
      },
      "source": [
        "### Ejercicio 6\n",
        "\n",
        "Calcula el área de la región limitada por las siguientes gráficas utilizando el método de Simpson con $\\Delta x = (b-a)/n = 0.01$.\n",
        "1. $y = x + 1$, con $0 \\leq x \\leq 1$\n",
        "2. $y = x^2 + 1$, con $1 \\leq x \\leq 2$"
      ]
    },
    {
      "cell_type": "code",
      "execution_count": null,
      "metadata": {
        "colab": {
          "base_uri": "https://localhost:8080/",
          "height": 668
        },
        "id": "1rnvNaUxLsUY",
        "outputId": "c78e7b29-c99b-4f07-80e8-231fe691a1b0"
      },
      "outputs": [
        {
          "name": "stdout",
          "output_type": "stream",
          "text": [
            "Simpson: 1.4983501683501688\n",
            "Exacta: 3/2\n"
          ]
        },
        {
          "data": {
            "image/png": "[encoded data removed]",
            "text/plain": [
              "<Figure size 432x288 with 1 Axes>"
            ]
          },
          "metadata": {
            "needs_background": "light"
          },
          "output_type": "display_data"
        },
        {
          "name": "stdout",
          "output_type": "stream",
          "text": [
            "Simpson: 3.333400673400673\n",
            "Exacta: 10/3\n"
          ]
        },
        {
          "data": {
            "image/png": "[encoded data removed]",
            "text/plain": [
              "<Figure size 432x288 with 1 Axes>"
            ]
          },
          "metadata": {
            "needs_background": "light"
          },
          "output_type": "display_data"
        },
        {
          "data": {
            "text/plain": [
              "<sympy.plotting.plot.Plot at 0x7f0501436a50>"
            ]
          },
          "execution_count": 19,
          "metadata": {},
          "output_type": "execute_result"
        }
      ],
      "source": [
        "# 1\n",
        "n = int((1-0)/0.01)\n",
        "e61 = simpson(x+1,0,1,n)\n",
        "print(f\"Simpson: {e61}\")\n",
        "print(f\"Exacta: {integrate((x+1),(x,0,1))}\")\n",
        "\n",
        "symplot(x+1,(x,0,1))\n",
        "\n",
        "# 2\n",
        "n = int((2-1)/0.01)\n",
        "e62 = simpson(x**2+1,1,2,n)\n",
        "print(f\"Simpson: {e62}\")\n",
        "print(f\"Exacta: {integrate((x**2+1),(x,1,2))}\")\n",
        "\n",
        "symplot(x**2+1,(x,1,2))"
      ]
    },
    {
      "cell_type": "markdown",
      "metadata": {
        "id": "Tnuog5vFk3Xc"
      },
      "source": [
        "### Ejercicio 7\n",
        "\n",
        "Calcula el volumen del sólido de revolución generado al girar alrededor del eje $x$ las siguientes gráficas. Como en el ejercicio anterior utiliza el método de Simpson con $\\Delta x = (b-a)/n = 0.01$ para obtener la integral definida correspondiente.\n",
        "\n",
        "1. $y = \\sqrt{x-1}$, la recta $x=3$ y el eje de ordenadas.\n",
        "2. $y = 1-x^2$, y las rectas $x=-1$ y $x=1$."
      ]
    },
    {
      "cell_type": "code",
      "execution_count": null,
      "metadata": {
        "colab": {
          "base_uri": "https://localhost:8080/"
        },
        "id": "-crNn955QA2j",
        "outputId": "237aa1e7-fe01-42b7-cafe-9c2f97ea0ba5"
      },
      "outputs": [
        {
          "name": "stdout",
          "output_type": "stream",
          "text": [
            "Integral por revolución: 4.712389, Simpson: 5.933310\n",
            "Integral por revolución: 3.351032, Simpson: 4.167741\n"
          ]
        },
        {
          "name": "stderr",
          "output_type": "stream",
          "text": [
            "<string>:2: RuntimeWarning: invalid value encountered in sqrt\n"
          ]
        }
      ],
      "source": [
        "# 1\n",
        "a = 0\n",
        "b = 3\n",
        "n = int((b-a)/0.01)\n",
        "f71 = sqrt(x-1)\n",
        "i71 = pi*integrate(f71**2,(x,a,b))\n",
        "s71 = math.pi*simpson(f71,a,b,n)\n",
        "print(f\"Integral por revolución: {N(i71):.6f}, Simpson: {s71:.6f}\")\n",
        "\n",
        "# 2\n",
        "a = -1\n",
        "b = 1\n",
        "n = int((b-a)/0.01)\n",
        "f72 = 1 -x**2\n",
        "i72 = pi*integrate(f72**2,(x,a,b))\n",
        "s72 = math.pi*simpson(f72,a,b,n)\n",
        "print(f\"Integral por revolución: {N(i72):.6f}, Simpson: {s72:.6f}\")"
      ]
    }
  ],
  "metadata": {
    "colab": {
      "provenance": []
    },
    "interpreter": {
      "hash": "2714d87d4679d32b6a293672ad662aac92c42bb9c927d2e60cd5a7a098397209"
    },
    "kernelspec": {
      "display_name": "Python 3",
      "language": "python",
      "name": "python3"
    },
    "language_info": {
      "codemirror_mode": {
        "name": "ipython",
        "version": 3
      },
      "file_extension": ".py",
      "mimetype": "text/x-python",
      "name": "python",
      "nbconvert_exporter": "python",
      "pygments_lexer": "ipython3",
      "version": "3.8.10"
    }
  },
  "nbformat": 4,
  "nbformat_minor": 0
}
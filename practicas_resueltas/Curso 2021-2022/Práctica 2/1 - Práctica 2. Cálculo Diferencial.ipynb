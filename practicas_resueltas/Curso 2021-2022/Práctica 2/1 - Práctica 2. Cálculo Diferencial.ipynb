{
  "nbformat": 4,
  "nbformat_minor": 0,
  "metadata": {
    "colab": {
      "name": "P2-Calculo_Diferencial.ipynb",
      "provenance": [],
      "collapsed_sections": []
    },
    "interpreter": {
      "hash": "2714d87d4679d32b6a293672ad662aac92c42bb9c927d2e60cd5a7a098397209"
    },
    "kernelspec": {
      "display_name": "Python 3.9.6 64-bit ('mat2': conda)",
      "name": "python3"
    },
    "language_info": {
      "name": "python",
      "version": ""
    }
  },
  "cells": [
    {
      "cell_type": "markdown",
      "metadata": {
        "id": "s816e4mZZrPh"
      },
      "source": [
        "\n",
        "\n",
        "# Derivadas\n",
        "\n"
      ]
    },
    {
      "cell_type": "code",
      "metadata": {
        "id": "hvTSDQ7ck4Xt"
      },
      "source": [
        "# Para imprimir todas las líneas\n",
        "from IPython.core.interactiveshell import InteractiveShell\n",
        "#InteractiveShell.ast_node_interactivity = \"all\"\n",
        "# Solo la última\n",
        "InteractiveShell.ast_node_interactivity = \"last_expr\""
      ],
      "execution_count": null,
      "outputs": []
    },
    {
      "cell_type": "markdown",
      "metadata": {
        "id": "92M_pBu5Xver"
      },
      "source": [
        "Importación de las librerías necesarias"
      ]
    },
    {
      "cell_type": "code",
      "metadata": {
        "id": "dd-D0oQEXhYt"
      },
      "source": [
        "import numpy as np\n",
        "from sympy import * # Librería de Calculo\n",
        "from sympy.plotting import plot as symplot # Librería para las gráficas\n",
        "from sympy.abc import x, y, h # Carga de un simbolico \"x\"\n",
        "from sympy.plotting.pygletplot import PygletPlot as Plot # Librería para las gráficas"
      ],
      "execution_count": null,
      "outputs": []
    },
    {
      "cell_type": "markdown",
      "metadata": {
        "id": "1lqyB4NKZp0l"
      },
      "source": [
        "## Límites en Python\n",
        "\n",
        "El concepto de límite es la base del Cálculo Diferencial.\n",
        "\n",
        "Recordad que:\n",
        "\n",
        "$f'(x)=\\lim\\limits_{h \\to 0} \\frac{f(x+h)-f(x)}{h}$\n",
        "\n",
        "Podemos calcular límites en Python utilizando la expresión ```limit(funcion, variable, punto, lateral)``` proporcionada por la librería Sympy."
      ]
    },
    {
      "cell_type": "code",
      "metadata": {
        "colab": {
          "base_uri": "https://localhost:8080/",
          "height": 37
        },
        "id": "B6u3OcZdZ147",
        "outputId": "571ce109-c43a-455f-fd36-124ac2a4f20e"
      },
      "source": [
        "# Ejemplo\n",
        "# x = symbols('x')\n",
        "limit(sin(x)/x, x, 0)\n",
        "limit(1/x, x, 0, '+')\n",
        "limit(1/x, x, 0, '-')"
      ],
      "execution_count": null,
      "outputs": [
        {
          "output_type": "execute_result",
          "data": {
            "text/latex": "$\\displaystyle -\\infty$",
            "text/plain": [
              "-oo"
            ]
          },
          "metadata": {
            "tags": []
          },
          "execution_count": 3
        }
      ]
    },
    {
      "cell_type": "code",
      "metadata": {
        "colab": {
          "base_uri": "https://localhost:8080/",
          "height": 38
        },
        "id": "BY47HP7QkwzT",
        "outputId": "339a3b3a-e3a7-42e8-f228-94e792c918c8"
      },
      "source": [
        "limit((cos(x + h) - cos(x))/h, h, 0) # Cálculo de la derivada a partir de su definición"
      ],
      "execution_count": null,
      "outputs": [
        {
          "output_type": "execute_result",
          "data": {
            "text/latex": "$\\displaystyle - \\sin{\\left(x \\right)}$",
            "text/plain": [
              "-sin(x)"
            ]
          },
          "metadata": {
            "tags": []
          },
          "execution_count": 4
        }
      ]
    },
    {
      "cell_type": "markdown",
      "metadata": {
        "id": "LAEzqY6YkrHw"
      },
      "source": [
        "En este caso, se calcula el límite cuando h tiende a cero."
      ]
    },
    {
      "cell_type": "markdown",
      "metadata": {
        "id": "_ctmPKcilxqH"
      },
      "source": [
        "## Derivada"
      ]
    },
    {
      "cell_type": "markdown",
      "metadata": {
        "id": "L3lGBAVVX4kg"
      },
      "source": [
        "#### Cálculo de la derivada\n",
        "Para calcular la derivada sin utilizar su definición, se usará ```diff(\"funcion\")```.\n",
        "\n",
        "Ejemplo:"
      ]
    },
    {
      "cell_type": "code",
      "metadata": {
        "colab": {
          "base_uri": "https://localhost:8080/",
          "height": 38
        },
        "id": "bR6qpFKrlb1G",
        "outputId": "61e80222-937a-45dc-ed35-874ad7d19133"
      },
      "source": [
        "diff(cos(x)) # Calcula la derivada que coincide con la obtenida a partir de su definición"
      ],
      "execution_count": null,
      "outputs": [
        {
          "output_type": "execute_result",
          "data": {
            "text/latex": "$\\displaystyle - \\sin{\\left(x \\right)}$",
            "text/plain": [
              "-sin(x)"
            ]
          },
          "metadata": {
            "tags": []
          },
          "execution_count": 5
        }
      ]
    },
    {
      "cell_type": "code",
      "metadata": {
        "colab": {
          "base_uri": "https://localhost:8080/",
          "height": 38
        },
        "id": "D-mwCO2peVoQ",
        "outputId": "e046165e-10c4-4965-eccf-18895c450f09"
      },
      "source": [
        "d1 = diff(x**2, x) # Calcula la derivada de una expresión\n",
        "d1"
      ],
      "execution_count": null,
      "outputs": [
        {
          "output_type": "execute_result",
          "data": {
            "text/latex": "$\\displaystyle 2 x$",
            "text/plain": [
              "2*x"
            ]
          },
          "metadata": {},
          "execution_count": 4
        }
      ]
    },
    {
      "cell_type": "code",
      "metadata": {
        "colab": {
          "base_uri": "https://localhost:8080/",
          "height": 38
        },
        "id": "tyYQN2qlhUg7",
        "outputId": "9e689fab-01eb-4846-98a6-3a24a4ba1df8"
      },
      "source": [
        "d1 = (x**2).diff(x) # Otra sintaxis para calcular la derivada\n",
        "d1"
      ],
      "execution_count": null,
      "outputs": [
        {
          "output_type": "execute_result",
          "data": {
            "text/latex": "$\\displaystyle 2 x$",
            "text/plain": [
              "2*x"
            ]
          },
          "metadata": {
            "tags": []
          },
          "execution_count": 7
        }
      ]
    },
    {
      "cell_type": "code",
      "metadata": {
        "colab": {
          "base_uri": "https://localhost:8080/",
          "height": 52
        },
        "id": "JSOKcN4mhItw",
        "outputId": "8abd5793-5c41-4f33-aeca-9ba43ee78908"
      },
      "source": [
        "d2 = Derivative(x**2,x) # Expresión matemática de la derivada\n",
        "d2"
      ],
      "execution_count": null,
      "outputs": [
        {
          "output_type": "execute_result",
          "data": {
            "text/latex": "$\\displaystyle \\frac{d}{d x} x^{2}$",
            "text/plain": [
              "Derivative(x**2, x)"
            ]
          },
          "metadata": {
            "tags": []
          },
          "execution_count": 8
        }
      ]
    },
    {
      "cell_type": "code",
      "metadata": {
        "colab": {
          "base_uri": "https://localhost:8080/",
          "height": 38
        },
        "id": "XII0PeQSWsT7",
        "outputId": "e9948331-3c12-44cf-c2d9-73bf3a79915f"
      },
      "source": [
        "d2.doit() # Calcula la derivada a partir de su expresión matemática"
      ],
      "execution_count": null,
      "outputs": [
        {
          "output_type": "execute_result",
          "data": {
            "text/latex": "$\\displaystyle 2 x$",
            "text/plain": [
              "2*x"
            ]
          },
          "metadata": {
            "tags": []
          },
          "execution_count": 9
        }
      ]
    },
    {
      "cell_type": "markdown",
      "metadata": {
        "id": "hcAVvDUZjWRz"
      },
      "source": [
        "#### Representación gráfica"
      ]
    },
    {
      "cell_type": "code",
      "metadata": {
        "colab": {
          "base_uri": "https://localhost:8080/",
          "height": 296
        },
        "id": "qq7uImt_jNfy",
        "outputId": "bfc0759d-6ff8-4d21-93a1-e94e0ec3df57"
      },
      "source": [
        "p = symplot(x**2,(x, -5, 5)) # Representación gráfica de una función matemática"
      ],
      "execution_count": null,
      "outputs": [
        {
          "output_type": "display_data",
          "data": {
            "image/png": "[encoded data removed]",
            "text/plain": [
              "<Figure size 432x288 with 1 Axes>"
            ]
          },
          "metadata": {
            "tags": [],
            "needs_background": "light"
          }
        }
      ]
    },
    {
      "cell_type": "markdown",
      "metadata": {
        "id": "HJA58neajiU6"
      },
      "source": [
        "Representación gráfica de dos curvas en el mismo gráfico"
      ]
    },
    {
      "cell_type": "code",
      "metadata": {
        "colab": {
          "base_uri": "https://localhost:8080/",
          "height": 297
        },
        "id": "s-nv_09YexWT",
        "outputId": "15c19dbd-fe1c-4377-cf48-96b6d6401459"
      },
      "source": [
        "p = symplot(x**2,d1,(x, -5, 5),show=False) # Se crea el gráfico con las dos funciones, el rango de representación y se desactiva la funcionalidad de representación directa\n",
        "p[0].line_color = 'red' # Cambia el color de la primera gráfica\n",
        "p.show() # Mostrar el gráfico"
      ],
      "execution_count": null,
      "outputs": [
        {
          "output_type": "display_data",
          "data": {
            "image/png": "[encoded data removed]",
            "text/plain": [
              "<Figure size 432x288 with 1 Axes>"
            ]
          },
          "metadata": {
            "tags": [],
            "needs_background": "light"
          }
        }
      ]
    },
    {
      "cell_type": "markdown",
      "metadata": {
        "id": "FnUJy6Y4nc61"
      },
      "source": [
        "#### Sustitución\n",
        "Cuando se definen las funciones de manera simbólica, es posible calcular el valor de dicha función para un determinado valor de _x_ como sigue:"
      ]
    },
    {
      "cell_type": "code",
      "metadata": {
        "colab": {
          "base_uri": "https://localhost:8080/",
          "height": 37
        },
        "id": "5M6ZXVuZgg1H",
        "outputId": "0292d86b-9fb7-4b8b-96dc-19af91c7fffb"
      },
      "source": [
        "d1.evalf(subs={x:10})"
      ],
      "execution_count": null,
      "outputs": [
        {
          "output_type": "execute_result",
          "data": {
            "text/latex": "$\\displaystyle 20.0$",
            "text/plain": [
              "20.0000000000000"
            ]
          },
          "metadata": {
            "tags": []
          },
          "execution_count": 12
        }
      ]
    },
    {
      "cell_type": "markdown",
      "metadata": {
        "id": "im-iXryvoLzG"
      },
      "source": [
        "o"
      ]
    },
    {
      "cell_type": "code",
      "metadata": {
        "colab": {
          "base_uri": "https://localhost:8080/",
          "height": 37
        },
        "id": "bgEO8xeeoG5v",
        "outputId": "f5756f60-f626-4c13-83af-54043c7ac74b"
      },
      "source": [
        "d1.subs(x,10)"
      ],
      "execution_count": null,
      "outputs": [
        {
          "output_type": "execute_result",
          "data": {
            "text/latex": "$\\displaystyle 20$",
            "text/plain": [
              "20"
            ]
          },
          "metadata": {},
          "execution_count": 5
        }
      ]
    },
    {
      "cell_type": "markdown",
      "metadata": {
        "id": "gp5CqI9GXi19"
      },
      "source": [
        "### Derivadas Parciales"
      ]
    },
    {
      "cell_type": "code",
      "metadata": {
        "id": "W3LvLPw-YV7W"
      },
      "source": [
        "g = x**2 + y**3"
      ],
      "execution_count": null,
      "outputs": []
    },
    {
      "cell_type": "code",
      "metadata": {
        "colab": {
          "base_uri": "https://localhost:8080/",
          "height": 38
        },
        "id": "D611wwb1ZDdS",
        "outputId": "418dbf0d-2b14-4158-a7e6-d3a9c3a37c07"
      },
      "source": [
        "diff(g,x) # Primera derivada parcial con respecto a x"
      ],
      "execution_count": null,
      "outputs": [
        {
          "output_type": "execute_result",
          "data": {
            "text/latex": "$\\displaystyle 2 x$",
            "text/plain": [
              "2*x"
            ]
          },
          "metadata": {
            "tags": []
          },
          "execution_count": 15
        }
      ]
    },
    {
      "cell_type": "code",
      "metadata": {
        "colab": {
          "base_uri": "https://localhost:8080/",
          "height": 38
        },
        "id": "6alxHbsAZGoU",
        "outputId": "e8bd335f-6ed2-4303-937f-b623c248b897"
      },
      "source": [
        "diff(g,y) # Primera derivada parcial con respecto a y"
      ],
      "execution_count": null,
      "outputs": [
        {
          "output_type": "execute_result",
          "data": {
            "text/latex": "$\\displaystyle 3 y^{2}$",
            "text/plain": [
              "3*y**2"
            ]
          },
          "metadata": {
            "tags": []
          },
          "execution_count": 16
        }
      ]
    },
    {
      "cell_type": "code",
      "metadata": {
        "colab": {
          "base_uri": "https://localhost:8080/",
          "height": 37
        },
        "id": "KN5-R7UCZQcd",
        "outputId": "96db5110-65c9-422d-e80f-9c488a628ff6"
      },
      "source": [
        "# Segunda derivada parcial con respecto a x\n",
        "diff(g,x,2) # o diff(g,x,x)"
      ],
      "execution_count": null,
      "outputs": [
        {
          "output_type": "execute_result",
          "data": {
            "text/latex": "$\\displaystyle 2$",
            "text/plain": [
              "2"
            ]
          },
          "metadata": {
            "tags": []
          },
          "execution_count": 17
        }
      ]
    },
    {
      "cell_type": "code",
      "metadata": {
        "colab": {
          "base_uri": "https://localhost:8080/",
          "height": 38
        },
        "id": "cVSPwC-1ZVKG",
        "outputId": "4c7b7542-4cb0-4f0f-bc67-6bc9e521a80c"
      },
      "source": [
        "diff(g,y,y) # Segunda derivada parcial con respecto a y"
      ],
      "execution_count": null,
      "outputs": [
        {
          "output_type": "execute_result",
          "data": {
            "text/latex": "$\\displaystyle 6 y$",
            "text/plain": [
              "6*y"
            ]
          },
          "metadata": {
            "tags": []
          },
          "execution_count": 18
        }
      ]
    },
    {
      "cell_type": "markdown",
      "metadata": {
        "id": "kDmNPmsEuRh4"
      },
      "source": [
        "## Polinomio de Taylor"
      ]
    },
    {
      "cell_type": "markdown",
      "metadata": {
        "id": "Ob61aDliwOYa"
      },
      "source": [
        "El polinomio de Taylor puede calcularse usando la librería ```series```. Por defecto, el punto inicial es 0 y el grado 6. También incluye el término de Landau, que puede omitirse usando ```removeO()```."
      ]
    },
    {
      "cell_type": "code",
      "metadata": {
        "colab": {
          "base_uri": "https://localhost:8080/",
          "height": 53
        },
        "id": "Kd2H2BDZuZYI",
        "outputId": "28fb8c4e-2403-4f9c-c64c-d8f5377a44ec"
      },
      "source": [
        "from sympy.series import series\n",
        "series(exp(x),x,0,9).removeO()"
      ],
      "execution_count": null,
      "outputs": [
        {
          "output_type": "execute_result",
          "data": {
            "text/latex": "$\\displaystyle \\frac{x^{8}}{40320} + \\frac{x^{7}}{5040} + \\frac{x^{6}}{720} + \\frac{x^{5}}{120} + \\frac{x^{4}}{24} + \\frac{x^{3}}{6} + \\frac{x^{2}}{2} + x + 1$",
            "text/plain": [
              "x**8/40320 + x**7/5040 + x**6/720 + x**5/120 + x**4/24 + x**3/6 + x**2/2 + x + 1"
            ]
          },
          "metadata": {
            "tags": []
          },
          "execution_count": 19
        }
      ]
    },
    {
      "cell_type": "code",
      "metadata": {
        "colab": {
          "base_uri": "https://localhost:8080/",
          "height": 51
        },
        "id": "zahAcgxPvm7l",
        "outputId": "ee6fe087-761b-4a43-84e2-5d0cb2de2600"
      },
      "source": [
        "t1 = series(exp(x),x,0,6).removeO()\n",
        "t1.subs(x,2)"
      ],
      "execution_count": null,
      "outputs": [
        {
          "output_type": "execute_result",
          "data": {
            "text/latex": "$\\displaystyle \\frac{109}{15}$",
            "text/plain": [
              "109/15"
            ]
          },
          "metadata": {
            "tags": []
          },
          "execution_count": 20
        }
      ]
    },
    {
      "cell_type": "code",
      "metadata": {
        "colab": {
          "base_uri": "https://localhost:8080/",
          "height": 51
        },
        "id": "tkALm5-sv7pt",
        "outputId": "9138f525-b940-47ce-ec94-d624336ae6a3"
      },
      "source": [
        "t1 = series(exp(x),x).removeO()\n",
        "t1.subs(x,2)"
      ],
      "execution_count": null,
      "outputs": [
        {
          "output_type": "execute_result",
          "data": {
            "text/latex": "$\\displaystyle \\frac{109}{15}$",
            "text/plain": [
              "109/15"
            ]
          },
          "metadata": {
            "tags": []
          },
          "execution_count": 21
        }
      ]
    },
    {
      "cell_type": "markdown",
      "metadata": {
        "id": "NYJ4GcS3Wpqx"
      },
      "source": [
        "## Análisis de funciones"
      ]
    },
    {
      "cell_type": "markdown",
      "metadata": {
        "id": "ko6iW_73cZNz"
      },
      "source": [
        "### Definición de una función"
      ]
    },
    {
      "cell_type": "code",
      "metadata": {
        "id": "usUFXSchZV_A"
      },
      "source": [
        "num = 2 * (x**2 - 9)\n",
        "den = (x**2 - 4)"
      ],
      "execution_count": null,
      "outputs": []
    },
    {
      "cell_type": "code",
      "metadata": {
        "colab": {
          "base_uri": "https://localhost:8080/",
          "height": 55
        },
        "id": "TTUkTO3-WuqN",
        "outputId": "76a0a928-3d7a-4039-c9c8-0cdd1e468c07"
      },
      "source": [
        "f = num / den\n",
        "f"
      ],
      "execution_count": null,
      "outputs": [
        {
          "output_type": "execute_result",
          "data": {
            "text/latex": "$\\displaystyle \\frac{2 x^{2} - 18}{x^{2} - 4}$",
            "text/plain": [
              "(2*x**2 - 18)/(x**2 - 4)"
            ]
          },
          "metadata": {
            "tags": []
          },
          "execution_count": 23
        }
      ]
    },
    {
      "cell_type": "code",
      "metadata": {
        "colab": {
          "base_uri": "https://localhost:8080/",
          "height": 297
        },
        "id": "ZmsDhTebZfrL",
        "outputId": "4d948f84-c071-445f-ce3c-fbce3b25f589"
      },
      "source": [
        "p = symplot(f, xlim=(-6,6), ylim=(-12,12)) "
      ],
      "execution_count": null,
      "outputs": [
        {
          "output_type": "display_data",
          "data": {
            "image/png": "[encoded data removed]",
            "text/plain": [
              "<Figure size 432x288 with 1 Axes>"
            ]
          },
          "metadata": {
            "tags": [],
            "needs_background": "light"
          }
        }
      ]
    },
    {
      "cell_type": "markdown",
      "metadata": {
        "id": "hhvnXmLGcljb"
      },
      "source": [
        "### Asíntotas Horizontales"
      ]
    },
    {
      "cell_type": "code",
      "metadata": {
        "colab": {
          "base_uri": "https://localhost:8080/",
          "height": 37
        },
        "id": "pA897K1cazjs",
        "outputId": "984c3e74-a85a-4223-a622-d45fcfc7dfaf"
      },
      "source": [
        "limit(f,x,oo) # oo representa infinito"
      ],
      "execution_count": null,
      "outputs": [
        {
          "output_type": "execute_result",
          "data": {
            "text/latex": "$\\displaystyle 2$",
            "text/plain": [
              "2"
            ]
          },
          "metadata": {
            "tags": []
          },
          "execution_count": 25
        }
      ]
    },
    {
      "cell_type": "markdown",
      "metadata": {
        "id": "MCPRUkmIc04H"
      },
      "source": [
        "### Asíntotas Verticales\n",
        "\n",
        "\n",
        "Se iguala el denominador a cero y se almacenan las raíces en una variable."
      ]
    },
    {
      "cell_type": "code",
      "metadata": {
        "colab": {
          "base_uri": "https://localhost:8080/"
        },
        "id": "DweABoXabuyr",
        "outputId": "519f0f08-883d-48f2-8f1e-d28346de4487"
      },
      "source": [
        "r = solve(den, x)\n",
        "r"
      ],
      "execution_count": null,
      "outputs": [
        {
          "output_type": "execute_result",
          "data": {
            "text/plain": [
              "[-2, 2]"
            ]
          },
          "metadata": {
            "tags": []
          },
          "execution_count": 26
        }
      ]
    },
    {
      "cell_type": "code",
      "metadata": {
        "colab": {
          "base_uri": "https://localhost:8080/",
          "height": 297
        },
        "id": "LqKOdfbkcHrp",
        "outputId": "35b7e679-c838-49e2-9307-fa9e98ee8c27"
      },
      "source": [
        "# Grafica con la asíntota horizontal\n",
        "p = symplot(f,2, xlim=(-6,6), ylim=(-12,12),show=false)\n",
        "p.show()"
      ],
      "execution_count": null,
      "outputs": [
        {
          "output_type": "display_data",
          "data": {
            "image/png": "[encoded data removed]",
            "text/plain": [
              "<Figure size 432x288 with 1 Axes>"
            ]
          },
          "metadata": {
            "tags": [],
            "needs_background": "light"
          }
        }
      ]
    },
    {
      "cell_type": "markdown",
      "metadata": {
        "id": "1zV127yQdA_m"
      },
      "source": [
        "### Puntos críticos\n",
        "\n",
        "Calculamos la primera derivada e igualamos a cero.\n"
      ]
    },
    {
      "cell_type": "code",
      "metadata": {
        "colab": {
          "base_uri": "https://localhost:8080/",
          "height": 62
        },
        "id": "THcgjLfPdPT8",
        "outputId": "14cb9469-cd74-4872-d012-6377bc794981"
      },
      "source": [
        "f1 = diff(f)\n",
        "f1"
      ],
      "execution_count": null,
      "outputs": [
        {
          "output_type": "execute_result",
          "data": {
            "text/latex": "$\\displaystyle \\frac{4 x}{x^{2} - 4} - \\frac{2 x \\left(2 x^{2} - 18\\right)}{\\left(x^{2} - 4\\right)^{2}}$",
            "text/plain": [
              "4*x/(x**2 - 4) - 2*x*(2*x**2 - 18)/(x**2 - 4)**2"
            ]
          },
          "metadata": {
            "tags": []
          },
          "execution_count": 28
        }
      ]
    },
    {
      "cell_type": "code",
      "metadata": {
        "colab": {
          "base_uri": "https://localhost:8080/"
        },
        "id": "eoV76g2UdZOr",
        "outputId": "74a5eb92-056d-4564-aa64-8511f2f06947"
      },
      "source": [
        "criticosX = list(solveset(f1, x))\n",
        "criticosX"
      ],
      "execution_count": null,
      "outputs": [
        {
          "output_type": "execute_result",
          "data": {
            "text/plain": [
              "[0]"
            ]
          },
          "metadata": {
            "tags": []
          },
          "execution_count": 29
        }
      ]
    },
    {
      "cell_type": "markdown",
      "metadata": {
        "id": "91KnwcXXdhvW"
      },
      "source": [
        "Así pues, en este ejemplo, se tiene un único punto crítico en x = 0"
      ]
    },
    {
      "cell_type": "code",
      "metadata": {
        "colab": {
          "base_uri": "https://localhost:8080/"
        },
        "id": "m9W_AC4fgDh8",
        "outputId": "b9805e38-6b4f-48ed-9c9b-e0ba45c1c2c3"
      },
      "source": [
        "criticosY = [f.subs(x, a) for a in criticosX]\n",
        "criticosY"
      ],
      "execution_count": null,
      "outputs": [
        {
          "output_type": "execute_result",
          "data": {
            "text/plain": [
              "[9/2]"
            ]
          },
          "metadata": {
            "tags": []
          },
          "execution_count": 30
        }
      ]
    },
    {
      "cell_type": "markdown",
      "metadata": {
        "id": "YThxvxkIgDzf"
      },
      "source": [
        "Para ver si es un máximo o un mínimo, se analizará el signo de la segunda derivada.\n",
        "\n",
        "\n",
        "### Segunda derivada"
      ]
    },
    {
      "cell_type": "code",
      "metadata": {
        "colab": {
          "base_uri": "https://localhost:8080/",
          "height": 78
        },
        "id": "18VRmozhdhX2",
        "outputId": "087e7b6c-be4f-41fe-e6d5-2a5ff8e57ba6"
      },
      "source": [
        "f2 = diff (f, x, 2) # Calculamos la segunda derivada\n",
        "f2"
      ],
      "execution_count": null,
      "outputs": [
        {
          "output_type": "execute_result",
          "data": {
            "text/latex": "$\\displaystyle \\frac{4 \\left(- \\frac{4 x^{2}}{x^{2} - 4} + \\frac{\\left(x^{2} - 9\\right) \\left(\\frac{4 x^{2}}{x^{2} - 4} - 1\\right)}{x^{2} - 4} + 1\\right)}{x^{2} - 4}$",
            "text/plain": [
              "4*(-4*x**2/(x**2 - 4) + (x**2 - 9)*(4*x**2/(x**2 - 4) - 1)/(x**2 - 4) + 1)/(x**2 - 4)"
            ]
          },
          "metadata": {
            "tags": []
          },
          "execution_count": 31
        }
      ]
    },
    {
      "cell_type": "markdown",
      "metadata": {
        "id": "a6LuziOEd5JG"
      },
      "source": [
        "### Sustituimos el/los puntos críticos en la segunda derivada"
      ]
    },
    {
      "cell_type": "code",
      "metadata": {
        "colab": {
          "base_uri": "https://localhost:8080/"
        },
        "id": "CFUrnZTzeCTp",
        "outputId": "3d5cb430-c707-41ef-df33-cf5277aa4b0a"
      },
      "source": [
        "segderiv = [f2.subs(x, cr) for cr in criticosX]\n",
        "segderiv"
      ],
      "execution_count": null,
      "outputs": [
        {
          "output_type": "execute_result",
          "data": {
            "text/plain": [
              "[5/4]"
            ]
          },
          "metadata": {
            "tags": []
          },
          "execution_count": 32
        }
      ]
    },
    {
      "cell_type": "markdown",
      "metadata": {
        "id": "AJhe6S8te0Ag"
      },
      "source": [
        "Es positivo, luego hay un mínimo relativo en x = 0\n",
        "\n",
        "Ahora se representan los puntos críticos"
      ]
    },
    {
      "cell_type": "code",
      "metadata": {
        "colab": {
          "base_uri": "https://localhost:8080/",
          "height": 265
        },
        "id": "QadCRLDnevo_",
        "outputId": "5cfa20ff-74da-4cb8-ae86-35064e056c37"
      },
      "source": [
        "import matplotlib.pyplot as plt\n",
        "xx = np.linspace(-10, 10, 1000)\n",
        "yy = lambdify(x, [f])(xx)\n",
        "plt.plot(xx, np.transpose(yy))\n",
        "plt.plot(criticosX, criticosY, 'k*')\n",
        "plt.show()"
      ],
      "execution_count": null,
      "outputs": [
        {
          "output_type": "display_data",
          "data": {
            "image/png": "[encoded data removed]",
            "text/plain": [
              "<Figure size 432x288 with 1 Axes>"
            ]
          },
          "metadata": {
            "tags": [],
            "needs_background": "light"
          }
        }
      ]
    },
    {
      "cell_type": "markdown",
      "metadata": {
        "id": "HfJRDHBJUpVc"
      },
      "source": [
        "## Optimización"
      ]
    },
    {
      "cell_type": "markdown",
      "metadata": {
        "id": "AxsuxDnTRsTi"
      },
      "source": [
        "Para resolver un problema de optimización, normalmente se siguen los siguientes pasos:\n",
        "\n",
        "*   Identificar las variables del problema\n",
        "*   Encontrar la función a optimizar y, para el caso de dos variables (x,y),  reemplazar ```y = f(x)```\n",
        "*   Reducir la función a una única variable independiente\n",
        "*   Comprobar el dominio de admisión de las soluciones y descartar las absurdas\n",
        "*   Calcular el máximo o mínimo de la función objetivo según los requisitos del problema\n"
      ]
    },
    {
      "cell_type": "markdown",
      "metadata": {
        "id": "-HgzfG2PSUXh"
      },
      "source": [
        "**Ejemplo:**\n",
        "\n",
        "Queremos construir una caja cuya longitud sea tres veces su anchura.  \n",
        "El material usado para construir la tapa y la base cuesta 10 euros por metro cuadrado, mientras que el material usado para construir los lados cuesta 6 euros por metro cuadrado.  \n",
        "Si la caja tiene que tener un volumen de 50 metros cúbicos, determina las dimensiones que minimizan el coste de construir la caja"
      ]
    },
    {
      "cell_type": "code",
      "metadata": {
        "id": "DnI3rMS9T7ks"
      },
      "source": [
        "# Hacemos un dibujo del problema\n",
        "#    +--------+\n",
        "#   /        /|\n",
        "#  /        / |  altura\n",
        "# +--------+  |\n",
        "# |        |  |\n",
        "# |        |  +\n",
        "# |        | /\n",
        "# |        |/  longitud\n",
        "# +--------+\n",
        "#   ancho -> x"
      ],
      "execution_count": null,
      "outputs": []
    },
    {
      "cell_type": "code",
      "metadata": {
        "id": "7f_0ActURrnS"
      },
      "source": [
        "# Queremos construir una caja cuya longitud sea tres veces su anchura.\n",
        "ancho = x;\n",
        "longitud = 3*ancho;"
      ],
      "execution_count": null,
      "outputs": []
    },
    {
      "cell_type": "code",
      "metadata": {
        "colab": {
          "base_uri": "https://localhost:8080/"
        },
        "id": "W-P8sV41UosG",
        "outputId": "1045bc33-ea92-4dbb-cfd5-5d5d792a53b6"
      },
      "source": [
        "# Si la caja tiene que tener un volumen de 50 metros cúbicos\n",
        "# Volumen = ancho * longitud * altura\n",
        "# 50 = ancho * longitud * altura -> altura = 50/(ancho * longitud)\n",
        "altura = 50/(ancho*longitud)\n",
        "tapa = longitud*ancho\n",
        "base = longitud*ancho\n",
        "Coste1 = (tapa+base)*10\n",
        "lateral1 = ancho*altura # el lado de la frente\n",
        "lateral2 = 3*ancho*altura # el lado del lado\n",
        "Coste2 = (lateral1*2 + lateral2*2 ) * 6 # 2 lados frontales y 2 lados laterales con un coste de 6\n",
        "Costetotal = Coste1+Coste2\n",
        "print('Coste total:', Costetotal)\n",
        "\n",
        "# Calculamos la primera derivada\n",
        "derivada=diff(Costetotal)\n",
        "\n",
        "# Obtenemos los puntos criticos (primera derivada == 0\n",
        "criticosX = list(N(solveset(derivada, x, domain=S.Reals))) # domain=S.Reals elimina números complejos del cálculo\n",
        "criticosX = [cri for cri in criticosX if cri >= 0] # Solo las dimensiones positivas tienen sentido\n",
        "print(\"Puntos criticos:\", criticosX)\n",
        "\n",
        "# Resultado del problema\n",
        "for cri in criticosX:\n",
        "  print(f'Las dimensiones que minimizan el coste son: Ancho = {cri} m, Longitud = {longitud.subs(x,cri)} m, Alto = {altura.subs(x,cri)} m')\n",
        "  print(f'Y su coste total es {Costetotal.subs(x,cri)} €')"
      ],
      "execution_count": null,
      "outputs": [
        {
          "output_type": "stream",
          "text": [
            "Coste total: 60*x**2 + 800/x\n",
            "Puntos criticos: [1.88207205776206]\n",
            "Las dimensiones que minimizan el coste son: Ancho = 1.88207205776206 m, Longitud = 5.64621617328617 m, Alto = 4.70518014440514 m\n",
            "Y su coste total es 637.595141509567 €\n"
          ],
          "name": "stdout"
        }
      ]
    },
    {
      "cell_type": "markdown",
      "metadata": {
        "id": "iksPVC3xcsUA"
      },
      "source": [
        "### Optimización por búsqueda\n",
        "\n",
        "La librería ```scipy``` contiene funciones que ayudan a buscar los mínimos de manera automática. No obstante, esta librería y ```sympy``` son incompatibles, así pues para hacer uso de ```scipy``` es necesario crear funciones estándar."
      ]
    },
    {
      "cell_type": "code",
      "metadata": {
        "colab": {
          "base_uri": "https://localhost:8080/"
        },
        "id": "k77HFPyQbKyL",
        "outputId": "d024b157-5996-424e-d6d0-eb45bf2e36b7"
      },
      "source": [
        "from scipy import optimize\n",
        "\n",
        "# en este caso, sympy no puede utilizarse y, por lo tanto, se tiene que definir una función estándar manualmente\n",
        "def f(x):\n",
        "    return 60*x**2 + 800/x\n",
        "\n",
        "# Esta expresión calcula el mínimo de una función f a partir de un punto inicial \n",
        "# en este caso, \"1\" es la estimativa inicial\n",
        "optimize.fmin(f, 1)"
      ],
      "execution_count": null,
      "outputs": [
        {
          "output_type": "stream",
          "text": [
            "Optimization terminated successfully.\n",
            "         Current function value: 637.595142\n",
            "         Iterations: 16\n",
            "         Function evaluations: 32\n"
          ],
          "name": "stdout"
        },
        {
          "output_type": "execute_result",
          "data": {
            "text/plain": [
              "array([1.88203125])"
            ]
          },
          "metadata": {
            "tags": []
          },
          "execution_count": 37
        }
      ]
    },
    {
      "cell_type": "code",
      "metadata": {
        "colab": {
          "base_uri": "https://localhost:8080/"
        },
        "id": "WhpbTd5gedaU",
        "outputId": "2a9d5012-7742-4650-b69f-87666a53641e"
      },
      "source": [
        "optimize.fminbound(f, -1, 2) # Igual que la anterior pero se tienen que indicar los puntos inicial y final de búsqueda"
      ],
      "execution_count": null,
      "outputs": [
        {
          "output_type": "execute_result",
          "data": {
            "text/plain": [
              "1.8820717255379549"
            ]
          },
          "metadata": {
            "tags": []
          },
          "execution_count": 38
        }
      ]
    },
    {
      "cell_type": "markdown",
      "metadata": {
        "id": "3MG7lpprSnTk"
      },
      "source": [
        "# Ejercicios"
      ]
    },
    {
      "cell_type": "markdown",
      "metadata": {
        "id": "lzcD_VObTtc6"
      },
      "source": [
        "## Ejercicio 1\n",
        "\n",
        "Calcula el límite de las siguiente funciones y dibuja las mismas:\n",
        "\n",
        "$\\lim\\limits_{x \\to 0} \\frac{x^3+5}{x^4+7}$\n",
        "\n",
        "$\\lim\\limits_{x \\to0+} \\frac{x−3}{|x−3|}$\n",
        "\n",
        "$\\lim\\limits_{x \\to0-} \\frac{x−3}{|x−3|}$"
      ]
    },
    {
      "cell_type": "markdown",
      "metadata": {
        "id": "kbsxH29jU5I-"
      },
      "source": [
        "## Ejercicio 2\n",
        "\n",
        "Sabiendo que $f(x)=\\frac{3x+5}{x-3}$ y $g(x)=x^2+1$\n",
        "\n",
        "Calcula los siguientes límites:\n",
        "\n",
        "$l1 = \\lim\\limits_{x \\to4}~f(x)$\n",
        "\n",
        "$l2 = \\lim\\limits_{x \\to4}~g(x)$\n",
        "\n",
        "$lsum = \\lim\\limits_{x \\to4}~(f(x)+g(x))$\n",
        "\n",
        "$lrest = \\lim\\limits_{x \\to4}~(f(x)-g(x))$\n",
        "\n",
        "$lprod = \\lim\\limits_{x \\to4}~(f(x)*g(x))$\n",
        "\n",
        "$ldiv = \\lim\\limits_{x \\to4}~\\frac{f(x)}{g(x)}$"
      ]
    },
    {
      "cell_type": "markdown",
      "metadata": {
        "id": "XtoG2lFaWId9"
      },
      "source": [
        "## Ejercicio 3\n",
        "\n",
        "Calcula los límites iterados de las siguientes funciones:\n",
        "\n",
        "$\\lim\\limits_{(x,y) \\to (4,3)}~\\frac{x^2-1}{3x+y}$\n",
        "\n",
        "$\\lim\\limits_{(x,y) \\to (2,2)}~\\frac{x+3}{xy-4}$"
      ]
    },
    {
      "cell_type": "markdown",
      "metadata": {
        "id": "NJFhFYWYWPFZ"
      },
      "source": [
        "## Ejercicio 4"
      ]
    },
    {
      "cell_type": "markdown",
      "metadata": {
        "id": "RtMnW6g1eZTt"
      },
      "source": [
        "Calcula los límites iterados de la siguiente función y dibuja la función\n",
        "\n",
        "\n",
        "$\\lim\\limits_{(x,y) \\to (0,0)}~\\frac{xy}{x^2+y^2}$"
      ]
    },
    {
      "cell_type": "markdown",
      "metadata": {
        "id": "zwOl83pTWPt5"
      },
      "source": [
        "## Ejercicio 5"
      ]
    },
    {
      "cell_type": "markdown",
      "metadata": {
        "id": "-PcYqmZue3qh"
      },
      "source": [
        "Obtén la derivada de la función $sin(x)$ recurriendo a la definición de derivada y utilizando el comando limit"
      ]
    },
    {
      "cell_type": "markdown",
      "metadata": {
        "id": "KUCDsnyRWP1M"
      },
      "source": [
        "## Ejercicio 6"
      ]
    },
    {
      "cell_type": "markdown",
      "metadata": {
        "id": "VCPCYnmje_bG"
      },
      "source": [
        "Obtén la derivada de la matriz:\n",
        "\n",
        "$\\begin{bmatrix}cos(4x) & 3x\\\\x & sen(5x)\\end{bmatrix}$\n",
        "\n",
        "Verfica información sobre matrices en (https://docs.sympy.org/latest/modules/matrices/matrices.html#creating-matrices)"
      ]
    },
    {
      "cell_type": "markdown",
      "metadata": {
        "id": "qQqX55EhWP8k"
      },
      "source": [
        "## Ejercicio 7"
      ]
    },
    {
      "cell_type": "markdown",
      "metadata": {
        "id": "aDsrUP1_fwRC"
      },
      "source": [
        "Calcula la primera derivada parcial respecto a x de las siguientes expresiones:\n",
        "\n",
        "$tan(x + y)$\n",
        "\n",
        "$ay + bx + cz$\n",
        "\n",
        "$x^{0.5} − 3y$"
      ]
    },
    {
      "cell_type": "markdown",
      "metadata": {
        "id": "G8l_NJrsWQDs"
      },
      "source": [
        "## Ejercicio 8"
      ]
    },
    {
      "cell_type": "markdown",
      "metadata": {
        "id": "tZFq7pGXgKE1"
      },
      "source": [
        "Calcula los polinomios de Taylor de grados 1, 2, 5 y 8 de la función $cos(x)$ alrededor del valor $x = π/6$. Represéntalos junto con la función coseno en cuatro ventanas gráficas, en el rectángulo $[0, 2π] × [0, 3]$"
      ]
    },
    {
      "cell_type": "markdown",
      "metadata": {
        "id": "7KvI_DGZWQK9"
      },
      "source": [
        "## Ejercicio 9"
      ]
    },
    {
      "cell_type": "markdown",
      "metadata": {
        "id": "dvKCo6tQgqr5"
      },
      "source": [
        "Analiza las siguientes expresiones. Crea una función que al introducir las expresiones cree un gráfico con la función junto con sus\n",
        "raíces, asíntotas y puntos críticos.\n",
        "\n",
        "$\\frac{2x}{x^2+1}$\n",
        "\n",
        "$\\frac{log(x)}{x}$\n",
        "\n",
        "$\\frac{x+1}{\\sqrt{x-1}-5}$\n",
        "\n",
        "$\\frac{x^3}{(x-1)^2}-8$"
      ]
    },
    {
      "cell_type": "markdown",
      "metadata": {
        "id": "PWhPvzePWQR1"
      },
      "source": [
        "## Ejercicio 10"
      ]
    },
    {
      "cell_type": "markdown",
      "metadata": {
        "id": "bU-rNSKWh1SR"
      },
      "source": [
        "Una ventana se construye en su parte superior con un semicírculo y en su parte inferior con un rectángulo. Si hay 12m de materiales, ¿cuáles serán las dimensiones de la ventana para que entre la mayor cantidad de luz?"
      ]
    },
    {
      "cell_type": "markdown",
      "metadata": {
        "id": "CRYK3tRhWQXK"
      },
      "source": [
        "## Ejercicio 11"
      ]
    },
    {
      "cell_type": "markdown",
      "metadata": {
        "id": "JauMrJI8iA0Y"
      },
      "source": [
        "Determina los puntos sobre $y = x^2 + 1$ más cercanos a $(0, 2)$"
      ]
    },
    {
      "cell_type": "markdown",
      "metadata": {
        "id": "BiB5u8VLWQdj"
      },
      "source": [
        "## Ejercicio 12"
      ]
    },
    {
      "cell_type": "markdown",
      "metadata": {
        "id": "aUMT5KhUiOcV"
      },
      "source": [
        "Representa las siguientes funciones y calcula su gradiente\n",
        "\n",
        "$f (x, y) = x^2y^3$\n",
        "\n",
        "$g(x, y) = xe^{−x^2−y^2}$\n",
        "\n",
        "Verifica cómo calcular el gradiente en (https://docs.sympy.org/latest/modules/matrices/matrices.html)"
      ]
    },
    {
      "cell_type": "markdown",
      "metadata": {
        "id": "hsEUyyC9WQj_"
      },
      "source": [
        "## Ejercicio 13"
      ]
    },
    {
      "cell_type": "markdown",
      "metadata": {
        "id": "TJSOt37nicmF"
      },
      "source": [
        "Calcula la matriz Hessiana de la función $f (x, y) = xy + 2zx$\n",
        "\n",
        "Verifica cómo calcular la Hessiana en (https://docs.sympy.org/latest/modules/matrices/matrices.html)"
      ]
    },
    {
      "cell_type": "markdown",
      "metadata": {
        "id": "m_tJ3OGIWQps"
      },
      "source": [
        "## Ejercicio 14"
      ]
    },
    {
      "cell_type": "markdown",
      "metadata": {
        "id": "KztsylNpikXG"
      },
      "source": [
        "Calcula la matriz Jacobiana de $g(x, y, z) = (e^x, cos(y), sen(z))$\n",
        "\n",
        "Verifica cómo calcular la jacobiana en (https://docs.sympy.org/latest/modules/matrices/matrices.html)"
      ]
    }
  ]
}
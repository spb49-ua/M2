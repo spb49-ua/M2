{
 "cells": [
  {
   "cell_type": "markdown",
   "metadata": {
    "id": "s816e4mZZrPh"
   },
   "source": [
    "# Integrales"
   ]
  },
  {
   "cell_type": "markdown",
   "metadata": {
    "id": "92M_pBu5Xver"
   },
   "source": [
    "Importación de las librerías necesarias"
   ]
  },
  {
   "cell_type": "code",
   "execution_count": 1,
   "metadata": {
    "id": "dd-D0oQEXhYt"
   },
   "outputs": [],
   "source": [
    "import numpy as np # biblioteca de cálculo numérico y análisis de datos\n",
    "import pylab as plt # biblioteca para la generación de gráficos a partir de listas o arrays\n",
    "from sympy import * # Librería de Cálculo\n",
    "from sympy.plotting import plot as symplot # Librería para los gráficos\n",
    "from sympy.abc import x, y, h # Carga de un simbólico \"x\"\n",
    "from sympy.plotting.pygletplot import PygletPlot as Plot # Librería para los gráficos\n",
    "import math"
   ]
  },
  {
   "cell_type": "markdown",
   "metadata": {
    "id": "1lqyB4NKZp0l"
   },
   "source": [
    "## Definición de área bajo una curva\n",
    "\n",
    "Dada la gráfica de una función, se puede definir la integral definida como el área bajo la función entre dos valores $a$ y $b$.\n",
    "\n",
    "\n",
    "Así por ejemplo para la función\n",
    "$cos(2πx)e^{-x}+1$ entre los valores $1$ y $4$ se puede representar como \n"
   ]
  },
  {
   "cell_type": "code",
   "execution_count": 2,
   "metadata": {
    "colab": {
     "base_uri": "https://localhost:8080/",
     "height": 265
    },
    "id": "Pkqoy_QlxInI",
    "outputId": "5522ac66-3651-4774-b608-66eefdce8524"
   },
   "outputs": [
    {
     "data": {
      "image/png": "[encoded data removed]",
      "text/plain": [
       "<Figure size 432x288 with 1 Axes>"
      ]
     },
     "metadata": {
      "needs_background": "light"
     },
     "output_type": "display_data"
    }
   ],
   "source": [
    "from matplotlib import pyplot as plt\n",
    "\n",
    "a=0\n",
    "b=6\n",
    "n=1000\n",
    "\n",
    "# Creamos la función simbólica\n",
    "f = cos(2*pi*x)*exp(-x)+1\n",
    "# Definimos los subintervalos entre a y b como n valores espaciados uniformemente\n",
    "xvalues = np.linspace(a,b,n)\n",
    "# Obtenemos los valores correspondientes para la y\n",
    "yvalues = lambdify(x, f)(xvalues) \n",
    "\n",
    "plt.plot(xvalues,yvalues)     # Dibujamos la curva a partir de sus coordenadas x, y \n",
    "# Rellenamos el área de integración en color azul \n",
    "plt.fill_between(xvalues,y1=yvalues,y2=0,where=(xvalues>=1)&(xvalues<=4), facecolor='blue',alpha=0.2)\n",
    "# Añadimos un texto explicativo en la posición (2.5, 0.4)\n",
    "plt.text(2.5,0.4,r\"$\\int_{1}^4(cos(2πx)e^{-x}+1)\\mathrm{d}x$\",horizontalalignment='center',fontsize=14)\n",
    "plt.show()"
   ]
  },
  {
   "cell_type": "markdown",
   "metadata": {
    "id": "nTCABPbOB9mZ"
   },
   "source": [
    "Una forma de calcular una aproximación del área bajo una curva sería mediante una suma finita. De esta forma, se define la Suma de Riemann como una  aproximación del valor de una integral mediante una suma finita.\n",
    "\n",
    "La suma se calcula dividiendo la región en formas (rectángulos, trapezoides, cuadrados, polinomios cuadráticos o cúbicos, etc.) que si las juntamos todas se forma un zona similar a la región que se está midiendo. Después, calculando el área para cada una de estas formas y sumåndolas todas, se puede encontrar una aproximación numérica para una integral definida.  \n",
    "\n",
    "Hay que tener en cuenta que la región rellenada por las formas pequeñas generalmente no es exactamente la misma forma que la región que se está midiendo, con lo que la suma de Riemann será una aproximación diferente del área que se está midiendo. El error que se comete, se puede reducir utilizando formas cada vez más pequeñas. Así, a medida que las formas se hacen cada vez más pequeñas, la suma se acerca a la integral buscada.\n",
    "\n",
    "Una de las formas más simples es el rectángulo. Así pues, vamos a aproximar el área bajo la curva mediante una suma de áreas de rectángulos. Para ello, primeramente, vamos a realizar una partición del intervalo $[a, b]$ en $n$ particiones de longitud $\\Delta x$.\n",
    "\n",
    "Para calcular la altura de los rectángulos vamos a elegir dos valores el valor de la función en el punto inicial izquierdo y el valor en el punto final derecho de cada elemento de la partición. Estas sumas de las áreas de esos rectángulos se denominarán suma izquierda en un caso, y suma derecha en el otro.\n",
    "\n",
    "Así pues, tomando cada intervalo de igual longitud $\\Delta x = \\frac{(b-a)}{n}$, con $n$ número de intervalos definidos mediante la partición $\\{a=x_1, x_2, \\ldots,x_n,x_{n+1}=b\\}$, y tomando como alturas de los rectángulos los valores de $f(x_{i})$ y $f(x_{i+1})$ respectivamente, se obtienen las áreas de los rectángulos.\n",
    "\n",
    "Ahora solo queda sumar las áreas de los rectángulos para obtener una aproximación, así la Suma Izquierda será\n",
    "\n",
    "$$L_n = \\sum_{i=1}^n \\Delta x f(x_{i}) = \\Delta x  \\sum_{i=1}^n f(x_{i}) = \\frac{b-a}{n} \\sum_{i=1}^n f(x_{i}),$$\n",
    "\n",
    "y la Suma Derecha\n",
    "\n",
    "$$R_n = \\sum_{i=1}^n \\Delta x f(x_{i+1}) = \\Delta x  \\sum_{i=1}^n f(x_{i+1}) = \\frac{b-a}{n} \\sum_{i=1}^n f(x_{i+1}) $$\n",
    "\n",
    "Esto se puede implementar en python de la forma siguiente"
   ]
  },
  {
   "cell_type": "code",
   "execution_count": 3,
   "metadata": {
    "colab": {
     "base_uri": "https://localhost:8080/"
    },
    "id": "B6u3OcZdZ147",
    "outputId": "e5ae273d-31a7-463c-eb2d-e4911c4bd6cc"
   },
   "outputs": [
    {
     "name": "stdout",
     "output_type": "stream",
     "text": [
      "La Suma Izquierda de: 10**(-x)*x**2*sin(x)**2 de 0.00 a 3.14 es 0.089965\n",
      "La Suma Derecha   de: 10**(-x)*x**2*sin(x)**2 de 0.00 a 3.14 es 0.089965\n"
     ]
    }
   ],
   "source": [
    "# Función que calcula la suma izquierda donde\n",
    "# function: función a integrar de forma simbólica\n",
    "# a: límite inferior de integración\n",
    "# b: límite superior de integración\n",
    "# n: número de intervalos entre a y b\n",
    "\n",
    "def L_n(function, a, b, n): \n",
    "    xvalues = np.linspace(a, b, n) # Devuelve n valores espaciados uniformemente en el intervalo [a, b]\n",
    "\n",
    "    # Obtenemos los valores correspondientes a f(xi)\n",
    "    yvalues = lambdify(x, function)(xvalues[:-1]) \n",
    "\n",
    "    Lsum = 0\n",
    "    for i in yvalues:\n",
    "        Lsum += i\n",
    "    \n",
    "    Ax = (b-a)/n\n",
    "    Lsum = Ax * Lsum\n",
    "\n",
    "    return Lsum\n",
    "\n",
    "# Función que calcula la suma derecha\n",
    "def R_n(function, a, b, n):\n",
    "    xvalues = np.linspace(a, b, n) # Devuelve n valores espaciados uniformemente en el intervalo [a, b]\n",
    "\n",
    "    # Obtenemos los valores correspondientes a f(xi+1)\n",
    "    yvalues = lambdify(x, function)(xvalues[1:]) \n",
    "\n",
    "    Rsum = 0\n",
    "    for i in yvalues:\n",
    "        Rsum += i\n",
    "    \n",
    "    Ax = (b-a)/n\n",
    "    Rsum = Ax * Rsum\n",
    "\n",
    "    return Rsum\n",
    "\n",
    "# La siguiente función llama a las dos anteriores y devuelve una tupla con sus valores\n",
    "def Riemann_sum(function, a, b, n):\n",
    "     Ln = L_n(function, a, b, n) \n",
    "     Rn = R_n(function, a, b, n)\n",
    "     return (Ln, Rn)\n",
    "\n",
    "## ejemplo \n",
    "n = 10 #100\n",
    "a = 0\n",
    "b = np.pi\n",
    "\n",
    "function = sin(x)**2 * x**2 * 10**-x\n",
    "Ln, Rn = Riemann_sum(function, a, b, n)\n",
    "\n",
    "print(f\"La Suma Izquierda de: {function} de {a:.2f} a {b:.2f} es {Ln:.6f}\")\n",
    "print(f\"La Suma Derecha   de: {function} de {a:.2f} a {b:.2f} es {Rn:.6f}\")"
   ]
  },
  {
   "cell_type": "markdown",
   "metadata": {
    "id": "FsA-6Jo4YvMh"
   },
   "source": [
    "También podemos usar la regla trapezoidal que consiste en aproximar la altura de la función a una constante en cada subintervalo $[a,b]$ como si fuera un polinomio lineal.  En este caso, la región bajo el polinomio lineal es un  trapezoide. \n",
    "\n",
    "En cada sub-intervalo $x_{i}$ y $x_{i+1}$, el trapezoide tiene de área\n",
    "$$\\frac{f(x_{i})+ f(x_{i+1})}{2}\\Delta x $$\n",
    "\n",
    "Y sumando estas áreas en todos los sub-intervalos obtenemos:\n",
    "\n",
    "$$\\int_a^b f(x)dx = \\sum_{i=1}^n \\frac{f(x_i)+f(x_{i+1})}{2}\\Delta x $$\n",
    "\n",
    "Esto se puede implementar fácilemente en python mediante el siguiente código\n"
   ]
  },
  {
   "cell_type": "code",
   "execution_count": 4,
   "metadata": {
    "colab": {
     "base_uri": "https://localhost:8080/"
    },
    "id": "6Y5s9IHLcEbu",
    "outputId": "b60237de-5bd5-4916-e868-4293a2c13ab0"
   },
   "outputs": [
    {
     "name": "stdout",
     "output_type": "stream",
     "text": [
      "La Suma Trapezoidal de: 10**(-x)*x**2*sin(x)**2 de 0 a 3.14 es 0.098944\n"
     ]
    }
   ],
   "source": [
    "def suma_trapezoidal(function, a, b, n):\n",
    "    Ax = (b - a)/n\n",
    "    \n",
    "    xvalues = np.linspace(a, b, n) # Devuelve n valores espaciados uniformemente en el intervalo [a, b]\n",
    "\n",
    "    # Obtenemos los valores de f(xi+1)\n",
    "    yvalues = lambdify(x, function)(xvalues)\n",
    "\n",
    "    sum = 0\n",
    "    for i in range(len(yvalues)-1):\n",
    "      sum += (yvalues[i]+yvalues[i+1])/2\n",
    "    \n",
    "    sum = Ax * sum\n",
    "    \n",
    "    return sum\n",
    "\n",
    "n= 100\n",
    "a = 0\n",
    "b = np.pi\n",
    "\n",
    "f = sin(x)**2 * x**2 * 10**-x\n",
    "\n",
    "STn = suma_trapezoidal(f, a, b, n)\n",
    "print(f\"La Suma Trapezoidal de: {f} de {a} a {b:.2f} es {STn:.6f}\")\n"
   ]
  },
  {
   "cell_type": "markdown",
   "metadata": {
    "id": "XO-aJySGhhKN"
   },
   "source": [
    "## Cálculo de integrales en Python\n",
    "\n",
    "Para calcular integrales definidas, la librería *scipy* proporciona un comando de cálculo inmediato *quad*. Este comando devuelve una tupla cuyo primer elemento es el valor de la integral y tiene la sintaxis siguiente\n",
    "*quad(función, a, b)*"
   ]
  },
  {
   "cell_type": "code",
   "execution_count": 5,
   "metadata": {
    "colab": {
     "base_uri": "https://localhost:8080/"
    },
    "id": "ypCUSCdAjXKx",
    "outputId": "46f80bcc-b6ed-4c15-952e-07c7b9f113e1"
   },
   "outputs": [
    {
     "data": {
      "text/plain": [
       "(16.5, 1.8318679906315083e-13)"
      ]
     },
     "execution_count": 5,
     "metadata": {},
     "output_type": "execute_result"
    }
   ],
   "source": [
    "# scipy es una biblioteca de herramientas y algoritmos matemáticos, entre ellos quad para calcular integrales \n",
    "from scipy.integrate import quad\n",
    "\n",
    "# Necesitamos definir una función de usuario para poder utilizar la función quad\n",
    "# Como mínimo, incluirá el argumento x\n",
    "def integrand(x):\n",
    "    return x**2+x+1\n",
    "\n",
    "a=0\n",
    "b=3\n",
    "J = quad(integrand,a,b)\n",
    "J # Tupla valor del integral y error absoluto"
   ]
  },
  {
   "cell_type": "markdown",
   "metadata": {
    "id": "JvxF2cAEhv1U"
   },
   "source": [
    "Con Python, se pueden resolver integrales indefinidas de forma simbólica con la ayuda de la librería *SymPy*. Para ello, vamos a utilizar el objeto *integrate* cuya sintaxis es la siguiente: *integrate(funcion, variable)*."
   ]
  },
  {
   "cell_type": "code",
   "execution_count": 6,
   "metadata": {
    "colab": {
     "base_uri": "https://localhost:8080/",
     "height": 91
    },
    "id": "lBeFJggCiDFm",
    "outputId": "bc714129-4c21-48b3-8772-64ca495c4a97"
   },
   "outputs": [
    {
     "data": {
      "text/latex": [
       "$\\displaystyle \\frac{x^{4}}{4} - 3 x^{2}$"
      ],
      "text/plain": [
       "x**4/4 - 3*x**2"
      ]
     },
     "metadata": {},
     "output_type": "display_data"
    },
    {
     "data": {
      "text/latex": [
       "$\\displaystyle \\frac{x^{3}}{3} - \\frac{3 x^{2}}{2} + 2 x$"
      ],
      "text/plain": [
       "x**3/3 - 3*x**2/2 + 2*x"
      ]
     },
     "metadata": {},
     "output_type": "display_data"
    }
   ],
   "source": [
    "from sympy import integrate\n",
    "\n",
    "fx = x**3-6*x # Creando la función simbólica\n",
    "\n",
    "dx1=integrate(fx,x)\n",
    "display(dx1)\n",
    "\n",
    "fx2 = x**2-3*x + 2\n",
    "dx2=integrate(fx2)\n",
    "display(dx2)"
   ]
  },
  {
   "cell_type": "markdown",
   "metadata": {
    "id": "8xwKX7oij8MA"
   },
   "source": [
    "La función *Integral* da el mismo resultado"
   ]
  },
  {
   "cell_type": "code",
   "execution_count": 7,
   "metadata": {
    "colab": {
     "base_uri": "https://localhost:8080/",
     "height": 128
    },
    "id": "n2rUIGNDje80",
    "outputId": "985807a2-e4f5-44e4-c912-08373a9db848"
   },
   "outputs": [
    {
     "data": {
      "text/latex": [
       "$\\displaystyle \\frac{x^{4}}{4} - 3 x^{2}$"
      ],
      "text/plain": [
       "x**4/4 - 3*x**2"
      ]
     },
     "metadata": {},
     "output_type": "display_data"
    },
    {
     "data": {
      "text/latex": [
       "$\\displaystyle \\frac{x^{3}}{3} - \\frac{3 x^{2}}{2} + 2 x$"
      ],
      "text/plain": [
       "x**3/3 - 3*x**2/2 + 2*x"
      ]
     },
     "metadata": {},
     "output_type": "display_data"
    },
    {
     "data": {
      "text/latex": [
       "$\\displaystyle \\frac{x^{3}}{3} - \\frac{3 x^{2}}{2} + 2 x$"
      ],
      "text/plain": [
       "x**3/3 - 3*x**2/2 + 2*x"
      ]
     },
     "metadata": {},
     "output_type": "display_data"
    }
   ],
   "source": [
    "from sympy import Integral\n",
    "\n",
    "fx = x**3-6*x # Creando la función simbólica\n",
    "dx1 = Integral(fx,x).doit()\n",
    "display(dx1)\n",
    "\n",
    "fx2 = x**2-3*x+2\n",
    "dx2=Integral(fx2).doit()\n",
    "display(dx2)\n",
    "\n",
    "dx3=Integral(x**2-3*x+2).doit()\n",
    "display(dx3)"
   ]
  },
  {
   "cell_type": "markdown",
   "metadata": {
    "id": "ALSwW2HrmsrG"
   },
   "source": [
    "En *SymPy*, también se pueden calcular integrales definidas mediante las funciones *integrate*, considerando el hecho que deben añadirse los límites de integración:"
   ]
  },
  {
   "cell_type": "code",
   "execution_count": 8,
   "metadata": {
    "colab": {
     "base_uri": "https://localhost:8080/",
     "height": 317
    },
    "id": "2ZDQwtCMmeuE",
    "outputId": "bf0e8bd5-9fed-4d21-d1ef-faeb9fc58e86"
   },
   "outputs": [
    {
     "data": {
      "text/latex": [
       "$\\displaystyle - \\frac{27}{4}$"
      ],
      "text/plain": [
       "-27/4"
      ]
     },
     "metadata": {},
     "output_type": "display_data"
    },
    {
     "data": {
      "text/plain": [
       "<matplotlib.collections.PolyCollection at 0x7f7c49e74090>"
      ]
     },
     "execution_count": 8,
     "metadata": {},
     "output_type": "execute_result"
    },
    {
     "data": {
      "image/png": "[encoded data removed]",
      "text/plain": [
       "<Figure size 432x288 with 1 Axes>"
      ]
     },
     "metadata": {
      "needs_background": "light"
     },
     "output_type": "display_data"
    }
   ],
   "source": [
    "from sympy import integrate\n",
    "\n",
    "fx = x**3-6*x # Creando la función simbólica\n",
    "\n",
    "Id2 = integrate(fx,(x,0,3))\n",
    "display(Id2)\n",
    "\n",
    "xx = np.linspace(0,3,100)\n",
    "yy = lambdify(x,fx)(xx)\n",
    "\n",
    "plt.grid(alpha=0.4)\n",
    "plt.plot(xx,yy,'r')\n",
    "plt.fill_between(xx,yy)"
   ]
  },
  {
   "cell_type": "markdown",
   "metadata": {
    "id": "ssEvWWKMph2L"
   },
   "source": [
    "Cuando la expresión a integrar incluye más de una variable simbólica, es necesario especificar de manera explícita la variable respecto a la cual se integra, de lo contrario Python nos mostrará un error."
   ]
  },
  {
   "cell_type": "code",
   "execution_count": 9,
   "metadata": {
    "colab": {
     "base_uri": "https://localhost:8080/",
     "height": 54
    },
    "id": "fc49r9qBqGrr",
    "outputId": "b9f6755c-f2c0-4f68-fcf8-a19d177f0049"
   },
   "outputs": [
    {
     "data": {
      "text/latex": [
       "$\\displaystyle \\frac{a x^{3}}{3} + \\frac{b x^{2}}{2} + c x$"
      ],
      "text/plain": [
       "a*x**3/3 + b*x**2/2 + c*x"
      ]
     },
     "execution_count": 9,
     "metadata": {},
     "output_type": "execute_result"
    }
   ],
   "source": [
    "from sympy.abc import a,b,c\n",
    "from sympy import integrate\n",
    "\n",
    "f = a*x**2+b*x+c\n",
    "integrate(f,x)"
   ]
  },
  {
   "cell_type": "markdown",
   "metadata": {
    "id": "Hf2nsdzdqZNb"
   },
   "source": [
    "En SymPy, también se puede calcular una integral definida mediante *integrate*, considerando el hecho que deben añadirse los límites de integración, mediante la sintaxis:"
   ]
  },
  {
   "cell_type": "code",
   "execution_count": 10,
   "metadata": {
    "colab": {
     "base_uri": "https://localhost:8080/"
    },
    "id": "PFoOsH9kp5J6",
    "outputId": "a5c5d286-0969-4205-e8f8-8af96ef5f2b4"
   },
   "outputs": [
    {
     "name": "stdout",
     "output_type": "stream",
     "text": [
      "la integral definida de cos(x) entre 0 y pi/2 es 1\n",
      "la integral definida de x entre 0 y 5 es 12.5000000000000\n"
     ]
    }
   ],
   "source": [
    "from sympy import cos,pi\n",
    "from sympy import integrate, init_printing\n",
    "from sympy.abc import x\n",
    "\n",
    "f = x**2 - 3*x + 2\n",
    "ID = integrate(f)\n",
    "ID\n",
    "\n",
    "# o integrales definidas\n",
    "Res1 = integrate(cos(x), (x,0,pi/2.0))\n",
    "print(\"la integral definida de cos(x) entre 0 y pi/2 es {}\".format(Res1))\n",
    "\n",
    "Res2 = integrate(x, (x, 0, 5))\n",
    "print(\"la integral definida de x entre 0 y 5 es {}\".format(N(Res2)))"
   ]
  },
  {
   "cell_type": "markdown",
   "metadata": {
    "id": "cva1A1x0znQY"
   },
   "source": [
    "## Integrales múltiples\n",
    "\n",
    "Aunque se van a resolver integrales dobles, la sintaxis y metodología se puede extrapolar de forma fácil a cualquier integral múltiple.\n",
    "\n",
    "Para resolver\n",
    "$$ \\int_a^b \\int_c^d 1 \\ dy dx,$$\n",
    "\n",
    "hay que recordar que este tipo de integrales dobles se pueden resolver de forma iterada\n",
    "$$ I_1 = \\int_c^d 1 \\ dy  \\Rightarrow I = \\int_a^b I_1 dx.$$\n",
    "\n",
    "En Python se puede realizar exactamente lo mismo "
   ]
  },
  {
   "cell_type": "code",
   "execution_count": 11,
   "metadata": {
    "colab": {
     "base_uri": "https://localhost:8080/",
     "height": 38
    },
    "id": "Av5woow_1vHE",
    "outputId": "35bb9462-6cbd-472c-b33c-8a4df16a7c34"
   },
   "outputs": [
    {
     "data": {
      "text/latex": [
       "$\\displaystyle \\left(a - b\\right) \\left(c - d\\right)$"
      ],
      "text/plain": [
       "(a - b)*(c - d)"
      ]
     },
     "execution_count": 11,
     "metadata": {},
     "output_type": "execute_result"
    }
   ],
   "source": [
    "from sympy.abc import x,y,z,a,b,c,d\n",
    "from sympy import simplify\n",
    "\n",
    "I1 = integrate(1, (y,c,d))\n",
    "simplify(integrate(I1, (x,a,b)))"
   ]
  },
  {
   "cell_type": "markdown",
   "metadata": {
    "id": "ClCTksbJ8Xav"
   },
   "source": [
    "También existen funciones para el cálculo de integrales dobles, triples o múltiples. La mecánica para este tipo de integración se ha agrupado en las funciones *dblquad, tplquad* y *nquad*. Hay que remarcar, que los límites de todas las integrales internas deben definirse como funciones.\n",
    "\n",
    "La sintaxis general de la función *dblquad* es *dblquad(func, a, b, gfun, hfun)*. Donde, *func* es el nombre de la función a integrar, *a* y *b* son los límites inferior y superior de la variable *x*, respectivamente, mientras que *gfun* y *hfun* son los nombres de las funciones que definen los límites inferior y superior de la variable *y*.\n",
    "\n",
    "Como ejemplo, veamos el cálculo de la integral doble\n",
    "$$\\int_{0}^{1/2}\\int_{0}^{\\sqrt{1-4y^2}} 16xy \\:dx dy$$\n"
   ]
  },
  {
   "cell_type": "code",
   "execution_count": 12,
   "metadata": {
    "colab": {
     "base_uri": "https://localhost:8080/"
    },
    "id": "MNEKpm319p9M",
    "outputId": "2dc0e6e6-d9a0-4f6a-dd06-fffbcb15e476"
   },
   "outputs": [
    {
     "name": "stdout",
     "output_type": "stream",
     "text": [
      "(0.5, 1.7092350012594845e-14)\n"
     ]
    }
   ],
   "source": [
    "from scipy.integrate import dblquad\n",
    "\n",
    "# definición de las funciones \n",
    "def integrand(x, y):\n",
    "  return 16*x*y\n",
    "\n",
    "def xlimit(y):\n",
    "  return sqrt(1-4*y**2)\n",
    "\n",
    "i = dblquad(integrand, 0, 0.5, 0, xlimit)\n",
    "print(i)"
   ]
  },
  {
   "cell_type": "markdown",
   "metadata": {
    "id": "Cn7o1JRypW0O"
   },
   "source": [
    "## Ejercicios"
   ]
  },
  {
   "cell_type": "markdown",
   "metadata": {
    "id": "KYi-lM2R43tn"
   },
   "source": [
    "### Ejercicio 1\n",
    "Dadas las funciones:\n",
    "\n",
    "* $f(x)=x^2-2x+3$ en $[-2, 3]$\n",
    "* $f(x)=sen(2x)$ en $[-1, 5]$\n",
    "* $f(x)=-x^2+8x+5$ en $[-2, 3]$\n",
    "\n",
    "calcula:\n",
    "1.   El valor de la suma izquierda $Ln$ para $n=6$\n",
    "2.   El valor de la suma derecha $Rn$ para $n=6$\n",
    "3.   El valor de la suma trapezoidal STn para $n=6$\n",
    "4.   Valor exacto de la integral (utilizar la función *quad*)\n",
    "5.   El error relativo (Valor real menos valor aproximado y dividido por el valor real) para las tres aproximaciones."
   ]
  },
  {
   "cell_type": "code",
   "execution_count": null,
   "metadata": {
    "colab": {
     "base_uri": "https://localhost:8080/"
    },
    "id": "oI827w65qhyZ",
    "outputId": "621fc96c-7d84-4b00-a972-acd2bf891676"
   },
   "outputs": [
    {
     "name": "stdout",
     "output_type": "stream",
     "text": [
      "Resultado de 1) y 2)\n",
      "Suma izquierda: 20.8333, suma derecha: 16.6667\n",
      "Suma izquierda: -0.1004, suma derecha: 0.2649\n",
      "Suma izquierda: 12.5000, suma derecha: 41.6667\n",
      "Resultado de 3)\n",
      "Suma trapezoidal: 18.7500\n",
      "Suma trapezoidal: 0.0822\n",
      "Suma trapezoidal: 27.0833\n",
      "Resultado de 4)\n",
      "Integral con quad: 21.6667\n",
      "Integral con quad: 0.2115\n",
      "Integral con quad: 33.3333\n",
      "Resultado de 5)\n",
      "f1\n",
      "Error relativo con izq.: 0.0385\n",
      "Error relativo con der.: 0.2308\n",
      "Error relativo con tra.: 0.1346\n",
      "f2\n",
      "Error relativo con izq.: 1.4749\n",
      "Error relativo con der.: -0.2525\n",
      "Error relativo con tra.: 0.6112\n",
      "f3\n",
      "Error relativo con izq.: 0.6250\n",
      "Error relativo con der.: -0.2500\n",
      "Error relativo con tra.: 0.1875\n"
     ]
    }
   ],
   "source": []
  },
  {
   "cell_type": "markdown",
   "metadata": {
    "id": "1AOgRdXzkqQJ"
   },
   "source": [
    "### Ejercicio 2 (Regla de Simpson)\n",
    "\n",
    "La regla de Simpson consiste en aproximar la integral de una función $f$ con polinomios cuadráticos. Así, dada una partición $p$ del intervalo $[a, b]$ para algún número par $n$. En cada subintervalo, el área debajo de $f$ se aproxima con el área debajo de un polinomio cuadrático:\n",
    "$$[ f(x_{i-1})+4f(x_{i})+f(x_{i+1}) ]\\frac{\\Delta x}{3} $$\n",
    "\n",
    "Sumando estas áreas para todos los subintervalos obtenemos la aproximación de la integral:\n",
    "$$\\int_a^b f(x)dx =\\sum_{i=2}^{n-1} [f(x_{i-1})+4f(x_{i})+f(x_{i+1})]\\frac{\\Delta x}{3}  = [f(x_{0})+4f(x_{1})+2f(x_{2})+4f(x_{3})+2f(x_{4})+...+4f(x_{n-1})+f(x_{n})]\\frac{Δx}{3}$$\n",
    "\n",
    "Implementa en python la Regla de Simpson y pruebala para las funciones del ejercicio 1."
   ]
  },
  {
   "cell_type": "code",
   "execution_count": null,
   "metadata": {
    "colab": {
     "base_uri": "https://localhost:8080/"
    },
    "id": "acO7F-dTkkRk",
    "outputId": "b6830663-02d5-4517-8d90-fbdfbd1f974e"
   },
   "outputs": [
    {
     "name": "stdout",
     "output_type": "stream",
     "text": [
      "Metodo 1\n",
      "21.651683501683507\n",
      "0.18656882638835265\n",
      "33.66750841750842\n",
      "Metodo 2\n",
      "21.155007992381723\n",
      "0.23886197018946814\n",
      "32.00256776519402\n"
     ]
    }
   ],
   "source": []
  },
  {
   "cell_type": "markdown",
   "metadata": {
    "id": "-QvaDcEWknII"
   },
   "source": [
    "### Ejercicio 3\n",
    "Calcula:\n",
    "\n",
    "1. $\\int e^{4x} dx$\n",
    "2. $\\int x^{5} \\log x dx$\n",
    "3. $\\int \\cos (\\sin x) dx$\n",
    "4. $\\int_{-1}^{1} x^2 \\ dx$\n",
    "5. $\\int_{-\\pi}^{\\pi} \\cos(x) \\ dx$\n",
    "6. $\\int_{4}^{\\infty} \\frac{1}{x^2-5x+4} \\ dx$"
   ]
  },
  {
   "cell_type": "code",
   "execution_count": null,
   "metadata": {
    "colab": {
     "base_uri": "https://localhost:8080/"
    },
    "id": "qEvHv3SvIW26",
    "outputId": "aae7d96e-f951-4497-ffcb-9fe027f9d0d1"
   },
   "outputs": [
    {
     "name": "stdout",
     "output_type": "stream",
     "text": [
      "1)\n"
     ]
    },
    {
     "data": {
      "text/latex": [
       "$\\displaystyle \\frac{e^{4 x}}{4}$"
      ],
      "text/plain": [
       "exp(4*x)/4"
      ]
     },
     "metadata": {},
     "output_type": "display_data"
    },
    {
     "name": "stdout",
     "output_type": "stream",
     "text": [
      "\n",
      "2)\n"
     ]
    },
    {
     "data": {
      "text/latex": [
       "$\\displaystyle \\frac{x^{6} \\log{\\left(x \\right)}}{6 \\log{\\left(10 \\right)}} - \\frac{x^{6}}{36 \\log{\\left(10 \\right)}}$"
      ],
      "text/plain": [
       "x**6*log(x)/(6*log(10)) - x**6/(36*log(10))"
      ]
     },
     "metadata": {},
     "output_type": "display_data"
    },
    {
     "name": "stdout",
     "output_type": "stream",
     "text": [
      "\n",
      "3)\n"
     ]
    },
    {
     "data": {
      "text/latex": [
       "$\\displaystyle \\int \\cos{\\left(\\sin{\\left(x \\right)} \\right)}\\, dx$"
      ],
      "text/plain": [
       "Integral(cos(sin(x)), x)"
      ]
     },
     "metadata": {},
     "output_type": "display_data"
    },
    {
     "name": "stdout",
     "output_type": "stream",
     "text": [
      "\n",
      "4)\n"
     ]
    },
    {
     "data": {
      "text/latex": [
       "$\\displaystyle \\frac{2}{3}$"
      ],
      "text/plain": [
       "2/3"
      ]
     },
     "metadata": {},
     "output_type": "display_data"
    },
    {
     "name": "stdout",
     "output_type": "stream",
     "text": [
      "\n",
      "5)\n"
     ]
    },
    {
     "data": {
      "text/latex": [
       "$\\displaystyle 0$"
      ],
      "text/plain": [
       "0"
      ]
     },
     "metadata": {},
     "output_type": "display_data"
    },
    {
     "name": "stdout",
     "output_type": "stream",
     "text": [
      "\n",
      "6)\n"
     ]
    },
    {
     "data": {
      "text/latex": [
       "$\\displaystyle \\infty$"
      ],
      "text/plain": [
       "oo"
      ]
     },
     "metadata": {},
     "output_type": "display_data"
    }
   ],
   "source": []
  },
  {
   "cell_type": "markdown",
   "metadata": {
    "id": "zcKwvunakvJn"
   },
   "source": [
    "### Ejercicio 4\n",
    "\n",
    "Sean las funciones $f(x)=x$ y $g(x)=(x+1)^2$, calcula:\n",
    "1. $\\int_{0}^{2} (f+g) dx$\n",
    "2. $\\int_{0}^{2} f \\ dx + \\int_{0}^{2} g \\ dx$\n",
    "\n",
    "Compara los resultados."
   ]
  },
  {
   "cell_type": "code",
   "execution_count": null,
   "metadata": {
    "colab": {
     "base_uri": "https://localhost:8080/"
    },
    "id": "SWUjNHBvLD4X",
    "outputId": "c26e78ed-5b1f-4267-bfbe-549f80787540"
   },
   "outputs": [
    {
     "data": {
      "text/latex": [
       "$\\displaystyle \\frac{32}{3}$"
      ],
      "text/plain": [
       "32/3"
      ]
     },
     "metadata": {},
     "output_type": "display_data"
    },
    {
     "data": {
      "text/latex": [
       "$\\displaystyle \\frac{32}{3}$"
      ],
      "text/plain": [
       "32/3"
      ]
     },
     "metadata": {},
     "output_type": "display_data"
    }
   ],
   "source": []
  },
  {
   "cell_type": "markdown",
   "metadata": {
    "id": "IcW7p1w8kyVv"
   },
   "source": [
    "### Ejercicio 5\n",
    "\n",
    "Sea la función $f(x)=\\sin x$ y $k=5$, calcula:\n",
    "1. $\\int_{-\\pi/2}^{\\pi} k \\ f \\ dx$\n",
    "2. $k \\int_{-\\pi/2}^{\\pi} f \\ dx $\n",
    "\n",
    "Compara los resultados."
   ]
  },
  {
   "cell_type": "code",
   "execution_count": null,
   "metadata": {
    "colab": {
     "base_uri": "https://localhost:8080/"
    },
    "id": "6XdhYkwTLaHy",
    "outputId": "e2f46496-57fe-4a68-9e77-4e769560569f"
   },
   "outputs": [
    {
     "data": {
      "text/latex": [
       "$\\displaystyle 5$"
      ],
      "text/plain": [
       "5"
      ]
     },
     "metadata": {},
     "output_type": "display_data"
    },
    {
     "data": {
      "text/latex": [
       "$\\displaystyle 5$"
      ],
      "text/plain": [
       "5"
      ]
     },
     "metadata": {},
     "output_type": "display_data"
    }
   ],
   "source": []
  },
  {
   "cell_type": "markdown",
   "metadata": {
    "id": "N9P4A6Tlk04e"
   },
   "source": [
    "### Ejercicio 6\n",
    "\n",
    "Calcula el área de la región limitada por las siguientes gráficas utilizando el método de Simpson con $\\Delta x = (b-a)/n = 0.01$.\n",
    "1. $y = x + 1$, con $0 \\leq x \\leq 1$\n",
    "2. $y = x^2 + 1$, con $1 \\leq x \\leq 2$"
   ]
  },
  {
   "cell_type": "code",
   "execution_count": null,
   "metadata": {
    "colab": {
     "base_uri": "https://localhost:8080/"
    },
    "id": "1rnvNaUxLsUY",
    "outputId": "5ceaee96-a8cf-4a38-de13-b13059fdf4f7"
   },
   "outputs": [
    {
     "name": "stdout",
     "output_type": "stream",
     "text": [
      "Simpson: 1.4983501683501688\n",
      "Exacta: 3/2\n"
     ]
    },
    {
     "data": {
      "image/png": "[encoded data removed]",
      "text/plain": [
       "<Figure size 432x288 with 1 Axes>"
      ]
     },
     "metadata": {
      "needs_background": "light"
     },
     "output_type": "display_data"
    },
    {
     "name": "stdout",
     "output_type": "stream",
     "text": [
      "Simpson: 3.333400673400673\n",
      "Exacta: 10/3\n"
     ]
    },
    {
     "data": {
      "image/png": "[encoded data removed]",
      "text/plain": [
       "<Figure size 432x288 with 1 Axes>"
      ]
     },
     "metadata": {
      "needs_background": "light"
     },
     "output_type": "display_data"
    },
    {
     "data": {
      "text/plain": [
       "<sympy.plotting.plot.Plot at 0x7f1c8aa70dd0>"
      ]
     },
     "execution_count": 18,
     "metadata": {},
     "output_type": "execute_result"
    }
   ],
   "source": []
  },
  {
   "cell_type": "markdown",
   "metadata": {
    "id": "Tnuog5vFk3Xc"
   },
   "source": [
    "### Ejercicio 7\n",
    "\n",
    "Calcula el volumen del sólido de revolución generado al girar alrededor del eje $x$ las siguientes gráficas. Como en el ejercicio anterior utiliza el método de Simpson con $\\Delta x = (b-a)/n = 0.01$ para obtener la integral definida correspondiente.\n",
    "\n",
    "1. $y = \\sqrt{x-1}$, la recta $x=3$ y el eje de ordenadas.\n",
    "2. $y = 1-x^2$, y las rectas $x=-1$ y $x=1$."
   ]
  },
  {
   "cell_type": "code",
   "execution_count": null,
   "metadata": {
    "colab": {
     "base_uri": "https://localhost:8080/"
    },
    "id": "-crNn955QA2j",
    "outputId": "e51e9302-b53a-470d-e3ae-9c16dab87ed9"
   },
   "outputs": [
    {
     "name": "stdout",
     "output_type": "stream",
     "text": [
      "Integral por revolución: 4.712389, Simpson: 5.933310\n",
      "Integral por revolución: 3.351032, Simpson: 4.167741\n"
     ]
    },
    {
     "name": "stderr",
     "output_type": "stream",
     "text": [
      "<string>:2: RuntimeWarning: invalid value encountered in sqrt\n"
     ]
    }
   ],
   "source": []
  },
  {
   "cell_type": "markdown",
   "metadata": {
    "id": "KekNB3kxk54W"
   },
   "source": [
    "### Ejercicio 8\n",
    "\n",
    "Calcula:\n",
    "1. La integral doble $\\iint \\limits_{\\mathbb{R}^{2}} \\frac{x^2}{2y} dxdy$, con $1 \\leq x \\leq 2$ y $1 \\leq y \\leq 4$\n",
    "2. La integral  triple $\\iiint \\limits_{\\mathbb{Q}}  x^2 \\sin(z) dxdydz$, con $0 \\leq x \\leq \\sqrt{5}$,  $0 \\leq y \\leq 2\\pi$ y  $0 \\leq z \\leq \\arctan 2$\n",
    "3. La integral doble $\\iint \\limits_{\\mathbb{R}^{2}} xy dydx$, con $0 \\leq x \\leq 1$ y $1-x \\leq y \\leq 1-x^2$ \n",
    "4. La integral doble $\\iint \\limits_{\\mathbb{R}^{2}} (x+y^3) dydx$, con $1 \\leq x \\leq 4$ y $x \\leq y \\leq x^2$ \n",
    "5. La integral doble $\\iint \\limits_{\\mathbb{R}^{2}} dydx$, con $-1 \\leq x \\leq 3$ y $0 \\leq y \\leq x+2$\n",
    "6. Calcular el volumen bajo la superficie $f(x,y) = 6-x-y$ en el rectángulo $[0, 3] \\times [0, 2]$\n",
    "7. Calcular el volumen bajo la superficie $f(x,y) = 6-x-y$ en el área del plano $XY$ delimitada por $0 \\leq x \\leq 1$ y $2x\\leq y \\leq -x^2+3$"
   ]
  },
  {
   "cell_type": "code",
   "execution_count": null,
   "metadata": {
    "colab": {
     "base_uri": "https://localhost:8080/",
     "height": 458
    },
    "id": "gJ2QRXfQLnEJ",
    "outputId": "7eaecb64-6bbd-4631-bddf-d271b82ef456"
   },
   "outputs": [
    {
     "name": "stdout",
     "output_type": "stream",
     "text": [
      "1)\n"
     ]
    },
    {
     "data": {
      "text/latex": [
       "$\\displaystyle \\frac{35}{4}$"
      ],
      "text/plain": [
       "35/4"
      ]
     },
     "metadata": {},
     "output_type": "display_data"
    },
    {
     "name": "stdout",
     "output_type": "stream",
     "text": [
      "\n",
      "2)\n"
     ]
    },
    {
     "data": {
      "text/latex": [
       "$\\displaystyle - \\frac{10 \\pi}{3} + \\frac{10 \\sqrt{5} \\pi}{3}$"
      ],
      "text/plain": [
       "-10*pi/3 + 10*sqrt(5)*pi/3"
      ]
     },
     "metadata": {},
     "output_type": "display_data"
    },
    {
     "name": "stdout",
     "output_type": "stream",
     "text": [
      "\n",
      "3)\n"
     ]
    },
    {
     "data": {
      "text/latex": [
       "$\\displaystyle \\frac{1}{24}$"
      ],
      "text/plain": [
       "1/24"
      ]
     },
     "metadata": {},
     "output_type": "display_data"
    },
    {
     "name": "stdout",
     "output_type": "stream",
     "text": [
      "\n",
      "4)\n"
     ]
    },
    {
     "data": {
      "text/latex": [
       "$\\displaystyle \\frac{145467}{20}$"
      ],
      "text/plain": [
       "145467/20"
      ]
     },
     "metadata": {},
     "output_type": "display_data"
    },
    {
     "name": "stdout",
     "output_type": "stream",
     "text": [
      "\n",
      "5)\n"
     ]
    },
    {
     "data": {
      "text/latex": [
       "$\\displaystyle 12$"
      ],
      "text/plain": [
       "12"
      ]
     },
     "metadata": {},
     "output_type": "display_data"
    },
    {
     "name": "stdout",
     "output_type": "stream",
     "text": [
      "\n",
      "6)\n"
     ]
    },
    {
     "data": {
      "text/latex": [
       "$\\displaystyle 21$"
      ],
      "text/plain": [
       "21"
      ]
     },
     "metadata": {},
     "output_type": "display_data"
    },
    {
     "name": "stdout",
     "output_type": "stream",
     "text": [
      "\n",
      "7)\n"
     ]
    },
    {
     "data": {
      "text/latex": [
       "$\\displaystyle \\frac{389}{60}$"
      ],
      "text/plain": [
       "389/60"
      ]
     },
     "metadata": {},
     "output_type": "display_data"
    }
   ],
   "source": []
  },
  {
   "cell_type": "markdown",
   "metadata": {
    "id": "H_-8rg0lk7hg"
   },
   "source": [
    "### Ejercicio 9\n",
    "\n",
    "Dada la función $ f(x,y)=x^2+4y^2$ se pide:\n",
    "1. Representar la gráfica de la función en el rectángulo $[0, 2] \\times [0, 1]$\n",
    "2. Calcular el volumen del sólido limitado por el rectángulo $[0,2] \\times [0,1]$ mediante una integral doble."
   ]
  },
  {
   "cell_type": "code",
   "execution_count": null,
   "metadata": {
    "colab": {
     "base_uri": "https://localhost:8080/",
     "height": 331
    },
    "id": "Z63U94wGfbCe",
    "outputId": "5a1afe22-2607-401a-866a-30d02d78978d"
   },
   "outputs": [
    {
     "data": {
      "image/png": "[encoded data removed]",
      "text/plain": [
       "<Figure size 432x288 with 1 Axes>"
      ]
     },
     "metadata": {
      "needs_background": "light"
     },
     "output_type": "display_data"
    },
    {
     "data": {
      "text/latex": [
       "$\\displaystyle \\frac{16}{3}$"
      ],
      "text/plain": [
       "16/3"
      ]
     },
     "metadata": {},
     "output_type": "display_data"
    }
   ],
   "source": []
  }
 ],
 "metadata": {
  "colab": {
   "collapsed_sections": [],
   "provenance": [],
   "toc_visible": true
  },
  "interpreter": {
   "hash": "2714d87d4679d32b6a293672ad662aac92c42bb9c927d2e60cd5a7a098397209"
  },
  "kernelspec": {
   "display_name": "Python 3 (ipykernel)",
   "language": "python",
   "name": "python3"
  },
  "language_info": {
   "codemirror_mode": {
    "name": "ipython",
    "version": 3
   },
   "file_extension": ".py",
   "mimetype": "text/x-python",
   "name": "python",
   "nbconvert_exporter": "python",
   "pygments_lexer": "ipython3",
   "version": "3.10.9"
  }
 },
 "nbformat": 4,
 "nbformat_minor": 4
}

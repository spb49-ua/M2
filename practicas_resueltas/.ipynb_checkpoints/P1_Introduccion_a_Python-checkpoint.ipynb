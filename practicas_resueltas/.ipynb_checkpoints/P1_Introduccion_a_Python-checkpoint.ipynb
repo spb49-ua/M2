{
 "cells": [
  {
   "cell_type": "markdown",
   "metadata": {
    "id": "UIkfVjPvBOGy",
    "tags": []
   },
   "source": [
    "# Introducción a Python (Matemáticas 2. GII/I2ADE)\n"
   ]
  },
  {
   "cell_type": "markdown",
   "metadata": {
    "id": "hiQcDtRxCFUJ"
   },
   "source": [
    "## Preámbulo\n"
   ]
  },
  {
   "cell_type": "markdown",
   "metadata": {
    "id": "aZIS8XksjQDp"
   },
   "source": [
    "### Instalación en ordenadores personales\n",
    "\n",
    "En el Moodle de la asignatura puedes encontrar un tutorial de como instalar el `miniconda` y `jupyter notebook` en tu ordenador personal.\n",
    "\n",
    "### Ordenadores de clase\n",
    "\n",
    "En los ordenadores de clase todo el entorno está ya instalado y por lo tanto solamente hay que ejecutar `jupyper-notebook` en la consola para empezar a trabajar (ten en atención a la directoria donde el terminal se encuentra pues esa será la directoria base para el `jupyter`).\n"
   ]
  },
  {
   "cell_type": "markdown",
   "metadata": {
    "id": "apkbXBNh95bv"
   },
   "source": [
    "### Librerías necesarias para esta asignatura\n",
    "\n",
    "Para el desarrollo de las prácticas de esta asignatura es necesario utilizar un conjunto de librerías que es necesario importarlas tal y como se indica a continuación:\n"
   ]
  },
  {
   "cell_type": "code",
   "execution_count": 1,
   "metadata": {
    "id": "f_n-MERF9izJ",
    "tags": []
   },
   "outputs": [],
   "source": [
    "import math\n",
    "import sympy\n",
    "import scipy\n",
    "import numpy as np\n",
    "import matplotlib.pyplot as plt\n"
   ]
  },
  {
   "cell_type": "markdown",
   "metadata": {
    "id": "UK2oufJaBUfn"
   },
   "source": [
    "De manera que:\n",
    "\n",
    "**Math** es una librería primitivas matemáticas nativas de Python.\n",
    "\n",
    "**Sympy** es una librería para facilitar la realización de cálculos matemáticos con variables sin necesidad de definir funciones nativas de Python.\n",
    "\n",
    "**Scipy** es una librería con diversas funciones para matemáticas y ingeniería.\n",
    "\n",
    "**Numpy** es la librería para realizar cálculos y manipulación numérica por excelencia.\n",
    "\n",
    "**Matplotlib** es una librería para gráficos.\n"
   ]
  },
  {
   "cell_type": "markdown",
   "metadata": {
    "id": "RmZ2F7uoCJ3I"
   },
   "source": [
    "# Introducción\n"
   ]
  },
  {
   "cell_type": "markdown",
   "metadata": {
    "id": "HNx3soMzCOGQ"
   },
   "source": [
    "Python es un lenguaje de programación **interpretado**, es decir, que no se compila, sino que es interpretado en el momento de ejecución. Por eso, es muy **flexible** y, al mismo tiempo, es muy **fácil cometer errores**. Aunque existen formas de capturar algunos errores pre-ejecución, estas formas son muy básicas y muchísimos errores no se detectan. Python está orientado a objetos y puede utilizarse para _scripting_ de una forma más formal.\n",
    "\n",
    "Así pues, el código escrito en Python puede ejecutarse (al menos) de tres formas:\n",
    "\n",
    "1.  Modo interpretativo (tipo terminal/símbolo del sistema): en este modo, todos los comandos son interpretados continuamente. En el caso de que se cierre la sesión, se pierden todo el código y los datos. Es bueno para probar algún comando rápidamente.\n",
    "2.  Modo fichero (modo interpretativo, ejecuta cada línea del fichero(s)): es la forma estándar de ejecutar código en Python.\n",
    "3.  Modo interactivo (Jupyter/IPython): es el formato utilizado en este fichero. A diferencia del anterior, el código se ejecuta bajo demanda del usuario y puede ejecutarse por partes.\n",
    "\n",
    "Python es _\"with wheels included\"_, es decir, incluye muchas funcionalidades de base, aunque se suele decir que existen _librerías para todo_.\n"
   ]
  },
  {
   "cell_type": "markdown",
   "metadata": {
    "id": "dGlGzjKesQFd"
   },
   "source": [
    "---\n",
    "\n",
    "**El código de Python es IDENTADO. Es decir, no existen símbolos ni palabras clave para marcar la terminación de una línea ni de un bloque (condicionales/bucles), sino que la identación es lo que define la \"pertenencia\" a las distintas estructuras, como veremos a lo largo de la asignatura.**\n",
    "\n",
    "---\n"
   ]
  },
  {
   "cell_type": "markdown",
   "metadata": {
    "id": "OCTm3ffjdVKy"
   },
   "source": [
    "# Conceptos Básicos\n"
   ]
  },
  {
   "cell_type": "markdown",
   "metadata": {
    "id": "a3RXtZf1GFXh"
   },
   "source": [
    "## Aritmética\n"
   ]
  },
  {
   "cell_type": "code",
   "execution_count": null,
   "metadata": {
    "colab": {
     "base_uri": "https://localhost:8080/"
    },
    "executionInfo": {
     "elapsed": 25,
     "status": "ok",
     "timestamp": 1667901761343,
     "user": {
      "displayName": "Ester Martínez Martín",
      "userId": "04354067800048159174"
     },
     "user_tz": -60
    },
    "id": "T-8nAG0iCAB5",
    "outputId": "eb04c93a-d078-4349-803a-27171d5e6095"
   },
   "outputs": [
    {
     "data": {
      "text/plain": [
       "3"
      ]
     },
     "execution_count": 2,
     "metadata": {},
     "output_type": "execute_result"
    }
   ],
   "source": [
    "1 + 2\n"
   ]
  },
  {
   "cell_type": "code",
   "execution_count": null,
   "metadata": {
    "colab": {
     "base_uri": "https://localhost:8080/"
    },
    "executionInfo": {
     "elapsed": 4,
     "status": "ok",
     "timestamp": 1667901761343,
     "user": {
      "displayName": "Ester Martínez Martín",
      "userId": "04354067800048159174"
     },
     "user_tz": -60
    },
    "id": "6VpMjej0I96N",
    "outputId": "ad552f7a-7033-4036-8fab-70e7ee2f1387"
   },
   "outputs": [
    {
     "data": {
      "text/plain": [
       "0"
      ]
     },
     "execution_count": 3,
     "metadata": {},
     "output_type": "execute_result"
    }
   ],
   "source": [
    "4 % 4  # resto de la división\n"
   ]
  },
  {
   "cell_type": "code",
   "execution_count": null,
   "metadata": {
    "colab": {
     "base_uri": "https://localhost:8080/"
    },
    "executionInfo": {
     "elapsed": 658,
     "status": "ok",
     "timestamp": 1667901761998,
     "user": {
      "displayName": "Ester Martínez Martín",
      "userId": "04354067800048159174"
     },
     "user_tz": -60
    },
    "id": "Uo9TcNJOJY0c",
    "outputId": "83a295e0-c2f3-406d-e90e-f70b67551fa1"
   },
   "outputs": [
    {
     "data": {
      "text/plain": [
       "3"
      ]
     },
     "execution_count": 4,
     "metadata": {},
     "output_type": "execute_result"
    }
   ],
   "source": [
    "1 * 3\n"
   ]
  },
  {
   "cell_type": "code",
   "execution_count": null,
   "metadata": {
    "colab": {
     "base_uri": "https://localhost:8080/"
    },
    "executionInfo": {
     "elapsed": 32,
     "status": "ok",
     "timestamp": 1667901761998,
     "user": {
      "displayName": "Ester Martínez Martín",
      "userId": "04354067800048159174"
     },
     "user_tz": -60
    },
    "id": "qefn6poyJc4N",
    "outputId": "c5b5e800-8131-46f8-febf-918a6cb6a6b9"
   },
   "outputs": [
    {
     "data": {
      "text/plain": [
       "0.5"
      ]
     },
     "execution_count": 5,
     "metadata": {},
     "output_type": "execute_result"
    }
   ],
   "source": [
    "1 / 2\n"
   ]
  },
  {
   "cell_type": "code",
   "execution_count": null,
   "metadata": {
    "colab": {
     "base_uri": "https://localhost:8080/"
    },
    "executionInfo": {
     "elapsed": 31,
     "status": "ok",
     "timestamp": 1667901761999,
     "user": {
      "displayName": "Ester Martínez Martín",
      "userId": "04354067800048159174"
     },
     "user_tz": -60
    },
    "id": "utzo__XPJfO7",
    "outputId": "b43b4d0d-af52-4c9d-f34c-bd7eef00a628"
   },
   "outputs": [
    {
     "data": {
      "text/plain": [
       "16"
      ]
     },
     "execution_count": 6,
     "metadata": {},
     "output_type": "execute_result"
    }
   ],
   "source": [
    "2**4  # potencia\n"
   ]
  },
  {
   "cell_type": "code",
   "execution_count": null,
   "metadata": {
    "colab": {
     "base_uri": "https://localhost:8080/"
    },
    "executionInfo": {
     "elapsed": 29,
     "status": "ok",
     "timestamp": 1667901761999,
     "user": {
      "displayName": "Ester Martínez Martín",
      "userId": "04354067800048159174"
     },
     "user_tz": -60
    },
    "id": "xw91M-PNJlxL",
    "outputId": "77219601-4503-4cf3-890e-e986b34f90ec"
   },
   "outputs": [
    {
     "data": {
      "text/plain": [
       "22"
      ]
     },
     "execution_count": 7,
     "metadata": {},
     "output_type": "execute_result"
    }
   ],
   "source": [
    "2 + 3 * 5 + 5  # precedencia de los operadores\n"
   ]
  },
  {
   "cell_type": "code",
   "execution_count": 87,
   "metadata": {
    "colab": {
     "base_uri": "https://localhost:8080/"
    },
    "executionInfo": {
     "elapsed": 28,
     "status": "ok",
     "timestamp": 1667901761999,
     "user": {
      "displayName": "Ester Martínez Martín",
      "userId": "04354067800048159174"
     },
     "user_tz": -60
    },
    "id": "F1O_VIN2Jo0V",
    "outputId": "0dc5a6d4-0729-4756-ef7f-dd64191bcb0b"
   },
   "outputs": [
    {
     "data": {
      "text/plain": [
       "50"
      ]
     },
     "execution_count": 87,
     "metadata": {},
     "output_type": "execute_result"
    }
   ],
   "source": [
    "(2 + 3) * (5 + 5)  # cambios en la precedencia de los operadores\n"
   ]
  },
  {
   "cell_type": "code",
   "execution_count": 2,
   "metadata": {
    "colab": {
     "base_uri": "https://localhost:8080/"
    },
    "executionInfo": {
     "elapsed": 27,
     "status": "ok",
     "timestamp": 1667901761999,
     "user": {
      "displayName": "Ester Martínez Martín",
      "userId": "04354067800048159174"
     },
     "user_tz": -60
    },
    "id": "Jl_iLjMhLKTI",
    "outputId": "552d4343-a775-4523-dc14-612441d318ba"
   },
   "outputs": [
    {
     "data": {
      "text/plain": [
       "3"
      ]
     },
     "execution_count": 2,
     "metadata": {},
     "output_type": "execute_result"
    }
   ],
   "source": [
    "# Redondeo hacia + infinito\n",
    "math.ceil(2.354)\n"
   ]
  },
  {
   "cell_type": "code",
   "execution_count": null,
   "metadata": {
    "colab": {
     "base_uri": "https://localhost:8080/"
    },
    "executionInfo": {
     "elapsed": 26,
     "status": "ok",
     "timestamp": 1667901761999,
     "user": {
      "displayName": "Ester Martínez Martín",
      "userId": "04354067800048159174"
     },
     "user_tz": -60
    },
    "id": "xusFtqJaLWvm",
    "outputId": "991069b9-6d9d-428d-ba43-beff68028303"
   },
   "outputs": [
    {
     "data": {
      "text/plain": [
       "2"
      ]
     },
     "execution_count": 10,
     "metadata": {},
     "output_type": "execute_result"
    }
   ],
   "source": [
    "# Redondeo hacia - infinito\n",
    "math.floor(2.354)\n"
   ]
  },
  {
   "cell_type": "code",
   "execution_count": null,
   "metadata": {
    "colab": {
     "base_uri": "https://localhost:8080/"
    },
    "executionInfo": {
     "elapsed": 26,
     "status": "ok",
     "timestamp": 1667901762000,
     "user": {
      "displayName": "Ester Martínez Martín",
      "userId": "04354067800048159174"
     },
     "user_tz": -60
    },
    "id": "mu0eNsscLnlQ",
    "outputId": "395d1ad5-d553-4668-921b-65fe06129f9e"
   },
   "outputs": [
    {
     "data": {
      "text/plain": [
       "12"
      ]
     },
     "execution_count": 11,
     "metadata": {},
     "output_type": "execute_result"
    }
   ],
   "source": [
    "# Máximo común divisor\n",
    "math.gcd(48, 60)\n"
   ]
  },
  {
   "cell_type": "code",
   "execution_count": null,
   "metadata": {
    "colab": {
     "base_uri": "https://localhost:8080/"
    },
    "executionInfo": {
     "elapsed": 25,
     "status": "ok",
     "timestamp": 1667901762000,
     "user": {
      "displayName": "Ester Martínez Martín",
      "userId": "04354067800048159174"
     },
     "user_tz": -60
    },
    "id": "VjRZnPQaMYBg",
    "outputId": "57867ca9-4ec5-4451-9835-0ab57f759f62"
   },
   "outputs": [
    {
     "data": {
      "text/plain": [
       "3.56"
      ]
     },
     "execution_count": 12,
     "metadata": {},
     "output_type": "execute_result"
    }
   ],
   "source": [
    "# Redondeo hasta x decimales\n",
    "round(3.564, 2)\n"
   ]
  },
  {
   "cell_type": "markdown",
   "metadata": {
    "id": "vECxtfZm4ajC"
   },
   "source": [
    "## Trigonometría\n"
   ]
  },
  {
   "cell_type": "markdown",
   "metadata": {
    "id": "km8huxNp4e31"
   },
   "source": [
    "Para usar funciones trigonométricas es necesario usar las librerías comentadas anteriormente. Se debe **tener en atención que ciertas constantes no son equivalentes entre las distintas librerías**.\n"
   ]
  },
  {
   "cell_type": "code",
   "execution_count": 24,
   "metadata": {
    "colab": {
     "base_uri": "https://localhost:8080/"
    },
    "executionInfo": {
     "elapsed": 24,
     "status": "ok",
     "timestamp": 1667901762000,
     "user": {
      "displayName": "Ester Martínez Martín",
      "userId": "04354067800048159174"
     },
     "user_tz": -60
    },
    "id": "yHq5eM4A5weC",
    "outputId": "15a172da-770a-406f-9594-e55c4d7785c7"
   },
   "outputs": [
    {
     "name": "stdout",
     "output_type": "stream",
     "text": [
      "True\n",
      "True\n",
      "False\n"
     ]
    }
   ],
   "source": [
    "# EJEMPLO PARA PI\n",
    "print(math.pi == np.pi)\n",
    "print(math.pi == scipy.pi)\n",
    "print(math.pi == sympy.pi)\n"
   ]
  },
  {
   "cell_type": "markdown",
   "metadata": {
    "id": "-C7lzeUTHoGw"
   },
   "source": [
    "### Constantes\n"
   ]
  },
  {
   "cell_type": "code",
   "execution_count": 26,
   "metadata": {
    "colab": {
     "base_uri": "https://localhost:8080/"
    },
    "executionInfo": {
     "elapsed": 23,
     "status": "ok",
     "timestamp": 1667901762000,
     "user": {
      "displayName": "Ester Martínez Martín",
      "userId": "04354067800048159174"
     },
     "user_tz": -60
    },
    "id": "9dQ1NCg0GSZm",
    "outputId": "ce8bba74-5325-44e4-905e-88b815f0e7ea"
   },
   "outputs": [
    {
     "name": "stdout",
     "output_type": "stream",
     "text": [
      "3.141592653589793\n",
      "2.718281828459045\n",
      "6.283185307179586\n",
      "inf\n",
      "nan\n"
     ]
    }
   ],
   "source": [
    "# pi\n",
    "print(math.pi)\n",
    "\n",
    "# Euler/Napier\n",
    "print(math.e)\n",
    "\n",
    "# 2*pi\n",
    "print(math.tau)\n",
    "\n",
    "# infinito\n",
    "print(math.inf)\n",
    "\n",
    "# no-número (not-a-number)\n",
    "print(math.nan)\n"
   ]
  },
  {
   "cell_type": "markdown",
   "metadata": {
    "id": "gt32AU9EIQK2"
   },
   "source": [
    "### Conversión\n"
   ]
  },
  {
   "cell_type": "code",
   "execution_count": 27,
   "metadata": {
    "colab": {
     "base_uri": "https://localhost:8080/"
    },
    "executionInfo": {
     "elapsed": 21,
     "status": "ok",
     "timestamp": 1667901762000,
     "user": {
      "displayName": "Ester Martínez Martín",
      "userId": "04354067800048159174"
     },
     "user_tz": -60
    },
    "id": "Rxk2FxWnISjL",
    "outputId": "6ba88106-3c1f-4572-ff70-077d5198119a"
   },
   "outputs": [
    {
     "data": {
      "text/plain": [
       "180.0"
      ]
     },
     "execution_count": 27,
     "metadata": {},
     "output_type": "execute_result"
    }
   ],
   "source": [
    "# Radianes -> Grados\n",
    "math.degrees(math.pi)\n"
   ]
  },
  {
   "cell_type": "code",
   "execution_count": 28,
   "metadata": {
    "colab": {
     "base_uri": "https://localhost:8080/"
    },
    "executionInfo": {
     "elapsed": 20,
     "status": "ok",
     "timestamp": 1667901762000,
     "user": {
      "displayName": "Ester Martínez Martín",
      "userId": "04354067800048159174"
     },
     "user_tz": -60
    },
    "id": "KKWr-8a8IdOV",
    "outputId": "ce3adc4c-6b6a-44db-bfcc-299dc642f8fb"
   },
   "outputs": [
    {
     "data": {
      "text/plain": [
       "3.141592653589793"
      ]
     },
     "execution_count": 28,
     "metadata": {},
     "output_type": "execute_result"
    }
   ],
   "source": [
    "# Grados -> Radianes\n",
    "math.radians(180)\n"
   ]
  },
  {
   "cell_type": "markdown",
   "metadata": {
    "id": "HsAykDY1H5BV"
   },
   "source": [
    "### Funciones Trigonométricas\n"
   ]
  },
  {
   "cell_type": "code",
   "execution_count": 29,
   "metadata": {
    "colab": {
     "base_uri": "https://localhost:8080/"
    },
    "executionInfo": {
     "elapsed": 20,
     "status": "ok",
     "timestamp": 1667901762001,
     "user": {
      "displayName": "Ester Martínez Martín",
      "userId": "04354067800048159174"
     },
     "user_tz": -60
    },
    "id": "babck2GO5_e2",
    "outputId": "173d100e-82c2-4c93-d829-cdbbdce304d5"
   },
   "outputs": [
    {
     "data": {
      "text/plain": [
       "0.5403023058681398"
      ]
     },
     "execution_count": 29,
     "metadata": {},
     "output_type": "execute_result"
    }
   ],
   "source": [
    "# coseno -> resultado en RADIANES\n",
    "math.cos(1)\n"
   ]
  },
  {
   "cell_type": "code",
   "execution_count": 31,
   "metadata": {
    "colab": {
     "base_uri": "https://localhost:8080/"
    },
    "executionInfo": {
     "elapsed": 20,
     "status": "ok",
     "timestamp": 1667901762001,
     "user": {
      "displayName": "Ester Martínez Martín",
      "userId": "04354067800048159174"
     },
     "user_tz": -60
    },
    "id": "kpk4K7Z96TEL",
    "outputId": "39e1f472-5d4f-4a8f-f908-847466af94b1"
   },
   "outputs": [
    {
     "data": {
      "text/plain": [
       "0.8414709848078965"
      ]
     },
     "execution_count": 31,
     "metadata": {},
     "output_type": "execute_result"
    }
   ],
   "source": [
    "# seno\n",
    "math.sin(1)\n"
   ]
  },
  {
   "cell_type": "code",
   "execution_count": 32,
   "metadata": {
    "colab": {
     "base_uri": "https://localhost:8080/"
    },
    "executionInfo": {
     "elapsed": 19,
     "status": "ok",
     "timestamp": 1667901762001,
     "user": {
      "displayName": "Ester Martínez Martín",
      "userId": "04354067800048159174"
     },
     "user_tz": -60
    },
    "id": "Kp8OJb5x6Zi5",
    "outputId": "48824edc-dba8-4a4d-eab5-c49236904ebf"
   },
   "outputs": [
    {
     "data": {
      "text/plain": [
       "1.5574077246549023"
      ]
     },
     "execution_count": 32,
     "metadata": {},
     "output_type": "execute_result"
    }
   ],
   "source": [
    "# tangente\n",
    "math.tan(1)\n"
   ]
  },
  {
   "cell_type": "code",
   "execution_count": 33,
   "metadata": {
    "colab": {
     "base_uri": "https://localhost:8080/"
    },
    "executionInfo": {
     "elapsed": 18,
     "status": "ok",
     "timestamp": 1667901762001,
     "user": {
      "displayName": "Ester Martínez Martín",
      "userId": "04354067800048159174"
     },
     "user_tz": -60
    },
    "id": "aYAbGr0163UG",
    "outputId": "64a4fc47-7235-4a27-8cd7-0c9564cd7344"
   },
   "outputs": [
    {
     "data": {
      "text/plain": [
       "1.0471975511965979"
      ]
     },
     "execution_count": 33,
     "metadata": {},
     "output_type": "execute_result"
    }
   ],
   "source": [
    "# arcocoseno -> en radianes, entre 0 y pi\n",
    "math.acos(0.5)\n"
   ]
  },
  {
   "cell_type": "code",
   "execution_count": 34,
   "metadata": {
    "colab": {
     "base_uri": "https://localhost:8080/"
    },
    "executionInfo": {
     "elapsed": 16,
     "status": "ok",
     "timestamp": 1667901762001,
     "user": {
      "displayName": "Ester Martínez Martín",
      "userId": "04354067800048159174"
     },
     "user_tz": -60
    },
    "id": "2EAFdqve8tJ5",
    "outputId": "cec61b98-fd6e-4bb1-c723-62760f6ed33a"
   },
   "outputs": [
    {
     "data": {
      "text/plain": [
       "0.5235987755982989"
      ]
     },
     "execution_count": 34,
     "metadata": {},
     "output_type": "execute_result"
    }
   ],
   "source": [
    "# arcoseno -> en radianes, entre -pi/2 y pi/2\n",
    "math.asin(0.5)\n"
   ]
  },
  {
   "cell_type": "code",
   "execution_count": 35,
   "metadata": {
    "colab": {
     "base_uri": "https://localhost:8080/"
    },
    "executionInfo": {
     "elapsed": 15,
     "status": "ok",
     "timestamp": 1667901762001,
     "user": {
      "displayName": "Ester Martínez Martín",
      "userId": "04354067800048159174"
     },
     "user_tz": -60
    },
    "id": "oxXQF4nL88ce",
    "outputId": "0bf51cff-5fd1-4592-eda8-765d9389d816"
   },
   "outputs": [
    {
     "data": {
      "text/plain": [
       "0.4636476090008061"
      ]
     },
     "execution_count": 35,
     "metadata": {},
     "output_type": "execute_result"
    }
   ],
   "source": [
    "# arcotangente -> en radianes, entre -pi/2 y pi/2\n",
    "math.atan(0.5)\n"
   ]
  },
  {
   "cell_type": "markdown",
   "metadata": {
    "id": "MzIFQsOCICYX"
   },
   "source": [
    "### Funciones Hiperbólicas\n"
   ]
  },
  {
   "cell_type": "code",
   "execution_count": 36,
   "metadata": {
    "colab": {
     "base_uri": "https://localhost:8080/"
    },
    "executionInfo": {
     "elapsed": 15,
     "status": "ok",
     "timestamp": 1667901762001,
     "user": {
      "displayName": "Ester Martínez Martín",
      "userId": "04354067800048159174"
     },
     "user_tz": -60
    },
    "id": "AlHjmWDwDrB9",
    "outputId": "82fce229-46c0-494b-fdc2-0ba4727e3109"
   },
   "outputs": [
    {
     "data": {
      "text/plain": [
       "0.0"
      ]
     },
     "execution_count": 36,
     "metadata": {},
     "output_type": "execute_result"
    }
   ],
   "source": [
    "# arcocoseno hiperbolico\n",
    "math.acosh(1)\n"
   ]
  },
  {
   "cell_type": "code",
   "execution_count": 37,
   "metadata": {
    "colab": {
     "base_uri": "https://localhost:8080/"
    },
    "executionInfo": {
     "elapsed": 14,
     "status": "ok",
     "timestamp": 1667901762001,
     "user": {
      "displayName": "Ester Martínez Martín",
      "userId": "04354067800048159174"
     },
     "user_tz": -60
    },
    "id": "XbfLbasjFCJU",
    "outputId": "fa39d5a3-6f42-4001-b232-62937089c920"
   },
   "outputs": [
    {
     "data": {
      "text/plain": [
       "0.8813735870195429"
      ]
     },
     "execution_count": 37,
     "metadata": {},
     "output_type": "execute_result"
    }
   ],
   "source": [
    "# arcoseno hiperbolico\n",
    "math.asinh(1)\n"
   ]
  },
  {
   "cell_type": "code",
   "execution_count": 38,
   "metadata": {
    "colab": {
     "base_uri": "https://localhost:8080/"
    },
    "executionInfo": {
     "elapsed": 14,
     "status": "ok",
     "timestamp": 1667901762002,
     "user": {
      "displayName": "Ester Martínez Martín",
      "userId": "04354067800048159174"
     },
     "user_tz": -60
    },
    "id": "-qxwt2I4FD_L",
    "outputId": "99e84b6b-356a-4315-9e0a-b4b95077bcfc"
   },
   "outputs": [
    {
     "data": {
      "text/plain": [
       "0.5493061443340549"
      ]
     },
     "execution_count": 38,
     "metadata": {},
     "output_type": "execute_result"
    }
   ],
   "source": [
    "# arcotangente hiperbolica\n",
    "math.atanh(0.5)\n"
   ]
  },
  {
   "cell_type": "code",
   "execution_count": 39,
   "metadata": {
    "colab": {
     "base_uri": "https://localhost:8080/"
    },
    "executionInfo": {
     "elapsed": 13,
     "status": "ok",
     "timestamp": 1667901762002,
     "user": {
      "displayName": "Ester Martínez Martín",
      "userId": "04354067800048159174"
     },
     "user_tz": -60
    },
    "id": "p79RQMzIFIxs",
    "outputId": "a55a2d9c-9421-4daf-e367-6203f652650e"
   },
   "outputs": [
    {
     "data": {
      "text/plain": [
       "1.5430806348152437"
      ]
     },
     "execution_count": 39,
     "metadata": {},
     "output_type": "execute_result"
    }
   ],
   "source": [
    "# coseno hiperbolico\n",
    "math.cosh(1)\n"
   ]
  },
  {
   "cell_type": "code",
   "execution_count": 40,
   "metadata": {
    "colab": {
     "base_uri": "https://localhost:8080/"
    },
    "executionInfo": {
     "elapsed": 11,
     "status": "ok",
     "timestamp": 1667901762002,
     "user": {
      "displayName": "Ester Martínez Martín",
      "userId": "04354067800048159174"
     },
     "user_tz": -60
    },
    "id": "Vsw-70CjFpfF",
    "outputId": "97ee61a4-1dfe-455a-8fdb-bab6d1736e9d"
   },
   "outputs": [
    {
     "data": {
      "text/plain": [
       "1.1752011936438014"
      ]
     },
     "execution_count": 40,
     "metadata": {},
     "output_type": "execute_result"
    }
   ],
   "source": [
    "# seno hiperbolico\n",
    "math.sinh(1)\n"
   ]
  },
  {
   "cell_type": "code",
   "execution_count": 41,
   "metadata": {
    "colab": {
     "base_uri": "https://localhost:8080/"
    },
    "executionInfo": {
     "elapsed": 10,
     "status": "ok",
     "timestamp": 1667901762002,
     "user": {
      "displayName": "Ester Martínez Martín",
      "userId": "04354067800048159174"
     },
     "user_tz": -60
    },
    "id": "rWdf472HFrnu",
    "outputId": "3a0b75fb-0f6f-449d-df4a-1aa036ea38ed"
   },
   "outputs": [
    {
     "data": {
      "text/plain": [
       "0.7615941559557649"
      ]
     },
     "execution_count": 41,
     "metadata": {},
     "output_type": "execute_result"
    }
   ],
   "source": [
    "# tangente hiperbolica\n",
    "math.tanh(1)\n"
   ]
  },
  {
   "cell_type": "markdown",
   "metadata": {
    "id": "qXds3IBpJQWq"
   },
   "source": [
    "### Potencias y logaritmos\n"
   ]
  },
  {
   "cell_type": "code",
   "execution_count": 42,
   "metadata": {
    "colab": {
     "base_uri": "https://localhost:8080/"
    },
    "executionInfo": {
     "elapsed": 10,
     "status": "ok",
     "timestamp": 1667901762003,
     "user": {
      "displayName": "Ester Martínez Martín",
      "userId": "04354067800048159174"
     },
     "user_tz": -60
    },
    "id": "lf1kOU--JVU-",
    "outputId": "f40a8fd0-756d-4b02-92fa-9fb93cc150bf"
   },
   "outputs": [
    {
     "data": {
      "text/plain": [
       "2.718281828459045"
      ]
     },
     "execution_count": 42,
     "metadata": {},
     "output_type": "execute_result"
    }
   ],
   "source": [
    "# Exponencial\n",
    "math.exp(1)\n"
   ]
  },
  {
   "cell_type": "code",
   "execution_count": 44,
   "metadata": {
    "colab": {
     "base_uri": "https://localhost:8080/"
    },
    "executionInfo": {
     "elapsed": 9,
     "status": "ok",
     "timestamp": 1667901762003,
     "user": {
      "displayName": "Ester Martínez Martín",
      "userId": "04354067800048159174"
     },
     "user_tz": -60
    },
    "id": "TSwonveZKQot",
    "outputId": "673744fc-6d89-4b19-f531-2f54efb7195c"
   },
   "outputs": [
    {
     "data": {
      "text/plain": [
       "0.6931471805599453"
      ]
     },
     "execution_count": 44,
     "metadata": {},
     "output_type": "execute_result"
    }
   ],
   "source": [
    "# Logaritmo\n",
    "# math.log(x[, base])\n",
    "# Con 1 argumento tiene base \"e\"\n",
    "# Con 2 argumentos se calcula como log(x)/log(base)\n",
    "math.log(2)\n"
   ]
  },
  {
   "cell_type": "code",
   "execution_count": 46,
   "metadata": {
    "colab": {
     "base_uri": "https://localhost:8080/"
    },
    "executionInfo": {
     "elapsed": 8,
     "status": "ok",
     "timestamp": 1667901762003,
     "user": {
      "displayName": "Ester Martínez Martín",
      "userId": "04354067800048159174"
     },
     "user_tz": -60
    },
    "id": "luJEDZMnKTug",
    "outputId": "78bb43dc-17e3-46c3-df2f-7fc36119f6b4"
   },
   "outputs": [
    {
     "data": {
      "text/plain": [
       "0.43067655807339306"
      ]
     },
     "execution_count": 46,
     "metadata": {},
     "output_type": "execute_result"
    }
   ],
   "source": [
    "math.log(2, 5)\n"
   ]
  },
  {
   "cell_type": "code",
   "execution_count": 47,
   "metadata": {
    "colab": {
     "base_uri": "https://localhost:8080/"
    },
    "executionInfo": {
     "elapsed": 17,
     "status": "ok",
     "timestamp": 1667901762394,
     "user": {
      "displayName": "Ester Martínez Martín",
      "userId": "04354067800048159174"
     },
     "user_tz": -60
    },
    "id": "rIgZMkpsKUXh",
    "outputId": "ea8d71d6-49cf-46f5-a761-53d5865984f0"
   },
   "outputs": [
    {
     "data": {
      "text/plain": [
       "0.3010299956639812"
      ]
     },
     "execution_count": 47,
     "metadata": {},
     "output_type": "execute_result"
    }
   ],
   "source": [
    "# Logaritmo base 10\n",
    "math.log10(2)\n"
   ]
  },
  {
   "cell_type": "code",
   "execution_count": 48,
   "metadata": {
    "colab": {
     "base_uri": "https://localhost:8080/"
    },
    "executionInfo": {
     "elapsed": 16,
     "status": "ok",
     "timestamp": 1667901762395,
     "user": {
      "displayName": "Ester Martínez Martín",
      "userId": "04354067800048159174"
     },
     "user_tz": -60
    },
    "id": "X8edA_g5Kcn9",
    "outputId": "209e34df-dd3f-486d-ccf9-c6d248a2eea4"
   },
   "outputs": [
    {
     "data": {
      "text/plain": [
       "9.0"
      ]
     },
     "execution_count": 48,
     "metadata": {},
     "output_type": "execute_result"
    }
   ],
   "source": [
    "# Potencia\n",
    "math.pow(3, 2)  # devuelve float\n"
   ]
  },
  {
   "cell_type": "code",
   "execution_count": 49,
   "metadata": {
    "colab": {
     "base_uri": "https://localhost:8080/"
    },
    "executionInfo": {
     "elapsed": 14,
     "status": "ok",
     "timestamp": 1667901762395,
     "user": {
      "displayName": "Ester Martínez Martín",
      "userId": "04354067800048159174"
     },
     "user_tz": -60
    },
    "id": "VIWomdW7KiLV",
    "outputId": "88962b9a-2131-4eaf-f263-7b0f1fdd5b62"
   },
   "outputs": [
    {
     "data": {
      "text/plain": [
       "1.4142135623730951"
      ]
     },
     "execution_count": 49,
     "metadata": {},
     "output_type": "execute_result"
    }
   ],
   "source": [
    "# Raíz cuadrada\n",
    "math.sqrt(2)\n"
   ]
  },
  {
   "cell_type": "markdown",
   "metadata": {
    "id": "WM-TGBF4J2xk"
   },
   "source": [
    "## Definición de variables\n",
    "\n",
    "Los nombres de las variables no pueden empezar con caracteres especiales ni con números\n"
   ]
  },
  {
   "cell_type": "code",
   "execution_count": 50,
   "metadata": {
    "colab": {
     "base_uri": "https://localhost:8080/"
    },
    "executionInfo": {
     "elapsed": 13,
     "status": "ok",
     "timestamp": 1667901762395,
     "user": {
      "displayName": "Ester Martínez Martín",
      "userId": "04354067800048159174"
     },
     "user_tz": -60
    },
    "id": "_o_FzpaGJ7q2",
    "outputId": "4f609fa8-cf31-4e5e-d7e0-08aa6718dff4"
   },
   "outputs": [
    {
     "data": {
      "text/plain": [
       "5"
      ]
     },
     "execution_count": 50,
     "metadata": {},
     "output_type": "execute_result"
    }
   ],
   "source": [
    "name_of_var = 2\n",
    "x = 2\n",
    "y = 3\n",
    "z = x + y\n",
    "z\n"
   ]
  },
  {
   "cell_type": "markdown",
   "metadata": {
    "id": "EiOEoyk-J_4m"
   },
   "source": [
    "## Cadena de caracteres\n",
    "\n",
    "Pueden escribirse entre comillas simples o comillas dobles y pueden incluir comillas simples cuando van entre comillas dobles.\n"
   ]
  },
  {
   "cell_type": "code",
   "execution_count": 51,
   "metadata": {
    "colab": {
     "base_uri": "https://localhost:8080/",
     "height": 36
    },
    "executionInfo": {
     "elapsed": 13,
     "status": "ok",
     "timestamp": 1667901762396,
     "user": {
      "displayName": "Ester Martínez Martín",
      "userId": "04354067800048159174"
     },
     "user_tz": -60
    },
    "id": "s2vNNJ5ZKCD4",
    "outputId": "51f7987e-5f25-4706-89b2-912c0461b2c6"
   },
   "outputs": [
    {
     "data": {
      "text/plain": [
       "'hola soy yo, el trueno'"
      ]
     },
     "execution_count": 51,
     "metadata": {},
     "output_type": "execute_result"
    }
   ],
   "source": [
    "\"una frase\"\n",
    "\"otra frase\"\n",
    "\"otra's frase\"\n",
    "\"HoLa SoY YO, el tRueno\".lower()\n"
   ]
  },
  {
   "cell_type": "code",
   "execution_count": 52,
   "metadata": {
    "colab": {
     "base_uri": "https://localhost:8080/"
    },
    "executionInfo": {
     "elapsed": 12,
     "status": "ok",
     "timestamp": 1667901762396,
     "user": {
      "displayName": "Ester Martínez Martín",
      "userId": "04354067800048159174"
     },
     "user_tz": -60
    },
    "id": "LXH4CLJwLzOU",
    "outputId": "af6fa56b-41f6-4bf4-df14-5b94d5be88f0"
   },
   "outputs": [
    {
     "name": "stdout",
     "output_type": "stream",
     "text": [
      "Mi número es: 12, y mi nombre es: Sam\n"
     ]
    }
   ],
   "source": [
    "num = 12\n",
    "name = \"Sam\"\n",
    "print(\"Mi número es: {one}, y mi nombre es: {two}\".format(one=num, two=name))\n"
   ]
  },
  {
   "cell_type": "code",
   "execution_count": 53,
   "metadata": {
    "colab": {
     "base_uri": "https://localhost:8080/",
     "height": 36
    },
    "executionInfo": {
     "elapsed": 11,
     "status": "ok",
     "timestamp": 1667901762396,
     "user": {
      "displayName": "Ester Martínez Martín",
      "userId": "04354067800048159174"
     },
     "user_tz": -60
    },
    "id": "O0b8a7_qMDlK",
    "outputId": "02763712-3e7c-44dd-b61c-6c08dbb89629"
   },
   "outputs": [
    {
     "data": {
      "text/plain": [
       "'Mi número es: 12, y mi nombre es: Sam'"
      ]
     },
     "execution_count": 53,
     "metadata": {},
     "output_type": "execute_result"
    }
   ],
   "source": [
    "\"Mi número es: {}, y mi nombre es: {}\".format(num, name)\n"
   ]
  },
  {
   "cell_type": "code",
   "execution_count": 54,
   "metadata": {
    "colab": {
     "base_uri": "https://localhost:8080/",
     "height": 36
    },
    "executionInfo": {
     "elapsed": 10,
     "status": "ok",
     "timestamp": 1667901762396,
     "user": {
      "displayName": "Ester Martínez Martín",
      "userId": "04354067800048159174"
     },
     "user_tz": -60
    },
    "id": "fUXQVdNGMNwr",
    "outputId": "6269cf6c-e2d4-40a5-f6d5-26def4e1aaab"
   },
   "outputs": [
    {
     "data": {
      "text/plain": [
       "'Mi número es: 12, y mi nombre es: Sam'"
      ]
     },
     "execution_count": 54,
     "metadata": {},
     "output_type": "execute_result"
    }
   ],
   "source": [
    "f\"Mi número es: {num}, y mi nombre es: {name}\"\n"
   ]
  },
  {
   "cell_type": "markdown",
   "metadata": {
    "id": "-T2U1W2AMWV-"
   },
   "source": [
    "## Mostrar por pantalla\n",
    "\n",
    "Cuando se usa Jupyter no es necesario utilizar el comando _print_\n"
   ]
  },
  {
   "cell_type": "code",
   "execution_count": 55,
   "metadata": {
    "colab": {
     "base_uri": "https://localhost:8080/"
    },
    "executionInfo": {
     "elapsed": 10,
     "status": "ok",
     "timestamp": 1667901762396,
     "user": {
      "displayName": "Ester Martínez Martín",
      "userId": "04354067800048159174"
     },
     "user_tz": -60
    },
    "id": "iSvlMjhUMYum",
    "outputId": "d5eccee1-e14d-48ab-ede0-15aaa06bfcdd"
   },
   "outputs": [
    {
     "name": "stdout",
     "output_type": "stream",
     "text": [
      "Hola\n"
     ]
    }
   ],
   "source": [
    "print(\"Hola\")\n"
   ]
  },
  {
   "cell_type": "code",
   "execution_count": 56,
   "metadata": {
    "colab": {
     "base_uri": "https://localhost:8080/"
    },
    "executionInfo": {
     "elapsed": 9,
     "status": "ok",
     "timestamp": 1667901762396,
     "user": {
      "displayName": "Ester Martínez Martín",
      "userId": "04354067800048159174"
     },
     "user_tz": -60
    },
    "id": "LqKi55c2Ml8B",
    "outputId": "fc3d51ce-b8a5-4fa2-e40b-588013fd3d69"
   },
   "outputs": [
    {
     "name": "stdout",
     "output_type": "stream",
     "text": [
      "Hola mundo\n"
     ]
    }
   ],
   "source": [
    "print(\"Hola\", \"mundo\")\n"
   ]
  },
  {
   "cell_type": "code",
   "execution_count": 57,
   "metadata": {
    "colab": {
     "base_uri": "https://localhost:8080/"
    },
    "executionInfo": {
     "elapsed": 8,
     "status": "ok",
     "timestamp": 1667901762396,
     "user": {
      "displayName": "Ester Martínez Martín",
      "userId": "04354067800048159174"
     },
     "user_tz": -60
    },
    "id": "n_5HYJwBMrGg",
    "outputId": "516c0032-f496-4e10-9dc7-dd8045e60036"
   },
   "outputs": [
    {
     "name": "stdout",
     "output_type": "stream",
     "text": [
      "Hola :: mundo\n"
     ]
    }
   ],
   "source": [
    "print(\"Hola\", \"mundo\", sep=\" :: \")\n"
   ]
  },
  {
   "cell_type": "markdown",
   "metadata": {
    "id": "BfBmFL-bNR2c"
   },
   "source": [
    "## Listas\n"
   ]
  },
  {
   "cell_type": "code",
   "execution_count": 58,
   "metadata": {
    "colab": {
     "base_uri": "https://localhost:8080/"
    },
    "executionInfo": {
     "elapsed": 33,
     "status": "ok",
     "timestamp": 1667901763417,
     "user": {
      "displayName": "Ester Martínez Martín",
      "userId": "04354067800048159174"
     },
     "user_tz": -60
    },
    "id": "f7E-10-gNRbG",
    "outputId": "48e3a84f-1acc-40e2-8f64-f3e006b64a6f"
   },
   "outputs": [
    {
     "data": {
      "text/plain": [
       "[1, 2, 3]"
      ]
     },
     "execution_count": 58,
     "metadata": {},
     "output_type": "execute_result"
    }
   ],
   "source": [
    "[1, 2, 3]\n"
   ]
  },
  {
   "cell_type": "code",
   "execution_count": 59,
   "metadata": {
    "colab": {
     "base_uri": "https://localhost:8080/"
    },
    "executionInfo": {
     "elapsed": 32,
     "status": "ok",
     "timestamp": 1667901763418,
     "user": {
      "displayName": "Ester Martínez Martín",
      "userId": "04354067800048159174"
     },
     "user_tz": -60
    },
    "id": "awHQmXa7NWm7",
    "outputId": "1e8dafc0-4a1d-41a9-827e-bc0e19839d1b"
   },
   "outputs": [
    {
     "data": {
      "text/plain": [
       "['hi', 1, [1, 2]]"
      ]
     },
     "execution_count": 59,
     "metadata": {},
     "output_type": "execute_result"
    }
   ],
   "source": [
    "[\"hi\", 1, [1, 2]]\n"
   ]
  },
  {
   "cell_type": "code",
   "execution_count": 60,
   "metadata": {
    "colab": {
     "base_uri": "https://localhost:8080/"
    },
    "executionInfo": {
     "elapsed": 30,
     "status": "ok",
     "timestamp": 1667901763418,
     "user": {
      "displayName": "Ester Martínez Martín",
      "userId": "04354067800048159174"
     },
     "user_tz": -60
    },
    "id": "4IdR69NmNYnn",
    "outputId": "ae25cfa2-94ed-4ae8-c3a3-f7e803a1c506"
   },
   "outputs": [
    {
     "data": {
      "text/plain": [
       "['a', 'b', 'c', 'd']"
      ]
     },
     "execution_count": 60,
     "metadata": {},
     "output_type": "execute_result"
    }
   ],
   "source": [
    "my_list = [\"a\", \"b\", \"c\"]\n",
    "my_list.append(\"d\")\n",
    "my_list\n"
   ]
  },
  {
   "cell_type": "code",
   "execution_count": 61,
   "metadata": {
    "colab": {
     "base_uri": "https://localhost:8080/",
     "height": 36
    },
    "executionInfo": {
     "elapsed": 29,
     "status": "ok",
     "timestamp": 1667901763418,
     "user": {
      "displayName": "Ester Martínez Martín",
      "userId": "04354067800048159174"
     },
     "user_tz": -60
    },
    "id": "OnwhCTwtNcRa",
    "outputId": "48b481a3-03d4-4ffc-b318-c35a2ff791e0"
   },
   "outputs": [
    {
     "data": {
      "text/plain": [
       "'a'"
      ]
     },
     "execution_count": 61,
     "metadata": {},
     "output_type": "execute_result"
    }
   ],
   "source": [
    "my_list[0]\n"
   ]
  },
  {
   "cell_type": "code",
   "execution_count": 62,
   "metadata": {
    "colab": {
     "base_uri": "https://localhost:8080/",
     "height": 36
    },
    "executionInfo": {
     "elapsed": 28,
     "status": "ok",
     "timestamp": 1667901763418,
     "user": {
      "displayName": "Ester Martínez Martín",
      "userId": "04354067800048159174"
     },
     "user_tz": -60
    },
    "id": "fwWOCaQ2Nf3j",
    "outputId": "67d86979-1dc2-4c20-8286-b6b1970a4fd6"
   },
   "outputs": [
    {
     "data": {
      "text/plain": [
       "'c'"
      ]
     },
     "execution_count": 62,
     "metadata": {},
     "output_type": "execute_result"
    }
   ],
   "source": [
    "my_list[2]\n"
   ]
  },
  {
   "cell_type": "markdown",
   "metadata": {
    "id": "s_sTCK-8OIrj"
   },
   "source": [
    "El operador `:` permite definir un rango de valores. Este operador suele utilizarse para definir los índices de los elementos de una lista que queremos obtener. Así, por ejemplo:\n",
    "\n",
    "`0:3` define una lista que comprende desde el 0 hasta el 2, por lo que los elementos que nos devolverá será los correspondientes a las posiciones 0, 1 y 2(la posición 3 no se incluye).\n",
    "\n",
    "`1:` va desde la posición 1 hasta el final\n",
    "\n",
    "`:3` va desde la posición 0 hasta la 2\n"
   ]
  },
  {
   "cell_type": "code",
   "execution_count": 63,
   "metadata": {
    "colab": {
     "base_uri": "https://localhost:8080/"
    },
    "executionInfo": {
     "elapsed": 28,
     "status": "ok",
     "timestamp": 1667901763419,
     "user": {
      "displayName": "Ester Martínez Martín",
      "userId": "04354067800048159174"
     },
     "user_tz": -60
    },
    "id": "i6QqHKPnNjye",
    "outputId": "783c500d-1228-4c31-f4a2-6f0e8306303d"
   },
   "outputs": [
    {
     "data": {
      "text/plain": [
       "['b', 'c', 'd']"
      ]
     },
     "execution_count": 63,
     "metadata": {},
     "output_type": "execute_result"
    }
   ],
   "source": [
    "my_list[1:]  # Extracto de la lista my_list['a', 'b', 'c', 'd']\n"
   ]
  },
  {
   "cell_type": "code",
   "execution_count": 64,
   "metadata": {
    "colab": {
     "base_uri": "https://localhost:8080/"
    },
    "executionInfo": {
     "elapsed": 27,
     "status": "ok",
     "timestamp": 1667901763419,
     "user": {
      "displayName": "Ester Martínez Martín",
      "userId": "04354067800048159174"
     },
     "user_tz": -60
    },
    "id": "Xub9RjbeNpRv",
    "outputId": "86ac1105-882b-40eb-c59e-b4c2acd07b32"
   },
   "outputs": [
    {
     "data": {
      "text/plain": [
       "['a', 'b']"
      ]
     },
     "execution_count": 64,
     "metadata": {},
     "output_type": "execute_result"
    }
   ],
   "source": [
    "my_list[:2]\n"
   ]
  },
  {
   "cell_type": "code",
   "execution_count": 65,
   "metadata": {
    "colab": {
     "base_uri": "https://localhost:8080/"
    },
    "executionInfo": {
     "elapsed": 26,
     "status": "ok",
     "timestamp": 1667901763419,
     "user": {
      "displayName": "Ester Martínez Martín",
      "userId": "04354067800048159174"
     },
     "user_tz": -60
    },
    "id": "X8vb8aLrNq8h",
    "outputId": "c315831b-5081-404e-9efb-d691fc6406e3"
   },
   "outputs": [
    {
     "data": {
      "text/plain": [
       "['c', 'd']"
      ]
     },
     "execution_count": 65,
     "metadata": {},
     "output_type": "execute_result"
    }
   ],
   "source": [
    "my_list[2:4]\n"
   ]
  },
  {
   "cell_type": "code",
   "execution_count": 66,
   "metadata": {
    "colab": {
     "base_uri": "https://localhost:8080/"
    },
    "executionInfo": {
     "elapsed": 25,
     "status": "ok",
     "timestamp": 1667901763419,
     "user": {
      "displayName": "Ester Martínez Martín",
      "userId": "04354067800048159174"
     },
     "user_tz": -60
    },
    "id": "UyuMnwhUNwij",
    "outputId": "5d8bcbba-2e9a-46a6-e2ee-ae533c33799f"
   },
   "outputs": [
    {
     "data": {
      "text/plain": [
       "['NEW', 'b', 'c', 'd']"
      ]
     },
     "execution_count": 66,
     "metadata": {},
     "output_type": "execute_result"
    }
   ],
   "source": [
    "my_list[0] = \"NEW\"  # cambia el valor existente\n",
    "my_list\n"
   ]
  },
  {
   "cell_type": "code",
   "execution_count": 67,
   "metadata": {
    "colab": {
     "base_uri": "https://localhost:8080/"
    },
    "executionInfo": {
     "elapsed": 24,
     "status": "ok",
     "timestamp": 1667901763419,
     "user": {
      "displayName": "Ester Martínez Martín",
      "userId": "04354067800048159174"
     },
     "user_tz": -60
    },
    "id": "Q0_8agy3N0fJ",
    "outputId": "00ab9e93-1d90-404e-ae7a-8b2e6d0fae28"
   },
   "outputs": [
    {
     "data": {
      "text/plain": [
       "[4, 5, ['target']]"
      ]
     },
     "execution_count": 67,
     "metadata": {},
     "output_type": "execute_result"
    }
   ],
   "source": [
    "nest = [1, 2, 3, [4, 5, [\"target\"]]]  # listas de listas\n",
    "nest[3]\n"
   ]
  },
  {
   "cell_type": "code",
   "execution_count": 71,
   "metadata": {
    "colab": {
     "base_uri": "https://localhost:8080/"
    },
    "executionInfo": {
     "elapsed": 23,
     "status": "ok",
     "timestamp": 1667901763419,
     "user": {
      "displayName": "Ester Martínez Martín",
      "userId": "04354067800048159174"
     },
     "user_tz": -60
    },
    "id": "AWW_ojkrN-Cu",
    "outputId": "956f536e-595a-40bf-be71-668f757834dc"
   },
   "outputs": [
    {
     "data": {
      "text/plain": [
       "['target']"
      ]
     },
     "execution_count": 71,
     "metadata": {},
     "output_type": "execute_result"
    }
   ],
   "source": [
    "nest[3][2]  # acceso a elementos de listas de listas\n"
   ]
  },
  {
   "cell_type": "code",
   "execution_count": 72,
   "metadata": {
    "colab": {
     "base_uri": "https://localhost:8080/",
     "height": 36
    },
    "executionInfo": {
     "elapsed": 23,
     "status": "ok",
     "timestamp": 1667901763420,
     "user": {
      "displayName": "Ester Martínez Martín",
      "userId": "04354067800048159174"
     },
     "user_tz": -60
    },
    "id": "UATnRjj3N_H-",
    "outputId": "75af90d9-f4f7-494c-9049-06485adf9ecc"
   },
   "outputs": [
    {
     "data": {
      "text/plain": [
       "'target'"
      ]
     },
     "execution_count": 72,
     "metadata": {},
     "output_type": "execute_result"
    }
   ],
   "source": [
    "nest[3][2][0]  # acceso a elementos de listas de listas\n"
   ]
  },
  {
   "cell_type": "code",
   "execution_count": 73,
   "metadata": {
    "colab": {
     "base_uri": "https://localhost:8080/",
     "height": 36
    },
    "executionInfo": {
     "elapsed": 23,
     "status": "ok",
     "timestamp": 1667901763420,
     "user": {
      "displayName": "Ester Martínez Martín",
      "userId": "04354067800048159174"
     },
     "user_tz": -60
    },
    "id": "53oYGnqwOA-6",
    "outputId": "42523873-fa02-4c25-ff37-fec188abdfba"
   },
   "outputs": [
    {
     "data": {
      "text/plain": [
       "'g'"
      ]
     },
     "execution_count": 73,
     "metadata": {},
     "output_type": "execute_result"
    }
   ],
   "source": [
    "# los caracteres de las cadenas de caracteres se acceden como las listas\n",
    "nest[3][2][0][3]\n"
   ]
  },
  {
   "cell_type": "code",
   "execution_count": 74,
   "metadata": {
    "colab": {
     "base_uri": "https://localhost:8080/"
    },
    "executionInfo": {
     "elapsed": 22,
     "status": "ok",
     "timestamp": 1667901763420,
     "user": {
      "displayName": "Ester Martínez Martín",
      "userId": "04354067800048159174"
     },
     "user_tz": -60
    },
    "id": "Jx4E_ZF8wouU",
    "outputId": "1a2cf0cd-e1c4-4a8b-d043-5e08e7b1eca1"
   },
   "outputs": [
    {
     "data": {
      "text/plain": [
       "[0, 1, 2, 3, 4]"
      ]
     },
     "execution_count": 74,
     "metadata": {},
     "output_type": "execute_result"
    }
   ],
   "source": [
    "list(range(5))\n"
   ]
  },
  {
   "cell_type": "markdown",
   "metadata": {
    "id": "WtjUfVzXOScr"
   },
   "source": [
    "## Diccionarios\n",
    "\n",
    "Definen un conjunto de elementos que tienen la estructura `\"clave\":\"item\"`\n"
   ]
  },
  {
   "cell_type": "code",
   "execution_count": 75,
   "metadata": {
    "colab": {
     "base_uri": "https://localhost:8080/",
     "height": 36
    },
    "executionInfo": {
     "elapsed": 21,
     "status": "ok",
     "timestamp": 1667901763420,
     "user": {
      "displayName": "Ester Martínez Martín",
      "userId": "04354067800048159174"
     },
     "user_tz": -60
    },
    "id": "MXBMIAp8OgPU",
    "outputId": "963f1e54-b3b9-4515-bd85-5579b51c961e"
   },
   "outputs": [
    {
     "data": {
      "text/plain": [
       "'item1'"
      ]
     },
     "execution_count": 75,
     "metadata": {},
     "output_type": "execute_result"
    }
   ],
   "source": [
    "d = {\"key1\": \"item1\", \"key2\": \"item2\"}\n",
    "d[\"key1\"]\n"
   ]
  },
  {
   "cell_type": "code",
   "execution_count": 76,
   "metadata": {
    "colab": {
     "base_uri": "https://localhost:8080/"
    },
    "executionInfo": {
     "elapsed": 21,
     "status": "ok",
     "timestamp": 1667901763420,
     "user": {
      "displayName": "Ester Martínez Martín",
      "userId": "04354067800048159174"
     },
     "user_tz": -60
    },
    "id": "bWsYdhWaOkIz",
    "outputId": "fad45ff0-cfed-43c0-d720-39622fd39c20"
   },
   "outputs": [
    {
     "data": {
      "text/plain": [
       "dict_keys(['key1', 'key2'])"
      ]
     },
     "execution_count": 76,
     "metadata": {},
     "output_type": "execute_result"
    }
   ],
   "source": [
    "d.keys()\n"
   ]
  },
  {
   "cell_type": "code",
   "execution_count": 77,
   "metadata": {
    "colab": {
     "base_uri": "https://localhost:8080/"
    },
    "executionInfo": {
     "elapsed": 20,
     "status": "ok",
     "timestamp": 1667901763420,
     "user": {
      "displayName": "Ester Martínez Martín",
      "userId": "04354067800048159174"
     },
     "user_tz": -60
    },
    "id": "ZR6FP42lOon4",
    "outputId": "627e1892-ccd2-4de5-fdbb-5dee7fa5a61f"
   },
   "outputs": [
    {
     "data": {
      "text/plain": [
       "dict_values(['item1', 'item2'])"
      ]
     },
     "execution_count": 77,
     "metadata": {},
     "output_type": "execute_result"
    }
   ],
   "source": [
    "d.values()\n"
   ]
  },
  {
   "cell_type": "code",
   "execution_count": 80,
   "metadata": {
    "colab": {
     "base_uri": "https://localhost:8080/"
    },
    "executionInfo": {
     "elapsed": 275,
     "status": "ok",
     "timestamp": 1667901836060,
     "user": {
      "displayName": "Ester Martínez Martín",
      "userId": "04354067800048159174"
     },
     "user_tz": -60
    },
    "id": "VFh97HCAOrJ7",
    "outputId": "33119647-5bb0-4aeb-cc1f-0bd80a937de0"
   },
   "outputs": [
    {
     "data": {
      "text/plain": [
       "{'0001': {'nombre': 'Pepe', 'edad': 20, 'ciudad': 'Alicante', 'gamer': True}}"
      ]
     },
     "execution_count": 80,
     "metadata": {},
     "output_type": "execute_result"
    }
   ],
   "source": [
    "d = {\"0001\": {\"nombre\": \"Pepe\", \"edad\": 20, \"ciudad\": \"Alicante\", \"gamer\": True}}\n",
    "d\n"
   ]
  },
  {
   "cell_type": "code",
   "execution_count": 81,
   "metadata": {
    "colab": {
     "base_uri": "https://localhost:8080/"
    },
    "executionInfo": {
     "elapsed": 247,
     "status": "ok",
     "timestamp": 1667901838386,
     "user": {
      "displayName": "Ester Martínez Martín",
      "userId": "04354067800048159174"
     },
     "user_tz": -60
    },
    "id": "1aGTZtXuPGt4",
    "outputId": "0f9d206a-ac53-4d67-a918-48b38efb3b98"
   },
   "outputs": [
    {
     "data": {
      "text/plain": [
       "20"
      ]
     },
     "execution_count": 81,
     "metadata": {},
     "output_type": "execute_result"
    }
   ],
   "source": [
    "d[\"0001\"][\"edad\"]\n"
   ]
  },
  {
   "cell_type": "code",
   "execution_count": 82,
   "metadata": {
    "colab": {
     "base_uri": "https://localhost:8080/"
    },
    "executionInfo": {
     "elapsed": 290,
     "status": "ok",
     "timestamp": 1667901841136,
     "user": {
      "displayName": "Ester Martínez Martín",
      "userId": "04354067800048159174"
     },
     "user_tz": -60
    },
    "id": "o0q3NS3mPVZV",
    "outputId": "c5bb274a-8155-4e21-f3b8-b03799c16411"
   },
   "outputs": [
    {
     "data": {
      "text/plain": [
       "True"
      ]
     },
     "execution_count": 82,
     "metadata": {},
     "output_type": "execute_result"
    }
   ],
   "source": [
    "\"ciudad\" in d[\"0001\"]  # verifica si existe una clave\n"
   ]
  },
  {
   "cell_type": "code",
   "execution_count": 83,
   "metadata": {
    "colab": {
     "base_uri": "https://localhost:8080/",
     "height": 171
    },
    "executionInfo": {
     "elapsed": 16,
     "status": "error",
     "timestamp": 1667901763421,
     "user": {
      "displayName": "Ester Martínez Martín",
      "userId": "04354067800048159174"
     },
     "user_tz": -60
    },
    "id": "ec3iohdlsnA0",
    "outputId": "226ae1db-bf84-4eea-f91e-f15e6caea578"
   },
   "outputs": [
    {
     "ename": "KeyError",
     "evalue": "'movil'",
     "output_type": "error",
     "traceback": [
      "\u001b[1;31m---------------------------------------------------------------------------\u001b[0m",
      "\u001b[1;31mKeyError\u001b[0m                                  Traceback (most recent call last)",
      "Cell \u001b[1;32mIn[83], line 1\u001b[0m\n\u001b[1;32m----> 1\u001b[0m \u001b[43md\u001b[49m\u001b[43m[\u001b[49m\u001b[38;5;124;43m\"\u001b[39;49m\u001b[38;5;124;43m0001\u001b[39;49m\u001b[38;5;124;43m\"\u001b[39;49m\u001b[43m]\u001b[49m\u001b[43m[\u001b[49m\u001b[38;5;124;43m\"\u001b[39;49m\u001b[38;5;124;43mmovil\u001b[39;49m\u001b[38;5;124;43m\"\u001b[39;49m\u001b[43m]\u001b[49m\n",
      "\u001b[1;31mKeyError\u001b[0m: 'movil'"
     ]
    }
   ],
   "source": [
    "d[\"0001\"][\"movil\"]  # si una clave no existe, nos devuelve error\n"
   ]
  },
  {
   "cell_type": "code",
   "execution_count": 84,
   "metadata": {
    "colab": {
     "base_uri": "https://localhost:8080/",
     "height": 36
    },
    "executionInfo": {
     "elapsed": 262,
     "status": "ok",
     "timestamp": 1667901845921,
     "user": {
      "displayName": "Ester Martínez Martín",
      "userId": "04354067800048159174"
     },
     "user_tz": -60
    },
    "id": "kGseRms1syIC",
    "outputId": "51b0c7e0-8dd6-4ccb-b2b4-819c91898477"
   },
   "outputs": [
    {
     "data": {
      "text/plain": [
       "'No existe'"
      ]
     },
     "execution_count": 84,
     "metadata": {},
     "output_type": "execute_result"
    }
   ],
   "source": [
    "d[\"0001\"].get(\"movil\", \"No existe\")\n"
   ]
  },
  {
   "cell_type": "code",
   "execution_count": 85,
   "metadata": {
    "colab": {
     "base_uri": "https://localhost:8080/",
     "height": 36
    },
    "executionInfo": {
     "elapsed": 2,
     "status": "ok",
     "timestamp": 1667901848182,
     "user": {
      "displayName": "Ester Martínez Martín",
      "userId": "04354067800048159174"
     },
     "user_tz": -60
    },
    "id": "KRZS330dtAh4",
    "outputId": "76b10b6b-c1dd-43d7-dd66-794632492c77"
   },
   "outputs": [
    {
     "data": {
      "text/plain": [
       "'Alicante'"
      ]
     },
     "execution_count": 85,
     "metadata": {},
     "output_type": "execute_result"
    }
   ],
   "source": [
    "d[\"0001\"].get(\"ciudad\", \"No existe\")\n"
   ]
  },
  {
   "cell_type": "code",
   "execution_count": 86,
   "metadata": {
    "colab": {
     "base_uri": "https://localhost:8080/"
    },
    "executionInfo": {
     "elapsed": 350,
     "status": "ok",
     "timestamp": 1667901852429,
     "user": {
      "displayName": "Ester Martínez Martín",
      "userId": "04354067800048159174"
     },
     "user_tz": -60
    },
    "id": "DcwZojYitGgX",
    "outputId": "5230f62d-5785-4e72-b1dd-fae57f2e6b55"
   },
   "outputs": [
    {
     "data": {
      "text/plain": [
       "{'0001': {'nombre': 'Pepe', 'edad': 20, 'gamer': True}}"
      ]
     },
     "execution_count": 86,
     "metadata": {},
     "output_type": "execute_result"
    }
   ],
   "source": [
    "del d[\"0001\"][\"ciudad\"]  # Borra item \"ciudad\"\n",
    "d\n"
   ]
  },
  {
   "cell_type": "markdown",
   "metadata": {
    "id": "yCGnD2vWtRX8"
   },
   "source": [
    "## Tuplas\n",
    "\n",
    "Las tuplas tienen la particularidad de que no pueden modificarse, es decir, son inmutables.\n"
   ]
  },
  {
   "cell_type": "code",
   "execution_count": null,
   "metadata": {
    "colab": {
     "base_uri": "https://localhost:8080/"
    },
    "executionInfo": {
     "elapsed": 263,
     "status": "ok",
     "timestamp": 1667901862211,
     "user": {
      "displayName": "Ester Martínez Martín",
      "userId": "04354067800048159174"
     },
     "user_tz": -60
    },
    "id": "Ew-cVBt5tVk3",
    "outputId": "83441172-b956-4103-907b-fb2c97c295a0"
   },
   "outputs": [
    {
     "data": {
      "text/plain": [
       "1"
      ]
     },
     "execution_count": 81,
     "metadata": {},
     "output_type": "execute_result"
    }
   ],
   "source": [
    "t = (1, 2, 3)\n",
    "t[0]\n"
   ]
  },
  {
   "cell_type": "code",
   "execution_count": null,
   "metadata": {
    "colab": {
     "base_uri": "https://localhost:8080/",
     "height": 171
    },
    "executionInfo": {
     "elapsed": 7,
     "status": "error",
     "timestamp": 1667901862505,
     "user": {
      "displayName": "Ester Martínez Martín",
      "userId": "04354067800048159174"
     },
     "user_tz": -60
    },
    "id": "4ToIxabntZKC",
    "outputId": "b8e9de7c-a8d4-41ec-a3d3-fecc852fee6a"
   },
   "outputs": [
    {
     "ename": "TypeError",
     "evalue": "ignored",
     "output_type": "error",
     "traceback": [
      "\u001b[0;31m---------------------------------------------------------------------------\u001b[0m",
      "\u001b[0;31mTypeError\u001b[0m                                 Traceback (most recent call last)",
      "\u001b[0;32m<ipython-input-82-581416ebfe81>\u001b[0m in \u001b[0;36m<module>\u001b[0;34m\u001b[0m\n\u001b[0;32m----> 1\u001b[0;31m \u001b[0mt\u001b[0m\u001b[0;34m[\u001b[0m\u001b[0;36m0\u001b[0m\u001b[0;34m]\u001b[0m \u001b[0;34m=\u001b[0m \u001b[0;34m'nuevo'\u001b[0m \u001b[0;31m# Error porque es inmutable\u001b[0m\u001b[0;34m\u001b[0m\u001b[0;34m\u001b[0m\u001b[0m\n\u001b[0m",
      "\u001b[0;31mTypeError\u001b[0m: 'tuple' object does not support item assignment"
     ]
    }
   ],
   "source": [
    "t[0] = \"nuevo\"  # Error porque es inmutable\n"
   ]
  },
  {
   "cell_type": "markdown",
   "metadata": {
    "id": "_zwlukYptjWf"
   },
   "source": [
    "## Conjuntos (Sets)\n",
    "\n",
    "Son listados que no admiten elementos duplicados.\n"
   ]
  },
  {
   "cell_type": "code",
   "execution_count": null,
   "metadata": {
    "colab": {
     "base_uri": "https://localhost:8080/"
    },
    "executionInfo": {
     "elapsed": 228,
     "status": "ok",
     "timestamp": 1667901876747,
     "user": {
      "displayName": "Ester Martínez Martín",
      "userId": "04354067800048159174"
     },
     "user_tz": -60
    },
    "id": "hDPfptJNttH7",
    "outputId": "a344dc04-2a0e-4b8d-dcd5-c5f1cd6e6db2"
   },
   "outputs": [
    {
     "data": {
      "text/plain": [
       "{1, 2, 3, 4}"
      ]
     },
     "execution_count": 85,
     "metadata": {},
     "output_type": "execute_result"
    }
   ],
   "source": [
    "s = {1, 2, 3, 2, 1, 4}\n",
    "s\n"
   ]
  },
  {
   "cell_type": "code",
   "execution_count": null,
   "metadata": {
    "colab": {
     "base_uri": "https://localhost:8080/"
    },
    "executionInfo": {
     "elapsed": 5,
     "status": "ok",
     "timestamp": 1667901877270,
     "user": {
      "displayName": "Ester Martínez Martín",
      "userId": "04354067800048159174"
     },
     "user_tz": -60
    },
    "id": "PpF7G41bty0G",
    "outputId": "e41a9e9e-9e61-4c1f-d5e2-53ca7935f9ba"
   },
   "outputs": [
    {
     "data": {
      "text/plain": [
       "{1, 2, 3, 4, 5}"
      ]
     },
     "execution_count": 86,
     "metadata": {},
     "output_type": "execute_result"
    }
   ],
   "source": [
    "s.add(5)\n",
    "s\n"
   ]
  },
  {
   "cell_type": "code",
   "execution_count": null,
   "metadata": {
    "colab": {
     "base_uri": "https://localhost:8080/"
    },
    "executionInfo": {
     "elapsed": 362,
     "status": "ok",
     "timestamp": 1667901877629,
     "user": {
      "displayName": "Ester Martínez Martín",
      "userId": "04354067800048159174"
     },
     "user_tz": -60
    },
    "id": "dY15iJypt3_I",
    "outputId": "2e6f5c88-902c-4167-9f33-fbe92a988ec1"
   },
   "outputs": [
    {
     "data": {
      "text/plain": [
       "{1, 2, 3, 4, 5}"
      ]
     },
     "execution_count": 87,
     "metadata": {},
     "output_type": "execute_result"
    }
   ],
   "source": [
    "s.add(1)\n",
    "s\n"
   ]
  },
  {
   "cell_type": "code",
   "execution_count": null,
   "metadata": {
    "colab": {
     "base_uri": "https://localhost:8080/"
    },
    "executionInfo": {
     "elapsed": 10,
     "status": "ok",
     "timestamp": 1667901877629,
     "user": {
      "displayName": "Ester Martínez Martín",
      "userId": "04354067800048159174"
     },
     "user_tz": -60
    },
    "id": "Yw-ir0pOuAhC",
    "outputId": "8251b63e-bb27-4ee9-f11d-52a9b9d77677"
   },
   "outputs": [
    {
     "data": {
      "text/plain": [
       "1"
      ]
     },
     "execution_count": 88,
     "metadata": {},
     "output_type": "execute_result"
    }
   ],
   "source": [
    "s.pop()  # Devuelve el primer elemento del conjunto y lo BORRA\n"
   ]
  },
  {
   "cell_type": "code",
   "execution_count": null,
   "metadata": {
    "colab": {
     "base_uri": "https://localhost:8080/"
    },
    "executionInfo": {
     "elapsed": 9,
     "status": "ok",
     "timestamp": 1667901877629,
     "user": {
      "displayName": "Ester Martínez Martín",
      "userId": "04354067800048159174"
     },
     "user_tz": -60
    },
    "id": "vOB8w8yiuHQy",
    "outputId": "c5e4e785-b9b8-4097-abd9-1e20e5b29df1"
   },
   "outputs": [
    {
     "data": {
      "text/plain": [
       "{2, 3, 4, 5}"
      ]
     },
     "execution_count": 89,
     "metadata": {},
     "output_type": "execute_result"
    }
   ],
   "source": [
    "s\n"
   ]
  },
  {
   "cell_type": "code",
   "execution_count": null,
   "metadata": {
    "colab": {
     "base_uri": "https://localhost:8080/",
     "height": 171
    },
    "executionInfo": {
     "elapsed": 7,
     "status": "error",
     "timestamp": 1667901877629,
     "user": {
      "displayName": "Ester Martínez Martín",
      "userId": "04354067800048159174"
     },
     "user_tz": -60
    },
    "id": "9bjgxk61uVcP",
    "outputId": "291a5130-e0d0-406c-ca9a-429b6fca1b37"
   },
   "outputs": [
    {
     "ename": "TypeError",
     "evalue": "ignored",
     "output_type": "error",
     "traceback": [
      "\u001b[0;31m---------------------------------------------------------------------------\u001b[0m",
      "\u001b[0;31mTypeError\u001b[0m                                 Traceback (most recent call last)",
      "\u001b[0;32m<ipython-input-90-afd583bf71eb>\u001b[0m in \u001b[0;36m<module>\u001b[0;34m\u001b[0m\n\u001b[0;32m----> 1\u001b[0;31m \u001b[0;32mdel\u001b[0m \u001b[0ms\u001b[0m\u001b[0;34m[\u001b[0m\u001b[0;36m2\u001b[0m\u001b[0;34m]\u001b[0m \u001b[0;31m# Error\u001b[0m\u001b[0;34m\u001b[0m\u001b[0;34m\u001b[0m\u001b[0m\n\u001b[0m",
      "\u001b[0;31mTypeError\u001b[0m: 'set' object doesn't support item deletion"
     ]
    }
   ],
   "source": [
    "del s[2]  # Error\n"
   ]
  },
  {
   "cell_type": "markdown",
   "metadata": {
    "id": "dK4YDfSyup_0"
   },
   "source": [
    "# Condicionales\n"
   ]
  },
  {
   "cell_type": "markdown",
   "metadata": {
    "id": "BWeYZhjAtIMH"
   },
   "source": [
    "**Hay que tener mucho cuidado con la identación**\n"
   ]
  },
  {
   "cell_type": "code",
   "execution_count": null,
   "metadata": {
    "colab": {
     "base_uri": "https://localhost:8080/"
    },
    "executionInfo": {
     "elapsed": 391,
     "status": "ok",
     "timestamp": 1667901894190,
     "user": {
      "displayName": "Ester Martínez Martín",
      "userId": "04354067800048159174"
     },
     "user_tz": -60
    },
    "id": "r_Ye8t2SvjoC",
    "outputId": "1b8fd7f3-f4df-4c00-98bc-32aeaec5a540"
   },
   "outputs": [
    {
     "name": "stdout",
     "output_type": "stream",
     "text": [
      "Es verdadero\n"
     ]
    }
   ],
   "source": [
    "# Ejemplo básico\n",
    "if 1 < 2:\n",
    "    a = True\n",
    "    print(\"Es verdadero\")\n",
    "else:\n",
    "    a = False\n",
    "    print(\"Es falso\")\n"
   ]
  },
  {
   "cell_type": "code",
   "execution_count": null,
   "metadata": {
    "colab": {
     "base_uri": "https://localhost:8080/"
    },
    "executionInfo": {
     "elapsed": 12,
     "status": "ok",
     "timestamp": 1667901894526,
     "user": {
      "displayName": "Ester Martínez Martín",
      "userId": "04354067800048159174"
     },
     "user_tz": -60
    },
    "id": "MK4tFCj4usKr",
    "outputId": "8d41de83-c536-4148-ae9c-077e4eb76e2d"
   },
   "outputs": [
    {
     "name": "stdout",
     "output_type": "stream",
     "text": [
      "Ejemplo AND\n",
      "Ejemplo OR\n",
      "Ejemplo negación\n"
     ]
    }
   ],
   "source": [
    "if (1 < 2) and (2 < 3):\n",
    "    print(\"Ejemplo AND\")\n",
    "if (1 < 2) or (2 < 1):\n",
    "    print(\"Ejemplo OR\")\n",
    "if not False:\n",
    "    print(\"Ejemplo negación\")\n"
   ]
  },
  {
   "cell_type": "code",
   "execution_count": null,
   "metadata": {
    "colab": {
     "base_uri": "https://localhost:8080/"
    },
    "executionInfo": {
     "elapsed": 10,
     "status": "ok",
     "timestamp": 1667901894526,
     "user": {
      "displayName": "Ester Martínez Martín",
      "userId": "04354067800048159174"
     },
     "user_tz": -60
    },
    "id": "Lg3U6cukvXvR",
    "outputId": "9ea5cec3-e3ad-4d4a-9ebc-b4523fa490e6"
   },
   "outputs": [
    {
     "name": "stdout",
     "output_type": "stream",
     "text": [
      "Segundo\n"
     ]
    }
   ],
   "source": [
    "if 1 == 2:\n",
    "    print(\"Primero\")\n",
    "elif 3 == 3:  # ejemplo else-if\n",
    "    print(\"Segundo\")\n",
    "else:\n",
    "    print(\"Tercero\")\n"
   ]
  },
  {
   "cell_type": "markdown",
   "metadata": {
    "id": "zWuoJmMfvudy"
   },
   "source": [
    "# Bucles\n"
   ]
  },
  {
   "cell_type": "markdown",
   "metadata": {
    "id": "SacoDg5rvxP_"
   },
   "source": [
    "## For\n"
   ]
  },
  {
   "cell_type": "code",
   "execution_count": null,
   "metadata": {
    "colab": {
     "base_uri": "https://localhost:8080/"
    },
    "executionInfo": {
     "elapsed": 6,
     "status": "ok",
     "timestamp": 1667901894526,
     "user": {
      "displayName": "Ester Martínez Martín",
      "userId": "04354067800048159174"
     },
     "user_tz": -60
    },
    "id": "lre8p01Tv0JQ",
    "outputId": "96f8dc70-12fb-4dd2-c98e-9a329708fab1"
   },
   "outputs": [
    {
     "name": "stdout",
     "output_type": "stream",
     "text": [
      "1\n",
      "Su doble es: 2\n",
      "2\n",
      "Su doble es: 4\n",
      "3\n",
      "Su doble es: 6\n",
      "4\n",
      "Su doble es: 8\n",
      "5\n",
      "Su doble es: 10\n"
     ]
    }
   ],
   "source": [
    "seq = [1, 2, 3, 4, 5]\n",
    "for item in seq:\n",
    "    print(item)\n",
    "    print(f\"Su doble es: {item+item}\")\n"
   ]
  },
  {
   "cell_type": "code",
   "execution_count": null,
   "metadata": {
    "colab": {
     "base_uri": "https://localhost:8080/"
    },
    "executionInfo": {
     "elapsed": 326,
     "status": "ok",
     "timestamp": 1667901894848,
     "user": {
      "displayName": "Ester Martínez Martín",
      "userId": "04354067800048159174"
     },
     "user_tz": -60
    },
    "id": "pX6-i5kywDXk",
    "outputId": "4f3fdf34-90fc-437f-a7a8-3b4c993a9f45"
   },
   "outputs": [
    {
     "name": "stdout",
     "output_type": "stream",
     "text": [
      "0 y su doble es: 0\n",
      "1 y su doble es: 2\n",
      "2 y su doble es: 4\n",
      "3 y su doble es: 6\n",
      "4 y su doble es: 8\n"
     ]
    }
   ],
   "source": [
    "# range(5) es lo mismo que range(0,5)\n",
    "for i in range(5):\n",
    "    print(i, f\"y su doble es: {i*2}\")\n"
   ]
  },
  {
   "cell_type": "code",
   "execution_count": null,
   "metadata": {
    "colab": {
     "base_uri": "https://localhost:8080/"
    },
    "executionInfo": {
     "elapsed": 21,
     "status": "ok",
     "timestamp": 1667901894848,
     "user": {
      "displayName": "Ester Martínez Martín",
      "userId": "04354067800048159174"
     },
     "user_tz": -60
    },
    "id": "T9oviLGUwiK6",
    "outputId": "092b5d43-0380-49a8-afc7-1385160569ec"
   },
   "outputs": [
    {
     "name": "stdout",
     "output_type": "stream",
     "text": [
      "#1: gato\n",
      "#2: perro\n",
      "#3: pajaro\n"
     ]
    }
   ],
   "source": [
    "animales = [\"gato\", \"perro\", \"pajaro\"]\n",
    "for idx, animal in enumerate(animales):\n",
    "    print(\"#%d: %s\" % (idx + 1, animal))\n"
   ]
  },
  {
   "cell_type": "markdown",
   "metadata": {
    "id": "2jd_61v3xx78"
   },
   "source": [
    "## While\n"
   ]
  },
  {
   "cell_type": "code",
   "execution_count": null,
   "metadata": {
    "colab": {
     "base_uri": "https://localhost:8080/"
    },
    "executionInfo": {
     "elapsed": 20,
     "status": "ok",
     "timestamp": 1667901894848,
     "user": {
      "displayName": "Ester Martínez Martín",
      "userId": "04354067800048159174"
     },
     "user_tz": -60
    },
    "id": "VXDNMfkxxvYB",
    "outputId": "4a36bca1-3830-4db6-c02e-4e8b3b5ceb33"
   },
   "outputs": [
    {
     "name": "stdout",
     "output_type": "stream",
     "text": [
      "#1: gato\n",
      "#2: perro\n",
      "#3: pajaro\n"
     ]
    }
   ],
   "source": [
    "i = 0\n",
    "while i < 3:\n",
    "    print(\"#%d: %s\" % (i + 1, animales[i]))\n",
    "    i = i + 1\n"
   ]
  },
  {
   "cell_type": "markdown",
   "metadata": {
    "id": "K3z1YTjww3N2"
   },
   "source": [
    "# List comprehension\n"
   ]
  },
  {
   "cell_type": "code",
   "execution_count": null,
   "metadata": {
    "colab": {
     "base_uri": "https://localhost:8080/"
    },
    "executionInfo": {
     "elapsed": 18,
     "status": "ok",
     "timestamp": 1667901894848,
     "user": {
      "displayName": "Ester Martínez Martín",
      "userId": "04354067800048159174"
     },
     "user_tz": -60
    },
    "id": "513MAh4Zw8Ge",
    "outputId": "f0fe88fe-2e49-40f7-9c9e-7888b1a33475"
   },
   "outputs": [
    {
     "data": {
      "text/plain": [
       "[1, 4, 9, 16]"
      ]
     },
     "execution_count": 99,
     "metadata": {},
     "output_type": "execute_result"
    }
   ],
   "source": [
    "[item**2 for item in [1, 2, 3, 4]]  # crea una lista a partir de un bucle for\n"
   ]
  },
  {
   "cell_type": "code",
   "execution_count": null,
   "metadata": {
    "colab": {
     "base_uri": "https://localhost:8080/"
    },
    "executionInfo": {
     "elapsed": 18,
     "status": "ok",
     "timestamp": 1667901894849,
     "user": {
      "displayName": "Ester Martínez Martín",
      "userId": "04354067800048159174"
     },
     "user_tz": -60
    },
    "id": "-m095IUcxQk0",
    "outputId": "3f244aca-dc8a-45ca-852e-97faf75060c2"
   },
   "outputs": [
    {
     "data": {
      "text/plain": [
       "[2, 4]"
      ]
     },
     "execution_count": 100,
     "metadata": {},
     "output_type": "execute_result"
    }
   ],
   "source": [
    "# crea una lista a partir de un bucle for teniendo en cuenta que se cumple una condición (if)\n",
    "[item for item in [1, 2, 3, 4] if item % 2 == 0]\n"
   ]
  },
  {
   "cell_type": "code",
   "execution_count": null,
   "metadata": {
    "colab": {
     "base_uri": "https://localhost:8080/"
    },
    "executionInfo": {
     "elapsed": 17,
     "status": "ok",
     "timestamp": 1667901894849,
     "user": {
      "displayName": "Ester Martínez Martín",
      "userId": "04354067800048159174"
     },
     "user_tz": -60
    },
    "id": "VZeRSMO0xdDH",
    "outputId": "074d9d9c-b639-4a02-fcb8-067f30eb47f6"
   },
   "outputs": [
    {
     "data": {
      "text/plain": [
       "['#1: gato', '#2: perro', '#3: pajaro']"
      ]
     },
     "execution_count": 101,
     "metadata": {},
     "output_type": "execute_result"
    }
   ],
   "source": [
    "# hace el mismo que la anterior, solo que devuelve una lista con el texto\n",
    "[\n",
    "    \"#%d: %s\" % (idx + 1, animal)\n",
    "    for idx, animal in enumerate([\"gato\", \"perro\", \"pajaro\"])\n",
    "]\n"
   ]
  },
  {
   "cell_type": "markdown",
   "metadata": {},
   "source": [
    "# Detección de Tipos\n"
   ]
  },
  {
   "cell_type": "markdown",
   "metadata": {},
   "source": [
    "En Python se puede detectar el tipo de cada variable. Esto porque en Python, una variable puede asumir cualquier tipo en cualquier momento.\n"
   ]
  },
  {
   "cell_type": "code",
   "execution_count": 1,
   "metadata": {},
   "outputs": [
    {
     "data": {
      "text/plain": [
       "True"
      ]
     },
     "execution_count": 1,
     "metadata": {},
     "output_type": "execute_result"
    }
   ],
   "source": [
    "isinstance(1, int)\n"
   ]
  },
  {
   "cell_type": "code",
   "execution_count": 2,
   "metadata": {},
   "outputs": [
    {
     "data": {
      "text/plain": [
       "True"
      ]
     },
     "execution_count": 2,
     "metadata": {},
     "output_type": "execute_result"
    }
   ],
   "source": [
    "isinstance(8.0, float)\n"
   ]
  },
  {
   "cell_type": "code",
   "execution_count": 3,
   "metadata": {},
   "outputs": [
    {
     "data": {
      "text/plain": [
       "False"
      ]
     },
     "execution_count": 3,
     "metadata": {},
     "output_type": "execute_result"
    }
   ],
   "source": [
    "isinstance(8.0, int)\n"
   ]
  },
  {
   "cell_type": "code",
   "execution_count": 5,
   "metadata": {},
   "outputs": [
    {
     "data": {
      "text/plain": [
       "True"
      ]
     },
     "execution_count": 5,
     "metadata": {},
     "output_type": "execute_result"
    }
   ],
   "source": [
    "isinstance(\"abc\", str)\n"
   ]
  },
  {
   "cell_type": "markdown",
   "metadata": {
    "id": "9r7Y6D22yMK1"
   },
   "source": [
    "# Funciones\n"
   ]
  },
  {
   "cell_type": "markdown",
   "metadata": {
    "id": "zAVFQ5Q6r4iW"
   },
   "source": [
    "Las funciones son los componentes fundamentales de Python. Su sintaxis es la siguiente:\n",
    "\n",
    "```python\n",
    "def nombre_de_la_funcion(argumentos):\n",
    "  código\n",
    "  código\n",
    "  código\n",
    "  return algo # esto es opcional\n",
    "```\n",
    "\n",
    "La identación es fundamental para que funcione correctamente. Los argumentos pueden tener valores por defecto para el caso en que no se pase ningún dato como argumento.\n"
   ]
  },
  {
   "cell_type": "code",
   "execution_count": null,
   "metadata": {
    "colab": {
     "base_uri": "https://localhost:8080/"
    },
    "executionInfo": {
     "elapsed": 17,
     "status": "ok",
     "timestamp": 1667901894850,
     "user": {
      "displayName": "Ester Martínez Martín",
      "userId": "04354067800048159174"
     },
     "user_tz": -60
    },
    "id": "Pl_ZGaDAyT00",
    "outputId": "b6996119-05cb-4f59-8f73-eabdbf880fb9"
   },
   "outputs": [
    {
     "name": "stdout",
     "output_type": "stream",
     "text": [
      "negativo\n",
      "zero\n",
      "positivo\n"
     ]
    }
   ],
   "source": [
    "def signo(x):\n",
    "    if x > 0:\n",
    "        return \"positivo\"\n",
    "    elif x < 0:\n",
    "        return \"negativo\"\n",
    "    else:\n",
    "        return \"zero\"\n",
    "\n",
    "\n",
    "for x in [-1, 0, 1]:\n",
    "    print(signo(x))\n"
   ]
  },
  {
   "cell_type": "code",
   "execution_count": null,
   "metadata": {
    "colab": {
     "base_uri": "https://localhost:8080/"
    },
    "executionInfo": {
     "elapsed": 17,
     "status": "ok",
     "timestamp": 1667901894851,
     "user": {
      "displayName": "Ester Martínez Martín",
      "userId": "04354067800048159174"
     },
     "user_tz": -60
    },
    "id": "MyKUiUNmyaUh",
    "outputId": "bc84ff88-6f3e-4b94-cf64-963bfdf2c1c9"
   },
   "outputs": [
    {
     "name": "stdout",
     "output_type": "stream",
     "text": [
      "Hola Bob\n"
     ]
    }
   ],
   "source": [
    "def hola(nombre=\"Ricardo\", sonoro=False):\n",
    "    if sonoro:\n",
    "        # .upper() devuelve el texto en mayúsculas\n",
    "        print(f\"HOLA {nombre.upper()}\")\n",
    "    else:\n",
    "        print(f\"Hola {nombre}\")\n",
    "\n",
    "\n",
    "hola(\"Bob\")\n"
   ]
  },
  {
   "cell_type": "code",
   "execution_count": null,
   "metadata": {
    "colab": {
     "base_uri": "https://localhost:8080/"
    },
    "executionInfo": {
     "elapsed": 16,
     "status": "ok",
     "timestamp": 1667901894851,
     "user": {
      "displayName": "Ester Martínez Martín",
      "userId": "04354067800048159174"
     },
     "user_tz": -60
    },
    "id": "p7b1WYCjyiCb",
    "outputId": "fa299334-5a8c-4797-b266-72ec579ff5d3"
   },
   "outputs": [
    {
     "name": "stdout",
     "output_type": "stream",
     "text": [
      "HOLA FRAN\n"
     ]
    }
   ],
   "source": [
    "hola(\"Fran\", sonoro=True)\n"
   ]
  },
  {
   "cell_type": "code",
   "execution_count": null,
   "metadata": {
    "colab": {
     "base_uri": "https://localhost:8080/"
    },
    "executionInfo": {
     "elapsed": 15,
     "status": "ok",
     "timestamp": 1667901894851,
     "user": {
      "displayName": "Ester Martínez Martín",
      "userId": "04354067800048159174"
     },
     "user_tz": -60
    },
    "id": "dKGfpkCwymAj",
    "outputId": "2397c62c-3260-4e02-cf51-edab7bee40e7"
   },
   "outputs": [
    {
     "name": "stdout",
     "output_type": "stream",
     "text": [
      "HOLA PACO\n"
     ]
    }
   ],
   "source": [
    "hola(\"paco\", True)\n"
   ]
  },
  {
   "cell_type": "code",
   "execution_count": null,
   "metadata": {
    "colab": {
     "base_uri": "https://localhost:8080/"
    },
    "executionInfo": {
     "elapsed": 14,
     "status": "ok",
     "timestamp": 1667901894851,
     "user": {
      "displayName": "Ester Martínez Martín",
      "userId": "04354067800048159174"
     },
     "user_tz": -60
    },
    "id": "qxqQ2CFiwK9P",
    "outputId": "20d244de-acd2-4a36-b143-a760ed8a6199"
   },
   "outputs": [
    {
     "name": "stdout",
     "output_type": "stream",
     "text": [
      "Hola Ricardo\n"
     ]
    }
   ],
   "source": [
    "hola()\n"
   ]
  },
  {
   "cell_type": "code",
   "execution_count": null,
   "metadata": {
    "colab": {
     "base_uri": "https://localhost:8080/"
    },
    "executionInfo": {
     "elapsed": 12,
     "status": "ok",
     "timestamp": 1667901894851,
     "user": {
      "displayName": "Ester Martínez Martín",
      "userId": "04354067800048159174"
     },
     "user_tz": -60
    },
    "id": "9StJaqN1wM9R",
    "outputId": "57af76eb-c7c3-4bf2-8b52-e587692f97af"
   },
   "outputs": [
    {
     "name": "stdout",
     "output_type": "stream",
     "text": [
      "HOLA RICARDO\n"
     ]
    }
   ],
   "source": [
    "hola(sonoro=True)\n"
   ]
  },
  {
   "cell_type": "code",
   "execution_count": null,
   "metadata": {
    "colab": {
     "base_uri": "https://localhost:8080/"
    },
    "executionInfo": {
     "elapsed": 11,
     "status": "ok",
     "timestamp": 1667901894851,
     "user": {
      "displayName": "Ester Martínez Martín",
      "userId": "04354067800048159174"
     },
     "user_tz": -60
    },
    "id": "GZ6oxlkNzTEX",
    "outputId": "7d5848aa-9c38-42a5-945c-7e954d58d9ee"
   },
   "outputs": [
    {
     "name": "stdout",
     "output_type": "stream",
     "text": [
      "[1, 5, 7, 85, 23]\n",
      "[6, 56, 92]\n"
     ]
    }
   ],
   "source": [
    "# Una función que divide una lista de números en pares y impares\n",
    "def par_impar(lista):\n",
    "    par = []\n",
    "    impar = []\n",
    "    for i in lista:\n",
    "        if i % 2:\n",
    "            par.append(i)\n",
    "        else:\n",
    "            impar.append(i)\n",
    "    return par, impar\n",
    "\n",
    "\n",
    "par, impar = par_impar([1, 5, 6, 7, 85, 23, 56, 92])\n",
    "print(par)\n",
    "print(impar)\n"
   ]
  },
  {
   "cell_type": "markdown",
   "metadata": {},
   "source": [
    "## Lambdas\n"
   ]
  },
  {
   "cell_type": "markdown",
   "metadata": {},
   "source": [
    "Los `lambdas` son funciones anónimas (es decir, funciones que no necesitan de un nombre como las que hemos visto antes) para operaciones básicas de una sola linea. Las veremos mucho en los temas siguientes juntamente con la librería `scipy`.\n"
   ]
  },
  {
   "cell_type": "code",
   "execution_count": 2,
   "metadata": {},
   "outputs": [
    {
     "data": {
      "text/plain": [
       "7"
      ]
     },
     "execution_count": 2,
     "metadata": {},
     "output_type": "execute_result"
    }
   ],
   "source": [
    "fl1 = lambda x: x + 2\n",
    "fl1(5)\n"
   ]
  },
  {
   "cell_type": "code",
   "execution_count": 4,
   "metadata": {},
   "outputs": [
    {
     "data": {
      "text/plain": [
       "129"
      ]
     },
     "execution_count": 4,
     "metadata": {},
     "output_type": "execute_result"
    }
   ],
   "source": [
    "fl2 = lambda x, y: x**2 + y**3\n",
    "fl2(2, 5)\n"
   ]
  },
  {
   "cell_type": "code",
   "execution_count": 10,
   "metadata": {},
   "outputs": [
    {
     "data": {
      "text/plain": [
       "'Esto es un ejemplo para Toni!'"
      ]
     },
     "execution_count": 10,
     "metadata": {},
     "output_type": "execute_result"
    }
   ],
   "source": [
    "fl3 = lambda k: f'Esto es un ejemplo para {k.capitalize()}!'\n",
    "fl3('toNI')"
   ]
  },
  {
   "cell_type": "markdown",
   "metadata": {
    "id": "POkbs2OB0aI0"
   },
   "source": [
    "# Clases\n"
   ]
  },
  {
   "cell_type": "markdown",
   "metadata": {
    "id": "afuY22UHhh9b"
   },
   "source": [
    "Las clases son estructuras que pueden contener variables y métodos.\n",
    "\n",
    "La sintaxis de una clase es:\n",
    "\n",
    "```python\n",
    "class Nombre():\n",
    "  def __init__(self, x):\n",
    "    ...\n",
    "  def metodo(self, y):\n",
    "    ...\n",
    "```\n",
    "\n",
    "Y se puede instanciar de la siguiente forma:\n",
    "\n",
    "```python\n",
    "a = Nombre('valor para x')\n",
    "```\n",
    "\n",
    "**A tener en cuenta**:\n",
    "\n",
    "- En `class Nombre():` se pueden referenciar clases \"padre\" dentro del paréntesis (la clase `Nombre` hereda las propiedades de las clases \"padre\");\n",
    "- En `def __init__(self, x):` se definen las variables de la clase. En este caso se ha definido la variable `x`. Esta variable puede accederse dentro de la clase con `self.x` y desde fuera con `a.x`.\n",
    "- La palabra clave `self` deberá ir siempre como primer parámetro en las funciones pertenecientes a la clase para que puedan acceder a los métodos y variables de la misma.\n"
   ]
  },
  {
   "cell_type": "code",
   "execution_count": null,
   "metadata": {
    "id": "sMABJCvm0ZaP"
   },
   "outputs": [],
   "source": [
    "class Saludador:\n",
    "    # Constructor\n",
    "    def __init__(self, nombre):\n",
    "        self.nombre = nombre  # Crea una instancia de una variable\n",
    "\n",
    "    # Método\n",
    "\n",
    "    def saluda(self, grita=False):\n",
    "        if grita:\n",
    "            print(\"HOLA %s!\" % self.nombre.upper())\n",
    "        else:\n",
    "            print(\"Hola %s\" % self.nombre)\n"
   ]
  },
  {
   "cell_type": "code",
   "execution_count": null,
   "metadata": {
    "colab": {
     "base_uri": "https://localhost:8080/"
    },
    "executionInfo": {
     "elapsed": 11,
     "status": "ok",
     "timestamp": 1667901894852,
     "user": {
      "displayName": "Ester Martínez Martín",
      "userId": "04354067800048159174"
     },
     "user_tz": -60
    },
    "id": "YS2IFgyJ0ld3",
    "outputId": "a21bb7fc-d07f-4918-ad84-465f50539d84"
   },
   "outputs": [
    {
     "name": "stdout",
     "output_type": "stream",
     "text": [
      "Hola Paco\n",
      "HOLA PACO!\n"
     ]
    }
   ],
   "source": [
    "g = Saludador(\"Paco\")  # Construye una instancia de la clase Saludador\n",
    "g.saluda()  # Llama el método de la instancia; Salida: \"Hola Paco\"\n",
    "g.saluda(grita=True)  # Llama el método de la instancia; Salida: \"HOLA PACO\"\n"
   ]
  },
  {
   "cell_type": "code",
   "execution_count": null,
   "metadata": {
    "colab": {
     "base_uri": "https://localhost:8080/"
    },
    "executionInfo": {
     "elapsed": 10,
     "status": "ok",
     "timestamp": 1667901894852,
     "user": {
      "displayName": "Ester Martínez Martín",
      "userId": "04354067800048159174"
     },
     "user_tz": -60
    },
    "id": "yzwWe7WE1A7j",
    "outputId": "5ff4e694-3cc4-42d6-96bc-740f043cb1d7"
   },
   "outputs": [
    {
     "data": {
      "text/plain": [
       "(3.0, -4.5)"
      ]
     },
     "execution_count": 111,
     "metadata": {},
     "output_type": "execute_result"
    }
   ],
   "source": [
    "class Complex:\n",
    "    def __init__(self, realpart, imagpart):\n",
    "        self.r = realpart\n",
    "        self.i = imagpart\n",
    "\n",
    "\n",
    "x = Complex(3.0, -4.5)\n",
    "x.r, x.i\n"
   ]
  },
  {
   "cell_type": "code",
   "execution_count": 1,
   "metadata": {
    "colab": {
     "base_uri": "https://localhost:8080/"
    },
    "executionInfo": {
     "elapsed": 9,
     "status": "ok",
     "timestamp": 1667901894852,
     "user": {
      "displayName": "Ester Martínez Martín",
      "userId": "04354067800048159174"
     },
     "user_tz": -60
    },
    "id": "s_aR_v0dsO2y",
    "outputId": "09a2cfe6-1762-41d3-e202-1689ee92a15e"
   },
   "outputs": [
    {
     "name": "stdout",
     "output_type": "stream",
     "text": [
      "El rectángulo con lados 2 y 3 tiene un área de 6\n"
     ]
    }
   ],
   "source": [
    "class Rectangulo:\n",
    "    def __init__(self, lado1, lado2):\n",
    "        self.lado1 = lado1\n",
    "        self.lado2 = lado2\n",
    "\n",
    "    def area(self):\n",
    "        return self.lado1 * self.lado2\n",
    "\n",
    "    def __str__(self):\n",
    "        return f\"El rectángulo con lados {self.lado1} y {self.lado2} tiene un área de {self.area()}\"\n",
    "\n",
    "\n",
    "rectangulo = Rectangulo(2, 3)\n",
    "print(rectangulo)\n"
   ]
  },
  {
   "cell_type": "code",
   "execution_count": 2,
   "metadata": {
    "colab": {
     "base_uri": "https://localhost:8080/"
    },
    "executionInfo": {
     "elapsed": 8,
     "status": "ok",
     "timestamp": 1667901894852,
     "user": {
      "displayName": "Ester Martínez Martín",
      "userId": "04354067800048159174"
     },
     "user_tz": -60
    },
    "id": "4KDf_RNss-Ax",
    "outputId": "ab472da4-3f2c-4b10-f0b5-0d5e4a121db2"
   },
   "outputs": [
    {
     "name": "stdout",
     "output_type": "stream",
     "text": [
      "El rectángulo con lados 3 y 3 tiene un área de 9\n",
      "Área: 9\n"
     ]
    }
   ],
   "source": [
    "class Cuadrado(Rectangulo):\n",
    "    def __init__(self, lado1):\n",
    "        super().__init__(lado1, lado1)\n",
    "\n",
    "\n",
    "cuadrado = Cuadrado(3)\n",
    "print(cuadrado)\n",
    "print(\"Área:\", cuadrado.area())\n"
   ]
  },
  {
   "cell_type": "markdown",
   "metadata": {
    "id": "hd2ptos0tWnK"
   },
   "source": [
    "## Ejercicios\n"
   ]
  },
  {
   "cell_type": "markdown",
   "metadata": {
    "id": "bSGMZw9otYYH"
   },
   "source": [
    "1. Calcula la siguiente expresión: $\\frac{1}{\\frac{1}{2}*3^3}$\n"
   ]
  },
  {
   "cell_type": "code",
   "execution_count": null,
   "metadata": {
    "colab": {
     "base_uri": "https://localhost:8080/"
    },
    "id": "jyQ3obiQtiQB",
    "outputId": "38ad4b20-218b-441e-c09b-c13650f61476"
   },
   "outputs": [
    {
     "data": {
      "text/plain": [
       "0.07407407407407407"
      ]
     },
     "metadata": {},
     "output_type": "display_data"
    }
   ],
   "source": []
  },
  {
   "cell_type": "markdown",
   "metadata": {},
   "source": [
    "1/(1/2*3**3)"
   ]
  },
  {
   "cell_type": "code",
   "execution_count": 3,
   "metadata": {},
   "outputs": [
    {
     "data": {
      "text/plain": [
       "0.07407407407407407"
      ]
     },
     "execution_count": 3,
     "metadata": {},
     "output_type": "execute_result"
    }
   ],
   "source": [
    "1/(1/2*3**3)"
   ]
  },
  {
   "cell_type": "markdown",
   "metadata": {
    "id": "0MbIkIhxtkCJ"
   },
   "source": [
    "2. Dado el diccionario vehiculos compuesto de nombres de vehículos y sus pesos en kilogramos, construye una lista con los nombres, escritos en mayúscula, de aquellos vehículos que tienen un peso inferior a 5000 kilogramos. Usa list comprehension.\n"
   ]
  },
  {
   "cell_type": "code",
   "execution_count": null,
   "metadata": {
    "colab": {
     "base_uri": "https://localhost:8080/"
    },
    "id": "4TCKkixCtrI8",
    "outputId": "625b4574-5c12-4487-cea1-99d100d42ed7"
   },
   "outputs": [],
   "source": [
    "vehiculos = {\n",
    "    \"Sedan\": 1500,\n",
    "    \"SUV\": 2000,\n",
    "    \"Pickup\": 2500,\n",
    "    \"Ranchera\": 1600,\n",
    "    \"Furgo\": 2400,\n",
    "    \"Semi\": 13600,\n",
    "    \"Bicicleta\": 7,\n",
    "    \"Moto\": 110,\n",
    "}\n"
   ]
  },
  {
   "cell_type": "code",
   "execution_count": 12,
   "metadata": {},
   "outputs": [
    {
     "data": {
      "text/plain": [
       "['SEDAN', 'SUV', 'PICKUP', 'RANCHERA', 'FURGO', 'BICICLETA', 'MOTO']"
      ]
     },
     "execution_count": 12,
     "metadata": {},
     "output_type": "execute_result"
    }
   ],
   "source": [
    "[i.upper() for i in vehiculos if vehiculos[i]<5000]"
   ]
  },
  {
   "cell_type": "markdown",
   "metadata": {
    "id": "1-Kcl0sCtvVQ"
   },
   "source": [
    "3. Escribe una función que reciba como argumentos hora y minutos expresados en formato de 24 horas y devuelva una tupla del tipo (hora12, minutos, _) que exprese la hora en el formato 12 horas y un tercer elemento que indique si es tarde ( _ ) o mañana (None). Así, por ejemplo, si los argumentos son hora=20, minutos=16, la tupla resultante sería (8, 16, \\*). En cambio, si los argumentos son hora=8, minutos=16, la tupla resultante sería (8, 16, None).\n"
   ]
  },
  {
   "cell_type": "code",
   "execution_count": null,
   "metadata": {
    "colab": {
     "base_uri": "https://localhost:8080/"
    },
    "id": "ItHrc4BTt0x1",
    "outputId": "627e7a1b-763f-493b-b00e-cd4ca41ab251"
   },
   "outputs": [
    {
     "name": "stdout",
     "output_type": "stream",
     "text": [
      "(8, 36, '*')\n",
      "(7, 25, None)\n",
      "(11, 59, '*')\n"
     ]
    }
   ],
   "source": [
    "print(reloj(20, 36))\n",
    "print(reloj(7, 25))\n",
    "print(reloj(23, 59))\n"
   ]
  },
  {
   "cell_type": "code",
   "execution_count": 16,
   "metadata": {},
   "outputs": [
    {
     "name": "stdout",
     "output_type": "stream",
     "text": [
      "(8, 36, '*')\n",
      "(7, 25, 'None')\n",
      "(11, 59, '*')\n"
     ]
    }
   ],
   "source": [
    "def reloj(hora,minuto):\n",
    "    if (hora>12):\n",
    "        return f\"({hora-12}, {minuto}, '*')\"\n",
    "    else:\n",
    "        return f\"({hora}, {minuto}, 'None')\"\n",
    "    \n",
    "print(reloj(20, 36))\n",
    "print(reloj(7, 25))\n",
    "print(reloj(23, 59))\n",
    "    "
   ]
  },
  {
   "cell_type": "markdown",
   "metadata": {
    "id": "4BOaJ-zZt1Zy"
   },
   "source": [
    "4. Usando math.pi, escribe una función que convierta grados en radianes y viceversa. Los argumentos de la función deben ser (valor,'rad') cuando se quiera convertir grados en radianes, mientras que los argumentos serán (valor,'gra') cuando lo que se quiera es convertir radianes en grados.\n"
   ]
  },
  {
   "cell_type": "code",
   "execution_count": null,
   "metadata": {
    "colab": {
     "base_uri": "https://localhost:8080/"
    },
    "id": "GNe9RPFzt65s",
    "outputId": "03eedc8b-a277-451c-a683-227845bb7870"
   },
   "outputs": [
    {
     "name": "stdout",
     "output_type": "stream",
     "text": [
      "0.017453292519943295\n",
      "57.29577951308232\n",
      "3.141592653589793\n"
     ]
    }
   ],
   "source": [
    "print(grad2rad(1, \"rad\"))\n",
    "print(grad2rad(1, \"gra\"))\n",
    "print(grad2rad(180, \"rad\"))\n"
   ]
  },
  {
   "cell_type": "code",
   "execution_count": 21,
   "metadata": {},
   "outputs": [
    {
     "name": "stdout",
     "output_type": "stream",
     "text": [
      "0.017453292519943295\n",
      "57.29577951308232\n",
      "3.141592653589793\n"
     ]
    }
   ],
   "source": [
    "def grad2rad(valor,tipo): \n",
    "    if (tipo==\"rad\"): \n",
    "        return math.radians(valor) \n",
    "    else: \n",
    "        return math.degrees(valor)\n",
    "\n",
    "print(grad2rad(1, \"rad\")) \n",
    "print(grad2rad(1, \"gra\")) \n",
    "print(grad2rad(180, \"rad\"))"
   ]
  },
  {
   "cell_type": "markdown",
   "metadata": {
    "id": "PGuZQmL4t7aM"
   },
   "source": [
    "5. Escribe una clase que represente un cilindro mediante sus dimensiones (radio y altura) y que tenga como métodos el cálculo del volumen, el cálculo del área y el método que permita imprimir toda la información del cilindro al hacer print.\n"
   ]
  },
  {
   "cell_type": "code",
   "execution_count": null,
   "metadata": {
    "colab": {
     "base_uri": "https://localhost:8080/"
    },
    "id": "fBCZ4JUCuAft",
    "outputId": "32cf6b51-f2a5-4a9e-d854-aa231e18f266"
   },
   "outputs": [
    {
     "name": "stdout",
     "output_type": "stream",
     "text": [
      "El cilindro de radio 2 y altura 4 tiene el volumen 50.26548245743669 y la superficie 75.39822368615503\n"
     ]
    }
   ],
   "source": [
    "cyl = Cilindro(2, 4)\n",
    "print(cyl)\n"
   ]
  },
  {
   "cell_type": "code",
   "execution_count": 40,
   "metadata": {},
   "outputs": [
    {
     "name": "stdout",
     "output_type": "stream",
     "text": [
      "El cilindro de radio 2 y altura 4 tiene el volumen 50.26548245743669 y la superficie 75.39822368615503\n"
     ]
    }
   ],
   "source": [
    "class Cilindro:\n",
    "    def __init__(self,radio,altura):\n",
    "        self.radio=radio\n",
    "        self.altura=altura\n",
    "    def area(self):\n",
    "        return 2*math.pi*self.radio*self.altura+2*math.pi*self.radio**2\n",
    "    def volumen(self):\n",
    "        return math.pi*self.altura*self.radio**2\n",
    "    def __str__(self):\n",
    "        return f\"El cilindro de radio {self.radio} y altura {self.altura} tiene el volumen {self.volumen()} y la superficie {self.area()}\"\n",
    "    \n",
    "cyl = Cilindro(2, 4)\n",
    "print(cyl)\n",
    "        "
   ]
  },
  {
   "cell_type": "code",
   "execution_count": null,
   "metadata": {},
   "outputs": [],
   "source": []
  }
 ],
 "metadata": {
  "colab": {
   "provenance": [],
   "toc_visible": true
  },
  "kernelspec": {
   "display_name": "Python 3 (ipykernel)",
   "language": "python",
   "name": "python3"
  },
  "language_info": {
   "codemirror_mode": {
    "name": "ipython",
    "version": 3
   },
   "file_extension": ".py",
   "mimetype": "text/x-python",
   "name": "python",
   "nbconvert_exporter": "python",
   "pygments_lexer": "ipython3",
   "version": "3.10.9"
  },
  "vscode": {
   "interpreter": {
    "hash": "b197d077b85383597bf8661f92fb5e9423b402f9618d7eba444b50c094388fdb"
   }
  }
 },
 "nbformat": 4,
 "nbformat_minor": 4
}

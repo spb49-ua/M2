{
 "cells": [
  {
   "cell_type": "code",
   "execution_count": 2,
   "id": "5eac3ae8",
   "metadata": {},
   "outputs": [],
   "source": [
    "from IPython.core.interactiveshell import InteractiveShell\n",
    "#InteractiveShell.ast_node_interactivity = \"all\"        # Para imprimir todas las líneas\n",
    "InteractiveShell.ast_node_interactivity = \"last_expr\"   # Para imprimir solo la última\n"
   ]
  },
  {
   "cell_type": "code",
   "execution_count": 19,
   "id": "eb24e2c7",
   "metadata": {},
   "outputs": [],
   "source": [
    "import numpy as np                          # Librería para cálculo numérico\n",
    "from sympy import *                         # Librería para cálculo simbólico\n",
    "from sympy.plotting import plot as symplot  # Librería para la generación de graficos\n",
    "from scipy.integrate import quad            # Librería scipy para comando de integración quad\n",
    "\n",
    "\n",
    "# import pylab as plt # biblioteca para la generación de gráficos a partir de listas o arrays\n",
    "# from sympy.abc import x, y, h # Carga de un simbólico \"x\"\n",
    "# from sympy.plotting.pygletplot import PygletPlot as Plot # Librería para los gráficos\n",
    "\n"
   ]
  },
  {
   "cell_type": "markdown",
   "id": "ca334c9b",
   "metadata": {},
   "source": [
    "## Solución numérica de una ecuación con `fsolve()`"
   ]
  },
  {
   "cell_type": "code",
   "execution_count": 59,
   "id": "fe041dc6",
   "metadata": {},
   "outputs": [
    {
     "name": "stdout",
     "output_type": "stream",
     "text": [
      "Introduce lal función: x**2-sin(x)-1/2\n",
      "[1.19608203]\n"
     ]
    }
   ],
   "source": [
    "from sympy.abc import x                 # Carga el valor simbólico \"x\"            \n",
    "from scipy.optimize import fsolve       # fsolve() resuelve ecuaciones no lineales\n",
    "\n",
    "#f = x**2 - sin(x) - 1/2\n",
    "f=input(\"Introduce lal función: \")\n",
    "\n",
    "f_np = lambdify(x, f)                   # lambdify() convierte una expresión simbólica en una expresión que se puede evaluar numéricamente\n",
    "solution = fsolve(f_np, 0.5)            # Hay que partir de un valor inicial de x, en este caso 0.5\n",
    "\n",
    "# solution = fsolve(lambdify(x, x**2 - sin(x) - 1/2), 2)\n",
    "\n",
    "print(solution)\n"
   ]
  },
  {
   "cell_type": "markdown",
   "id": "1357125b",
   "metadata": {},
   "source": [
    "**Sin utilizar el comando `lambdify`:**"
   ]
  },
  {
   "cell_type": "code",
   "execution_count": 46,
   "id": "0ff0b34c",
   "metadata": {},
   "outputs": [
    {
     "name": "stdout",
     "output_type": "stream",
     "text": [
      "[1.19608203]\n"
     ]
    }
   ],
   "source": [
    "from sympy.abc import x                 # Carga el valor simbólico \"x\"\n",
    "from scipy.optimize import fsolve       # fsolve resuelve ecuaciones no lineales\n",
    "\n",
    "\n",
    "def f_np(x):                            # Función para devolver el valor\n",
    "  return [x[0]**2 - sin(x[0]) - 1/2]    # numérico de f_np\n",
    "\n",
    "solution = fsolve(f_np, 0.5)\n",
    "\n",
    "print(solution)"
   ]
  },
  {
   "cell_type": "markdown",
   "id": "a1462359",
   "metadata": {},
   "source": [
    "**Vamos a representar la función para ver los valores de los quodemos partir:**"
   ]
  },
  {
   "cell_type": "code",
   "execution_count": 47,
   "id": "77c38b75",
   "metadata": {},
   "outputs": [
    {
     "data": {
      "image/png": "[encoded data removed]",
      "text/plain": [
       "<Figure size 432x288 with 1 Axes>"
      ]
     },
     "metadata": {
      "needs_background": "light"
     },
     "output_type": "display_data"
    }
   ],
   "source": [
    "p = symplot(f, xlim=(-1.5,2), ylim=(-2,4)) \n"
   ]
  },
  {
   "cell_type": "markdown",
   "id": "ed92402b",
   "metadata": {},
   "source": [
    "**Comprobemos que se cumple el teorema de Bolzano en el intervalo [0,2]**"
   ]
  },
  {
   "cell_type": "code",
   "execution_count": 56,
   "id": "6b0b7b9c",
   "metadata": {},
   "outputs": [
    {
     "data": {
      "text/latex": [
       "$\\displaystyle - \\frac{7}{4} + \\frac{\\sin{\\left(2 \\right)}}{2}$"
      ],
      "text/plain": [
       "-7/4 + sin(2)/2"
      ]
     },
     "execution_count": 56,
     "metadata": {},
     "output_type": "execute_result"
    }
   ],
   "source": [
    "f=sympify(f)             # sympify convierte f, que es una cadena de caracteres al introducirla con input,\n",
    "f.subs(x,0)*f.subs(x,2)  # en una expresión matemática que podemos evaluar"
   ]
  },
  {
   "cell_type": "code",
   "execution_count": 57,
   "id": "87a3ae28",
   "metadata": {},
   "outputs": [
    {
     "data": {
      "text/latex": [
       "$\\displaystyle -1$"
      ],
      "text/plain": [
       "-1"
      ]
     },
     "execution_count": 57,
     "metadata": {},
     "output_type": "execute_result"
    }
   ],
   "source": [
    "sign(f.subs(x,0)*f.subs(x,2)) # Proporciona el signo de f(0)*f(2)"
   ]
  },
  {
   "cell_type": "markdown",
   "id": "f3473635",
   "metadata": {},
   "source": [
    "## Método de la Bisección"
   ]
  },
  {
   "cell_type": "markdown",
   "id": "22166fcf",
   "metadata": {},
   "source": [
    "El **método de la Bisección** se implimetará de lal siguiente forma:\n",
    "\n",
    "**Entrada:** Una función, un intervalo, el error en la función, la tolerancia\n",
    "y el número de iteraciones: $f(x), a, b, epsilon, delta, n$ con $ f(a_i)·f(b_i) < 0 $, ∀i\n",
    "\n",
    "**Salida:** $ c_i $\n",
    "\n",
    "**Algoritmo**:\n",
    "1. Calculamos el punto medio del intervalo como $ c_i = (a_i + b_i)/2 $, \n",
    "2. Comprobamos si cumple Bolzano, $ f(a_i)·f(c_i) < 0 $, entonces $ b_{i+1} = c_i $, $ a_{i+1} = a_i $, en caso contrario $ a_{i+1} = c_i $, $b_{i+1} = b_i $\n",
    "3. Paramos si $ h_i < delta $ ó $ |f(c_i)| < epsilon $ ó $ i \\geq n $\n",
    "4. En caso de que no se cumpla ninguna de las condiciones de parada\n",
    "$i = i + 1$ y volver al punto 1\n",
    "\n",
    "Es un **método cerrado**, lo que significa que la raíz está en $[a_i, b_i]$"
   ]
  },
  {
   "cell_type": "markdown",
   "id": "ef421b58",
   "metadata": {},
   "source": [
    "**Pseudocódigo**\n",
    "\n",
    "```\n",
    "BúsquedaPorBisección (f(x), a, b, Δ, ε, n)\n",
    "  i:=0\n",
    "  h:=abs(b-a)\n",
    "  repetir\n",
    "    i:=i+1\n",
    "    c:=(a+b)/2\n",
    "    h:=h/2\n",
    "    si signo(f(a))*signo(f(c))<0 entonces\n",
    "       b:=c\n",
    "    si no\n",
    "       a:=c\n",
    "  hasta (abs(f(c)) ≤ ε) ó (h ≤ Δ) ó (i = n)\n",
    "  devolver c\n",
    "```"
   ]
  },
  {
   "cell_type": "markdown",
   "id": "1ed5ea3d",
   "metadata": {},
   "source": [
    "### Ejercicio 1\n",
    "Construir una función llamada $biseccion(f,a,b,tolerancia,errorfun,maxiter)$ que implemente el Método de la Bisección, teniendo en cuenta que el error en la raíz es la $tolerancia = delta$, el error en la función es $errorfun = epsilon$ y el número máximo de iteraciones es $maxiter$"
   ]
  },
  {
   "cell_type": "markdown",
   "id": "3a3d9b98",
   "metadata": {},
   "source": [
    "Prueba el método con la función $f(x) = x^2 − sin(x) − 0.5$ cuando $\\Delta \\leq 10^{-3}$, $\\epsilon \\leq 10^{-3}$ y 4 iteraciones como máximo, en el intervalo$[0, 2]$"
   ]
  },
  {
   "cell_type": "code",
   "execution_count": 9,
   "id": "2b036c10",
   "metadata": {},
   "outputs": [
    {
     "name": "stdout",
     "output_type": "stream",
     "text": [
      "Introduzca la función                : x**2-sin(x)-0.5\n",
      "Introduzca a                         : 0\n",
      "Introduzca b                         : 2\n",
      "Introduzca la tolerancia             : .001\n",
      "Introduzca el error de la función    : .001\n",
      "Introduzca el máximo de iteraciones  : 4\n",
      "\n",
      "\n",
      " i         a            c            b          f(a)         f(c)         f(b)           h\n",
      "01     0.000000     1.000000     2.000000    -0.500000    -0.341471     2.590703     1.000000   \n",
      "02     1.000000     1.500000     2.000000    -0.341471     0.752505     2.590703     0.500000   \n",
      "03     1.000000     1.250000     1.500000    -0.341471     0.113515     0.752505     0.250000   \n",
      "04     1.000000     1.125000     1.250000    -0.341471    -0.136643     0.113515     0.125000   \n",
      "\n",
      " raiz:  1.125\n"
     ]
    },
    {
     "data": {
      "image/png": "[encoded data removed]",
      "text/plain": [
       "<Figure size 432x288 with 1 Axes>"
      ]
     },
     "metadata": {
      "needs_background": "light"
     },
     "output_type": "display_data"
    }
   ],
   "source": [
    "# IMPORTACIÓN DE LIBRERÍAS\n",
    "\n",
    "import numpy as np\n",
    "from sympy import *\n",
    "from sympy.abc import x\n",
    "import matplotlib.pyplot as plt\n",
    "\n",
    "# FUNCIÓN BISECCIÓN\n",
    "\n",
    "def biseccion(f,a,b,tolerancia,errorfun,maxiter):\n",
    "\n",
    "    f = sympify(f)\n",
    "    fa = f.subs(x,a)\n",
    "    fb = f.subs(x,b)\n",
    "\n",
    "    if fa * fb >= 0:\n",
    "        tabla = []\n",
    "        raiz = false\n",
    "        solucion = false\n",
    "        return (tabla,raiz,solucion)\n",
    "\n",
    "    solucion=true\n",
    "    tabla = []\n",
    "    h = b - a\n",
    "\n",
    "    i = 1\n",
    "    while 1:\n",
    "        h = h / 2\n",
    "        c = (a + b) / 2\n",
    "        fc = f.subs(x,c)\n",
    "        tabla.append([i,a,c,b,fa,fc,fb,h])\n",
    "        i = i + 1\n",
    "\n",
    "        if fa * fc < 0:\n",
    "            b = c\n",
    "            fb = fc\n",
    "        else:\n",
    "            a = c\n",
    "            fa = fc\n",
    "\n",
    "        if not(h >= tolerancia and abs(fc) >= errorfun and i <= maxiter):\n",
    "            break\n",
    "\n",
    "    tabla = np.array(tabla)\n",
    "    raiz = c\n",
    "\n",
    "    return(tabla,raiz,solucion)\n",
    "\n",
    "\n",
    "# ENTRADA DE DATOS\n",
    "\n",
    "f = input('Introduzca la función                : ')\n",
    "a = float(input('Introduzca a                         : '))\n",
    "b = float(input('Introduzca b                         : '))\n",
    "tolerancia = float(input('Introduzca la tolerancia             : '))\n",
    "errorfun = float(input('Introduzca el error de la función    : '))\n",
    "maxiter = int(input('Introduzca el máximo de iteraciones  : '))\n",
    "\n",
    "\n",
    "# LLAMADA A LA FUNCIÓN biseccion\n",
    "\n",
    "(tabla,raiz,solucion) = biseccion(f,a,b,tolerancia,errorfun,maxiter)\n",
    "\n",
    "\n",
    "# SALIDA DE RESULTADOS\n",
    "\n",
    "if solucion == false:\n",
    "    print('\\n')\n",
    "    print(\"El método de la bisección no se puede aplicar: f(a)*f(b)>=0\")\n",
    "    print('\\n')\n",
    "\n",
    "if solucion == true:\n",
    "    print('\\n')\n",
    "    print(' i         a            c            b          f(a)         f(c)         f(b)           h')\n",
    "    n = len(tabla)\n",
    "    for i in range(0,n,1):\n",
    "        unafila = tabla[i]\n",
    "        formato = '{:0>2d}'+'   '+(len(unafila)-1)*'{:>10.6f}   '\n",
    "        unafila = formato.format(*unafila)\n",
    "        print(unafila)\n",
    "    print('\\n','raiz: ',raiz)\n",
    "\n",
    "\n",
    "# REPRESENTACIÓN GRÁFICA\n",
    "\n",
    "xi = tabla[:,2]\n",
    "yi = tabla[:,5]\n",
    "\n",
    "orden = np.argsort(xi)\n",
    "xi = xi[orden]\n",
    "yi = yi[orden]\n",
    "\n",
    "plt.plot(xi,yi)\n",
    "plt.plot(xi,yi,'o')\n",
    "plt.axhline(0, color=\"black\")\n",
    "plt.xlabel('x')\n",
    "plt.ylabel('f(x)')\n",
    "plt.title('BISECCIÓN')\n",
    "plt.grid()\n",
    "plt.show()"
   ]
  },
  {
   "cell_type": "code",
   "execution_count": 4,
   "id": "4b6688c2",
   "metadata": {},
   "outputs": [],
   "source": [
    "# OjO, esta es la solución que dan, si os fijáis es la misma que mía (con una sutil diferencia jejeje...)\n",
    "# hasta la cuarta iteración, pero ellos dan el resultado del 'c' de la quinta iteración.\n",
    "# Yo he puesto la condicón de parada al final por lo que cuatro iteraciones son cuatro... y el resultado\n",
    "# es el 'c' de la cuarta iteración, no de la quita... pero en fin voy a hacer también de la otra forma...\n",
    "\n",
    "\n",
    "h_n and f_c_n 1.0 0.341470984807897\n",
    "h_n and f_c_n 1.5 0.752505013395946\n",
    "h_n and f_c_n 1.25 0.113515380644414\n",
    "h_n and f_c_n 1.125 0.136642594099095\n",
    "Maximo de iteraciones alcanzadas\n",
    "1.1875"
   ]
  },
  {
   "cell_type": "code",
   "execution_count": 8,
   "id": "e885a9bd",
   "metadata": {},
   "outputs": [
    {
     "name": "stdout",
     "output_type": "stream",
     "text": [
      "Introduzca la función                : x**2-sin(x)-0.5\n",
      "Introduzca a                         : 0\n",
      "Introduzca b                         : 2\n",
      "Introduzca la tolerancia             : .001\n",
      "Introduzca el error de la función    : .001\n",
      "Introduzca el máximo de iteraciones  : 4\n",
      "\n",
      "\n",
      " i         a            c            b          f(a)         f(c)         f(b)           h\n",
      "01     0.000000     1.000000     2.000000    -0.500000    -0.341471     2.590703     1.000000   \n",
      "02     1.000000     1.500000     2.000000    -0.341471     0.752505     2.590703     0.500000   \n",
      "03     1.000000     1.250000     1.500000    -0.341471     0.113515     0.752505     0.250000   \n",
      "04     1.000000     1.125000     1.250000    -0.341471    -0.136643     0.113515     0.125000   \n",
      "\n",
      " raiz:  1.1875\n"
     ]
    },
    {
     "data": {
      "image/png": "[encoded data removed]",
      "text/plain": [
       "<Figure size 432x288 with 1 Axes>"
      ]
     },
     "metadata": {
      "needs_background": "light"
     },
     "output_type": "display_data"
    }
   ],
   "source": [
    "# IMPORTACIÓN DE LIBRERÍAS\n",
    "\n",
    "import numpy as np\n",
    "from sympy import *\n",
    "from sympy.abc import x\n",
    "import matplotlib.pyplot as plt\n",
    "\n",
    "# FUNCIÓN BISECCIÓN\n",
    "\n",
    "def biseccion(f,a,b,tolerancia,errorfun,maxiter):\n",
    "\n",
    "    f = sympify(f)\n",
    "    fa = f.subs(x,a)\n",
    "    fb = f.subs(x,b)\n",
    "\n",
    "    if fa * fb >= 0:\n",
    "        tabla = []\n",
    "        raiz = false\n",
    "        solucion = false\n",
    "        return (tabla,raiz,solucion)\n",
    "\n",
    "    solucion=true\n",
    "    tabla = []\n",
    "    h = b - a\n",
    "\n",
    "    i = 1\n",
    "    while 1:\n",
    "        h = h / 2\n",
    "        c = (a + b) / 2\n",
    "        fc = f.subs(x,c)\n",
    "        tabla.append([i,a,c,b,fa,fc,fb,h])\n",
    "        i = i + 1\n",
    "\n",
    "        if fa * fc < 0:\n",
    "            b = c\n",
    "            fb = fc\n",
    "        else:\n",
    "            a = c\n",
    "            fa = fc\n",
    "\n",
    "        if not(h >= tolerancia and abs(fc) >= errorfun and i <= maxiter):\n",
    "            break\n",
    "\n",
    "    tabla = np.array(tabla)\n",
    "    c = (a + b) / 2              # OjO: aquí está la diferencia\n",
    "    raiz = c\n",
    "\n",
    "    return(tabla,raiz,solucion)\n",
    "\n",
    "\n",
    "# ENTRADA DE DATOS\n",
    "\n",
    "f = input('Introduzca la función                : ')\n",
    "a = float(input('Introduzca a                         : '))\n",
    "b = float(input('Introduzca b                         : '))\n",
    "tolerancia = float(input('Introduzca la tolerancia             : '))\n",
    "errorfun = float(input('Introduzca el error de la función    : '))\n",
    "maxiter = int(input('Introduzca el máximo de iteraciones  : '))\n",
    "\n",
    "\n",
    "# LLAMADA A LA FUNCIÓN biseccion\n",
    "\n",
    "(tabla,raiz,solucion) = biseccion(f,a,b,tolerancia,errorfun,maxiter)\n",
    "\n",
    "\n",
    "# SALIDA DE RESULTADOS\n",
    "\n",
    "if solucion == false:\n",
    "    print('\\n')\n",
    "    print(\"El método de la bisección no se puede aplicar: f(a)*f(b)>=0\")\n",
    "    print('\\n')\n",
    "\n",
    "if solucion == true:\n",
    "    print('\\n')\n",
    "    print(' i         a            c            b          f(a)         f(c)         f(b)           h')\n",
    "    n = len(tabla)\n",
    "    for i in range(0,n,1):\n",
    "        unafila = tabla[i]\n",
    "        formato = '{:0>2d}'+'   '+(len(unafila)-1)*'{:>10.6f}   '\n",
    "        unafila = formato.format(*unafila)\n",
    "        print(unafila)\n",
    "    print('\\n','raiz: ',raiz)\n",
    "\n",
    "\n",
    "# REPRESENTACIÓN GRÁFICA\n",
    "\n",
    "xi = tabla[:,2]\n",
    "yi = tabla[:,5]\n",
    "\n",
    "orden = np.argsort(xi)\n",
    "xi = xi[orden]\n",
    "yi = yi[orden]\n",
    "\n",
    "plt.plot(xi,yi)\n",
    "plt.plot(xi,yi,'o')\n",
    "plt.axhline(0, color=\"black\")\n",
    "plt.xlabel('x')\n",
    "plt.ylabel('f(x)')\n",
    "plt.title('BISECCIÓN')\n",
    "plt.grid()\n",
    "plt.show()"
   ]
  },
  {
   "cell_type": "code",
   "execution_count": null,
   "id": "f86196ff",
   "metadata": {},
   "outputs": [],
   "source": [
    "# Bueno, aceptamos pulpo como animal de compñía. Le pongo a su resultado el mismo formato que al mío\n",
    "# par que se vea la coincidencia\n",
    "\n",
    "\n",
    "                     c        |f(c)|\n",
    "h_n and f_c_n    1.000000    0.341471\n",
    "h_n and f_c_n    1.500000    0.752505\n",
    "h_n and f_c_n    1.250000    0.113515\n",
    "h_n and f_c_n    1.125000    0.136643\n",
    "\n",
    "Maximo de iteraciones alcanzadas\n",
    "\n",
    "raiz:  1.1875"
   ]
  },
  {
   "cell_type": "markdown",
   "id": "ae564f23",
   "metadata": {},
   "source": [
    "Prueba el método con la función $f(x) = x^2 − sin(x) − 0.5$ cuando $\\Delta \\leq 10^{-3}$, $\\epsilon \\leq 10^{-3}$ y 4 iteraciones como máximo, en el intervalo $[−1, 0]$"
   ]
  },
  {
   "cell_type": "code",
   "execution_count": null,
   "id": "854c466c",
   "metadata": {},
   "outputs": [],
   "source": [
    "# MI RESULTADO\n",
    "\n",
    "\n",
    "Introduzca la función                : x**2-sin(x)-0.5\n",
    "Introduzca a                          : -1\n",
    "Introduzca b                          : 0\n",
    "Introduzca la tolerancia             : .001\n",
    "Introduzca el error de la función    : .001\n",
    "Introduzca el máximo de iteraciones  : 4\n",
    "\n",
    "\n",
    " i         a            c            b          f(a)         f(c)         f(b)           h\n",
    "01    -1.000000    -0.500000     0.000000     1.341471     0.229426    -0.500000     0.500000   \n",
    "02    -0.500000    -0.250000     0.000000     0.229426    -0.190096    -0.500000     0.250000   \n",
    "03    -0.500000    -0.375000    -0.250000     0.229426     0.006898    -0.190096     0.125000   \n",
    "04    -0.375000    -0.312500    -0.250000     0.006898    -0.094905    -0.190096     0.062500   \n",
    "\n",
    "# raiz:  -0.34375"
   ]
  },
  {
   "cell_type": "code",
   "execution_count": null,
   "id": "52570a3a",
   "metadata": {},
   "outputs": [],
   "source": [
    "# SU RESULTADO\n",
    "\n",
    "h_n and f_c_n 0.5 0.229425538604203\n",
    "h_n and f_c_n 0.25 0.190096040745477\n",
    "h_n and f_c_n 0.375 0.00689752908604757\n",
    "h_n and f_c_n 0.3125 0.0949052354196191\n",
    "Maximo de iteraciones alcanzadas\n",
    "-0.34375"
   ]
  },
  {
   "cell_type": "markdown",
   "id": "3855463f",
   "metadata": {},
   "source": [
    "Prueba el método con la función $f(x) = x^2 − sin(x) − 0.5$ cuando $\\Delta \\leq 10^{-5}$ en el intervalo$[0, 2]$ ¿cuántas iteraciones necesitas?"
   ]
  },
  {
   "cell_type": "code",
   "execution_count": null,
   "id": "35e07fb7",
   "metadata": {},
   "outputs": [],
   "source": [
    "# MI RESULTADO\n",
    "\n",
    "#ntroduzca la función                : x**2-sin(x)-0.5\n",
    "Introduzca a                          : 0\n",
    "Introduzca b                          : 2\n",
    "Introduzca la tolerancia             : .00001\n",
    "Introduzca el error de la función    : .00000000000001\n",
    "Introduzca el máximo de iteraciones  : 1000\n",
    "\n",
    "\n",
    " i         a            c            b          f(a)         f(c)         f(b)           h\n",
    "01     0.000000     1.000000     2.000000    -0.500000    -0.341471     2.590703     1.000000   \n",
    "02     1.000000     1.500000     2.000000    -0.341471     0.752505     2.590703     0.500000   \n",
    "03     1.000000     1.250000     1.500000    -0.341471     0.113515     0.752505     0.250000   \n",
    "04     1.000000     1.125000     1.250000    -0.341471    -0.136643     0.113515     0.125000   \n",
    "05     1.125000     1.187500     1.250000    -0.136643    -0.017281     0.113515     0.062500   \n",
    "06     1.187500     1.218750     1.250000    -0.017281     0.046682     0.113515     0.031250   \n",
    "07     1.187500     1.203125     1.218750    -0.017281     0.014343     0.046682     0.015625   \n",
    "08     1.187500     1.195312     1.203125    -0.017281    -0.001558     0.014343     0.007812   \n",
    "09     1.195312     1.199219     1.203125    -0.001558     0.006370     0.014343     0.003906   \n",
    "10     1.195312     1.197266     1.199219    -0.001558     0.002400     0.006370     0.001953   \n",
    "11     1.195312     1.196289     1.197266    -0.001558     0.000420     0.002400     0.000977   \n",
    "12     1.195312     1.195801     1.196289    -0.001558    -0.000570     0.000420     0.000488   \n",
    "13     1.195801     1.196045     1.196289    -0.000570    -0.000075     0.000420     0.000244   \n",
    "14     1.196045     1.196167     1.196289    -0.000075     0.000172     0.000420     0.000122   \n",
    "15     1.196045     1.196106     1.196167    -0.000075     0.000048     0.000172     0.000061   \n",
    "16     1.196045     1.196075     1.196106    -0.000075    -0.000013     0.000048     0.000031   \n",
    "17     1.196075     1.196091     1.196106    -0.000013     0.000018     0.000048     0.000015   \n",
    "18     1.196075     1.196083     1.196091    -0.000013     0.000002     0.000018     0.000008   \n",
    "\n",
    " raiz:  1.1960792541503906\n",
    "\n",
    "# Como se puede comporbar el la iteración 18 ya tenemos un error menor a 0.00001. Si os fijáis en sus\n",
    "# resltados (abajo) a partir de la linea 18 el resultado es 1.19608 (ya no varí el quinto decimal)"
   ]
  },
  {
   "cell_type": "code",
   "execution_count": null,
   "id": "dcfbde32",
   "metadata": {},
   "outputs": [],
   "source": [
    "h_n and f_c_n 1.0 0.341470984807897\n",
    "h_n and f_c_n 1.5 0.752505013395946\n",
    "h_n and f_c_n 1.25 0.113515380644414\n",
    "h_n and f_c_n 1.125 0.136642594099095\n",
    "h_n and f_c_n 1.1875 0.0172806673848677\n",
    "h_n and f_c_n 1.21875 0.0466824969232402\n",
    "h_n and f_c_n 1.203125 0.0143428644864758\n",
    "h_n and f_c_n 1.1953125 0.00155832788866883\n",
    "h_n and f_c_n 1.19921875 0.00636990078696520\n",
    "h_n and f_c_n 1.197265625 0.00240019592545715\n",
    "h_n and f_c_n 1.1962890625 0.000419536557499267\n",
    "h_n and f_c_n 1.19580078125 0.000569745009508682\n",
    "h_n and f_c_n 1.196044921875 7.51915646501899e-5\n",
    "h_n and f_c_n 1.1961669921875 0.000172150661430281\n",
    "h_n and f_c_n 1.19610595703125 4.84740896831148e-5\n",
    "h_n and f_c_n 1.196075439453125 1.33601021551355e-5\n",
    "h_n and f_c_n 1.1960906982421875 1.75566525953963e-5\n",
    "h_n and f_c_n 1.1960830688476562 2.09818992813471e-6\n",
    "h_n and f_c_n 1.1960792541503906 5.63097743655483e-6\n",
    "h_n and f_c_n 1.1960811614990234 1.76639908500142e-6\n",
    "h_n and f_c_n 1.1960821151733398 1.65894088910434e-7\n",
    "h_n and f_c_n 1.1960816383361816 8.00252831223425e-7\n",
    "h_n and f_c_n 1.1960818767547607 3.17179454478733e-7\n",
    "h_n and f_c_n 1.1960819959640503 7.56427036563423e-8\n",
    "h_n and f_c_n 1.196082055568695 4.51256874089978e-8\n",
    "h_n and f_c_n 1.1960820257663727 1.52585093449176e-8\n",
    "h_n and f_c_n 1.1960820406675339 1.49335886989732e-8\n",
    "h_n and f_c_n 1.1960820332169533 1.62460489505634e-10\n",
    "h_n and f_c_n 1.1960820369422436 7.38556416024494e-9\n",
    "h_n and f_c_n 1.1960820350795984 3.61155183536965e-9\n",
    "h_n and f_c_n 1.1960820341482759 1.72454583946546e-9\n",
    "h_n and f_c_n 1.1960820336826146 7.81042674979915e-10\n",
    "h_n and f_c_n 1.196082033449784 3.09291037225989e-10\n",
    "h_n and f_c_n 1.1960820333333686 7.34152738601779e-11\n",
    "h_n and f_c_n 1.196082033275161 4.45224968004254e-11\n",
    "h_n and f_c_n 1.1960820333042648 1.44463330187250e-11\n",
    "h_n and f_c_n 1.1960820332897129 1.50379708685477e-11\n",
    "h_n and f_c_n 1.1960820332969888 2.95874436062604e-13\n",
    "h_n and f_c_n 1.1960820333006268 7.07522929133120e-12\n",
    "h_n and f_c_n 1.1960820332988078 3.38984396108799e-12\n",
    "h_n and f_c_n 1.1960820332978983 1.54687374021023e-12\n",
    "h_n and f_c_n 1.1960820332974436 6.25499652073813e-13\n",
    "h_n and f_c_n 1.1960820332972162 1.64979141459298e-13\n",
    "h_n and f_c_n 1.1960820332971025 6.53921361504217e-14\n",
    "h_n and f_c_n 1.1960820332971593 4.96269692007445e-14\n",
    "h_n and f_c_n 1.196082033297131 7.88258347483861e-15\n",
    "h_n and f_c_n 1.1960820332971451 2.08721928629529e-14\n",
    "h_n and f_c_n 1.196082033297138 6.55031584528842e-15\n",
    "h_n and f_c_n 1.1960820332971345 7.77156117237610e-16\n",
    "h_n and f_c_n 1.1960820332971362 2.77555756156289e-15\n",
    "h_n and f_c_n 1.1960820332971354 1.11022302462516e-15\n",
    "h_n and f_c_n 1.196082033297135 2.22044604925031e-16\n",
    "h_n and f_c_n 1.1960820332971347 2.22044604925031e-16\n",
    "h_n and f_c_n 1.196082033297135 2.22044604925031e-16\n",
    "h_n and f_c_n 1.196082033297135 2.22044604925031e-16\n",
    "h_n and f_c_n 1.196082033297135 2.22044604925031e-16\n",
    "h_n and f_c_n 1.196082033297135 2.22044604925031e-16\n",
    "h_n and f_c_n 1.196082033297135 2.22044604925031e-16\n",
    "h_n and f_c_n 1.196082033297135 2.22044604925031e-16\n",
    "No cambio en el punto. \n",
    "1.196082033297135"
   ]
  },
  {
   "cell_type": "markdown",
   "id": "008fa01d",
   "metadata": {},
   "source": [
    "### Ejercicio 2\n",
    "Dada la definición anterior que permite almacenar la información por iteración, construye una nueva función llamada $Xbiseccion(f,a,b,tolerancia,errorfun,maxiter)$ que implemente el Método de la Bisección y que almacene los resultados intermedios. \n",
    "\n",
    "**La función que he hecho en el Ejercicio 1 ya hace lo que se pide aquí. El ejercicio anterior**\n",
    "**se podría haber hecho más sencillo, sin almacenar datos y con salida sin formato...**"
   ]
  },
  {
   "cell_type": "markdown",
   "id": "93532421",
   "metadata": {},
   "source": [
    "Prueba el método con la función $f(x) = x^2 − sin(x) − 0.5$ cuando $\\Delta \\leq 10^{-9}$, $\\epsilon \\leq 10^{-9}$ y 10 iteraciones como máximo en el intervalo $[0, 2]$"
   ]
  },
  {
   "cell_type": "code",
   "execution_count": 7,
   "id": "7c17ec6c",
   "metadata": {},
   "outputs": [
    {
     "name": "stdout",
     "output_type": "stream",
     "text": [
      "Introduzca la función                : x**2-sin(x)-0.5\n",
      "Introduzca a                         : 0\n",
      "Introduzca b                         : 2\n",
      "Introduzca la tolerancia             : 1e-9\n",
      "Introduzca el error de la función    : 1e-9\n",
      "Introduzca el máximo de iteraciones  : 10\n",
      "\n",
      "\n",
      " i         a            c            b          f(a)         f(c)         f(b)           h\n",
      "01     0.000000     1.000000     2.000000    -0.500000    -0.341471     2.590703     1.000000   \n",
      "02     1.000000     1.500000     2.000000    -0.341471     0.752505     2.590703     0.500000   \n",
      "03     1.000000     1.250000     1.500000    -0.341471     0.113515     0.752505     0.250000   \n",
      "04     1.000000     1.125000     1.250000    -0.341471    -0.136643     0.113515     0.125000   \n",
      "05     1.125000     1.187500     1.250000    -0.136643    -0.017281     0.113515     0.062500   \n",
      "06     1.187500     1.218750     1.250000    -0.017281     0.046682     0.113515     0.031250   \n",
      "07     1.187500     1.203125     1.218750    -0.017281     0.014343     0.046682     0.015625   \n",
      "08     1.187500     1.195312     1.203125    -0.017281    -0.001558     0.014343     0.007812   \n",
      "09     1.195312     1.199219     1.203125    -0.001558     0.006370     0.014343     0.003906   \n",
      "10     1.195312     1.197266     1.199219    -0.001558     0.002400     0.006370     0.001953   \n",
      "\n",
      " raiz:  1.1962890625\n"
     ]
    },
    {
     "data": {
      "image/png": "[encoded data removed]",
      "text/plain": [
       "<Figure size 432x288 with 1 Axes>"
      ]
     },
     "metadata": {
      "needs_background": "light"
     },
     "output_type": "display_data"
    }
   ],
   "source": [
    "# IMPORTACIÓN DE LIBRERÍAS\n",
    "\n",
    "import numpy as np\n",
    "from sympy import *\n",
    "from sympy.abc import x\n",
    "import matplotlib.pyplot as plt\n",
    "\n",
    "# FUNCIÓN BISECCIÓN\n",
    "\n",
    "def biseccion(f,a,b,tolerancia,errorfun,maxiter):\n",
    "\n",
    "    f = sympify(f)\n",
    "    fa = f.subs(x,a)\n",
    "    fb = f.subs(x,b)\n",
    "\n",
    "    if fa * fb >= 0:\n",
    "        tabla = []\n",
    "        raiz = false\n",
    "        solucion = false\n",
    "        return (tabla,raiz,solucion)\n",
    "\n",
    "    solucion=true\n",
    "    tabla = []\n",
    "    h = b - a\n",
    "\n",
    "    i = 1\n",
    "    while 1:\n",
    "        h = h / 2\n",
    "        c = (a + b) / 2\n",
    "        fc = f.subs(x,c)\n",
    "        tabla.append([i,a,c,b,fa,fc,fb,h])\n",
    "        i = i + 1\n",
    "\n",
    "        if fa * fc < 0:\n",
    "            b = c\n",
    "            fb = fc\n",
    "        else:\n",
    "            a = c\n",
    "            fa = fc\n",
    "\n",
    "        if not(h >= tolerancia and abs(fc) >= errorfun and i <= maxiter):\n",
    "            break\n",
    "\n",
    "    tabla = np.array(tabla)\n",
    "    c = (a + b) / 2              # OjO: aquí está la diferencia\n",
    "    raiz = c\n",
    "\n",
    "    return(tabla,raiz,solucion)\n",
    "\n",
    "\n",
    "# ENTRADA DE DATOS\n",
    "\n",
    "f = input('Introduzca la función                : ')\n",
    "a = float(input('Introduzca a                         : '))\n",
    "b = float(input('Introduzca b                         : '))\n",
    "tolerancia = float(input('Introduzca la tolerancia             : '))\n",
    "errorfun = float(input('Introduzca el error de la función    : '))\n",
    "maxiter = int(input('Introduzca el máximo de iteraciones  : '))\n",
    "\n",
    "\n",
    "# LLAMADA A LA FUNCIÓN biseccion\n",
    "\n",
    "(tabla,raiz,solucion) = biseccion(f,a,b,tolerancia,errorfun,maxiter)\n",
    "\n",
    "\n",
    "# SALIDA DE RESULTADOS\n",
    "\n",
    "if solucion == false:\n",
    "    print('\\n')\n",
    "    print(\"El método de la bisección no se puede aplicar: f(a)*f(b)>=0\")\n",
    "    print('\\n')\n",
    "\n",
    "if solucion == true:\n",
    "    print('\\n')\n",
    "    print(' i         a            c            b          f(a)         f(c)         f(b)           h')\n",
    "    n = len(tabla)\n",
    "    for i in range(0,n,1):\n",
    "        unafila = tabla[i]\n",
    "        formato = '{:0>2d}'+'   '+(len(unafila)-1)*'{:>10.6f}   '\n",
    "        unafila = formato.format(*unafila)\n",
    "        print(unafila)\n",
    "    print('\\n','raiz: ',raiz)\n",
    "\n",
    "    \n",
    "# REPRESENTACIÓN GRÁFICA\n",
    "\n",
    "xi = tabla[:,2]\n",
    "yi = tabla[:,5]\n",
    "\n",
    "orden = np.argsort(xi)\n",
    "xi = xi[orden]\n",
    "yi = yi[orden]\n",
    "\n",
    "plt.plot(xi,yi)\n",
    "plt.plot(xi,yi,'o')\n",
    "plt.axhline(0, color=\"black\")\n",
    "plt.xlabel('x')\n",
    "plt.ylabel('f(x)')\n",
    "plt.title('BISECCIÓN')\n",
    "plt.grid()\n",
    "plt.show()"
   ]
  },
  {
   "cell_type": "code",
   "execution_count": null,
   "id": "1e00b666",
   "metadata": {},
   "outputs": [],
   "source": [
    "# MI RESULTADO\n",
    "\n",
    "Introduzca la función                : x**2-sin(x)-0.5\n",
    "Introduzca a                         : 0\n",
    "Introduzca b                         : 2\n",
    "Introduzca la tolerancia             : 1e-9\n",
    "Introduzca el error de la función    : 1e-9\n",
    "Introduzca el máximo de iteraciones  : 10\n",
    "\n",
    "\n",
    " i         a            c            b          f(a)         f(c)         f(b)           h\n",
    "01     0.000000     1.000000     2.000000    -0.500000    -0.341471     2.590703     1.000000   \n",
    "02     1.000000     1.500000     2.000000    -0.341471     0.752505     2.590703     0.500000   \n",
    "03     1.000000     1.250000     1.500000    -0.341471     0.113515     0.752505     0.250000   \n",
    "04     1.000000     1.125000     1.250000    -0.341471    -0.136643     0.113515     0.125000   \n",
    "05     1.125000     1.187500     1.250000    -0.136643    -0.017281     0.113515     0.062500   \n",
    "06     1.187500     1.218750     1.250000    -0.017281     0.046682     0.113515     0.031250   \n",
    "07     1.187500     1.203125     1.218750    -0.017281     0.014343     0.046682     0.015625   \n",
    "08     1.187500     1.195312     1.203125    -0.017281    -0.001558     0.014343     0.007812   \n",
    "09     1.195312     1.199219     1.203125    -0.001558     0.006370     0.014343     0.003906   \n",
    "10     1.195312     1.197266     1.199219    -0.001558     0.002400     0.006370     0.001953   \n",
    "\n",
    " raiz:  1.1962890625"
   ]
  },
  {
   "cell_type": "code",
   "execution_count": null,
   "id": "375c1d84",
   "metadata": {},
   "outputs": [],
   "source": [
    "# SU RESULTADO (un poco arreglado para poder ver algo)\n",
    "\n",
    "h_n and f_c_n 1.0 0.341470984807897\n",
    "h_n and f_c_n 1.5 0.752505013395946\n",
    "h_n and f_c_n 1.25 0.113515380644414\n",
    "h_n and f_c_n 1.125 0.136642594099095\n",
    "h_n and f_c_n 1.1875 0.0172806673848677\n",
    "h_n and f_c_n 1.21875 0.0466824969232402\n",
    "h_n and f_c_n 1.203125 0.0143428644864758\n",
    "h_n and f_c_n 1.1953125 0.00155832788866883\n",
    "h_n and f_c_n 1.19921875 0.00636990078696520\n",
    "h_n and f_c_n 1.197265625 0.00240019592545715\n",
    "Maximo de iteraciones alcanzadas\n",
    "1.1962890625 \n",
    "\n",
    "[Iteracion(a=1.0, b=2, h=1.0, c=1.0, f_c=-0.341470984807897), \n",
    " Iteracion(a=1.0, b=1.5, h=1.5, c=1.5, f_c=0.752505013395946), \n",
    " Iteracion(a=1.0, b=1.25, h=1.25, c=1.25, f_c=0.113515380644414), \n",
    " Iteracion(a=1.125, b=1.25, h=1.125, c=1.125, f_c=-0.136642594099095), \n",
    " Iteracion(a=1.1875, b=1.25, h=1.1875, c=1.1875, f_c=-0.0172806673848677), \n",
    " Iteracion(a=1.1875, b=1.21875, h=1.21875, c=1.21875, f_c=0.0466824969232402), \n",
    " Iteracion(a=1.1875, b=1.203125, h=1.203125, c=1.203125, f_c=0.0143428644864758), \n",
    " Iteracion(a=1.1953125, b=1.203125, h=1.1953125, c=1.1953125, f_c=-0.00155832788866883), \n",
    " Iteracion(a=1.1953125, b=1.19921875, h=1.19921875, c=1.19921875, f_c=0.00636990078696520), \n",
    " Iteracion(a=1.1953125, b=1.197265625, h=1.197265625, c=1.197265625, f_c=0.00240019592545715)]"
   ]
  },
  {
   "cell_type": "markdown",
   "id": "48ff3fc5",
   "metadata": {},
   "source": [
    "**Aquí tenéis el código para representar el método de bisección. Necesita la salida que han hecho ellos.**"
   ]
  },
  {
   "cell_type": "code",
   "execution_count": null,
   "id": "f760f293",
   "metadata": {},
   "outputs": [],
   "source": [
    "# Representación gráfica del Método de la Bisección, siendo l la tabla de resultados intermedios\n",
    "# obtenidos en el ejercicio anterior\n",
    "\n",
    "import random\n",
    "get_colors = lambda n: list(map(lambda i: \"#\" + \"%06x\" % random.randint(0, 0xFFFFFF),range(n)))\n",
    "\n",
    "def plot_fun_and_invervals(f,l):\n",
    "  p = symplot(f, xlim=(-6,6), ylim=(-2,12), show=False)\n",
    "  mycolors = get_colors(len(l)) # sample return:  ['#8af5da', '#fbc08c', '#b741d0', '#e599f1', '#bbcb59', '#a2a6c0']\n",
    "  for i in range(len(l)):\n",
    "    a = l[i].a\n",
    "    b = l[i].b\n",
    "    print(\"a and b\", a, b)\n",
    "    #q = plot_implicit(And(x > a, x < b), show=False)\n",
    "    q1 = plot_implicit(x - a, x_var=x, line_color=mycolors[i], show=False)\n",
    "    q2 = plot_implicit(x - b, x_var=x, line_color=mycolors[i], show=False)\n",
    "    p.extend(q1)\n",
    "    p.extend(q2)\n",
    "    p.show()\n",
    "plot_fun_and_invervals(f,l)"
   ]
  },
  {
   "cell_type": "markdown",
   "id": "69385876",
   "metadata": {},
   "source": [
    "## Método de la Secante"
   ]
  },
  {
   "cell_type": "markdown",
   "id": "605ba6d2",
   "metadata": {},
   "source": [
    "El **método de la Secante** se define como sigue:\n",
    "\n",
    "Entrada: Una función, un intervalo, el error en la función, la tolerancia\n",
    "y el número de iteraciones: $f(x), a, b, epsilon, delta, n$\n",
    "\n",
    "Salida: $ c_i $\n",
    "\n",
    "**Algoritmo**:\n",
    "1. Si $|f(a_i)| > |f(b_i)|$ entonces intercambiar $a_i$ y $b_i$\n",
    "2. Hacer $c_i = a_i − h_i$ donde $h_i = \\frac{f(a_i)(b_i−a_i)}{f(b_i)−f(a_i)}$\n",
    "3. El nuevo valor de $c_i$ sustituye a $b_i$, es decir, $b_i = c_i$\n",
    "4. Paramos si $h_i < \\Delta$ o $|f(c_i)| < \\epsilon$ o $i \\geq n$\n",
    "5. En caso de que no se cumpla ninguna de las condiciones de parada\n",
    "$i = i + 1$ y volver al punto 1\n",
    "\n",
    "Es un **método abierto**, lo que significa que no se tiene seguridad de que\n",
    "la raíz está en $[a_i, b_i]$"
   ]
  },
  {
   "cell_type": "markdown",
   "id": "a263ed87",
   "metadata": {},
   "source": [
    "**Pseudocódigo**\n",
    "\n",
    "```\n",
    "BúsquedaPorSecante (f(x), a, b, Δ, ε, n)\n",
    "  i:=0\n",
    "  repetir\n",
    "     i:=i+1\n",
    "     si abs(f(a)) > abs(f(b)) entonces\n",
    "        (*/ Intercambiar ‘a’ por ‘b’ /*)\n",
    "        a <=> b\n",
    "     h:=f(a)*(b-a)/(f(b)-f(a))\n",
    "     c:=a-h\n",
    "     b:=c\n",
    "  hasta (abs(f(c))≤ε) ó (abs(h)≤Δ) ó (i=n)\n",
    "devolver c\n",
    "```"
   ]
  },
  {
   "cell_type": "markdown",
   "id": "5977f44e",
   "metadata": {},
   "source": [
    "### Ejercicio 3\n",
    "Construir una función llamada $secante(f,a,b,tolerancia,errorfun,maxiter)$ que implemente el Método de la Secante, teniendo en cuenta que el error en la raíz es la $tolerancia = delta$, el error en la función es $errorfun = epsilon$ y el número máximo de iteraciones es $maxiter$"
   ]
  },
  {
   "cell_type": "markdown",
   "id": "6cc2caaa",
   "metadata": {},
   "source": [
    "Prueba el método con la función $f(x) = x^2 − sin(x) − 0.5$ cuando $\\Delta \\leq 10^{-3}$, $\\epsilon \\leq 10^{-3}$ y 4 iteraciones como máximo, en el intervalo$[0, 2]$"
   ]
  },
  {
   "cell_type": "code",
   "execution_count": 6,
   "id": "a7739b8c",
   "metadata": {},
   "outputs": [
    {
     "name": "stdout",
     "output_type": "stream",
     "text": [
      "Introduzca la función                : x**2-sin(x)-0.5\n",
      "Introduzca a                         : 0\n",
      "Introduzca b                         : 2\n",
      "Introduzca la tolerancia             : .001\n",
      "Introduzca el error de la función    : .001\n",
      "Introduzca el máximo de iteraciones  : 4\n",
      "\n",
      "\n",
      " i         a            c            b          f(a)         f(c)         f(b)           h\n",
      "01     0.000000     0.323551     2.000000    -0.500000    -0.713250     2.590703    -0.323551   \n",
      "02     0.000000    -0.758619     0.323551    -0.500000     0.763422    -0.713250     0.758619   \n",
      "03     0.000000    -0.300224    -0.758619    -0.500000    -0.114132     0.763422     0.300224   \n",
      "04    -0.300224    -0.389024     0.000000    -0.114132     0.030625    -0.500000     0.088800   \n",
      "\n",
      " raiz:  -0.389023629917976\n"
     ]
    }
   ],
   "source": [
    "# MÉTODO DE LA SECANTE. \n",
    "\n",
    "# IMPORTACIÓN DE LIBRERÍAS\n",
    "\n",
    "import numpy as np\n",
    "from sympy import *\n",
    "from sympy.abc import x\n",
    "\n",
    "# FUNCIÓN SECANTE\n",
    "\n",
    "def secante(f,a,b,tolerancia,errorfun,maxiter):\n",
    "\n",
    "    f = sympify(f)\n",
    "    tabla = []\n",
    "\n",
    "    i = 1\n",
    "    while 1:\n",
    "        \n",
    "        fa = f.subs(x,a)\n",
    "        fb = f.subs(x,b)\n",
    "        if abs(fa) > abs(fb):\n",
    "            auxiliar1 = a\n",
    "            a = b\n",
    "            b = auxiliar1\n",
    "            \n",
    "            auxiliar2 = fa\n",
    "            fa = fb\n",
    "            fb = auxiliar2\n",
    "        \n",
    "        h = fa * (b - a) / (fb - fa)\n",
    "        c = a - h \n",
    "        fc = f.subs(x,c)\n",
    "        tabla.append([i,a,c,b,fa,fc,fb,h])\n",
    "        b = c\n",
    "        i = i + 1\n",
    "\n",
    "        if not(abs(h) >= tolerancia and abs(fc) >= errorfun and i <= maxiter):\n",
    "            break\n",
    "\n",
    "    tabla = np.array(tabla)\n",
    "    c = a - h\n",
    "    raiz = c\n",
    "\n",
    "    return(tabla,raiz)\n",
    "\n",
    "\n",
    "# ENTRADA DE DATOS\n",
    "\n",
    "f = input('Introduzca la función                : ')\n",
    "a = float(input('Introduzca a                         : '))\n",
    "b = float(input('Introduzca b                         : '))\n",
    "tolerancia = float(input('Introduzca la tolerancia             : '))\n",
    "errorfun = float(input('Introduzca el error de la función    : '))\n",
    "maxiter = int(input('Introduzca el máximo de iteraciones  : '))\n",
    "\n",
    "\n",
    "# LLAMADA A LA FUNCIÓN biseccion\n",
    "\n",
    "(tabla,raiz) = secante(f,a,b,tolerancia,errorfun,maxiter)\n",
    "\n",
    "\n",
    "# SALIDA DE RESULTADOS\n",
    "\n",
    "print('\\n')\n",
    "print(' i         a            c            b          f(a)         f(c)         f(b)           h')\n",
    "n = len(tabla)\n",
    "for i in range(0,n,1):\n",
    "    unafila = tabla[i]\n",
    "    formato = '{:0>2d}'+'   '+(len(unafila)-1)*'{:>10.6f}   '\n",
    "    unafila = formato.format(*unafila)\n",
    "    print(unafila)\n",
    "print('\\n','raiz: ',raiz)"
   ]
  },
  {
   "cell_type": "code",
   "execution_count": null,
   "id": "0801521e",
   "metadata": {},
   "outputs": [],
   "source": [
    "# MI RESULTADO\n",
    "\n",
    "Introduzca la función                : x**2-sin(x)-0.5\n",
    "Introduzca a                         : 0\n",
    "Introduzca b                         : 2\n",
    "Introduzca la tolerancia             : .001\n",
    "Introduzca el error de la función    : .001\n",
    "Introduzca el máximo de iteraciones  : 4\n",
    "\n",
    "\n",
    "i         a            c            b          f(a)         f(c)         f(b)           h\n",
    "01     0.000000     0.323551     2.000000    -0.500000    -0.713250     2.590703    -0.323551   \n",
    "02     0.000000    -0.758619     0.323551    -0.500000     0.763422    -0.713250     0.758619   \n",
    "03     0.000000    -0.300224    -0.758619    -0.500000    -0.114132     0.763422     0.300224   \n",
    "04    -0.300224    -0.389024     0.000000    -0.114132     0.030625    -0.500000     0.088800   \n",
    "\n",
    " raiz:  -0.389023629917976"
   ]
  },
  {
   "cell_type": "code",
   "execution_count": null,
   "id": "5932ce5d",
   "metadata": {},
   "outputs": [],
   "source": [
    "# SU RESULTADO\n",
    "\n",
    "h_n and f_c_n 0.32355102968479627 0.7132500645589028\n",
    "h_n and f_c_n 0.758618831731764 0.7634221996871497\n",
    "h_n and f_c_n 0.3002238016395526 0.11413166379783507\n",
    "h_n and f_c_n 0.08879982827842378 0.030624565150047134\n",
    "Maximo de iteraciones alcanzadas\n",
    "-0.38902362991797634"
   ]
  },
  {
   "cell_type": "markdown",
   "id": "060c8ea4",
   "metadata": {},
   "source": [
    "Prueba el método con la función $f(x) = x^2 − sin(x) − 0.5$ cuando $\\Delta \\leq 10^{-3}$, $\\epsilon \\leq 10^{-3}$ y 4 iteraciones como máximo, en el intervalo$[-1, 0]$"
   ]
  },
  {
   "cell_type": "code",
   "execution_count": null,
   "id": "12033887",
   "metadata": {},
   "outputs": [],
   "source": [
    "# MI RESULTADO\n",
    "\n",
    "Introduzca la función                : x**2-sin(x)-0.5\n",
    "Introduzca a                         : -1\n",
    "Introduzca b                         : 0\n",
    "Introduzca la tolerancia             : .001\n",
    "Introduzca el error de la función    : .001\n",
    "Introduzca el máximo de iteraciones  : 4\n",
    "\n",
    "\n",
    " i         a            c            b          f(a)         f(c)         f(b)           h\n",
    "01     0.000000    -0.271522    -1.000000    -0.500000    -0.158078     1.341471     0.271522   \n",
    "02    -0.271522    -0.397052     0.000000    -0.158078     0.044352    -0.500000     0.125530   \n",
    "03    -0.397052    -0.369549    -0.271522     0.044352    -0.002239    -0.158078    -0.027504   \n",
    "04    -0.369549    -0.370870    -0.397052    -0.002239    -0.000028     0.044352     0.001322   \n",
    "\n",
    " raiz:  -0.370870491229320"
   ]
  },
  {
   "cell_type": "code",
   "execution_count": null,
   "id": "f5fa69e8",
   "metadata": {},
   "outputs": [],
   "source": [
    "# SU RESULTADO\n",
    "\n",
    "h_n and f_c_n 0.27152206259288975 0.15807772273829734\n",
    "h_n and f_c_n 0.1255302511191391 0.04435219540359808\n",
    "h_n and f_c_n 0.027503554206825133 0.002239023037371335\n",
    "h_n and f_c_n 0.0013217317241165393 2.820110359064154e-05\n",
    "Tolerancia o error aceptable. \n",
    "-0.37087049122932025"
   ]
  },
  {
   "cell_type": "markdown",
   "id": "68b770ce",
   "metadata": {},
   "source": [
    "Prueba el método con la función $f(x) = x^2 − sin(x) − 0.5$ cuando $\\Delta \\leq 10^{-5}$ en el intervalo$[0, 2]$ ¿cuántas iteraciones necesitas?"
   ]
  },
  {
   "cell_type": "code",
   "execution_count": null,
   "id": "322ce4bb",
   "metadata": {},
   "outputs": [],
   "source": [
    "# MI RESULTADO\n",
    "\n",
    "Introduzca la función                : x**2-sin(x)-0.5\n",
    "Introduzca a                         : 0\n",
    "Introduzca b                         : 2\n",
    "Introduzca la tolerancia             : .00001\n",
    "Introduzca el error de la función    : .00000000000001\n",
    "Introduzca el máximo de iteraciones  : 1000\n",
    "\n",
    "\n",
    " i         a            c            b          f(a)         f(c)         f(b)           h\n",
    "01     0.000000     0.323551     2.000000    -0.500000    -0.713250     2.590703    -0.323551   \n",
    "02     0.000000    -0.758619     0.323551    -0.500000     0.763422    -0.713250     0.758619   \n",
    "03     0.000000    -0.300224    -0.758619    -0.500000    -0.114132     0.763422     0.300224   \n",
    "04    -0.300224    -0.389024     0.000000    -0.114132     0.030625    -0.500000     0.088800   \n",
    "05    -0.389024    -0.370237    -0.300224     0.030625    -0.001088    -0.114132    -0.018786   \n",
    "06    -0.370237    -0.370882    -0.389024    -0.001088    -0.000010     0.030625     0.000644   \n",
    "07    -0.370882    -0.370887    -0.370237    -0.000010     0.000000    -0.001088     0.000006   \n",
    "\n",
    " raiz:  -0.370887341925819\n",
    "        \n",
    "# Como se puede comporbar el la iteración 7 ya tenemos un error menor a 0.00001"
   ]
  },
  {
   "cell_type": "code",
   "execution_count": null,
   "id": "24a98419",
   "metadata": {},
   "outputs": [],
   "source": [
    "h_n and f_c_n 0.32355102968479627 0.7132500645589028\n",
    "h_n and f_c_n 0.758618831731764 0.7634221996871497\n",
    "h_n and f_c_n 0.3002238016395526 0.11413166379783507\n",
    "h_n and f_c_n 0.08879982827842378 0.030624565150047134\n",
    "h_n and f_c_n 0.01878645324067329 0.0010878849120770084\n",
    "h_n and f_c_n 0.0006444629472630462 9.541339700269713e-06\n",
    "h_n and f_c_n 5.702301253134901e-06 3.0359490477138706e-09\n",
    "Tolerancia o error aceptable. \n",
    "-0.37088734192581924"
   ]
  },
  {
   "cell_type": "markdown",
   "id": "719fcb93",
   "metadata": {},
   "source": [
    "## Ejercicio 4\n",
    "Modifica la función anterior para que almacene la tabla como en el ejercicio 2. Prueba la función con $f(x)=x^2−sin(x)−0.5$ cuando $\\Delta \\leq 10^{−9}$, $\\epsilon \\leq 10^{−9}$ y 10 iteraciones como máximo en el intervalo $[0,1]$\n",
    "\n",
    "**La función que he hecho en el Ejercicio 3 ya hace lo que se pide aquí. El ejercicio anterior**\n",
    "**se podría haber hecho más sencillo, sin almacenar datos y con salida sin formato...**"
   ]
  },
  {
   "cell_type": "code",
   "execution_count": 5,
   "id": "8aca9745",
   "metadata": {},
   "outputs": [
    {
     "name": "stdout",
     "output_type": "stream",
     "text": [
      "Introduzca la función                : x**2-sin(x)-0.5\n",
      "Introduzca a                         : 0\n",
      "Introduzca b                         : 1\n",
      "Introduzca la tolerancia             : 1e-9\n",
      "Introduzca el error de la función    : 1e-9\n",
      "Introduzca el máximo de iteraciones  : 10\n",
      "\n",
      "\n",
      " i         a            c            b          f(a)         f(c)         f(b)           h\n",
      "01     1.000000     3.153997     0.000000    -0.341471     9.460099    -0.500000    -2.153997   \n",
      "02     1.000000     1.075042     3.153997    -0.341471    -0.223895     9.460099    -0.075042   \n",
      "03     1.075042     1.217941     1.000000    -0.223895     0.044991    -0.341471    -0.142899   \n",
      "04     1.217941     1.194031     1.075042     0.044991    -0.004150    -0.223895     0.023910   \n",
      "05     1.194031     1.196050     1.217941    -0.004150    -0.000065     0.044991    -0.002019   \n",
      "06     1.196050     1.196082     1.194031    -0.000065     0.000000    -0.004150    -0.000032   \n",
      "07     1.196082     1.196082     1.196050     0.000000    -0.000000    -0.000065     0.000000   \n",
      "\n",
      " raiz:  1.19608203329604\n"
     ]
    }
   ],
   "source": [
    "# MÉTODO DE LA SECANTE. \n",
    "\n",
    "# IMPORTACIÓN DE LIBRERÍAS\n",
    "\n",
    "import numpy as np\n",
    "from sympy import *\n",
    "from sympy.abc import x\n",
    "\n",
    "# FUNCIÓN SECANTE\n",
    "\n",
    "def secante(f,a,b,tolerancia,errorfun,maxiter):\n",
    "\n",
    "    f = sympify(f)\n",
    "    tabla = []\n",
    "\n",
    "    i = 1\n",
    "    while 1:\n",
    "        \n",
    "        fa = f.subs(x,a)\n",
    "        fb = f.subs(x,b)\n",
    "        if abs(fa) > abs(fb):\n",
    "            auxiliar1 = a\n",
    "            a = b\n",
    "            b = auxiliar1\n",
    "            \n",
    "            auxiliar2 = fa\n",
    "            fa = fb\n",
    "            fb = auxiliar2\n",
    "        \n",
    "        h = fa * (b - a) / (fb - fa)\n",
    "        c = a - h \n",
    "        fc = f.subs(x,c)\n",
    "        tabla.append([i,a,c,b,fa,fc,fb,h])\n",
    "        b = c\n",
    "        i = i + 1\n",
    "\n",
    "        if not(abs(h) >= tolerancia and abs(fc) >= errorfun and i <= maxiter):\n",
    "            break\n",
    "\n",
    "    tabla = np.array(tabla)\n",
    "    c = a - h\n",
    "    raiz = c\n",
    "\n",
    "    return(tabla,raiz)\n",
    "\n",
    "\n",
    "# ENTRADA DE DATOS\n",
    "\n",
    "f = input('Introduzca la función                : ')\n",
    "a = float(input('Introduzca a                         : '))\n",
    "b = float(input('Introduzca b                         : '))\n",
    "tolerancia = float(input('Introduzca la tolerancia             : '))\n",
    "errorfun = float(input('Introduzca el error de la función    : '))\n",
    "maxiter = int(input('Introduzca el máximo de iteraciones  : '))\n",
    "\n",
    "\n",
    "# LLAMADA A LA FUNCIÓN biseccion\n",
    "\n",
    "(tabla,raiz) = secante(f,a,b,tolerancia,errorfun,maxiter)\n",
    "\n",
    "\n",
    "# SALIDA DE RESULTADOS\n",
    "\n",
    "print('\\n')\n",
    "print(' i         a            c            b          f(a)         f(c)         f(b)           h')\n",
    "n = len(tabla)\n",
    "for i in range(0,n,1):\n",
    "    unafila = tabla[i]\n",
    "    formato = '{:0>2d}'+'   '+(len(unafila)-1)*'{:>10.6f}   '\n",
    "    unafila = formato.format(*unafila)\n",
    "    print(unafila)\n",
    "print('\\n','raiz: ',raiz)"
   ]
  },
  {
   "cell_type": "code",
   "execution_count": null,
   "id": "e540bd5a",
   "metadata": {},
   "outputs": [],
   "source": [
    "# MI RESULTADO\n",
    "\n",
    "Introduzca la función                : x**2-sin(x)-0.5\n",
    "Introduzca a                         : 0\n",
    "Introduzca b                         : 1\n",
    "Introduzca la tolerancia             : 1e-9\n",
    "Introduzca el error de la función    : 1e-9\n",
    "Introduzca el máximo de iteraciones  : 10\n",
    "\n",
    "\n",
    " i         a            c            b          f(a)         f(c)         f(b)           h\n",
    "01     1.000000     3.153997     0.000000    -0.341471     9.460099    -0.500000    -2.153997   \n",
    "02     1.000000     1.075042     3.153997    -0.341471    -0.223895     9.460099    -0.075042   \n",
    "03     1.075042     1.217941     1.000000    -0.223895     0.044991    -0.341471    -0.142899   \n",
    "04     1.217941     1.194031     1.075042     0.044991    -0.004150    -0.223895     0.023910   \n",
    "05     1.194031     1.196050     1.217941    -0.004150    -0.000065     0.044991    -0.002019   \n",
    "06     1.196050     1.196082     1.194031    -0.000065     0.000000    -0.004150    -0.000032   \n",
    "07     1.196082     1.196082     1.196050     0.000000    -0.000000    -0.000065     0.000000   \n",
    "\n",
    " raiz:  1.19608203329604"
   ]
  },
  {
   "cell_type": "code",
   "execution_count": null,
   "id": "fb42f374",
   "metadata": {},
   "outputs": [],
   "source": [
    "# SU RESULTADO (un poco arreglado para poder ver algo)\n",
    "\n",
    "fa, fb -0.5 -0.3414709848078965\n",
    "a,   b 0.0 1.0\n",
    "interchange done\n",
    "fa, fb -0.3414709848078965 -0.5\n",
    "a,   b 1.0 0.0\n",
    "h_n and f_c_n 2.15399675822187 9.460099337422253\n",
    "1\n",
    "fa, fb -0.3414709848078965 9.460099337422253\n",
    "a,   b 1.0 3.15399675822187\n",
    "fa, fb -0.3414709848078965 9.460099337422253\n",
    "a,   b 1.0 3.15399675822187\n",
    "h_n and f_c_n 0.0750417912765313 0.2238951781323555\n",
    "2\n",
    "fa, fb -0.3414709848078965 -0.2238951781323555\n",
    "a,   b 1.0 1.0750417912765313\n",
    "interchange done\n",
    "fa, fb -0.2238951781323555 -0.3414709848078965\n",
    "a,   b 1.0750417912765313 1.0\n",
    "h_n and f_c_n 0.14289925538503825 0.044990577436720414\n",
    "3\n",
    "fa, fb -0.2238951781323555 0.044990577436720414\n",
    "a,   b 1.0750417912765313 1.2179410466615697\n",
    "interchange done\n",
    "fa, fb 0.044990577436720414 -0.2238951781323555\n",
    "a,   b 1.2179410466615697 1.0750417912765313\n",
    "h_n and f_c_n 0.02391022909132363 0.004149921205577223\n",
    "4\n",
    "fa, fb 0.044990577436720414 -0.004149921205577223\n",
    "a,   b 1.2179410466615697 1.194030817570246\n",
    "interchange done\n",
    "fa, fb -0.004149921205577223 0.044990577436720414\n",
    "a,   b 1.194030817570246 1.2179410466615697\n",
    "h_n and f_c_n 0.0020192218125130042 6.482320661149732e-05\n",
    "5\n",
    "fa, fb -0.004149921205577223 -6.482320661149732e-05\n",
    "a,   b 1.194030817570246 1.1960500393827591\n",
    "interchange done\n",
    "fa, fb -6.482320661149732e-05 -0.004149921205577223\n",
    "a,   b 1.1960500393827591 1.194030817570246\n",
    "h_n and f_c_n 3.204144252600868e-05 9.629951713829854e-08\n",
    "6\n",
    "fa, fb -6.482320661149732e-05 9.629951713829854e-08\n",
    "a,   b 1.1960500393827591 1.1960820808252852\n",
    "interchange done\n",
    "fa, fb 9.629951713829854e-08 -6.482320661149732e-05\n",
    "a,   b 1.1960820808252852 1.1960500393827591\n",
    "h_n and f_c_n 4.752925010804822e-08 2.2281065881202267e-12\n",
    "Tolerancia o error aceptable. \n",
    "1.1960820332960351 \n",
    "\n",
    "[Iteracion(a=1.0, b=3.15399675822187, h=-2.15399675822187, c=3.15399675822187, f_c=9.46009933742225), \n",
    " Iteracion(a=1.0, b=1.0750417912765313, h=-0.0750417912765313, c=1.0750417912765313, f_c=-0.223895178132355), \n",
    " Iteracion(a=1.0750417912765313, b=1.2179410466615697, h=-0.14289925538503825, c=1.2179410466615697, f_c=0.0449905774367204), \n",
    " Iteracion(a=1.2179410466615697, b=1.194030817570246, h=0.02391022909132363, c=1.194030817570246, f_c=-0.00414992120557722), \n",
    " Iteracion(a=1.194030817570246, b=1.1960500393827591, h=-0.0020192218125130042, c=1.1960500393827591, f_c=-6.48232066114973e-5), \n",
    " Iteracion(a=1.1960500393827591, b=1.1960820808252852, h=-3.204144252600868e-05, c=1.1960820808252852, f_c=9.62995171382985e-8)]"
   ]
  },
  {
   "cell_type": "markdown",
   "id": "589d9024",
   "metadata": {},
   "source": [
    "**Aquí tenéis el código para representar el método de la secante. Necesita la salida que han hecho ellos.**"
   ]
  },
  {
   "cell_type": "code",
   "execution_count": null,
   "id": "74e8163c",
   "metadata": {},
   "outputs": [],
   "source": [
    "# Representación gráfica del método de la secante, siendo l la tabla de resultados\n",
    "# intermedios obtenidos en el ejercicio anterior\n",
    "\n",
    "import random\n",
    "get_colors = lambda n: list(map(lambda i: \"#\" + \"%06x\" % random.randint(0, 0xFFFFFF),range(n)))\n",
    "def plot_fun_and_secants(f,l):\n",
    "  p = symplot(f, xlim=(-6,6), ylim=(-2,12), show=False)\n",
    "  mycolors = get_colors(len(l)) # sample return:  ['#8af5da', '#fbc08c', '#b741d0', '#e599f1', '#bbcb59', '#a2a6c0']\n",
    "  for i in range(len(l)):\n",
    "    a = l[i].a\n",
    "    b = l[i].b\n",
    "    m = (f.subs(x,b)-f.subs(x,a))/(b-a)\n",
    "    print(\"a, b and m\", a, b, m)\n",
    "    q = plot(m*(x-a)+f.subs(x,a), line_color=mycolors[i], show=False)\n",
    "    p.extend(q)\n",
    "    p.show()\n",
    "plot_fun_and_secants(f,l)"
   ]
  },
  {
   "cell_type": "markdown",
   "id": "d2c4c6f9",
   "metadata": {},
   "source": [
    "## Método de Regula Falsi"
   ]
  },
  {
   "cell_type": "markdown",
   "id": "69b3f7ba",
   "metadata": {},
   "source": [
    "El **método de Regula Falsi** se define como sigue:\n",
    "\n",
    "Entrada: Una función, un intervalo, el error en la función, la tolerancia\n",
    "y el número de iteraciones: $f(x), a, b, epsilon, delta, n$ con $f(a_i)·f(b_i) < 0$\n",
    "\n",
    "Salida: $ c_i $\n",
    "\n",
    "**Algoritmo**:\n",
    "1. Si $|f(a_i)| > |f(b_i)|$ entonces intercambiar $a_i$ y $b_i$\n",
    "2. Sea $c_i = a_i − h_i$ donde $h_i = \\frac{f(a_i)(b_i−a_i)}{f(b_i)−f(a_i)}$\n",
    "3. Comprobamos si cumple Bolzano, $f(a_i)·f(b_i) < 0$, entonces $b_{i+1}=c_i$ y $a_{i+1}=a_i$, en caso contrario, $a_{i+1}=c_i$, $b_{i+1}=b_i$\n",
    "4. Paramos si $h_i < \\Delta$ o $|f(c_i)| < \\epsilon$ o $i \\geq n$\n",
    "5. En caso de que no se cumpla ninguna de las condiciones de parada\n",
    "$i = i + 1$ y volver al punto 1\n",
    "\n",
    "Es un **método cerrado**, lo que significa que la raíz está en $[a_i, b_i]$"
   ]
  },
  {
   "cell_type": "markdown",
   "id": "48873768",
   "metadata": {},
   "source": [
    "**Pseudocódigo**\n",
    "```\n",
    "BúsquedaRegulaFalsi (f(x),a,b,Δ,ε,n) \n",
    "  i:=0\n",
    "  repetir\n",
    "    i:=i+1\n",
    "    si abs(f(a))>abs(f(b)) entonces\n",
    "      a<=>b\n",
    "    h:=f(a)*(b-a)/(f(b)-f(a))\n",
    "    c:=a-h\n",
    "    si signo(f(a))*signo(f(c))<0 entonces \n",
    "      b:=c\n",
    "    si no \n",
    "      a:=c\n",
    "  hasta (abs(f(c))≤ε) ó (abs(h)≤Δ) ó (i=n) devolver c\n",
    "```\n"
   ]
  },
  {
   "cell_type": "markdown",
   "id": "deb19cfe",
   "metadata": {},
   "source": [
    "### Ejercicio 5\n",
    "Construir una función llamada $regulafalsi(f,a,b,tolerancia,errorfun,maxiter)$ que implemente el Método de Regula Falsi, teniendo en cuenta que el error en la raíz es la $tolerancia = delta$, el error en la función es $errorfun = epsilon$ y el número máximo de iteraciones es $maxiter$"
   ]
  },
  {
   "cell_type": "markdown",
   "id": "26a00d72",
   "metadata": {},
   "source": [
    "Prueba el método con la función $f(x)=x^2−sin(x)−0.5$ cuando $\\Delta \\leq 10^{−3}$, $\\epsilon \\leq 10^{−3}$ y 4 iteraciones como máximo, en el intervalo $[0,2]$"
   ]
  },
  {
   "cell_type": "code",
   "execution_count": 11,
   "id": "591ec605",
   "metadata": {},
   "outputs": [
    {
     "name": "stdout",
     "output_type": "stream",
     "text": [
      "Introduzca la función                : x**2-sin(x)-0.5\n",
      "Introduzca a                         : 0\n",
      "Introduzca b                         : 2\n",
      "Introduzca la tolerancia             : .001\n",
      "Introduzca el error de la función    : .001\n",
      "Introduzca el máximo de iteraciones  : 4\n",
      "\n",
      "\n",
      " i         a            c            b          f(a)         f(c)         f(b)           h\n",
      "01     0.000000     0.323551     2.000000    -0.500000    -0.713250     2.590703    -0.323551   \n",
      "02     0.323551     0.685459     2.000000    -0.713250    -0.663174     2.590703    -0.361908   \n",
      "03     0.685459     0.953376     2.000000    -0.663174    -0.406448     2.590703    -0.267917   \n",
      "04     0.953376     1.095311     2.000000    -0.406448    -0.189365     2.590703    -0.141934   \n",
      "\n",
      " raiz:  1.09531065192332\n"
     ]
    }
   ],
   "source": [
    "# MÉTODO DE LA REGULA FALSI. \n",
    "\n",
    "# IMPORTACIÓN DE LIBRERÍAS\n",
    "\n",
    "import numpy as np\n",
    "from sympy import *\n",
    "from sympy.abc import x\n",
    "\n",
    "# FUNCIÓN REGULAFALSI\n",
    "\n",
    "def regulafalsi(f,a,b,tolerancia,errorfun,maxiter):\n",
    "\n",
    "    f = sympify(f)\n",
    "    tabla = []\n",
    "\n",
    "    i = 1\n",
    "    while 1:\n",
    "        \n",
    "        fa = f.subs(x,a)\n",
    "        fb = f.subs(x,b)\n",
    "        if abs(fa) > abs(fb):\n",
    "            auxiliar1 = a\n",
    "            a = b\n",
    "            b = auxiliar1\n",
    "            \n",
    "            auxiliar2 = fa\n",
    "            fa = fb\n",
    "            fb = auxiliar2\n",
    "        \n",
    "        h = fa * (b - a) / (fb - fa)\n",
    "        c = a - h\n",
    "        fc = f.subs(x,c)\n",
    "        tabla.append([i,a,c,b,fa,fc,fb,h])\n",
    "        if fa * fc < 0:\n",
    "            b = c\n",
    "            fb = fc\n",
    "        else:\n",
    "            a = c\n",
    "            fa = fc\n",
    "        i = i + 1\n",
    "\n",
    "        if not(abs(h) >= tolerancia and abs(fc) >= errorfun and i <= maxiter):\n",
    "            break\n",
    "\n",
    "    tabla = np.array(tabla)\n",
    "    raiz = c\n",
    "\n",
    "    return(tabla,raiz)\n",
    "\n",
    "\n",
    "# ENTRADA DE DATOS\n",
    "\n",
    "f = input('Introduzca la función                : ')\n",
    "a = float(input('Introduzca a                         : '))\n",
    "b = float(input('Introduzca b                         : '))\n",
    "tolerancia = float(input('Introduzca la tolerancia             : '))\n",
    "errorfun = float(input('Introduzca el error de la función    : '))\n",
    "maxiter = int(input('Introduzca el máximo de iteraciones  : '))\n",
    "\n",
    "\n",
    "# LLAMADA A LA FUNCIÓN regulafalsi\n",
    "\n",
    "(tabla,raiz) = regulafalsi(f,a,b,tolerancia,errorfun,maxiter)\n",
    "\n",
    "\n",
    "# SALIDA DE RESULTADOS\n",
    "\n",
    "print('\\n')\n",
    "print(' i         a            c            b          f(a)         f(c)         f(b)           h')\n",
    "n = len(tabla)\n",
    "for i in range(0,n,1):\n",
    "    unafila = tabla[i]\n",
    "    formato = '{:0>2d}'+'   '+(len(unafila)-1)*'{:>10.6f}   '\n",
    "    unafila = formato.format(*unafila)\n",
    "    print(unafila)\n",
    "print('\\n','raiz: ',raiz)"
   ]
  },
  {
   "cell_type": "code",
   "execution_count": null,
   "id": "9826c2f3",
   "metadata": {},
   "outputs": [],
   "source": [
    "# MI RESULTADO\n",
    "\n",
    "Introduzca la función                : x**2-sin(x)-0.5\n",
    "Introduzca a                         : 0\n",
    "Introduzca b                         : 2\n",
    "Introduzca la tolerancia             : .001\n",
    "Introduzca el error de la función    : .001\n",
    "Introduzca el máximo de iteraciones  : 4\n",
    "\n",
    "\n",
    " i         a            c            b          f(a)         f(c)         f(b)           h\n",
    "01     0.000000     0.323551     2.000000    -0.500000    -0.713250     2.590703    -0.323551   \n",
    "02     0.323551     0.685459     2.000000    -0.713250    -0.663174     2.590703    -0.361908   \n",
    "03     0.685459     0.953376     2.000000    -0.663174    -0.406448     2.590703    -0.267917   \n",
    "04     0.953376     1.095311     2.000000    -0.406448    -0.189365     2.590703    -0.141934   \n",
    "\n",
    " raiz:  1.09531065192332"
   ]
  },
  {
   "cell_type": "code",
   "execution_count": null,
   "id": "f5f3e610",
   "metadata": {},
   "outputs": [],
   "source": [
    "# SU RESULTADO\n",
    "\n",
    "h_n and f_c_n 0.32355102968479627 0.7132500645589028\n",
    "h_n and f_c_n 0.36190813471448274 0.6631742644076422\n",
    "h_n and f_c_n 0.26791722465167117 0.40644831380715474\n",
    "h_n and f_c_n 0.14193426287237387 0.18936507474038689\n",
    "Maximo de iteraciones alcanzadas\n",
    "1.095310651923324"
   ]
  },
  {
   "cell_type": "markdown",
   "id": "5c5c1dca",
   "metadata": {},
   "source": [
    "Prueba el método con la función $f(x)=x^2−sin(x)−0.5$ cuando $\\Delta \\leq 10^{−3}$, $\\epsilon \\leq 10^{−3}$ y 4 iteraciones como máximo, en el intervalo $[-1,0]$"
   ]
  },
  {
   "cell_type": "code",
   "execution_count": null,
   "id": "61c889b8",
   "metadata": {},
   "outputs": [],
   "source": [
    "# MI RESULTADO\n",
    "\n",
    "Introduzca la función                : x**2-sin(x)-0.5\n",
    "Introduzca a                         : -1\n",
    "Introduzca b                         : 0\n",
    "Introduzca la tolerancia             : .001\n",
    "Introduzca el error de la función    : .001\n",
    "Introduzca el máximo de iteraciones  : 4\n",
    "\n",
    "\n",
    " i         a            c            b          f(a)         f(c)         f(b)           h\n",
    "01     0.000000    -0.271522    -1.000000    -0.500000    -0.158078     1.341471     0.271522   \n",
    "02    -0.271522    -0.348316    -1.000000    -0.158078    -0.037361     1.341471     0.076794   \n",
    "03    -0.348316    -0.365974    -1.000000    -0.037361    -0.008204     1.341471     0.017658   \n",
    "04    -0.365974    -0.369828    -1.000000    -0.008204    -0.001772     1.341471     0.003854   \n",
    "\n",
    " raiz:  -0.369827934688891"
   ]
  },
  {
   "cell_type": "code",
   "execution_count": null,
   "id": "6e8218f5",
   "metadata": {},
   "outputs": [],
   "source": [
    "# SU RESULTADO (se ha equivocado, ha parado en la tercera iteración con errores\n",
    "#               0.008204 y 0.017658 siendo la cota del error 0.001000)\n",
    "\n",
    "h_n and f_c_n 0.27152206259288975 0.15807772273829734\n",
    "h_n and f_c_n 0.07679385993326295 0.03736067258580367\n",
    "h_n and f_c_n 0.017657960866596187 0.008204263997616701\n",
    "Tolerancia o error aceptable. \n",
    "-0.3659738833927489"
   ]
  },
  {
   "cell_type": "markdown",
   "id": "1f92eb93",
   "metadata": {},
   "source": [
    "Prueba el método con la función $f(x)=x^2−sin(x)−0.5$ cuando $\\Delta \\leq 10^{−9}$, $\\epsilon \\leq 10^{−9}$ y 10 iteraciones como máximo, en el intervalo $[0,2]$"
   ]
  },
  {
   "cell_type": "code",
   "execution_count": null,
   "id": "1682d0c8",
   "metadata": {},
   "outputs": [],
   "source": [
    "# MI RESULTADO\n",
    "\n",
    "Introduzca la función                : x**2-sin(x)-0.5\n",
    "Introduzca a                         : 0\n",
    "Introduzca b                         : 2\n",
    "Introduzca la tolerancia             : 1e-9\n",
    "Introduzca el error de la función    : 1e-9\n",
    "Introduzca el máximo de iteraciones  : 10\n",
    "\n",
    "\n",
    " i         a            c            b          f(a)         f(c)         f(b)           h\n",
    "01     0.000000     0.323551     2.000000    -0.500000    -0.713250     2.590703    -0.323551   \n",
    "02     0.323551     0.685459     2.000000    -0.713250    -0.663174     2.590703    -0.361908   \n",
    "03     0.685459     0.953376     2.000000    -0.663174    -0.406448     2.590703    -0.267917   \n",
    "04     0.953376     1.095311     2.000000    -0.406448    -0.189365     2.590703    -0.141934   \n",
    "05     1.095311     1.156934     2.000000    -0.189365    -0.077078     2.590703    -0.061623   \n",
    "06     1.156934     1.181292     2.000000    -0.077078    -0.029647     2.590703    -0.024358   \n",
    "07     1.181292     1.190555     2.000000    -0.029647    -0.011154     2.590703    -0.009263   \n",
    "08     1.190555     1.194025     2.000000    -0.011154    -0.004162     2.590703    -0.003470   \n",
    "09     1.194025     1.195318     2.000000    -0.004162    -0.001548     2.590703    -0.001293   \n",
    "10     1.195318     1.195798     2.000000    -0.001548    -0.000575     2.590703    -0.000481   \n",
    "\n",
    " raiz:  1.19579813471778"
   ]
  },
  {
   "cell_type": "code",
   "execution_count": null,
   "id": "f2c19734",
   "metadata": {},
   "outputs": [],
   "source": [
    "# SU RESULTADO\n",
    "\n",
    "h_n and f_c_n 0.32355102968479627 0.7132500645589028\n",
    "h_n and f_c_n 0.36190813471448274 0.6631742644076422\n",
    "h_n and f_c_n 0.26791722465167117 0.40644831380715474\n",
    "h_n and f_c_n 0.14193426287237387 0.18936507474038689\n",
    "h_n and f_c_n 0.0616231645096385 0.07707849713106363\n",
    "h_n and f_c_n 0.024358173590282698 0.02964662595697032\n",
    "h_n and f_c_n 0.00926286089953321 0.011154187102288882\n",
    "h_n and f_c_n 0.0034700998070653173 0.004161773034359162\n",
    "h_n and f_c_n 0.0012926630370176135 0.0015479780857938774\n",
    "h_n and f_c_n 0.0004805209509195448 0.0005751051087563575\n",
    "Maximo de iteraciones alcanzadas\n",
    "1.195798134717781\n"
   ]
  },
  {
   "cell_type": "markdown",
   "id": "7180ca1c",
   "metadata": {},
   "source": [
    "Prueba el método con la función $f(x)=x^2−sin(x)−0.5$ cuando $\\Delta \\leq 10^{-5}$ en el intervalo $[0,2]$ ¿cuántas iteraciones necesitas?"
   ]
  },
  {
   "cell_type": "code",
   "execution_count": null,
   "id": "b3aded24",
   "metadata": {},
   "outputs": [],
   "source": [
    "# MI RESULTADO\n",
    "\n",
    "Introduzca la función                : x**2-sin(x)-0.5\n",
    "Introduzca a                         : 0\n",
    "Introduzca b                         : 2\n",
    "Introduzca la tolerancia             : .00001\n",
    "Introduzca el error de la función    : .00000000000001\n",
    "Introduzca el máximo de iteraciones  : 1000\n",
    "\n",
    "\n",
    " i         a            c            b          f(a)         f(c)         f(b)           h\n",
    "01     0.000000     0.323551     2.000000    -0.500000    -0.713250     2.590703    -0.323551   \n",
    "02     0.323551     0.685459     2.000000    -0.713250    -0.663174     2.590703    -0.361908   \n",
    "03     0.685459     0.953376     2.000000    -0.663174    -0.406448     2.590703    -0.267917   \n",
    "04     0.953376     1.095311     2.000000    -0.406448    -0.189365     2.590703    -0.141934   \n",
    "05     1.095311     1.156934     2.000000    -0.189365    -0.077078     2.590703    -0.061623   \n",
    "06     1.156934     1.181292     2.000000    -0.077078    -0.029647     2.590703    -0.024358   \n",
    "07     1.181292     1.190555     2.000000    -0.029647    -0.011154     2.590703    -0.009263   \n",
    "08     1.190555     1.194025     2.000000    -0.011154    -0.004162     2.590703    -0.003470   \n",
    "09     1.194025     1.195318     2.000000    -0.004162    -0.001548     2.590703    -0.001293   \n",
    "10     1.195318     1.195798     2.000000    -0.001548    -0.000575     2.590703    -0.000481   \n",
    "11     1.195798     1.195977     2.000000    -0.000575    -0.000214     2.590703    -0.000178   \n",
    "12     1.195977     1.196043     2.000000    -0.000214    -0.000079     2.590703    -0.000066   \n",
    "13     1.196043     1.196068     2.000000    -0.000079    -0.000029     2.590703    -0.000025   \n",
    "14     1.196068     1.196077     2.000000    -0.000029    -0.000011     2.590703    -0.000009   \n",
    "\n",
    " raiz:  1.19607663836114\n",
    "        \n",
    "# Como se puede comporbar el la iteración 14 ya tenemos un error menor a 0.00001  "
   ]
  },
  {
   "cell_type": "code",
   "execution_count": null,
   "id": "e2955f92",
   "metadata": {},
   "outputs": [],
   "source": [
    "# SU RESULTADO (se ha equivocado, ha parado en la iteración 12 con errores\n",
    "#               0.000079 y 0.000066 siendo la cota del error 0.000010)\n",
    "\n",
    "h_n and f_c_n 0.32355102968479627 0.7132500645589028\n",
    "h_n and f_c_n 0.36190813471448274 0.6631742644076422\n",
    "h_n and f_c_n 0.26791722465167117 0.40644831380715474\n",
    "h_n and f_c_n 0.14193426287237387 0.18936507474038689\n",
    "h_n and f_c_n 0.0616231645096385 0.07707849713106363\n",
    "h_n and f_c_n 0.024358173590282698 0.02964662595697032\n",
    "h_n and f_c_n 0.00926286089953321 0.011154187102288882\n",
    "h_n and f_c_n 0.0034700998070653173 0.004161773034359162\n",
    "h_n and f_c_n 0.0012926630370176135 0.0015479780857938774\n",
    "h_n and f_c_n 0.0004805209509195448 0.0005751051087563575\n",
    "h_n and f_c_n 0.00017848361257124674 0.00021357103262265031\n",
    "h_n and f_c_n 6.627621054424473e-05 7.92990361417889e-05\n",
    "Tolerancia o error aceptable. \n",
    "1.1960428945408967"
   ]
  },
  {
   "cell_type": "markdown",
   "id": "e19562a5",
   "metadata": {},
   "source": [
    "## Ejercicio 6\n",
    "Modifica la función anterior para que almacene la tabla como en el ejercicio 2. Prueba la función con $f(x)=x^2−sin(x)−0.5$ cuando $\\Delta \\leq 10^{−9}$, $\\epsilon \\leq 10^{−9}$ y 10 iteraciones como máximo en el intervalo $[0,1]$\n",
    "\n",
    "**La función que he hecho en el Ejercicio 5 ya hace lo que se pide aquí. El ejercicio anterior**\n",
    "**se podría haber hecho más sencillo, sin almacenar datos y con salida sin formato...**"
   ]
  },
  {
   "cell_type": "code",
   "execution_count": 17,
   "id": "eda00f0a",
   "metadata": {},
   "outputs": [
    {
     "name": "stdout",
     "output_type": "stream",
     "text": [
      "Introduzca la función                : x**2-sin(x)-0.5\n",
      "Introduzca a                         : 0\n",
      "Introduzca b                         : 1\n",
      "Introduzca la tolerancia             : 1e-9\n",
      "Introduzca el error de la función    : 1e-9\n",
      "Introduzca el máximo de iteraciones  : 10\n",
      "\n",
      "\n",
      " i         a            c            b          f(a)         f(c)         f(b)           h\n",
      "01     1.000000     3.153997     0.000000    -0.341471     9.460099    -0.500000    -2.153997   \n",
      "02     1.000000     1.075042     3.153997    -0.341471    -0.223895     9.460099    -0.075042   \n",
      "03     1.075042     1.123107     3.153997    -0.223895    -0.140080     9.460099    -0.048066   \n",
      "04     1.123107     1.152741     3.153997    -0.140080    -0.085069     9.460099    -0.029633   \n",
      "05     1.152741     1.170577     3.153997    -0.085069    -0.050726     9.460099    -0.017836   \n",
      "06     1.170577     1.181155     3.153997    -0.050726    -0.029918     9.460099    -0.010579   \n",
      "07     1.181155     1.187375     3.153997    -0.029918    -0.017532     9.460099    -0.006220   \n",
      "08     1.187375     1.191012     3.153997    -0.017532    -0.010234     9.460099    -0.003638   \n",
      "09     1.191012     1.193134     3.153997    -0.010234    -0.005961     9.460099    -0.002121   \n",
      "10     1.193134     1.194369     3.153997    -0.005961    -0.003468     9.460099    -0.001235   \n",
      "\n",
      " raiz:  1.19436854000535\n"
     ]
    }
   ],
   "source": [
    "# MÉTODO DE LA REGULA FALSI. \n",
    "\n",
    "# IMPORTACIÓN DE LIBRERÍAS\n",
    "\n",
    "import numpy as np\n",
    "from sympy import *\n",
    "from sympy.abc import x\n",
    "\n",
    "# FUNCIÓN REGULAFALSI\n",
    "\n",
    "def regulafalsi(f,a,b,tolerancia,errorfun,maxiter):\n",
    "\n",
    "    f = sympify(f)\n",
    "    tabla = []\n",
    "\n",
    "    i = 1\n",
    "    while 1:\n",
    "        \n",
    "        fa = f.subs(x,a)\n",
    "        fb = f.subs(x,b)\n",
    "        if abs(fa) > abs(fb):\n",
    "            auxiliar1 = a\n",
    "            a = b\n",
    "            b = auxiliar1\n",
    "            \n",
    "            auxiliar2 = fa\n",
    "            fa = fb\n",
    "            fb = auxiliar2\n",
    "        \n",
    "        h = fa * (b - a)/(fb - fa)\n",
    "        c = a - h\n",
    "        fc = f.subs(x,c)\n",
    "        tabla.append([i,a,c,b,fa,fc,fb,h])\n",
    "        if fa * fc < 0:\n",
    "            b = c\n",
    "            fb = fc\n",
    "        else:\n",
    "            a = c\n",
    "            fa = fc\n",
    "        i = i + 1\n",
    "\n",
    "        if not(abs(h) >= tolerancia and abs(fc) >= errorfun and i <= maxiter):\n",
    "            break\n",
    "\n",
    "    tabla = np.array(tabla)\n",
    "    raiz = c\n",
    "\n",
    "    return(tabla,raiz)\n",
    "\n",
    "\n",
    "# ENTRADA DE DATOS\n",
    "\n",
    "f = input('Introduzca la función                : ')\n",
    "a = float(input('Introduzca a                         : '))\n",
    "b = float(input('Introduzca b                         : '))\n",
    "tolerancia = float(input('Introduzca la tolerancia             : '))\n",
    "errorfun = float(input('Introduzca el error de la función    : '))\n",
    "maxiter = int(input('Introduzca el máximo de iteraciones  : '))\n",
    "\n",
    "\n",
    "# LLAMADA A LA FUNCIÓN regulafalsi\n",
    "\n",
    "(tabla,raiz) = regulafalsi(f,a,b,tolerancia,errorfun,maxiter)\n",
    "\n",
    "\n",
    "# SALIDA DE RESULTADOS\n",
    "\n",
    "print('\\n')\n",
    "print(' i         a            c            b          f(a)         f(c)         f(b)           h')\n",
    "n = len(tabla)\n",
    "for i in range(0,n,1):\n",
    "    unafila = tabla[i]\n",
    "    formato = '{:0>2d}'+'   '+(len(unafila)-1)*'{:>10.6f}   '\n",
    "    unafila = formato.format(*unafila)\n",
    "    print(unafila)\n",
    "print('\\n','raiz: ',raiz)"
   ]
  },
  {
   "cell_type": "code",
   "execution_count": null,
   "id": "e6d84009",
   "metadata": {},
   "outputs": [],
   "source": [
    "# SU RESULTADO\n",
    "\n",
    "Introduzca la función                : x**2-sin(x)-0.5\n",
    "Introduzca a                         : 0\n",
    "Introduzca b                         : 1\n",
    "Introduzca la tolerancia             : 1e-9\n",
    "Introduzca el error de la función    : 1e-9\n",
    "Introduzca el máximo de iteraciones  : 10\n",
    "\n",
    "\n",
    " i         a            c            b          f(a)         f(c)         f(b)           h\n",
    "01     1.000000     3.153997     0.000000    -0.341471     9.460099    -0.500000    -2.153997   \n",
    "02     1.000000     1.075042     3.153997    -0.341471    -0.223895     9.460099    -0.075042   \n",
    "03     1.075042     1.123107     3.153997    -0.223895    -0.140080     9.460099    -0.048066   \n",
    "04     1.123107     1.152741     3.153997    -0.140080    -0.085069     9.460099    -0.029633   \n",
    "05     1.152741     1.170577     3.153997    -0.085069    -0.050726     9.460099    -0.017836   \n",
    "06     1.170577     1.181155     3.153997    -0.050726    -0.029918     9.460099    -0.010579   \n",
    "07     1.181155     1.187375     3.153997    -0.029918    -0.017532     9.460099    -0.006220   \n",
    "08     1.187375     1.191012     3.153997    -0.017532    -0.010234     9.460099    -0.003638   \n",
    "09     1.191012     1.193134     3.153997    -0.010234    -0.005961     9.460099    -0.002121   \n",
    "10     1.193134     1.194369     3.153997    -0.005961    -0.003468     9.460099    -0.001235   \n",
    "\n",
    " raiz:  1.19436854000535\n",
    "        "
   ]
  },
  {
   "cell_type": "code",
   "execution_count": null,
   "id": "3f136db0",
   "metadata": {},
   "outputs": [],
   "source": [
    "# SU RESULTADO (un poco arreglado para poder ver algo)\n",
    "# Le sale algo distinto porque lo hace en el intervalo [0,2] en lugar de en el [0,1]\n",
    "\n",
    "fa, fb -0.5 2.590702573174318\n",
    "a,   b 0.0 2.0\n",
    "fa, fb -0.5 2.590702573174318\n",
    "a,   b 0.0 2.0\n",
    "h_n and f_c_n 0.32355102968479627 0.7132500645589028\n",
    "1\n",
    "fa, fb -0.7132500645589028 2.590702573174318\n",
    "a,   b 0.32355102968479627 2.0\n",
    "fa, fb -0.7132500645589028 2.590702573174318\n",
    "a,   b 0.32355102968479627 2.0\n",
    "h_n and f_c_n 0.36190813471448274 0.6631742644076422\n",
    "2\n",
    "fa, fb -0.6631742644076422 2.590702573174318\n",
    "a,   b 0.685459164399279 2.0\n",
    "fa, fb -0.6631742644076422 2.590702573174318\n",
    "a,   b 0.685459164399279 2.0\n",
    "h_n and f_c_n 0.26791722465167117 0.40644831380715474\n",
    "3\n",
    "fa, fb -0.40644831380715474 2.590702573174318\n",
    "a,   b 0.9533763890509501 2.0\n",
    "fa, fb -0.40644831380715474 2.590702573174318\n",
    "a,   b 0.9533763890509501 2.0\n",
    "h_n and f_c_n 0.14193426287237387 0.18936507474038689\n",
    "4\n",
    "fa, fb -0.18936507474038689 2.590702573174318\n",
    "a,   b 1.095310651923324 2.0\n",
    "fa, fb -0.18936507474038689 2.590702573174318\n",
    "a,   b 1.095310651923324 2.0\n",
    "h_n and f_c_n 0.0616231645096385 0.07707849713106363\n",
    "5\n",
    "fa, fb -0.07707849713106363 2.590702573174318\n",
    "a,   b 1.1569338164329626 2.0\n",
    "fa, fb -0.07707849713106363 2.590702573174318\n",
    "a,   b 1.1569338164329626 2.0\n",
    "h_n and f_c_n 0.024358173590282698 0.02964662595697032\n",
    "6\n",
    "fa, fb -0.02964662595697032 2.590702573174318\n",
    "a,   b 1.1812919900232453 2.0\n",
    "fa, fb -0.02964662595697032 2.590702573174318\n",
    "a,   b 1.1812919900232453 2.0\n",
    "h_n and f_c_n 0.00926286089953321 0.011154187102288882\n",
    "7\n",
    "fa, fb -0.011154187102288882 2.590702573174318\n",
    "a,   b 1.1905548509227786 2.0\n",
    "fa, fb -0.011154187102288882 2.590702573174318\n",
    "a,   b 1.1905548509227786 2.0\n",
    "h_n and f_c_n 0.0034700998070653173 0.004161773034359162\n",
    "8\n",
    "fa, fb -0.004161773034359162 2.590702573174318\n",
    "a,   b 1.194024950729844 2.0\n",
    "fa, fb -0.004161773034359162 2.590702573174318\n",
    "a,   b 1.194024950729844 2.0\n",
    "h_n and f_c_n 0.0012926630370176135 0.0015479780857938774\n",
    "9\n",
    "fa, fb -0.0015479780857938774 2.590702573174318\n",
    "a,   b 1.1953176137668615 2.0\n",
    "fa, fb -0.0015479780857938774 2.590702573174318\n",
    "a,   b 1.1953176137668615 2.0\n",
    "h_n and f_c_n 0.0004805209509195448 0.0005751051087563575\n",
    "10\n",
    "Maximo de iteraciones alcanzadas\n",
    "1.195798134717781 [Iteracion(a=0.32355102968479627, b=2.0, h=-0.32355102968479627, c=0.32355102968479627, f_c=-0.713250064558903), \n",
    "                   Iteracion(a=0.685459164399279, b=2.0, h=-0.36190813471448274, c=0.685459164399279, f_c=-0.663174264407642), \n",
    "                   Iteracion(a=0.9533763890509501, b=2.0, h=-0.26791722465167117, c=0.9533763890509501, f_c=-0.406448313807155), \n",
    "                   Iteracion(a=1.095310651923324, b=2.0, h=-0.14193426287237387, c=1.095310651923324, f_c=-0.189365074740387), \n",
    "                   Iteracion(a=1.1569338164329626, b=2.0, h=-0.0616231645096385, c=1.1569338164329626, f_c=-0.0770784971310636), \n",
    "                   Iteracion(a=1.1812919900232453, b=2.0, h=-0.024358173590282698, c=1.1812919900232453, f_c=-0.0296466259569703), \n",
    "                   Iteracion(a=1.1905548509227786, b=2.0, h=-0.00926286089953321, c=1.1905548509227786, f_c=-0.0111541871022889), \n",
    "                   Iteracion(a=1.194024950729844, b=2.0, h=-0.0034700998070653173, c=1.194024950729844, f_c=-0.00416177303435916), \n",
    "                   Iteracion(a=1.1953176137668615, b=2.0, h=-0.0012926630370176135, c=1.1953176137668615, f_c=-0.00154797808579388), \n",
    "                   Iteracion(a=1.195798134717781, b=2.0, h=-0.0004805209509195448, c=1.195798134717781, f_c=-0.000575105108756357)]"
   ]
  },
  {
   "cell_type": "markdown",
   "id": "7f0a7016",
   "metadata": {},
   "source": [
    "**Aquí tenéis el código para representar el método de la regula falsi. Necesita la salida que han hecho ellos.**"
   ]
  },
  {
   "cell_type": "code",
   "execution_count": null,
   "id": "55753596",
   "metadata": {},
   "outputs": [],
   "source": [
    "# Representación gráfica del método de Regula Falsi, siendo l la tabla de resultados\n",
    "# intermedios obtenidos en el ejercicio anterior\n",
    "\n",
    "import random\n",
    "get_colors = lambda n: list(map(lambda i: \"#\" + \"%06x\" % random.randint(0, 0xFFFFFF),range(n)))\n",
    "def plot_fun_and_secants_and_intervals(f,l):\n",
    "  p = symplot(f, xlim=(-6,6), ylim=(-2,12), show=False)\n",
    "  mycolors = get_colors(len(l)) # sample return:  ['#8af5da', '#fbc08c', '#b741d0', '#e599f1', '#bbcb59', '#a2a6c0']\n",
    "  for i in range(len(l)):\n",
    "    a = l[i].a\n",
    "    b = l[i].b\n",
    "    m = (f.subs(x,b)-f.subs(x,a))/(b-a)\n",
    "    print(\"a, b and m\", a, b, m)\n",
    "    q = plot(m*(x-a)+f.subs(x,a), line_color=mycolors[i], show=False)\n",
    "    p.extend(q)\n",
    "    q1 = plot_implicit(x - a, x_var=x, line_color=mycolors[i], show=False)\n",
    "    q2 = plot_implicit(x - b, x_var=x, line_color=mycolors[i], show=False)\n",
    "    p.extend(q1)\n",
    "    p.extend(q2)\n",
    "    p.show()\n",
    "plot_fun_and_secants_and_intervals(f,l)"
   ]
  },
  {
   "cell_type": "markdown",
   "id": "cd5cf7a2",
   "metadata": {},
   "source": [
    "## Método de Newton"
   ]
  },
  {
   "cell_type": "markdown",
   "id": "25b52a62",
   "metadata": {},
   "source": [
    "El **método de Newton** se define como sigue:\n",
    "\n",
    "Entrada: Una función, un intervalo, el error en la función, la tolerancia\n",
    "y el número de iteraciones: $f(x), a, b, epsilon, delta, n$\n",
    "\n",
    "Salida: $ c_i $\n",
    "\n",
    "**Algoritmo**:\n",
    "1. $h_i = \\frac{f(a_i)}{f'(a_i)}$\n",
    "2. Sea $c_i = a_i − h_i$\n",
    "3. Paramos si $h_i < \\Delta$ o $|f(c_i)| < \\epsilon$ o $i \\geq n$\n",
    "5. En caso de que no se cumpla ninguna de las condiciones de parada\n",
    "$i = i + 1$ y volver al punto 1\n",
    "\n",
    "Es un **método abierto**, lo que significa que no es seguro que se alcance la raíz$"
   ]
  },
  {
   "cell_type": "markdown",
   "id": "6fbb2a58",
   "metadata": {},
   "source": [
    "**Pseudocódigo**\n",
    "```\n",
    "BúsquedaPorNewton (f(x),a,ε,Δ,n)\n",
    "  f’(x):=df(x)/dx\n",
    "  i:=0\n",
    "  repetir\n",
    "    i:=i+1\n",
    "    h:=f(a)/f’(a)\n",
    "    c:=a-h\n",
    "    a:=c\n",
    "  hasta (abs(f(c))≤ε) ó (abs(h)≤Δ) ó (i=n)\n",
    "  devolver c\n",
    "```"
   ]
  },
  {
   "cell_type": "markdown",
   "id": "5314fe3d",
   "metadata": {},
   "source": [
    "## Ejercicio 7\n",
    "Construir una función llamada $newton(f,a,b,errorfun,tolerancia,maxiter)$ que implemente el Método de Newton, teniendo en cuenta que el error en la raíz es la $tolerancia = delta$, el error en la función es $errorfun = epsilon$ y el número máximo de iteraciones es $maxiter$"
   ]
  },
  {
   "cell_type": "code",
   "execution_count": null,
   "id": "3151c7db",
   "metadata": {},
   "outputs": [],
   "source": [
    "# MÉTODO DE NEWTON. \n",
    "\n",
    "# IMPORTACIÓN DE LIBRERÍAS\n",
    "\n",
    "import numpy as np\n",
    "from sympy import *\n",
    "from sympy.abc import x\n",
    "\n",
    "# FUNCIÓN NEWTON\n",
    "\n",
    "def newton(f,a,tolerancia,errorfun,maxiter):\n",
    "\n",
    "    f = sympify(f)\n",
    "    f1 = diff(f)  \n",
    "    tabla = []\n",
    "\n",
    "    i = 1\n",
    "    while 1:\n",
    "        \n",
    "        fa = f.subs(x,a)\n",
    "        f1a = f1.subs(x,a)\n",
    "        h = fa / f1a\n",
    "        c =  a - h\n",
    "        fc = f.subs(x,c)\n",
    "        tabla.append([i,a,c,fa,f1a,fc,h])\n",
    "        a = c\n",
    "        i = i + 1\n",
    "\n",
    "        if not(abs(h) >= tolerancia and abs(fc) >= errorfun and i <= maxiter):\n",
    "            break\n",
    "\n",
    "    tabla = np.array(tabla)\n",
    "    raiz = c\n",
    "\n",
    "    return(tabla,raiz)\n",
    "\n",
    "\n",
    "# ENTRADA DE DATOS\n",
    "\n",
    "f = input('Introduzca la función                : ')\n",
    "a = float(input('Introduzca a                         : '))\n",
    "tolerancia = float(input('Introduzca la tolerancia             : '))\n",
    "errorfun = float(input('Introduzca el error de la función    : '))\n",
    "maxiter = int(input('Introduzca el máximo de iteraciones  : '))\n",
    "\n",
    "\n",
    "# LLAMADA A LA FUNCIÓN newton\n",
    "\n",
    "(tabla,raiz) = newton(f,a,tolerancia,errorfun,maxiter)\n",
    "\n",
    "\n",
    "# SALIDA DE RESULTADOS\n",
    "\n",
    "print('\\n')\n",
    "print(' i         a            c            f(a)         f1(a)       f(c)         h')\n",
    "n = len(tabla)\n",
    "for i in range(0,n,1):\n",
    "    unafila = tabla[i]\n",
    "    formato = '{!s:>2.2s}'+' '+(len(unafila)-1)*'{!s:>12.9s} '\n",
    "    unafila = formato.format(*unafila)\n",
    "    print(unafila)\n",
    "print('\\n','raiz: ',raiz)"
   ]
  },
  {
   "cell_type": "markdown",
   "id": "18eba039",
   "metadata": {},
   "source": [
    "## Ejercicio 8\n",
    "Prueba la función con $f$ partiendo del punto $a=0$ cuando $\\Delta \\leq 10^{−9}$ y 10 iteraciones como máximo"
   ]
  },
  {
   "cell_type": "code",
   "execution_count": 20,
   "id": "43ef498d",
   "metadata": {},
   "outputs": [
    {
     "name": "stdout",
     "output_type": "stream",
     "text": [
      "Introduzca la función                : x**2-sin(x)-0.5\n",
      "Introduzca a                         : 0\n",
      "Introduzca la tolerancia             : 1e-9\n",
      "Introduzca el error de la función    : 1e-9\n",
      "Introduzca el máximo de iteraciones  : 10\n",
      "\n",
      "\n",
      " i         a            c            f(a)         f1(a)       f(c)         h\n",
      " 1          0.0    -0.500000    -0.500000           -1    0.2294255    0.5000000 \n",
      " 2    -0.500000    -0.377808    0.2294255    -1.877582    0.0116228    -0.122191 \n",
      " 3    -0.377808    -0.370910    0.0116228    -1.685091    3.8851054    -0.006897 \n",
      " 4    -0.370910    -0.370887    3.8851054    -1.673818    4.4111458    -2.321102 \n",
      "\n",
      " raiz:  -0.370887340375536\n"
     ]
    }
   ],
   "source": [
    "# MÉTODO DE NEWTON. \n",
    "\n",
    "# IMPORTACIÓN DE LIBRERÍAS\n",
    "\n",
    "import numpy as np\n",
    "from sympy import *\n",
    "from sympy.abc import x\n",
    "\n",
    "# FUNCIÓN NEWTON\n",
    "\n",
    "def newton(f,a,tolerancia,errorfun,maxiter):\n",
    "\n",
    "    f = sympify(f)\n",
    "    f1 = diff(f)  \n",
    "    tabla = []\n",
    "\n",
    "    i = 1\n",
    "    while 1:\n",
    "        \n",
    "        fa = f.subs(x,a)\n",
    "        f1a = f1.subs(x,a)\n",
    "        h = fa / f1a\n",
    "        c =  a - h\n",
    "        fc = f.subs(x,c)\n",
    "        tabla.append([i,a,c,fa,f1a,fc,h])\n",
    "        a = c\n",
    "        i = i + 1\n",
    "\n",
    "        if not(abs(h) >= tolerancia and abs(fc) >= errorfun and i <= maxiter):\n",
    "            break\n",
    "\n",
    "    tabla = np.array(tabla)\n",
    "    raiz = c\n",
    "\n",
    "    return(tabla,raiz)\n",
    "\n",
    "\n",
    "# ENTRADA DE DATOS\n",
    "\n",
    "f = input('Introduzca la función                : ')\n",
    "a = float(input('Introduzca a                         : '))\n",
    "tolerancia = float(input('Introduzca la tolerancia             : '))\n",
    "errorfun = float(input('Introduzca el error de la función    : '))\n",
    "maxiter = int(input('Introduzca el máximo de iteraciones  : '))\n",
    "\n",
    "\n",
    "# LLAMADA A LA FUNCIÓN newton\n",
    "\n",
    "(tabla,raiz) = newton(f,a,tolerancia,errorfun,maxiter)\n",
    "\n",
    "\n",
    "# SALIDA DE RESULTADOS\n",
    "\n",
    "print('\\n')\n",
    "print(' i         a            c            f(a)         f1(a)       f(c)         h')\n",
    "n = len(tabla)\n",
    "for i in range(0,n,1):\n",
    "    unafila = tabla[i]\n",
    "    formato = '{!s:>2.2s}'+' '+(len(unafila)-1)*'{!s:>12.9s} '\n",
    "    unafila = formato.format(*unafila)\n",
    "    print(unafila)\n",
    "print('\\n','raiz: ',raiz)"
   ]
  },
  {
   "cell_type": "code",
   "execution_count": null,
   "id": "2c6149de",
   "metadata": {},
   "outputs": [],
   "source": [
    "# MI RESULTADO\n",
    "\n",
    "Introduzca la función                : x**2-sin(x)-0.5\n",
    "Introduzca a                         : 0\n",
    "Introduzca la tolerancia             : 1e-9\n",
    "Introduzca el error de la función    : 1e-9\n",
    "Introduzca el máximo de iteraciones  : 10\n",
    "\n",
    "\n",
    " i         a            c            f(a)         f1(a)       f(c)         h\n",
    " 1          0.0    -0.500000    -0.500000           -1    0.2294255    0.5000000 \n",
    " 2    -0.500000    -0.377808    0.2294255    -1.877582    0.0116228    -0.122191 \n",
    " 3    -0.377808    -0.370910    0.0116228    -1.685091    3.8851054    -0.006897 \n",
    " 4    -0.370910    -0.370887    3.8851054    -1.673818    4.4111458    -2.321102 \n",
    "\n",
    " raiz:  -0.370887340375536"
   ]
  },
  {
   "cell_type": "code",
   "execution_count": null,
   "id": "40ce44a1",
   "metadata": {},
   "outputs": [],
   "source": [
    "# SU RESULTADO\n",
    "\n",
    "h_n and f_c_n 0.5 0.229425538604203\n",
    "h_n and f_c_n 0.12219198412943003 0.01162285865846896\n",
    "h_n and f_c_n 0.006897464467170733 3.8851054631472426e-05\n",
    "h_n and f_c_n 2.321102786338833e-05 4.4111458930018443e-10\n",
    "Tolerancia o error aceptable. \n",
    "-0.3708873403755359"
   ]
  },
  {
   "cell_type": "markdown",
   "id": "9635aeea",
   "metadata": {},
   "source": [
    "## Ejercicio 9\n",
    "Modifica la función anterior para que almacene la tabla como en el ejercicio 2. Prueba la función con $f$ partiendo del punto $a=0$ cuando $\\Delta \\leq 10^{−9}$, $\\epsilon \\leq 10^{−9}$ y 10 iteraciones como máximo"
   ]
  },
  {
   "cell_type": "code",
   "execution_count": 19,
   "id": "968bea10",
   "metadata": {},
   "outputs": [
    {
     "name": "stdout",
     "output_type": "stream",
     "text": [
      "Introduzca la función                : x**2-sin(x)-0.5\n",
      "Introduzca a                         : 0\n",
      "Introduzca la tolerancia             : 1e-9\n",
      "Introduzca el error de la función    : 1e-9\n",
      "Introduzca el máximo de iteraciones  : 10\n",
      "\n",
      "\n",
      " i         a            c            f(a)         f1(a)       f(c)         h\n",
      " 1          0.0    -0.500000    -0.500000           -1    0.2294255    0.5000000 \n",
      " 2    -0.500000    -0.377808    0.2294255    -1.877582    0.0116228    -0.122191 \n",
      " 3    -0.377808    -0.370910    0.0116228    -1.685091    3.8851054    -0.006897 \n",
      " 4    -0.370910    -0.370887    3.8851054    -1.673818    4.4111458    -2.321102 \n",
      "\n",
      " raiz:  -0.370887340375536\n"
     ]
    }
   ],
   "source": [
    "# MÉTODO DE NEWTON. \n",
    "\n",
    "# IMPORTACIÓN DE LIBRERÍAS\n",
    "\n",
    "import numpy as np\n",
    "from sympy import *\n",
    "from sympy.abc import x\n",
    "\n",
    "# FUNCIÓN NEWTON\n",
    "\n",
    "def newton(f,a,tolerancia,errorfun,maxiter):\n",
    "\n",
    "    f = sympify(f)\n",
    "    f1 = diff(f)  \n",
    "    tabla = []\n",
    "\n",
    "    i = 1\n",
    "    while 1:\n",
    "        \n",
    "        fa = f.subs(x,a)\n",
    "        f1a = f1.subs(x,a)\n",
    "        h = fa / f1a\n",
    "        c =  a - h\n",
    "        fc = f.subs(x,c)\n",
    "        tabla.append([i,a,c,fa,f1a,fc,h])\n",
    "        a = c\n",
    "        i = i + 1\n",
    "\n",
    "        if not(abs(h) >= tolerancia and abs(fc) >= errorfun and i <= maxiter):\n",
    "            break\n",
    "\n",
    "    tabla = np.array(tabla)\n",
    "    raiz = c\n",
    "\n",
    "    return(tabla,raiz)\n",
    "\n",
    "\n",
    "# ENTRADA DE DATOS\n",
    "\n",
    "f = input('Introduzca la función                : ')\n",
    "a = float(input('Introduzca a                         : '))\n",
    "tolerancia = float(input('Introduzca la tolerancia             : '))\n",
    "errorfun = float(input('Introduzca el error de la función    : '))\n",
    "maxiter = int(input('Introduzca el máximo de iteraciones  : '))\n",
    "\n",
    "\n",
    "# LLAMADA A LA FUNCIÓN newton\n",
    "\n",
    "(tabla,raiz) = newton(f,a,tolerancia,errorfun,maxiter)\n",
    "\n",
    "\n",
    "# SALIDA DE RESULTADOS\n",
    "\n",
    "print('\\n')\n",
    "print(' i         a            c            f(a)         f1(a)       f(c)         h')\n",
    "n = len(tabla)\n",
    "for i in range(0,n,1):\n",
    "    unafila = tabla[i]\n",
    "    formato = '{!s:>2.2s}'+' '+(len(unafila)-1)*'{!s:>12.9s} '\n",
    "    unafila = formato.format(*unafila)\n",
    "    print(unafila)\n",
    "print('\\n','raiz: ',raiz)"
   ]
  },
  {
   "cell_type": "markdown",
   "id": "7aa1e241",
   "metadata": {},
   "source": [
    "## Descenso por Gradiente"
   ]
  },
  {
   "cell_type": "markdown",
   "id": "75f0827b",
   "metadata": {},
   "source": [
    "Cuando tenemos funciones de $n$ variables, es decir, del tipo $f(x_1,\\ldots,x_n)$ adaptamos el Método de Newton **para optimización** de la siguiente forma:\n",
    "\n",
    "\n",
    "*   En el método de Newton tenemos que: $x^{t+1}= x^n-\\frac{f(x^t)}{f'(x^t)}$\n",
    "*   Ahora hacemos $\\mathbf{x}^{t+1} = \\mathbf{x}^t - \\gamma\\nabla f(\\mathbf{x}^t)$ \n",
    "donde $\\mathbf{x}^t=(x_1^t,x_2^t,\\ldots,x_n^t)$ son las coordenadas de la solución $t-$ésima, $$\\nabla f(\\mathbf{x}^t)=\\left(\\frac{\\partial f}{\\partial x_1^t},\\frac{\\partial f}{\\partial x_2^t},\\ldots, \\frac{\\partial f}{\\partial x_n^t}\\right)$$ es el gradiente de $f$ en el punto $\\mathbf{x}^t$ y $\\gamma\\in\\mathbb{R}$ es una constante the amortiguamiento o de paso. \n",
    "\n",
    "Empezamos en $t=0$, es decir en $\\mathbf{x}^0$ y terminamos cuando la norma del gradiente sea lo suficientemente pequeña: $$\\| \\nabla f(\\mathbf{x}^t)\\|<\\epsilon$$\n",
    "Eso querrá decir que estamos cerca de alcanzar un punto crítico de $f$, o sea que $\\nabla f(\\mathbf{x}^t)\\approx \\mathbf{0}$."
   ]
  },
  {
   "cell_type": "markdown",
   "id": "3e99bedb",
   "metadata": {},
   "source": [
    "#### En Sympy\n",
    "A nivel simbólico, si declaramos la función, p.e. $g(x,y)=x^2 + xy + 3y^2$, podemos construir $\\nabla g(\\mathbf{x})$, con $\\mathbf{x}=(x,y)$, construyendo un vector simbólico con `Matrix([g])` y luego calculado su Jacobiano `G.jacobian([x,y])`.\n"
   ]
  },
  {
   "cell_type": "code",
   "execution_count": 2,
   "id": "45a36102",
   "metadata": {},
   "outputs": [
    {
     "data": {
      "text/latex": [
       "$\\displaystyle \\left[\\begin{matrix}2 x + y & x + 6 y\\end{matrix}\\right]$"
      ],
      "text/plain": [
       "Matrix([[2*x + y, x + 6*y]])"
      ]
     },
     "execution_count": 2,
     "metadata": {},
     "output_type": "execute_result"
    }
   ],
   "source": [
    "from sympy.abc import x, y\n",
    "from sympy import *\n",
    "\n",
    "g = x**2 + x*y + 3*y**2\n",
    "G = Matrix([g])\n",
    "G.jacobian([x,y])"
   ]
  },
  {
   "cell_type": "markdown",
   "id": "5fb0bb45",
   "metadata": {},
   "source": [
    "Ese vector almacena las derivadas parciales simbólicas. Para instanciar dichas derivadas en un punto (p.e. (0,0)) haremos:"
   ]
  },
  {
   "cell_type": "code",
   "execution_count": 3,
   "id": "0dd4f20a",
   "metadata": {},
   "outputs": [
    {
     "data": {
      "text/latex": [
       "$\\displaystyle \\left[\\begin{matrix}0 & 0\\end{matrix}\\right]$"
      ],
      "text/plain": [
       "Matrix([[0, 0]])"
      ]
     },
     "execution_count": 3,
     "metadata": {},
     "output_type": "execute_result"
    }
   ],
   "source": [
    "G.jacobian([x,y]).subs([(x,0), (y,0)])"
   ]
  },
  {
   "cell_type": "markdown",
   "id": "21a008e2",
   "metadata": {},
   "source": [
    "#### En Scipy\n",
    "Al igual que sucede con la búsqueda de raíces, *scipy* tiene su package para resolver problemas de optimización: `scipy.optimize`. Importamos `minimize` y elegimos un método (p.e. el Gradiente Conjugado, que además del gradiente usa la Hessiana). \n",
    "\n",
    "Consultad \n",
    "https://scipy-lectures.org/advanced/mathematical_optimization/ para más detalles. \n",
    "\n",
    "**Importante:** es necesario pasarle a *minimize* una función *callable*, esto es del tipo `def g_np(x):` donde `x` es un array de numpy. "
   ]
  },
  {
   "cell_type": "code",
   "execution_count": 7,
   "id": "38ebe348",
   "metadata": {},
   "outputs": [
    {
     "name": "stdout",
     "output_type": "stream",
     "text": [
      "Optimization terminated successfully.\n",
      "         Current function value: 0.000000\n",
      "         Iterations: 3\n",
      "         Function evaluations: 18\n",
      "         Gradient evaluations: 6\n"
     ]
    }
   ],
   "source": [
    "import numpy as np\n",
    "from sympy import lambdify\n",
    "from scipy.optimize import minimize\n",
    "\n",
    "def g_np(x):   # The function for numpy purposes (not sympy)\n",
    "    return x[0]**2 + x[0]*x[1] + 3*x[1]**2\n",
    "x0 = np.array([2,1])\n",
    "solucion = minimize(g_np, x0, method='CG', options={'disp': True})"
   ]
  },
  {
   "cell_type": "code",
   "execution_count": 5,
   "id": "d41df0e6",
   "metadata": {},
   "outputs": [
    {
     "data": {
      "text/plain": [
       "array([-1.54755886e-09, -7.09661996e-10])"
      ]
     },
     "execution_count": 5,
     "metadata": {},
     "output_type": "execute_result"
    }
   ],
   "source": [
    "solucion.x"
   ]
  },
  {
   "cell_type": "markdown",
   "id": "1622afa6",
   "metadata": {},
   "source": [
    "## Ejercicio 10\n",
    "Construir una función llamada $descenso\\_gradiente2D(g,x0,gamma,epsilon,N)$ que implemente el Método del descenso del gradiente, teniendo en cuenta que la función $g(x,y)$ es simbólica y luego es necesario traducirla internamente a numpy. \n",
    "\n",
    "**Importante**: El único paso delicado es tener en cuenta que el vector gradiente es en realidad del tipo **[[**$\\frac{\\partial g}{\\partial x},\\frac{\\partial g}{\\partial y}$**]]** (forma (1,2)) y hay que pasarlo a **[**$\\frac{\\partial g}{\\partial x},\\frac{\\partial g}{\\partial y}$**]** (forma (2,)).\n",
    "\n",
    "Para detectar la condición de convergencia, llamamos a `np.linalg.norm` para calcular la norma. \n",
    "\n",
    "**Finalmente**, construimos como siempre una `lista_iteraciones` para almacenar las soluciones parciales de cara a su posterior visualización."
   ]
  },
  {
   "cell_type": "code",
   "execution_count": null,
   "id": "24b1e1f2",
   "metadata": {},
   "outputs": [],
   "source": []
  },
  {
   "cell_type": "code",
   "execution_count": null,
   "id": "8c1e0340",
   "metadata": {},
   "outputs": [],
   "source": []
  },
  {
   "cell_type": "code",
   "execution_count": null,
   "id": "4361841d",
   "metadata": {},
   "outputs": [],
   "source": []
  },
  {
   "cell_type": "code",
   "execution_count": null,
   "id": "577e1210",
   "metadata": {},
   "outputs": [],
   "source": []
  },
  {
   "cell_type": "markdown",
   "id": "80c60e0a",
   "metadata": {},
   "source": [
    "#### Comparando Scipy con Nuestra implementación: \n",
    "Para comparar nuestra implementación con la de scipy, es interesante estudiar la **Función de Rosenbrock**. Se trata de un tipo de funciones que son suma de términos cuadráticos y están sujetas a mínimos locales. Su forma es: \n",
    "$$ f(x_1,x_2,\\ldots,x_n)=a(1 + x_1)^2+\\sum_{i=1}^{n-1}(x_{i+1}-x_i)^2$$ donde $a>0$. \n",
    "\n",
    "**Interesante.** Ese tipo de funciones tienen el punto óptimo en $(1,1,\\ldots,1)$. "
   ]
  },
  {
   "cell_type": "markdown",
   "id": "ee3dcfca",
   "metadata": {},
   "source": [
    "Con Scipy: "
   ]
  },
  {
   "cell_type": "code",
   "execution_count": 8,
   "id": "994190fb",
   "metadata": {},
   "outputs": [
    {
     "data": {
      "text/plain": [
       "     fun: 1.9753338186196247e-11\n",
       "     jac: array([-5.14157725e-07, -2.68837081e-06])\n",
       " message: 'Optimization terminated successfully.'\n",
       "    nfev: 69\n",
       "     nit: 11\n",
       "    njev: 23\n",
       "  status: 0\n",
       " success: True\n",
       "       x: array([0.99999401, 0.99998667])"
      ]
     },
     "execution_count": 8,
     "metadata": {},
     "output_type": "execute_result"
    }
   ],
   "source": [
    "def g_np(x):   # The rosenbrock function\n",
    "    return .5*(1 - x[0])**2 + (x[1] - x[0]**2)**2\n",
    "minimize(g_np, [0, -2], method=\"CG\") "
   ]
  },
  {
   "cell_type": "markdown",
   "id": "56321b9f",
   "metadata": {},
   "source": [
    "## Resolución de Sistemas No-Lineales\n",
    "Como vemos en clase de teoría, nn sistema multidimensional está formado por $m$ ecuaciones **no-lineales** de $n$ variables cada una: \n",
    "$$g_1(x_1,x_2,\\ldots,x_n)=0$$\n",
    "$$g_2(x_1,x_2,\\ldots,x_n)=0$$\n",
    "$$\\ldots$$\n",
    "$$g_m(x_1,x_2,\\ldots,x_n)=0$$\n",
    "Si consideramos cada una de las $g_i$ como las filas de una matriz \n",
    "$$G = \\begin{pmatrix}\n",
    "g_1(x_1,x_2,\\ldots,x_n) \\\\\n",
    "g_2(x_1,x_2,\\ldots,x_n) \\\\\n",
    "\\ldots\\\\\n",
    "g_m(x_1,x_2,\\ldots,x_n)\n",
    "\\end{pmatrix}$$\n",
    "Tenemos que la función a minimizar (función objetivo) puede ser \n",
    "$$F(x_1,x_2,\\ldots,x_n) = G^TG = \\frac{1}{2}\\sum_{i=1}^m g_i(x_1,x_2,\\ldots,x_m)^2$$ cuyo óptimo es $(0,0,\\ldots,0)$ lo que significa que hemos encontrado una instanciación de las $n$ variables $x_1^{\\ast},x_2^{\\ast},\\ldots,x_n^{\\ast}$ que hace **todas** las $g_i$ **simultaneamente** 0. \n",
    "\n",
    "Para estas funciones, tenemos que su vector gradiente es $\\nabla F = J^T_G G$, donde $J_G$ es el Jacobiano de G (una matrix $m\\times n$): \n",
    "$$J_G = \\begin{pmatrix}\n",
    "\\frac{\\partial g_1}{\\partial x_1} & \\frac{\\partial g_1}{\\partial x_2} & \\ldots & \\frac{\\partial g_1}{\\partial x_n} \\\\\n",
    "\\frac{\\partial g_2}{\\partial x_1} & \\frac{\\partial g_2}{\\partial x_2} & \\ldots & \\frac{\\partial g_2}{\\partial x_n} \\\\\n",
    "\\vdots & \\vdots & \\ddots & \\vdots \\\\\n",
    "\\frac{\\partial g_m}{\\partial x_1} & \\frac{\\partial g_m}{\\partial x_2} & \\ldots & \\frac{\\partial g_m}{\\partial x_n}\n",
    "\\end{pmatrix}$$\n"
   ]
  },
  {
   "cell_type": "markdown",
   "id": "ef14acc5",
   "metadata": {},
   "source": [
    "#### En Sympy\n",
    "A nivel simbólico, veamos cómo resolver el siguiente sistema: \n",
    "\n",
    "\n",
    "$$x^2-3y = 0$$\n",
    "$$x-y = 0$$\n",
    "que obviamente tiene una solución en $(x=0,y=0)$.\n",
    "En Sympy simplemente llamamos a `solve()` (ver https://docs.sympy.org/latest/modules/solvers/solvers.html):"
   ]
  },
  {
   "cell_type": "code",
   "execution_count": 10,
   "id": "74afedc7",
   "metadata": {},
   "outputs": [
    {
     "data": {
      "text/plain": [
       "([x, y], {(0, 0), (3, 3)})"
      ]
     },
     "execution_count": 10,
     "metadata": {},
     "output_type": "execute_result"
    }
   ],
   "source": [
    "from sympy import solve, Poly, Eq, Function, exp, sin\n",
    "from sympy.abc import x, y, z, a, b\n",
    "#solve([sin(x)+y**2, exp(x)+2*y-1], set=True)\n",
    "solve([x**2 - 3*y, x - y], set=True)"
   ]
  },
  {
   "cell_type": "markdown",
   "id": "cf87c8b3",
   "metadata": {},
   "source": [
    "Pero este solver no puede resolver este sistema: \n",
    "$$sin(x) + y^2 = 0$$\n",
    "$$e^x + 2y -1  = 0$$"
   ]
  },
  {
   "cell_type": "code",
   "execution_count": 12,
   "id": "083a1dac",
   "metadata": {},
   "outputs": [
    {
     "data": {
      "text/plain": [
       "([], set())"
      ]
     },
     "execution_count": 12,
     "metadata": {},
     "output_type": "execute_result"
    }
   ],
   "source": [
    "from sympy import solve, Poly, Eq, Function, exp, sin\n",
    "from sympy.abc import x, y, z, a, b\n",
    "solve([sin(x)+y**2, exp(x)+2*y-1], set=True)\n",
    "#solve([x**2 - 3*y, x - y], set=True)"
   ]
  },
  {
   "cell_type": "markdown",
   "id": "1ed76a1a",
   "metadata": {},
   "source": [
    "#### En Scipy\n",
    "En cambio, un solver numérico al que le pasamos un *callable* nos da una solución aproximada, eso sí tras pasale un punto de partida: \n"
   ]
  },
  {
   "cell_type": "code",
   "execution_count": 14,
   "id": "82fb7db6",
   "metadata": {},
   "outputs": [
    {
     "data": {
      "text/plain": [
       "array([ 3.15340019e-34, -1.77578157e-17])"
      ]
     },
     "execution_count": 14,
     "metadata": {},
     "output_type": "execute_result"
    }
   ],
   "source": [
    "from scipy.optimize import fsolve\n",
    "def func(x):\n",
    "    return [np.sin(x[0]) - x[1]**2,\n",
    "            np.exp(x[0]) + 2*x[1] - 1]\n",
    "root = fsolve(func, [1, 1])\n",
    "root"
   ]
  },
  {
   "cell_type": "markdown",
   "id": "6199329f",
   "metadata": {},
   "source": [
    "## Aplicación: Curve Fitting\n",
    "Como hemos visto en teoría, la resolución de sistemas no-lineales puede aplicarse a ajuste de curvas. En concreto, supongamos que tenemos un conjunto de $m$ puntos 2D $S=\\{(x_i,y_i),\\;i=1,2,\\ldots,m\\}$ y queremos encontrar los $n=2$ parámetros del círculo $\\theta = (x_c,y_c,r)$ (coordenadas del centro y radio) al que mejor se ajustan.\n",
    "\n",
    "Idealmente, si el ajuste fuera perfecto, todos los puntos cumplirían la ecuación implícita del círculo $(x_i - x_c)^2 + (y_i - y_c)^2 = r^2$. Por lo tanto tenemos $m$ restricciones (una por cada punto) y la matriz del sistema a resolver es: \n",
    "$$G = \\begin{pmatrix}\n",
    "g_1: (x_1 - x_c)^2 + (y_1 - y_c)^2 - r^2 \\\\\n",
    "g_2: (x_2 - x_c)^2 + (y_2 - y_c)^2 - r^2 \\\\\n",
    "\\ldots\\\\\n",
    "g_m: (x_m - x_c)^2 + (y_m - y_c)^2 - r^2 \\\\\n",
    "\\end{pmatrix}$$\n",
    "Adaptando la función objetivo general, tenemos: \n",
    "$$F(x_c,y_c,r) = G^TG = \\frac{1}{2}\\sum_{i=1}^m ((x_1 - x_c)^2 + (y_1 - y_c)^2 - r^2)^2$$\n",
    "Con lo que basta con usar Sympy, Scipy o Nuestra Implementación. Pero **antes**, generemos los datos experimentales. "
   ]
  },
  {
   "cell_type": "code",
   "execution_count": null,
   "id": "9c76e7c7",
   "metadata": {},
   "outputs": [],
   "source": []
  }
 ],
 "metadata": {
  "kernelspec": {
   "display_name": "Python 3 (ipykernel)",
   "language": "python",
   "name": "python3"
  },
  "language_info": {
   "codemirror_mode": {
    "name": "ipython",
    "version": 3
   },
   "file_extension": ".py",
   "mimetype": "text/x-python",
   "name": "python",
   "nbconvert_exporter": "python",
   "pygments_lexer": "ipython3",
   "version": "3.9.7"
  }
 },
 "nbformat": 4,
 "nbformat_minor": 5
}

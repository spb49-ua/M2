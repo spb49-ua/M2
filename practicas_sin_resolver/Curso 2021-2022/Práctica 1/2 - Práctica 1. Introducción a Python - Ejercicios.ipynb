{
  "nbformat": 4,
  "nbformat_minor": 0,
  "metadata": {
    "colab": {
      "name": "ejercicios-introduccion-Python-repaso.ipynb",
      "provenance": []
    },
    "kernelspec": {
      "name": "python3",
      "display_name": "Python 3"
    },
    "language_info": {
      "name": "python"
    }
  },
  "cells": [
    {
      "cell_type": "markdown",
      "source": [
        "# Introducción a Python (Matemáticas 2. GII/I2ADE)"
      ],
      "metadata": {
        "id": "7T_axFXpZbEb"
      }
    },
    {
      "cell_type": "markdown",
      "source": [
        "# Conceptos Básicos"
      ],
      "metadata": {
        "id": "iX7C-YDxZnkO"
      }
    },
    {
      "cell_type": "markdown",
      "source": [
        "## Aritmética"
      ],
      "metadata": {
        "id": "qOA4hDohZwRX"
      }
    },
    {
      "cell_type": "code",
      "execution_count": null,
      "metadata": {
        "id": "sIFwLI6oZHH5"
      },
      "outputs": [],
      "source": [
        "# Calcula 25 al cubo\n"
      ]
    },
    {
      "cell_type": "code",
      "source": [
        "# Calcula el resto de dividir 300 entre 9\n"
      ],
      "metadata": {
        "id": "ZitLGFqugxxt"
      },
      "execution_count": null,
      "outputs": []
    },
    {
      "cell_type": "code",
      "source": [
        "# Calcula la diferencia del resto de dividir 200 entre 5 y el cuadrado de 7\n"
      ],
      "metadata": {
        "id": "c1A-r66ghG6U"
      },
      "execution_count": null,
      "outputs": []
    },
    {
      "cell_type": "code",
      "source": [
        "# Escribe la siguiente expresión con el menor número de paréntesis posible (4*5)/(3+2)-1\n"
      ],
      "metadata": {
        "id": "UHePU8uyghNN"
      },
      "execution_count": null,
      "outputs": []
    },
    {
      "cell_type": "markdown",
      "source": [
        "## Cadenas de caracteres"
      ],
      "metadata": {
        "id": "-7NftSYPhYBw"
      }
    },
    {
      "cell_type": "code",
      "source": [
        "# Crea una variable con tu nombre y, usando la función correspondiente, la pase a mayúsculas\n"
      ],
      "metadata": {
        "id": "CRjOb68ojV80"
      },
      "execution_count": null,
      "outputs": []
    },
    {
      "cell_type": "code",
      "source": [
        "# Dadas las variables siguientes, escribe el código necesario para imprimir por pantalla:\n",
        "# Práctica 1: Introducción a Python\n",
        "numP = 1\n",
        "texto = 'introducción a python'\n",
        "# Usando format\n",
        "\n",
        "# Usando fstring\n",
        "\n"
      ],
      "metadata": {
        "id": "MJgGqpGJjiyq"
      },
      "execution_count": null,
      "outputs": []
    },
    {
      "cell_type": "code",
      "source": [
        "# Dada la siguiente variable:\n",
        "cadena = \"Ejercicios de introducción a Python\"\n",
        "# accede al último carácter\n",
        "\n",
        "# encuentra la primera ocurrencia del carácter \n",
        "\n",
        "# genera la subcadena 'introducción'\n"
      ],
      "metadata": {
        "id": "vcsA9pSbkv63"
      },
      "execution_count": null,
      "outputs": []
    },
    {
      "cell_type": "markdown",
      "source": [
        "## Mostrar por pantalla"
      ],
      "metadata": {
        "id": "J9ZUpFnclXZk"
      }
    },
    {
      "cell_type": "code",
      "source": [
        "# Dadas las siguientes variables, escribe el código necesario para imprimirlas separadas por \"!!\" \n",
        "parte1 = 'Introducción'\n",
        "parte2 = 'a Python'\n"
      ],
      "metadata": {
        "id": "-aAZTCdRla1h"
      },
      "execution_count": null,
      "outputs": []
    },
    {
      "cell_type": "markdown",
      "source": [
        "## Listas"
      ],
      "metadata": {
        "id": "6LO7w47noIsn"
      }
    },
    {
      "cell_type": "code",
      "source": [
        "# Dada la siguiente lista\n",
        "L = [1, 2, 3, 4, 5, 6]\n",
        "# obtén el quinto elemento\n",
        "\n",
        "# obtén el sexto elemento \n",
        "\n",
        "# añade un elemento nuevo\n",
        "\n",
        "# cambia el valor del segundo elemento por 7\n",
        "\n",
        "# borra un elemento\n"
      ],
      "metadata": {
        "id": "HuZlCeBJoMAg"
      },
      "execution_count": null,
      "outputs": []
    },
    {
      "cell_type": "markdown",
      "source": [
        "##Diccionarios"
      ],
      "metadata": {
        "id": "h8DAInQuwyeu"
      }
    },
    {
      "cell_type": "code",
      "source": [
        "# Crea un diccionario con los siguientes ítems:\n",
        "# 'Marzo': [14, 19], 'Abril': [0], 'Mayo': [1, 7, 14, 21]\n",
        "\n",
        "# imprime en minúsculas y separadas por guiones, las claves del diccionario\n",
        "\n",
        "# imprime el número de elementos que tiene cada valor del diccioario\n",
        "\n",
        "# elimina el ítem con el menor número de elementos en su valor\n"
      ],
      "metadata": {
        "id": "FEFqGVqBw3eR"
      },
      "execution_count": null,
      "outputs": []
    },
    {
      "cell_type": "markdown",
      "source": [
        "##Tuplas"
      ],
      "metadata": {
        "id": "ww6GY_1rxsz4"
      }
    },
    {
      "cell_type": "code",
      "source": [
        "# Crea una tupla con 5 elementos\n",
        "\n",
        "# imprime los elementos separados por punto y coma\n"
      ],
      "metadata": {
        "id": "OCsGbpQoxuuQ"
      },
      "execution_count": null,
      "outputs": []
    },
    {
      "cell_type": "markdown",
      "source": [
        "##Conjuntos (sets)"
      ],
      "metadata": {
        "id": "H2iayhCGx4Ir"
      }
    },
    {
      "cell_type": "code",
      "source": [
        "# Crea un conjunto (set) con los siguientes elementos: 1, 1, 2, 8, 9, 3, 5, 2\n",
        "\n",
        "# obtén el segundo elemento del conjunto\n",
        "\n",
        "# muestra por pantalla el número de elementos del conjunto"
      ],
      "metadata": {
        "id": "t2cPFVPjx9yW"
      },
      "execution_count": null,
      "outputs": []
    },
    {
      "cell_type": "markdown",
      "source": [
        "#Estructuras de control"
      ],
      "metadata": {
        "id": "q8m54zT2ySHw"
      }
    },
    {
      "cell_type": "code",
      "source": [
        "# Dada la lista L definida en el apartado de Listas, imprime los elementos múltiplos de 3 mediante un bucle for\n",
        "\n",
        "# Dada la lista L definida en el apartado de Listas, imprime los elementos múltiplos de 3 mediante un bucle while\n"
      ],
      "metadata": {
        "id": "3efiY2L2yUnk"
      },
      "execution_count": null,
      "outputs": []
    },
    {
      "cell_type": "markdown",
      "source": [
        "# List comprenhension"
      ],
      "metadata": {
        "id": "0m3lM4Dpl7wa"
      }
    },
    {
      "cell_type": "code",
      "source": [
        "# Crea una lista con los números impares desde 1 hasta n\n",
        "n = 10\n"
      ],
      "metadata": {
        "id": "rkhAkZdWmEAh"
      },
      "execution_count": 1,
      "outputs": []
    },
    {
      "cell_type": "markdown",
      "source": [
        "#Funciones"
      ],
      "metadata": {
        "id": "YJdEV8ylysND"
      }
    },
    {
      "cell_type": "code",
      "source": [
        "# Crea una función que permita calcular el área de un círculo a partir de su radio, proporcionado como argumento, sabiendo que el área viene dada por pi*r*r y que el radio debe ser mayor que cero\n",
        "\n",
        "# Crea una función que dado un diccionario (argumento), devuelva una tupla donde el primer elemento sea una lista con todas las claves del diccionario en mayúscula y el segundo elemento sea una lista con los valores de dicho diccionario\n"
      ],
      "metadata": {
        "id": "aBGI7z30yts1"
      },
      "execution_count": null,
      "outputs": []
    },
    {
      "cell_type": "markdown",
      "source": [
        "#Clases"
      ],
      "metadata": {
        "id": "MOIpnjNyzaaD"
      }
    },
    {
      "cell_type": "code",
      "source": [
        "# Crea la clase \"operaciones\" que tenga como parámetros dos operandos y que incluya los siguientes métodos:\n",
        "# __init__, estableciendo como valores por defecto de los operandos 0\n",
        "# actualizar, permite modificar el valor de los operandos\n",
        "# suma, que devuelve la suma de los dos operandos\n",
        "# resta, que devuelve la resta de los dos operandos\n",
        "# multiplicación, que devuelve la multiplicación de los dos operandos\n",
        "# división, que devuelve la división de los dos operandos, primero dividido el segundo, o NaN, cuando el segundo operando es cero\n",
        "# un método que al hacer print(objeto) imprima el mensaje 'Los operandos de esta operación es operador1 y operador2'\n",
        "\n",
        "\n",
        "\n",
        "\n"
      ],
      "metadata": {
        "id": "CIU1YVIxzfEQ"
      },
      "execution_count": null,
      "outputs": []
    }
  ]
}
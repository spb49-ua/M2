{
  "nbformat": 4,
  "nbformat_minor": 0,
  "metadata": {
    "colab": {
      "name": "ejercicios_introduccion_Python.ipynb",
      "provenance": [],
      "collapsed_sections": []
    },
    "kernelspec": {
      "name": "python3",
      "display_name": "Python 3"
    },
    "language_info": {
      "name": "python"
    }
  },
  "cells": [
    {
      "cell_type": "markdown",
      "source": [
        "Calcula la siguiente expresión: $\\frac{1}{\\frac{1}{2}*3^3}$"
      ],
      "metadata": {
        "id": "Yjr85aZNghzR"
      }
    },
    {
      "cell_type": "code",
      "execution_count": null,
      "metadata": {
        "colab": {
          "base_uri": "https://localhost:8080/"
        },
        "id": "o7P3yjTYerE1",
        "outputId": "e0001a34-c656-4117-f561-c314ca02566a"
      },
      "outputs": [
        {
          "output_type": "execute_result",
          "data": {
            "text/plain": [
              "0.07407407407407407"
            ]
          },
          "metadata": {},
          "execution_count": 11
        }
      ],
      "source": [
        ""
      ]
    },
    {
      "cell_type": "markdown",
      "source": [
        "Dado el diccionario *vehiculos* compuesto de nombres de vehículos y sus pesos en kilogramos, construye una lista con los nombres, escritos en mayúscula, de aquellos vehículos que tienen un peso inferior a 5000 kilogramos. Usa **list comprehension**."
      ],
      "metadata": {
        "id": "rVnU2WsvDQtN"
      }
    },
    {
      "cell_type": "code",
      "source": [
        "vehiculos = {\"Sedan\": 1500, \"SUV\": 2000, \"Pickup\": 2500, \"Ranchera\": 1600, \"Furgo\": 2400, \"Semi\": 13600, \"Bicicleta\": 7, \"Moto\": 110}\n"
      ],
      "metadata": {
        "colab": {
          "base_uri": "https://localhost:8080/"
        },
        "id": "Sy9JXPHoDigo",
        "outputId": "74f0a760-d111-41fd-fc93-425a6ab27c5f"
      },
      "execution_count": null,
      "outputs": [
        {
          "output_type": "execute_result",
          "data": {
            "text/plain": [
              "['SEDAN', 'SUV', 'PICKUP', 'RANCHERA', 'FURGO', 'BICICLETA', 'MOTO']"
            ]
          },
          "metadata": {},
          "execution_count": 27
        }
      ]
    },
    {
      "cell_type": "markdown",
      "source": [
        "Escribe una función que reciba como argumentos *hora* y *minutos* expresados en formato de 24 horas y devuelva una tupla del tipo (*hora12*, *minutos12*, \\*) que exprese la hora en el formato 12 horas y un tercer elemento que indique si es tarde (*) o mañana (None). Así, por ejemplo, si los argumentos son *hora=20*, *minutos=16*, la tupla resultante sería (8, 16, \\*). En cambio, si los argumentos son *hora=8*, *minutos=16*, la tupla resultante sería *(8, 16, None)*.  "
      ],
      "metadata": {
        "id": "PC0CmBNxhnKs"
      }
    },
    {
      "cell_type": "code",
      "source": [
        ""
      ],
      "metadata": {
        "colab": {
          "base_uri": "https://localhost:8080/"
        },
        "id": "0iOj8U177n_g",
        "outputId": "ee411121-f098-4321-80e2-56fc503618bc"
      },
      "execution_count": null,
      "outputs": [
        {
          "output_type": "stream",
          "name": "stdout",
          "text": [
            "(8, 36, '*')\n",
            "(7, 25, None)\n",
            "(11, 59, '*')\n"
          ]
        }
      ]
    },
    {
      "cell_type": "markdown",
      "source": [
        "Usando ```math.pi```, escribe una función que convierta grados en radianes y viceversa. Los argumentos de la función deben ser ```(valor,'rad')``` cuando se quiera convertir grados en radianes, mientras que los argumentos serán ```(valor,'gra')``` cuando lo que se quiera es convertir radianes en grados."
      ],
      "metadata": {
        "id": "CVJLtdxZ732I"
      }
    },
    {
      "cell_type": "code",
      "source": [
        ""
      ],
      "metadata": {
        "colab": {
          "base_uri": "https://localhost:8080/"
        },
        "id": "Op1_qSgZ8oy3",
        "outputId": "1a053bc6-ad1e-4fdd-8496-5e1189fe42e1"
      },
      "execution_count": null,
      "outputs": [
        {
          "output_type": "stream",
          "name": "stdout",
          "text": [
            "0.017453292519943295\n",
            "57.29577951308232\n",
            "3.141592653589793\n"
          ]
        }
      ]
    },
    {
      "cell_type": "markdown",
      "source": [
        "Escribe una clase que represente un cilindro mediante sus dimensiones (radio y altura) y que tenga como métodos el cálculo del volumen, el cálculo del área y el método que permita imprimir toda la información del cilindro al hacer ```print```."
      ],
      "metadata": {
        "id": "EuphC44j-emi"
      }
    },
    {
      "cell_type": "code",
      "source": [
        ""
      ],
      "metadata": {
        "colab": {
          "base_uri": "https://localhost:8080/"
        },
        "id": "qWiHJYP3-apt",
        "outputId": "4502413a-b241-42df-c010-781dfa5323ea"
      },
      "execution_count": null,
      "outputs": [
        {
          "output_type": "stream",
          "name": "stdout",
          "text": [
            "El cilindro de radio 2 y altura 4 tiene el volumen 50.26548245743669 y la superficie 75.39822368615503\n"
          ]
        }
      ]
    }
  ]
}
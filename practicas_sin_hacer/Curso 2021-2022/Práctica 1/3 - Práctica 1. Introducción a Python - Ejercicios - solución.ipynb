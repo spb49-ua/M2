{
  "nbformat": 4,
  "nbformat_minor": 0,
  "metadata": {
    "colab": {
      "name": "ejercicios-introduccion-Python-repaso-solucion.ipynb",
      "provenance": []
    },
    "kernelspec": {
      "name": "python3",
      "display_name": "Python 3"
    },
    "language_info": {
      "name": "python"
    }
  },
  "cells": [
    {
      "cell_type": "markdown",
      "source": [
        "# Introducción a Python (Matemáticas 2. GII/I2ADE)"
      ],
      "metadata": {
        "id": "7T_axFXpZbEb"
      }
    },
    {
      "cell_type": "markdown",
      "source": [
        "# Conceptos Básicos"
      ],
      "metadata": {
        "id": "iX7C-YDxZnkO"
      }
    },
    {
      "cell_type": "markdown",
      "source": [
        "## Aritmética"
      ],
      "metadata": {
        "id": "qOA4hDohZwRX"
      }
    },
    {
      "cell_type": "code",
      "execution_count": null,
      "metadata": {
        "id": "sIFwLI6oZHH5"
      },
      "outputs": [],
      "source": [
        "# Calcula 25 al cubo\n",
        "25**3"
      ]
    },
    {
      "cell_type": "code",
      "source": [
        "# Calcula el resto de dividir 300 entre 9\n",
        "300%9"
      ],
      "metadata": {
        "id": "ZitLGFqugxxt"
      },
      "execution_count": null,
      "outputs": []
    },
    {
      "cell_type": "code",
      "source": [
        "# Calcula la diferencia del resto de dividir 200 entre 5 y el cuadrado de 7\n",
        "200/5-7**2"
      ],
      "metadata": {
        "id": "c1A-r66ghG6U"
      },
      "execution_count": null,
      "outputs": []
    },
    {
      "cell_type": "code",
      "source": [
        "# Escribe la siguiente expresión con el menor número de paréntesis posible (4*5)/(3+2)-1\n",
        "4*5/(3+2)-1"
      ],
      "metadata": {
        "id": "UHePU8uyghNN"
      },
      "execution_count": null,
      "outputs": []
    },
    {
      "cell_type": "markdown",
      "source": [
        "## Cadenas de caracteres"
      ],
      "metadata": {
        "id": "-7NftSYPhYBw"
      }
    },
    {
      "cell_type": "code",
      "source": [
        "# Crea una variable con tu nombre y, usando la función correspondiente, la pase a mayúsculas\n",
        "cadena='ester'.upper()"
      ],
      "metadata": {
        "id": "CRjOb68ojV80"
      },
      "execution_count": null,
      "outputs": []
    },
    {
      "cell_type": "code",
      "source": [
        "# Dadas las variables siguientes, escribe el código necesario para imprimir por pantalla:\n",
        "# Práctica 1: Introducción a Python\n",
        "numP = 1\n",
        "texto = 'Introducción a Python'\n",
        "\n",
        "# Usando format\n",
        "'Práctica {}: {}'.format(numP,texto)\n",
        "\n",
        "# Usando fstring\n",
        "f'Práctica {numP}: {texto}'"
      ],
      "metadata": {
        "id": "MJgGqpGJjiyq"
      },
      "execution_count": null,
      "outputs": []
    },
    {
      "cell_type": "code",
      "source": [
        "# Dada la siguiente variable:\n",
        "cadena = \"Ejercicios de introducción a Python\"\n",
        "\n",
        "# accede al último carácter\n",
        "cadena[-1]\n",
        "\n",
        "# encuentra la primera ocurrencia del carácter i\n",
        "enc=False\n",
        "ind=1\n",
        "while not enc and ind < len(cadena):\n",
        "  if cadena[ind]=='i':\n",
        "    enc = True\n",
        "  ind += 1\n",
        "print(ind-1)\n",
        "\n",
        "# genera la subcadena 'introducción'\n",
        "cadena[14:26]"
      ],
      "metadata": {
        "id": "vcsA9pSbkv63"
      },
      "execution_count": null,
      "outputs": []
    },
    {
      "cell_type": "markdown",
      "source": [
        "## Mostrar por pantalla"
      ],
      "metadata": {
        "id": "J9ZUpFnclXZk"
      }
    },
    {
      "cell_type": "code",
      "source": [
        "# Dadas las siguientes variables, escribe el código necesario para imprimirlas separadas por \"!!\" \n",
        "parte1 = 'Introducción'\n",
        "parte2 = 'a Python'\n",
        "print(parte1, parte2, sep='!!')"
      ],
      "metadata": {
        "id": "-aAZTCdRla1h"
      },
      "execution_count": null,
      "outputs": []
    },
    {
      "cell_type": "markdown",
      "source": [
        "## Listas"
      ],
      "metadata": {
        "id": "6LO7w47noIsn"
      }
    },
    {
      "cell_type": "code",
      "source": [
        "# Dada la siguiente lista\n",
        "L = [1, 2, 3, 4, 5, 6]\n",
        "# obtén el quinto elemento\n",
        "L[4]\n",
        "# obtén el sexto elemento \n",
        "L[5]\n",
        "# añade un elemento nuevo\n",
        "L.append(7)\n",
        "# cambia el valor del segundo elemento por 7\n",
        "L[1] = 7\n",
        "# borra un elemento\n",
        "L.pop()"
      ],
      "metadata": {
        "id": "HuZlCeBJoMAg"
      },
      "execution_count": null,
      "outputs": []
    },
    {
      "cell_type": "markdown",
      "source": [
        "##Diccionarios"
      ],
      "metadata": {
        "id": "h8DAInQuwyeu"
      }
    },
    {
      "cell_type": "code",
      "source": [
        "# Crea un diccionario con los siguientes ítems:\n",
        "# 'Marzo': [14, 19], 'Abril': [0], 'Mayo': [1, 7, 14, 21]\n",
        "diccionario = {'Marzo': [14, 19], 'Abril': [0], 'Mayo': [1, 7, 14, 21]}\n",
        "\n",
        "# imprime en minúsculas y separadas por guiones, las claves del diccionario\n",
        "for clave in diccionario.keys():\n",
        "  print(clave.lower(), end='-')\n",
        "\n",
        "# imprime el número de elementos que tiene cada valor del diccioario\n",
        "for valor in diccionario.values():\n",
        "  print(len(valor))\n",
        "\n",
        "# elimina el ítem con el menor número de elementos en su valor\n",
        "minNum = 100\n",
        "minClave = ''\n",
        "for clave in diccionario.keys():\n",
        "  numElementos = len(diccionario[clave])\n",
        "  if numElementos < minNum:\n",
        "    minNum = numElementos\n",
        "    minClave = clave\n",
        "\n",
        "del diccionario[minClave]"
      ],
      "metadata": {
        "id": "FEFqGVqBw3eR"
      },
      "execution_count": null,
      "outputs": []
    },
    {
      "cell_type": "markdown",
      "source": [
        "##Tuplas"
      ],
      "metadata": {
        "id": "ww6GY_1rxsz4"
      }
    },
    {
      "cell_type": "code",
      "source": [
        "# Crea una tupla con 5 elementos\n",
        "tupla = (1, 2, 3, 4, 5)\n",
        "\n",
        "# imprime los elementos separados por punto y coma\n",
        "for elem in tupla:\n",
        "  print(elem, end=';')"
      ],
      "metadata": {
        "id": "OCsGbpQoxuuQ"
      },
      "execution_count": null,
      "outputs": []
    },
    {
      "cell_type": "markdown",
      "source": [
        "##Conjuntos (sets)"
      ],
      "metadata": {
        "id": "H2iayhCGx4Ir"
      }
    },
    {
      "cell_type": "code",
      "source": [
        "# Crea un conjunto (set) con los siguientes elementos: 1, 1, 2, 8, 9, 3, 5, 2\n",
        "conjunto = {1, 1, 2, 8, 9, 3, 5, 2}\n",
        "\n",
        "# obtén el segundo elemento del conjunto\n",
        "j=1\n",
        "for i in conjunto:\n",
        "  if j==2:\n",
        "    print(i)\n",
        "  j+=1\n",
        "\n",
        "# muestra por pantalla el número de elementos del conjunto\n",
        "len(conjunto)"
      ],
      "metadata": {
        "id": "t2cPFVPjx9yW"
      },
      "execution_count": null,
      "outputs": []
    },
    {
      "cell_type": "markdown",
      "source": [
        "#Estructuras de control"
      ],
      "metadata": {
        "id": "q8m54zT2ySHw"
      }
    },
    {
      "cell_type": "code",
      "source": [
        "# Dada la lista L definida en el apartado de Listas, imprime los elementos múltiplos de 3 mediante un bucle for\n",
        "for i in L:\n",
        "  if i%3==0:\n",
        "    print(i)\n",
        "\n",
        "# Dada la lista L definida en el apartado de Listas, imprime los elementos múltiplos de 3 mediante un bucle while\n",
        "i=0\n",
        "while i < len(L):\n",
        "  if L[i]%3==0:\n",
        "    print(L[i])\n",
        "  i+=1"
      ],
      "metadata": {
        "id": "3efiY2L2yUnk"
      },
      "execution_count": null,
      "outputs": []
    },
    {
      "cell_type": "markdown",
      "source": [
        "# List comprenhension"
      ],
      "metadata": {
        "id": "0m3lM4Dpl7wa"
      }
    },
    {
      "cell_type": "code",
      "source": [
        "# Crea una lista con los números impares desde 1 hasta n\n",
        "n = 10\n",
        "[i for i in range(10) if i%2!=0]"
      ],
      "metadata": {
        "id": "rkhAkZdWmEAh"
      },
      "execution_count": null,
      "outputs": []
    },
    {
      "cell_type": "markdown",
      "source": [
        "#Funciones"
      ],
      "metadata": {
        "id": "YJdEV8ylysND"
      }
    },
    {
      "cell_type": "code",
      "source": [
        "# Crea una función que permita calcular el área de un círculo a partir de su radio, proporcionado como argumento, sabiendo que el área viene dada por pi*r*r y que el radio debe ser mayor que cero\n",
        "from math import pi\n",
        "\n",
        "def areaCirculo(radio):\n",
        "  return pi*radio*radio\n",
        "\n",
        "# Crea una función que dado un diccionario (argumento), devuelva una tupla donde el primer elemento sea una lista con todas las claves del diccionario en mayúscula y el segundo elemento sea una lista con los valores de dicho diccionario\n",
        "def dicc2tupla(diccionario):\n",
        "  listaClaves = []\n",
        "  listaValores = []\n",
        "\n",
        "  for clave in diccionario.keys():\n",
        "    listaClaves.append(clave.upper())\n",
        "  \n",
        "  for valor in diccionario.values():\n",
        "    listaValores.append(valor)\n",
        "\n",
        "  return (listaClaves, listaValores)\n",
        "\n",
        "dicc2tupla({'Marzo': [14, 19], 'Abril': [0], 'Mayo': [1, 7, 14, 21]})"
      ],
      "metadata": {
        "id": "aBGI7z30yts1"
      },
      "execution_count": null,
      "outputs": []
    },
    {
      "cell_type": "markdown",
      "source": [
        "#Clases"
      ],
      "metadata": {
        "id": "MOIpnjNyzaaD"
      }
    },
    {
      "cell_type": "code",
      "source": [
        "# Crea la clase \"operaciones\" que tenga como parámetros dos operandos y que incluya los siguientes métodos:\n",
        "# __init__, estableciendo como valores por defecto de los operandos 0\n",
        "# actualizar, permite modificar el valor de los operandos\n",
        "# suma, que devuelve la suma de los dos operandos\n",
        "# resta, que devuelve la resta de los dos operandos\n",
        "# multiplicación, que devuelve la multiplicación de los dos operandos\n",
        "# división, que devuelve la división de los dos operandos, primero dividido el segundo, o NaN, cuando el segundo operando es cero\n",
        "# un método que al hacer print(objeto) imprima el mensaje 'Los operandos de esta operación es operador1 y operador2'\n",
        "\n",
        "from math import nan\n",
        "\n",
        "class operaciones:\n",
        "  def __init__ (self, op1=0, op2=0):\n",
        "    self.op1 = op1\n",
        "    self.op2 = op2\n",
        "  \n",
        "  def actualizar (self, op1, op2):\n",
        "    self.op1 = op1\n",
        "    self.op2 = op2\n",
        "\n",
        "  def suma (self):\n",
        "    return self.op1 + self.op2\n",
        "\n",
        "  def resta (self):\n",
        "    return self.op1 - self.op2\n",
        "\n",
        "  def multiplicacion (self):\n",
        "    return self.op1 * self.op2\n",
        "\n",
        "  def division (self):\n",
        "    if self.op2 == 0:\n",
        "      return nan\n",
        "    else:\n",
        "      return self.op1 / self.op2\n",
        "\n",
        "  def __str__(self):\n",
        "    return f'Los operandos de esta operación son {self.op1} y {self.op2}'"
      ],
      "metadata": {
        "id": "CIU1YVIxzfEQ"
      },
      "execution_count": null,
      "outputs": []
    }
  ]
}
{
 "cells": [
  {
   "cell_type": "markdown",
   "metadata": {},
   "source": [
    "INTEGRALES\n",
    "\n"
   ]
  },
  {
   "cell_type": "markdown",
   "metadata": {},
   "source": [
    "        INTEGRALES POR QUAD"
   ]
  },
  {
   "cell_type": "code",
   "execution_count": 11,
   "metadata": {},
   "outputs": [
    {
     "name": "stdout",
     "output_type": "stream",
     "text": [
      "16.5\n",
      "1.8318679906315083e-13\n"
     ]
    },
    {
     "data": {
      "text/plain": [
       "(16.5, 1.8318679906315083e-13)"
      ]
     },
     "execution_count": 11,
     "metadata": {},
     "output_type": "execute_result"
    }
   ],
   "source": [
    "# scipy es una biblioteca de herramientas y algoritmos matemáticos, entre ellos quad para calcular integrales \n",
    "from scipy.integrate import quad\n",
    "\n",
    "# Necesitamos definir una función de usuario para poder utilizar la función quad\n",
    "# Como mínimo, incluirá el argumento x\n",
    "def integrand(x):\n",
    "    return x**2+x+1\n",
    "\n",
    "a=0\n",
    "b=3\n",
    "J = quad(integrand,a,b)\n",
    "print(J[0]) #valor de la integral\n",
    "print(J[1]) #error\n",
    "J # Tupla valor del integral y error absoluto"
   ]
  },
  {
   "cell_type": "markdown",
   "metadata": {},
   "source": [
    "        INTEGRALES POR INTEGRATE"
   ]
  },
  {
   "cell_type": "code",
   "execution_count": 12,
   "metadata": {},
   "outputs": [
    {
     "data": {
      "text/latex": [
       "$\\displaystyle \\frac{x^{4}}{4} - 3 x^{2}$"
      ],
      "text/plain": [
       "x**4/4 - 3*x**2"
      ]
     },
     "metadata": {},
     "output_type": "display_data"
    },
    {
     "data": {
      "text/latex": [
       "$\\displaystyle \\frac{x^{3}}{3} - \\frac{3 x^{2}}{2} + 2 x$"
      ],
      "text/plain": [
       "x**3/3 - 3*x**2/2 + 2*x"
      ]
     },
     "metadata": {},
     "output_type": "display_data"
    }
   ],
   "source": [
    "from sympy import integrate, Symbol\n",
    "x=Symbol('x')\n",
    "\n",
    "fx = x**3-6*x # Creando la función simbólica\n",
    "\n",
    "dx1=integrate(fx,x)\n",
    "display(dx1)\n",
    "\n",
    "fx2 = x**2-3*x + 2\n",
    "dx2=integrate(fx2)\n",
    "display(dx2)"
   ]
  },
  {
   "cell_type": "markdown",
   "metadata": {},
   "source": [
    "        INTEGRALES POR FUNCION INTEGRAL"
   ]
  },
  {
   "cell_type": "code",
   "execution_count": 13,
   "metadata": {},
   "outputs": [
    {
     "data": {
      "text/latex": [
       "$\\displaystyle \\frac{x^{4}}{4} - 3 x^{2}$"
      ],
      "text/plain": [
       "x**4/4 - 3*x**2"
      ]
     },
     "metadata": {},
     "output_type": "display_data"
    },
    {
     "data": {
      "text/latex": [
       "$\\displaystyle \\frac{x^{3}}{3} - \\frac{3 x^{2}}{2} + 2 x$"
      ],
      "text/plain": [
       "x**3/3 - 3*x**2/2 + 2*x"
      ]
     },
     "execution_count": 13,
     "metadata": {},
     "output_type": "execute_result"
    }
   ],
   "source": [
    "from sympy import Integral\n",
    "\n",
    "fx = x**3-6*x # Creando la función simbólica\n",
    "dx1 = Integral(fx,x).doit()\n",
    "display(dx1)\n",
    "\n",
    "\n",
    "fx2 = x**2-3*x+2\n",
    "dx2=Integral(fx2).doit()\n",
    "dx2"
   ]
  },
  {
   "cell_type": "markdown",
   "metadata": {},
   "source": [
    "        INTEGRALES DEFINIDAS POR INTEGRATE"
   ]
  },
  {
   "cell_type": "code",
   "execution_count": 14,
   "metadata": {},
   "outputs": [
    {
     "data": {
      "text/latex": [
       "$\\displaystyle - \\frac{27}{4}$"
      ],
      "text/plain": [
       "-27/4"
      ]
     },
     "metadata": {},
     "output_type": "display_data"
    },
    {
     "data": {
      "text/plain": [
       "<matplotlib.collections.PolyCollection at 0x7f6b3b898b20>"
      ]
     },
     "execution_count": 14,
     "metadata": {},
     "output_type": "execute_result"
    },
    {
     "data": {
      "image/png": "[encoded data removed]",
      "text/plain": [
       "<Figure size 432x288 with 1 Axes>"
      ]
     },
     "metadata": {
      "needs_background": "light"
     },
     "output_type": "display_data"
    }
   ],
   "source": [
    "from sympy import integrate, Symbol, lambdify\n",
    "import numpy as np\n",
    "import pylab as plt\n",
    "\n",
    "x=Symbol('x')\n",
    "\n",
    "fx = x**3-6*x # Creando la función simbólica\n",
    "\n",
    "Id2 = integrate(fx,(x,0,3))\n",
    "display(Id2)\n",
    "\n",
    "xx = np.linspace(0,3,100)\n",
    "yy = lambdify(x,fx)(xx)\n",
    "\n",
    "plt.grid(alpha=0.4)\n",
    "plt.plot(xx,yy,'r')\n",
    "plt.fill_between(xx,yy)"
   ]
  },
  {
   "cell_type": "markdown",
   "metadata": {},
   "source": [
    "Integrales de mas de una variable simbolica"
   ]
  },
  {
   "cell_type": "code",
   "execution_count": 15,
   "metadata": {},
   "outputs": [
    {
     "data": {
      "text/latex": [
       "$\\displaystyle \\frac{a x^{3}}{3} + \\frac{b x^{2}}{2} + c x$"
      ],
      "text/plain": [
       "a*x**3/3 + b*x**2/2 + c*x"
      ]
     },
     "execution_count": 15,
     "metadata": {},
     "output_type": "execute_result"
    }
   ],
   "source": [
    "from sympy.abc import a,b,c\n",
    "from sympy import integrate\n",
    "\n",
    "f = a*x**2+b*x+c\n",
    "integrate(f,x)"
   ]
  },
  {
   "cell_type": "markdown",
   "metadata": {},
   "source": [
    "INTEGRALES DOBLES"
   ]
  },
  {
   "cell_type": "markdown",
   "metadata": {},
   "source": [
    "        INTEGRANDO LA DE DENTRO Y LUEGO LA DE FUERA"
   ]
  },
  {
   "cell_type": "code",
   "execution_count": 16,
   "metadata": {},
   "outputs": [
    {
     "data": {
      "text/latex": [
       "$\\displaystyle \\left(a - b\\right) \\left(c - d\\right)$"
      ],
      "text/plain": [
       "(a - b)*(c - d)"
      ]
     },
     "execution_count": 16,
     "metadata": {},
     "output_type": "execute_result"
    }
   ],
   "source": [
    "from sympy.abc import x,y,z,a,b,c,d\n",
    "from sympy import simplify\n",
    "\n",
    "I1 = integrate(1, (y,c,d))\n",
    "simplify(integrate(I1, (x,a,b)))"
   ]
  },
  {
   "cell_type": "markdown",
   "metadata": {},
   "source": [
    "        INTEGRANDO CON DBLQUAD"
   ]
  },
  {
   "cell_type": "code",
   "execution_count": 17,
   "metadata": {},
   "outputs": [
    {
     "name": "stdout",
     "output_type": "stream",
     "text": [
      "(0.5, 1.7092350012594845e-14)\n"
     ]
    }
   ],
   "source": [
    "from scipy.integrate import dblquad\n",
    "\n",
    "# definición de las funciones \n",
    "def integrand(x, y):\n",
    "  return 16*x*y\n",
    "\n",
    "def xlimit(y):\n",
    "  return sqrt(1-4*y**2)\n",
    "\n",
    "i = dblquad(integrand, 0, 0.5, 0, xlimit)\n",
    "print(i)"
   ]
  },
  {
   "cell_type": "markdown",
   "metadata": {},
   "source": [
    "        INTEGRANDO EN UN UNICO INTEGRATE"
   ]
  },
  {
   "cell_type": "code",
   "execution_count": 18,
   "metadata": {},
   "outputs": [
    {
     "data": {
      "text/latex": [
       "$\\displaystyle 800$"
      ],
      "text/plain": [
       "800"
      ]
     },
     "execution_count": 18,
     "metadata": {},
     "output_type": "execute_result"
    }
   ],
   "source": [
    "from sympy import *\n",
    "from sympy.abc import x, y\n",
    "f=x+sin(y)+1\n",
    "xint=(x,-20,20)\n",
    "yint=(y,-10,10)\n",
    "volumen=integrate(f,xint,yint)\n",
    "volumen"
   ]
  },
  {
   "cell_type": "code",
   "execution_count": null,
   "metadata": {},
   "outputs": [],
   "source": []
  }
 ],
 "metadata": {
  "kernelspec": {
   "display_name": "Python 3",
   "language": "python",
   "name": "python3"
  },
  "language_info": {
   "codemirror_mode": {
    "name": "ipython",
    "version": 3
   },
   "file_extension": ".py",
   "mimetype": "text/x-python",
   "name": "python",
   "nbconvert_exporter": "python",
   "pygments_lexer": "ipython3",
   "version": "3.8.10"
  },
  "vscode": {
   "interpreter": {
    "hash": "84d8cac4d95fdd2ab02498a6ec40a50cb9882041e67cb52e6d8bcfda00d28db9"
   }
  }
 },
 "nbformat": 4,
 "nbformat_minor": 2
}

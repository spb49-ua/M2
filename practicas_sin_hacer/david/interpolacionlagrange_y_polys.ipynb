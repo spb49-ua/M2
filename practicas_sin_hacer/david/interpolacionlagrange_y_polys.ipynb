{
 "cells": [
  {
   "cell_type": "markdown",
   "metadata": {},
   "source": [
    "BIBLIOTECAS NECESARIAS"
   ]
  },
  {
   "cell_type": "code",
   "execution_count": 2,
   "metadata": {},
   "outputs": [],
   "source": [
    "import numpy as np # biblioteca de cálculo numérico y análisis de datos\n",
    "import pylab as plt # biblioteca para la generación de gráficos a partir de listas o arrays\n",
    "from sympy import * # Librería de Cálculo\n",
    "from sympy.plotting import plot as symplot # Librería para los gráficos\n",
    "from sympy.abc import x, y, h # Carga de un simbólico \"x\"\n",
    "from sympy.plotting.pygletplot import PygletPlot as Plot # Librería para los gráficos\n",
    "import math\n",
    "import sympy\n",
    "from sympy.abc import x, y, z\n",
    "import numpy as np\n",
    "from scipy.interpolate import barycentric_interpolate, lagrange"
   ]
  },
  {
   "cell_type": "markdown",
   "metadata": {},
   "source": [
    "INTERPOLACION"
   ]
  },
  {
   "cell_type": "markdown",
   "metadata": {},
   "source": [
    "        LAGRANGE"
   ]
  },
  {
   "cell_type": "markdown",
   "metadata": {},
   "source": [
    "            REPRESENTAR POLINOMIO DE LAGRANGE"
   ]
  },
  {
   "cell_type": "code",
   "execution_count": 5,
   "metadata": {},
   "outputs": [
    {
     "data": {
      "text/latex": [
       "$\\displaystyle \\frac{y_{0} \\left(x - x_{1}\\right) \\left(x - x_{2}\\right)}{\\left(x_{0} - x_{1}\\right) \\left(x_{0} - x_{2}\\right)} + \\frac{y_{1} \\left(x - x_{0}\\right) \\left(x - x_{2}\\right)}{\\left(- x_{0} + x_{1}\\right) \\left(x_{1} - x_{2}\\right)} + \\frac{y_{2} \\left(x - x_{0}\\right) \\left(x - x_{1}\\right)}{\\left(- x_{0} + x_{2}\\right) \\left(- x_{1} + x_{2}\\right)}$"
      ],
      "text/plain": [
       "y0*(x - x1)*(x - x2)/((x0 - x1)*(x0 - x2)) + y1*(x - x0)*(x - x2)/((-x0 + x1)*(x1 - x2)) + y2*(x - x0)*(x - x1)/((-x0 + x2)*(-x1 + x2))"
      ]
     },
     "execution_count": 5,
     "metadata": {},
     "output_type": "execute_result"
    }
   ],
   "source": [
    "import sympy\n",
    "from sympy.abc import x\n",
    "grado=3\n",
    "variable=x\n",
    "sympy.polys.specialpolys.interpolating_poly(grado,variable)"
   ]
  },
  {
   "cell_type": "markdown",
   "metadata": {},
   "source": [
    "si añadimos los puntos de X e Y para hacer la interpolacion, nos saldra el polinomio interpolador de lagrange"
   ]
  },
  {
   "cell_type": "code",
   "execution_count": 6,
   "metadata": {},
   "outputs": [
    {
     "data": {
      "text/latex": [
       "$\\displaystyle \\frac{3 \\left(x - 3\\right) \\left(x - 2\\right)}{2} + 10 \\left(x - 3\\right) \\left(x - 1\\right) + \\left(x - 2\\right) \\left(x - 1\\right)$"
      ],
      "text/plain": [
       "3*(x - 3)*(x - 2)/2 + 10*(x - 3)*(x - 1) + (x - 2)*(x - 1)"
      ]
     },
     "execution_count": 6,
     "metadata": {},
     "output_type": "execute_result"
    }
   ],
   "source": [
    "import sympy\n",
    "from sympy.abc import x\n",
    "sympy.polys.specialpolys.interpolating_poly(3,x,X=[1,2,3],Y=[3,-10,2]) # argumentos: grado, variable, valores de x, valores de y"
   ]
  },
  {
   "cell_type": "markdown",
   "metadata": {},
   "source": [
    "tambien se puede hacer llamando a lagrange"
   ]
  },
  {
   "cell_type": "code",
   "execution_count": 1,
   "metadata": {},
   "outputs": [
    {
     "name": "stdout",
     "output_type": "stream",
     "text": [
      "      2\n",
      "12.5 x - 50.5 x + 41\n"
     ]
    }
   ],
   "source": [
    "from scipy.interpolate import lagrange\n",
    "xvalues=[1,2,3]\n",
    "yvalues=[3,-10,2]\n",
    "print(lagrange(xvalues,yvalues))"
   ]
  },
  {
   "cell_type": "markdown",
   "metadata": {},
   "source": [
    "EJEMPLO DE INTERPOLACION CON SYMPY"
   ]
  },
  {
   "cell_type": "code",
   "execution_count": 3,
   "metadata": {},
   "outputs": [
    {
     "data": {
      "text/plain": [
       "<matplotlib.legend.Legend at 0x7f9ba2f76fa0>"
      ]
     },
     "execution_count": 3,
     "metadata": {},
     "output_type": "execute_result"
    },
    {
     "data": {
      "image/png": "[encoded data removed]",
      "text/plain": [
       "<Figure size 576x432 with 1 Axes>"
      ]
     },
     "metadata": {
      "needs_background": "light"
     },
     "output_type": "display_data"
    }
   ],
   "source": [
    "import sympy\n",
    "import numpy as np\n",
    "import pylab as plt\n",
    "from sympy.abc import x\n",
    "\n",
    "# Puntos a interpolar\n",
    "x_ej1 = [1,2,3,4]\n",
    "y_ej1 = [2,4,3,5]\n",
    "\n",
    "# Lista de 50 elementos entre 1 y 4 (x_ej1) equidistantes\n",
    "x_muchos_puntos = np.linspace(1,4)\n",
    "\n",
    "# Crear el polinomio de Lagrange\n",
    "poli = sympy.polys.specialpolys.interpolating_poly(4,x,X=x_ej1,Y=y_ej1)\n",
    "\n",
    "# Valores de poly(x_muchos_puntos)\n",
    "ypoly = [poli.subs(x,i) for i in x_muchos_puntos]\n",
    "\n",
    "# Crea una figura\n",
    "fig, ax = plt.subplots(figsize=(8,6))\n",
    "# Añade los datos de la función original\n",
    "ax.plot(x_muchos_puntos, ypoly, label='Interpolación')\n",
    "# Añade los datos de la interpolación\n",
    "ax.plot(x_ej1, y_ej1, 'o', label='Puntos originales')\n",
    "# Añade la leyenda\n",
    "ax.legend()"
   ]
  },
  {
   "cell_type": "code",
   "execution_count": null,
   "metadata": {},
   "outputs": [],
   "source": []
  }
 ],
 "metadata": {
  "kernelspec": {
   "display_name": "Python 3",
   "language": "python",
   "name": "python3"
  },
  "language_info": {
   "codemirror_mode": {
    "name": "ipython",
    "version": 3
   },
   "file_extension": ".py",
   "mimetype": "text/x-python",
   "name": "python",
   "nbconvert_exporter": "python",
   "pygments_lexer": "ipython3",
   "version": "3.8.10"
  },
  "vscode": {
   "interpreter": {
    "hash": "84d8cac4d95fdd2ab02498a6ec40a50cb9882041e67cb52e6d8bcfda00d28db9"
   }
  }
 },
 "nbformat": 4,
 "nbformat_minor": 2
}

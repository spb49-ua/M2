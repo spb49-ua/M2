{
 "cells": [
  {
   "cell_type": "markdown",
   "metadata": {},
   "source": [
    "BIBLIOTECAS NECESARIAS"
   ]
  },
  {
   "cell_type": "code",
   "execution_count": 1,
   "metadata": {},
   "outputs": [],
   "source": [
    "import numpy as np\n",
    "from sympy import * # Librería de Calculo\n",
    "from sympy.plotting import plot as symplot # Librería para las gráficas\n",
    "from sympy.abc import x, y, h # Carga de un simbolico \"x\"\n",
    "from sympy.plotting.pygletplot import PygletPlot as Plot # Librería para las gráficas\n",
    "from sympy.plotting import plot3d   "
   ]
  },
  {
   "cell_type": "markdown",
   "metadata": {},
   "source": [
    "POLINOMIO DE TAYLOR"
   ]
  },
  {
   "cell_type": "markdown",
   "metadata": {},
   "source": [
    "        POLINOMIO DE TAYLOR SIN TERMINO DE LANDAU"
   ]
  },
  {
   "cell_type": "code",
   "execution_count": 1,
   "metadata": {},
   "outputs": [
    {
     "data": {
      "text/latex": [
       "$\\displaystyle \\frac{x^{5}}{120} + \\frac{x^{4}}{24} + \\frac{x^{3}}{6} + \\frac{x^{2}}{2} + x + 1$"
      ],
      "text/plain": [
       "x**5/120 + x**4/24 + x**3/6 + x**2/2 + x + 1"
      ]
     },
     "execution_count": 1,
     "metadata": {},
     "output_type": "execute_result"
    }
   ],
   "source": [
    "from sympy.series import series\n",
    "from sympy import *\n",
    "from sympy.abc import x\n",
    "funcion = exp(x)\n",
    "simbolo=x\n",
    "punto_inicial=0 #si no se pasa punto inical sera simepre 0\n",
    "grado=6 #si n se pasa grado siempre sera 6\n",
    "series(funcion,simbolo,punto_inicial,grado).removeO()\n"
   ]
  },
  {
   "cell_type": "markdown",
   "metadata": {},
   "source": [
    "        POLINOMIO DE TAYLOR CON TERMINO DE LANDAU"
   ]
  },
  {
   "cell_type": "code",
   "execution_count": 2,
   "metadata": {},
   "outputs": [
    {
     "data": {
      "text/latex": [
       "$\\displaystyle \\frac{109}{15}$"
      ],
      "text/plain": [
       "109/15"
      ]
     },
     "execution_count": 2,
     "metadata": {},
     "output_type": "execute_result"
    }
   ],
   "source": [
    "from sympy.series import series\n",
    "from sympy import *\n",
    "from sympy.abc import x\n",
    "funcion = exp(x)\n",
    "simbolo=x\n",
    "punto_inicial=0 #si no se pasa punto inical sera simepre 0\n",
    "grado=6 #si n se pasa grado siempre sera 6\n",
    "t1= series(funcion,simbolo,punto_inicial,grado).removeO()\n",
    "t1.subs(x,2)\n"
   ]
  },
  {
   "cell_type": "code",
   "execution_count": 3,
   "metadata": {},
   "outputs": [
    {
     "data": {
      "text/latex": [
       "$\\displaystyle 1 + x + \\frac{x^{2}}{2} + \\frac{x^{3}}{6} + \\frac{x^{4}}{24} + \\frac{x^{5}}{120} + O\\left(x^{6}\\right)$"
      ],
      "text/plain": [
       "1 + x + x**2/2 + x**3/6 + x**4/24 + x**5/120 + O(x**6)"
      ]
     },
     "execution_count": 3,
     "metadata": {},
     "output_type": "execute_result"
    }
   ],
   "source": [
    "from sympy.series import series\n",
    "from sympy import *\n",
    "from sympy.abc import x\n",
    "funcion = exp(x)\n",
    "simbolo=x\n",
    "punto_inicial=0 #si no se pasa punto inical sera simepre 0\n",
    "grado=6 #si n se pasa grado siempre sera 6\n",
    "series(funcion,simbolo,punto_inicial,grado)"
   ]
  }
 ],
 "metadata": {
  "kernelspec": {
   "display_name": "Python 3",
   "language": "python",
   "name": "python3"
  },
  "language_info": {
   "codemirror_mode": {
    "name": "ipython",
    "version": 3
   },
   "file_extension": ".py",
   "mimetype": "text/x-python",
   "name": "python",
   "nbconvert_exporter": "python",
   "pygments_lexer": "ipython3",
   "version": "3.8.10"
  },
  "vscode": {
   "interpreter": {
    "hash": "84d8cac4d95fdd2ab02498a6ec40a50cb9882041e67cb52e6d8bcfda00d28db9"
   }
  }
 },
 "nbformat": 4,
 "nbformat_minor": 2
}

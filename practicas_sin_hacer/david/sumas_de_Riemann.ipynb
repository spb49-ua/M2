{
 "cells": [
  {
   "cell_type": "markdown",
   "metadata": {},
   "source": [
    "BIBLIOTECAS NECESARIAS"
   ]
  },
  {
   "cell_type": "code",
   "execution_count": 1,
   "metadata": {},
   "outputs": [],
   "source": [
    "import numpy as np # biblioteca de cálculo numérico y análisis de datos\n",
    "import pylab as plt # biblioteca para la generación de gráficos a partir de listas o arrays\n",
    "from sympy import * # Librería de Cálculo\n",
    "from sympy.plotting import plot as symplot # Librería para los gráficos\n",
    "from sympy.abc import x, y, h # Carga de un simbólico \"x\"\n",
    "from sympy.plotting.pygletplot import PygletPlot as Plot # Librería para los gráficos\n",
    "import math"
   ]
  },
  {
   "cell_type": "markdown",
   "metadata": {},
   "source": [
    "SUMAS DE RIENMANN"
   ]
  },
  {
   "cell_type": "code",
   "execution_count": null,
   "metadata": {},
   "outputs": [],
   "source": [
    "# Función que calcula la suma izquierda donde\n",
    "# function: función a integrar de forma simbólica\n",
    "# a: límite inferior de integración\n",
    "# b: límite superior de integración\n",
    "# n: número de intervalos entre a y b"
   ]
  },
  {
   "cell_type": "markdown",
   "metadata": {},
   "source": [
    "SUMA POR LA IZQUIERDA"
   ]
  },
  {
   "cell_type": "code",
   "execution_count": 1,
   "metadata": {},
   "outputs": [],
   "source": [
    "import numpy as np\n",
    "\n",
    "def L_n(function, a, b, n): \n",
    "    xvalues = np.linspace(a, b, n) # Devuelve n valores espaciados uniformemente en el intervalo [a, b]\n",
    "\n",
    "    # Obtenemos los valores correspondientes a f(xi)\n",
    "    yvalues = lambdify(x, function)(xvalues[:-1]) \n",
    "\n",
    "    Lsum = 0\n",
    "    for i in yvalues:\n",
    "        Lsum += i\n",
    "    \n",
    "    Ax = (b-a)/n\n",
    "    Lsum = Ax * Lsum\n",
    "\n",
    "    return Lsum"
   ]
  },
  {
   "cell_type": "markdown",
   "metadata": {},
   "source": [
    "SUMA POR LA DERECHA"
   ]
  },
  {
   "cell_type": "code",
   "execution_count": 2,
   "metadata": {},
   "outputs": [],
   "source": [
    "def R_n(function, a, b, n):\n",
    "    xvalues = np.linspace(a, b, n) # Devuelve n valores espaciados uniformemente en el intervalo [a, b]\n",
    "\n",
    "    # Obtenemos los valores correspondientes a f(xi+1)\n",
    "    yvalues = lambdify(x, function)(xvalues[1:]) \n",
    "\n",
    "    Rsum = 0\n",
    "    for i in yvalues:\n",
    "        Rsum += i\n",
    "    \n",
    "    Ax = (b-a)/n\n",
    "    Rsum = Ax * Rsum\n",
    "\n",
    "    return Rsum\n"
   ]
  },
  {
   "cell_type": "markdown",
   "metadata": {},
   "source": [
    "LLAMADO DE SUMA DE RIEMANN\n"
   ]
  },
  {
   "cell_type": "code",
   "execution_count": 9,
   "metadata": {},
   "outputs": [],
   "source": [
    "def Riemann_sum(function, a, b, n):\n",
    "     Ln = L_n(function, a, b, n) \n",
    "     Rn = R_n(function, a, b, n)\n",
    "     return (Ln, Rn)"
   ]
  },
  {
   "cell_type": "markdown",
   "metadata": {},
   "source": [
    "EJEMPLO\n"
   ]
  },
  {
   "cell_type": "code",
   "execution_count": 11,
   "metadata": {},
   "outputs": [
    {
     "name": "stdout",
     "output_type": "stream",
     "text": [
      "La Suma Izquierda de: 10**(-x)*x**2*sin(x)**2 de 0.00 a 3.14 es 0.089965\n",
      "La Suma Derecha   de: 10**(-x)*x**2*sin(x)**2 de 0.00 a 3.14 es 0.089965\n"
     ]
    }
   ],
   "source": [
    "import numpy as np\n",
    "from sympy import *\n",
    "from sympy.abc import x\n",
    "from sympy import lambdify\n",
    "n = 10 #100\n",
    "a = 0\n",
    "b = np.pi\n",
    "\n",
    "function = sin(x)**2 * x**2 * 10**-x\n",
    "Ln, Rn = Riemann_sum(function, a, b, n)\n",
    "\n",
    "print(f\"La Suma Izquierda de: {function} de {a:.2f} a {b:.2f} es {Ln:.6f}\")\n",
    "print(f\"La Suma Derecha   de: {function} de {a:.2f} a {b:.2f} es {Rn:.6f}\")"
   ]
  },
  {
   "cell_type": "markdown",
   "metadata": {},
   "source": [
    "SUMA TRAPEZOIDAL"
   ]
  },
  {
   "cell_type": "code",
   "execution_count": 13,
   "metadata": {},
   "outputs": [],
   "source": [
    "def suma_trapezoidal(function, a, b, n):\n",
    "    Ax = (b - a)/n\n",
    "    \n",
    "    xvalues = np.linspace(a, b, n) # Devuelve n valores espaciados uniformemente en el intervalo [a, b]\n",
    "\n",
    "    # Obtenemos los valores de f(xi+1)\n",
    "    yvalues = lambdify(x, function)(xvalues)\n",
    "\n",
    "    sum = 0\n",
    "    for i in range(len(yvalues)-1):\n",
    "      sum += (yvalues[i]+yvalues[i+1])/2\n",
    "    \n",
    "    sum = Ax * sum\n",
    "    \n",
    "    return sum"
   ]
  },
  {
   "cell_type": "markdown",
   "metadata": {},
   "source": [
    "EJEMPLO\n"
   ]
  },
  {
   "cell_type": "code",
   "execution_count": 14,
   "metadata": {},
   "outputs": [
    {
     "name": "stdout",
     "output_type": "stream",
     "text": [
      "La Suma Trapezoidal de: 10**(-x)*x**2*sin(x)**2 de 0 a 3.14 es 0.098944\n"
     ]
    }
   ],
   "source": [
    "import numpy as np\n",
    "from sympy import *\n",
    "from sympy.abc import x\n",
    "from sympy import lambdify\n",
    "n= 100\n",
    "a = 0\n",
    "b = np.pi\n",
    "\n",
    "f = sin(x)**2 * x**2 * 10**-x\n",
    "\n",
    "STn = suma_trapezoidal(f, a, b, n)\n",
    "print(f\"La Suma Trapezoidal de: {f} de {a} a {b:.2f} es {STn:.6f}\")"
   ]
  },
  {
   "cell_type": "code",
   "execution_count": null,
   "metadata": {},
   "outputs": [],
   "source": []
  }
 ],
 "metadata": {
  "kernelspec": {
   "display_name": "Python 3",
   "language": "python",
   "name": "python3"
  },
  "language_info": {
   "codemirror_mode": {
    "name": "ipython",
    "version": 3
   },
   "file_extension": ".py",
   "mimetype": "text/x-python",
   "name": "python",
   "nbconvert_exporter": "python",
   "pygments_lexer": "ipython3",
   "version": "3.8.10"
  },
  "vscode": {
   "interpreter": {
    "hash": "84d8cac4d95fdd2ab02498a6ec40a50cb9882041e67cb52e6d8bcfda00d28db9"
   }
  }
 },
 "nbformat": 4,
 "nbformat_minor": 2
}

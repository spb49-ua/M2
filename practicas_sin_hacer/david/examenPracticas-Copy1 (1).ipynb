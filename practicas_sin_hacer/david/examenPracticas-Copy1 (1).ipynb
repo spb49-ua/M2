{
 "cells": [
  {
   "cell_type": "markdown",
   "metadata": {},
   "source": [
    "## Instrucciones\n",
    "\n",
    "- El examen dura **1h45**, tiempo que incluye la subida del fichero y envío del cuestionario\n",
    "- Se debe subir **SOLAMENTE UN FICHERO .ipynb**\n",
    "- El estilo, claridad de presentación y optimización se tendrán en cuenta (por ejemplo, la cantidad de paréntesis innecesarios puntúa negativamente al igual que los bucles innecesarios);\n",
    "- El código en cada celda debe ejecutarse sin errores, en caso contrario será penalizado;\n",
    "- Todas las respuestas deben tener sus librerías correctamente importadas (`import ...`)\n"
   ]
  },
  {
   "cell_type": "markdown",
   "metadata": {},
   "source": [
    "## Pregunta 1 (2 puntos)\n"
   ]
  },
  {
   "cell_type": "markdown",
   "metadata": {},
   "source": [
    "1. **(0.3 puntos)** Crea la siguiente matriz usando la librería estándar de listas de Python: $m = \\begin{bmatrix} 1 & 2 & 'a' \\\\ 3 & 'z' & 16 \\end{bmatrix}$\n",
    "2. **(0.85 puntos)** Extrae, de forma programática, todos los números almacenándolos en un vector denominado `solo_numeros`\n",
    "3. **(0.85 puntos)** Obtén, de forma programática, los números pares de `solo_numeros` y calcula su cuadrado. Pon el resultado en un vector llamado `pares_cuadrado`.\n"
   ]
  },
  {
   "cell_type": "code",
   "execution_count": 9,
   "metadata": {},
   "outputs": [
    {
     "data": {
      "text/plain": [
       "[4, 256]"
      ]
     },
     "execution_count": 9,
     "metadata": {},
     "output_type": "execute_result"
    }
   ],
   "source": [
    "#1a\n",
    "from sympy import Matrix\n",
    "m=Matrix([[1, 2, 'a'], [3, 'z', 16]])\n",
    "#1b\n",
    "solo_numeros = [numero for numero in m if numero.is_integer]\n",
    "#1c\n",
    "solo_pares = [pares**2 for pares in m if pares%2==0]\n"
   ]
  },
  {
   "cell_type": "markdown",
   "metadata": {},
   "source": [
    "## Pregunta 2 (2 puntos)\n"
   ]
  },
  {
   "cell_type": "markdown",
   "metadata": {},
   "source": [
    "A partir de la función $f(x) = x^4-6x^2+24x+16$:\n",
    "\n",
    "1. **(0.25 puntos)** Represéntala gráficamente para $-10 \\leq x \\leq 10$\n",
    "2. **(0.75 puntos)** Encuentra sus puntos críticos\n",
    "3. **(0.75 puntos)** Verifica si son un máximo, mínimo o punto de silla\n",
    "4. **(0.25 puntos)** Representa gráficamente los puntos críticos juntamente con la función\n"
   ]
  },
  {
   "cell_type": "code",
   "execution_count": null,
   "metadata": {},
   "outputs": [],
   "source": []
  },
  {
   "cell_type": "markdown",
   "metadata": {},
   "source": [
    "## Pregunta 3 (2 puntos)\n"
   ]
  },
  {
   "cell_type": "markdown",
   "metadata": {},
   "source": [
    "A partir de la función $f(x,y) = xy\\sqrt{1 + x^2 + y^2}$:\n",
    "\n",
    "1. **(1.0 punto)** Represéntala gráficamente para $0 \\leq x \\leq 2, 0 \\leq y \\leq 1$\n",
    "2. **(1.0 punto)** Calcula el volumen del sólido limitado por el rectángulo $[0,2] \\times [0,1]$\n"
   ]
  },
  {
   "cell_type": "markdown",
   "metadata": {},
   "source": [
    "## Pregunta 4 (2 puntos)\n"
   ]
  },
  {
   "cell_type": "markdown",
   "metadata": {},
   "source": [
    "Implementa el Método de la Bisección de manera que acepte funciones simbólicas. Debe devolver el valor de $x$, $f(x)$ y la cantidad de iteraciones.\n",
    "\n",
    "Recuerda: $c = \\frac{b-a}{2}$ si $f(a)$ y $f(b)$ cumplen el Teorema de Bolzano.\n"
   ]
  },
  {
   "cell_type": "markdown",
   "metadata": {},
   "source": [
    "## Pregunta 5 (2 puntos)\n"
   ]
  },
  {
   "cell_type": "markdown",
   "metadata": {},
   "source": [
    "Con los siguientes puntos $(-3, -9.49),(-2, -4.47),(0, 0),(1, 1.41),(4, 16.49)$:\n",
    "1. **(1.0 punto)** Obtén el Polinomio de Lagrange de mayor grado\n",
    "2. **(1.0 punto)** Representa gráficamente el polinomio juntamente con los puntos"
   ]
  }
 ],
 "metadata": {
  "kernelspec": {
   "display_name": "Python 3",
   "language": "python",
   "name": "python3"
  },
  "language_info": {
   "codemirror_mode": {
    "name": "ipython",
    "version": 3
   },
   "file_extension": ".py",
   "mimetype": "text/x-python",
   "name": "python",
   "nbconvert_exporter": "python",
   "pygments_lexer": "ipython3",
   "version": "3.8.10"
  },
  "vscode": {
   "interpreter": {
    "hash": "b197d077b85383597bf8661f92fb5e9423b402f9618d7eba444b50c094388fdb"
   }
  }
 },
 "nbformat": 4,
 "nbformat_minor": 2
}

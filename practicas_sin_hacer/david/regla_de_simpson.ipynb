{
 "cells": [
  {
   "cell_type": "markdown",
   "metadata": {},
   "source": [
    "REGLA DE SIMPSON"
   ]
  },
  {
   "cell_type": "code",
   "execution_count": 2,
   "metadata": {},
   "outputs": [
    {
     "name": "stdout",
     "output_type": "stream",
     "text": [
      "21.15500799238174\n"
     ]
    }
   ],
   "source": [
    "import numpy as np\n",
    "from sympy import *\n",
    "from sympy.abc import x\n",
    "def simpson(f, a, b, n):\n",
    "    xvalues = np.linspace(a, b, n)\n",
    "\n",
    "    yvalues= lambdify(x, f)(xvalues)\n",
    "    suma1= 0.0\n",
    "    h=(b-a)/n\n",
    "    for i in range(0,n-2,2):\n",
    "        suma1 += yvalues[i] + 4*yvalues[i+1] + yvalues[i+2]\n",
    "    suma= suma1*h/3\n",
    "    return suma\n",
    "\n",
    "a=-2\n",
    "b=3\n",
    "n=100\n",
    "f=x**2 -2*x +3\n",
    "print(simpson(f, a, b, n))"
   ]
  }
 ],
 "metadata": {
  "kernelspec": {
   "display_name": "Python 3",
   "language": "python",
   "name": "python3"
  },
  "language_info": {
   "codemirror_mode": {
    "name": "ipython",
    "version": 3
   },
   "file_extension": ".py",
   "mimetype": "text/x-python",
   "name": "python",
   "nbconvert_exporter": "python",
   "pygments_lexer": "ipython3",
   "version": "3.8.10"
  },
  "vscode": {
   "interpreter": {
    "hash": "84d8cac4d95fdd2ab02498a6ec40a50cb9882041e67cb52e6d8bcfda00d28db9"
   }
  }
 },
 "nbformat": 4,
 "nbformat_minor": 2
}

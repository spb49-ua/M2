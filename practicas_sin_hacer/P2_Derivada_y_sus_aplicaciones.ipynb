{
 "cells": [
  {
   "cell_type": "markdown",
   "metadata": {
    "id": "s816e4mZZrPh"
   },
   "source": [
    "\n",
    "\n",
    "# Derivadas\n",
    "\n"
   ]
  },
  {
   "cell_type": "code",
   "execution_count": 1,
   "metadata": {
    "id": "hvTSDQ7ck4Xt"
   },
   "outputs": [],
   "source": [
    "# Para imprimir todas las líneas\n",
    "from IPython.core.interactiveshell import InteractiveShell\n",
    "#InteractiveShell.ast_node_interactivity = \"all\"\n",
    "# Solo la última\n",
    "InteractiveShell.ast_node_interactivity = \"last_expr\""
   ]
  },
  {
   "cell_type": "markdown",
   "metadata": {
    "id": "92M_pBu5Xver"
   },
   "source": [
    "Importación de las librerías necesarias"
   ]
  },
  {
   "cell_type": "code",
   "execution_count": 2,
   "metadata": {
    "id": "dd-D0oQEXhYt"
   },
   "outputs": [],
   "source": [
    "import numpy as np\n",
    "from sympy import * # Librería de Calculo\n",
    "from sympy.plotting import plot as symplot # Librería para las gráficas\n",
    "from sympy.abc import x, y, h # Carga de un simbolico \"x\"\n",
    "from sympy.plotting.pygletplot import PygletPlot as Plot # Librería para las gráficas"
   ]
  },
  {
   "cell_type": "markdown",
   "metadata": {
    "id": "1lqyB4NKZp0l"
   },
   "source": [
    "## Límites en Python\n",
    "\n",
    "El concepto de límite es la base del Cálculo Diferencial.\n",
    "\n",
    "Recordad que:\n",
    "\n",
    "$f'(x)=\\lim\\limits_{h \\to 0} \\frac{f(x+h)-f(x)}{h}$\n",
    "\n",
    "Podemos calcular límites en Python utilizando la expresión ```limit(funcion, variable, punto, lateral)``` proporcionada por la librería Sympy."
   ]
  },
  {
   "cell_type": "code",
   "execution_count": 3,
   "metadata": {
    "colab": {
     "base_uri": "https://localhost:8080/",
     "height": 37
    },
    "executionInfo": {
     "elapsed": 365,
     "status": "ok",
     "timestamp": 1667904349709,
     "user": {
      "displayName": "Ester Martínez Martín",
      "userId": "04354067800048159174"
     },
     "user_tz": -60
    },
    "id": "B6u3OcZdZ147",
    "outputId": "aa2de8fe-a5de-46ba-eeb8-4f71758e9382"
   },
   "outputs": [
    {
     "data": {
      "text/latex": [
       "$\\displaystyle 0$"
      ],
      "text/plain": [
       "0"
      ]
     },
     "execution_count": 3,
     "metadata": {},
     "output_type": "execute_result"
    }
   ],
   "source": [
    "# Ejemplo\n",
    "# x = symbols('x')\n",
    "limit(sin(x)/x, x, 0)\n",
    "limit(1/x, x, 0, '+')\n",
    "limit(x**2, x, 0, '-')"
   ]
  },
  {
   "cell_type": "code",
   "execution_count": 4,
   "metadata": {
    "colab": {
     "base_uri": "https://localhost:8080/",
     "height": 38
    },
    "executionInfo": {
     "elapsed": 1245,
     "status": "ok",
     "timestamp": 1667904350953,
     "user": {
      "displayName": "Ester Martínez Martín",
      "userId": "04354067800048159174"
     },
     "user_tz": -60
    },
    "id": "BY47HP7QkwzT",
    "outputId": "df3ec0ae-58aa-4563-ac75-ba2b09e74777"
   },
   "outputs": [
    {
     "data": {
      "text/latex": [
       "$\\displaystyle - \\sin{\\left(x \\right)}$"
      ],
      "text/plain": [
       "-sin(x)"
      ]
     },
     "execution_count": 4,
     "metadata": {},
     "output_type": "execute_result"
    }
   ],
   "source": [
    "limit((cos(x + h) - cos(x))/h, h, 0) # Cálculo de la derivada a partir de su definición"
   ]
  },
  {
   "cell_type": "markdown",
   "metadata": {
    "id": "LAEzqY6YkrHw"
   },
   "source": [
    "En este caso, se calcula el límite cuando h tiende a cero."
   ]
  },
  {
   "cell_type": "markdown",
   "metadata": {
    "id": "_ctmPKcilxqH"
   },
   "source": [
    "## Derivada"
   ]
  },
  {
   "cell_type": "markdown",
   "metadata": {
    "id": "L3lGBAVVX4kg"
   },
   "source": [
    "#### Cálculo de la derivada\n",
    "Para calcular la derivada sin utilizar su definición, se usará ```diff(\"funcion\")```.\n",
    "\n",
    "Ejemplo:"
   ]
  },
  {
   "cell_type": "code",
   "execution_count": 5,
   "metadata": {
    "colab": {
     "base_uri": "https://localhost:8080/",
     "height": 38
    },
    "executionInfo": {
     "elapsed": 5,
     "status": "ok",
     "timestamp": 1667904350953,
     "user": {
      "displayName": "Ester Martínez Martín",
      "userId": "04354067800048159174"
     },
     "user_tz": -60
    },
    "id": "bR6qpFKrlb1G",
    "outputId": "27a3750c-414c-4dc1-ecd7-11882fd6d792"
   },
   "outputs": [
    {
     "data": {
      "text/latex": [
       "$\\displaystyle - \\sin{\\left(x \\right)}$"
      ],
      "text/plain": [
       "-sin(x)"
      ]
     },
     "execution_count": 5,
     "metadata": {},
     "output_type": "execute_result"
    }
   ],
   "source": [
    "diff(cos(x)) # Calcula la derivada que coincide con la obtenida a partir de su definición"
   ]
  },
  {
   "cell_type": "code",
   "execution_count": 6,
   "metadata": {
    "colab": {
     "base_uri": "https://localhost:8080/",
     "height": 38
    },
    "executionInfo": {
     "elapsed": 5,
     "status": "ok",
     "timestamp": 1667904350954,
     "user": {
      "displayName": "Ester Martínez Martín",
      "userId": "04354067800048159174"
     },
     "user_tz": -60
    },
    "id": "D-mwCO2peVoQ",
    "outputId": "1b575d1e-04d6-4b40-a9bd-16e68b3238b8"
   },
   "outputs": [
    {
     "data": {
      "text/latex": [
       "$\\displaystyle 2 x$"
      ],
      "text/plain": [
       "2*x"
      ]
     },
     "execution_count": 6,
     "metadata": {},
     "output_type": "execute_result"
    }
   ],
   "source": [
    "d1 = diff(x**2, x) # Calcula la derivada de una expresión\n",
    "d1"
   ]
  },
  {
   "cell_type": "code",
   "execution_count": 7,
   "metadata": {
    "colab": {
     "base_uri": "https://localhost:8080/",
     "height": 38
    },
    "executionInfo": {
     "elapsed": 6,
     "status": "ok",
     "timestamp": 1667904351307,
     "user": {
      "displayName": "Ester Martínez Martín",
      "userId": "04354067800048159174"
     },
     "user_tz": -60
    },
    "id": "tyYQN2qlhUg7",
    "outputId": "5769d9dd-403d-48ec-e9bc-d2cddc459e85"
   },
   "outputs": [
    {
     "data": {
      "text/latex": [
       "$\\displaystyle 2 x$"
      ],
      "text/plain": [
       "2*x"
      ]
     },
     "execution_count": 7,
     "metadata": {},
     "output_type": "execute_result"
    }
   ],
   "source": [
    "d1 = (x**2).diff(x) # Otra sintaxis para calcular la derivada\n",
    "d1"
   ]
  },
  {
   "cell_type": "code",
   "execution_count": 8,
   "metadata": {
    "colab": {
     "base_uri": "https://localhost:8080/",
     "height": 52
    },
    "executionInfo": {
     "elapsed": 5,
     "status": "ok",
     "timestamp": 1667904351307,
     "user": {
      "displayName": "Ester Martínez Martín",
      "userId": "04354067800048159174"
     },
     "user_tz": -60
    },
    "id": "JSOKcN4mhItw",
    "outputId": "9a3a2610-f603-4e58-b485-7968cd7aec2c"
   },
   "outputs": [
    {
     "data": {
      "text/latex": [
       "$\\displaystyle \\frac{d}{d x} x^{2}$"
      ],
      "text/plain": [
       "Derivative(x**2, x)"
      ]
     },
     "execution_count": 8,
     "metadata": {},
     "output_type": "execute_result"
    }
   ],
   "source": [
    "d2 = Derivative(x**2,x) # Expresión matemática de la derivada\n",
    "d2"
   ]
  },
  {
   "cell_type": "code",
   "execution_count": 9,
   "metadata": {
    "colab": {
     "base_uri": "https://localhost:8080/",
     "height": 38
    },
    "executionInfo": {
     "elapsed": 6,
     "status": "ok",
     "timestamp": 1667904351308,
     "user": {
      "displayName": "Ester Martínez Martín",
      "userId": "04354067800048159174"
     },
     "user_tz": -60
    },
    "id": "XII0PeQSWsT7",
    "outputId": "82d97ea7-f407-4449-8548-eca17821eaca"
   },
   "outputs": [
    {
     "data": {
      "text/latex": [
       "$\\displaystyle 2 x$"
      ],
      "text/plain": [
       "2*x"
      ]
     },
     "execution_count": 9,
     "metadata": {},
     "output_type": "execute_result"
    }
   ],
   "source": [
    "d2.doit() # Calcula la derivada a partir de su expresión matemática"
   ]
  },
  {
   "cell_type": "markdown",
   "metadata": {
    "id": "hcAVvDUZjWRz"
   },
   "source": [
    "#### Representación gráfica"
   ]
  },
  {
   "cell_type": "code",
   "execution_count": 10,
   "metadata": {
    "colab": {
     "base_uri": "https://localhost:8080/",
     "height": 296
    },
    "executionInfo": {
     "elapsed": 1034,
     "status": "ok",
     "timestamp": 1667904352337,
     "user": {
      "displayName": "Ester Martínez Martín",
      "userId": "04354067800048159174"
     },
     "user_tz": -60
    },
    "id": "qq7uImt_jNfy",
    "outputId": "e9e97dd1-ae5c-42f4-b94c-24ca0d2f069b"
   },
   "outputs": [
    {
     "data": {
      "image/png": "[encoded data removed]",
      "text/plain": [
       "<Figure size 432x288 with 1 Axes>"
      ]
     },
     "metadata": {
      "needs_background": "light"
     },
     "output_type": "display_data"
    }
   ],
   "source": [
    "p = symplot(x**2,(x, -5, 5)) # Representación gráfica de una función matemática"
   ]
  },
  {
   "cell_type": "markdown",
   "metadata": {
    "id": "HJA58neajiU6"
   },
   "source": [
    "Representación gráfica de dos curvas en el mismo gráfico"
   ]
  },
  {
   "cell_type": "code",
   "execution_count": 11,
   "metadata": {
    "colab": {
     "base_uri": "https://localhost:8080/",
     "height": 297
    },
    "executionInfo": {
     "elapsed": 877,
     "status": "ok",
     "timestamp": 1667904353211,
     "user": {
      "displayName": "Ester Martínez Martín",
      "userId": "04354067800048159174"
     },
     "user_tz": -60
    },
    "id": "s-nv_09YexWT",
    "outputId": "e6dd880f-41b2-4dee-f332-555330f16d3a"
   },
   "outputs": [
    {
     "data": {
      "image/png": "[encoded data removed]",
      "text/plain": [
       "<Figure size 432x288 with 1 Axes>"
      ]
     },
     "metadata": {
      "needs_background": "light"
     },
     "output_type": "display_data"
    }
   ],
   "source": [
    "p = symplot(x**2,d1,(x, -5, 5),show=False) # Se crea el gráfico con las dos funciones, el rango de representación y se desactiva la funcionalidad de representación directa\n",
    "p[0].line_color = 'red' # Cambia el color de la primera gráfica\n",
    "p.show() # Mostrar el gráfico"
   ]
  },
  {
   "cell_type": "markdown",
   "metadata": {
    "id": "FnUJy6Y4nc61"
   },
   "source": [
    "#### Sustitución\n",
    "Cuando se definen las funciones de manera simbólica, es posible calcular el valor de dicha función para un determinado valor de _x_ como sigue:"
   ]
  },
  {
   "cell_type": "code",
   "execution_count": 12,
   "metadata": {
    "colab": {
     "base_uri": "https://localhost:8080/",
     "height": 37
    },
    "executionInfo": {
     "elapsed": 5,
     "status": "ok",
     "timestamp": 1667904353211,
     "user": {
      "displayName": "Ester Martínez Martín",
      "userId": "04354067800048159174"
     },
     "user_tz": -60
    },
    "id": "5M6ZXVuZgg1H",
    "outputId": "26cef552-5c69-4cf7-8a6c-e236d7451365"
   },
   "outputs": [
    {
     "data": {
      "text/latex": [
       "$\\displaystyle 20.0$"
      ],
      "text/plain": [
       "20.0000000000000"
      ]
     },
     "execution_count": 12,
     "metadata": {},
     "output_type": "execute_result"
    }
   ],
   "source": [
    "d1.evalf(subs={x:10})"
   ]
  },
  {
   "cell_type": "markdown",
   "metadata": {
    "id": "im-iXryvoLzG"
   },
   "source": [
    "o"
   ]
  },
  {
   "cell_type": "code",
   "execution_count": 13,
   "metadata": {
    "colab": {
     "base_uri": "https://localhost:8080/",
     "height": 37
    },
    "executionInfo": {
     "elapsed": 8,
     "status": "ok",
     "timestamp": 1667904353579,
     "user": {
      "displayName": "Ester Martínez Martín",
      "userId": "04354067800048159174"
     },
     "user_tz": -60
    },
    "id": "bgEO8xeeoG5v",
    "outputId": "b9b86130-512d-4701-eeb3-201e567ca668"
   },
   "outputs": [
    {
     "data": {
      "text/latex": [
       "$\\displaystyle 20$"
      ],
      "text/plain": [
       "20"
      ]
     },
     "execution_count": 13,
     "metadata": {},
     "output_type": "execute_result"
    }
   ],
   "source": [
    "d1.subs(x,10)"
   ]
  },
  {
   "cell_type": "markdown",
   "metadata": {
    "id": "gp5CqI9GXi19"
   },
   "source": [
    "### Derivadas Parciales"
   ]
  },
  {
   "cell_type": "code",
   "execution_count": 14,
   "metadata": {
    "id": "W3LvLPw-YV7W"
   },
   "outputs": [],
   "source": [
    "g = x**2 + y**3"
   ]
  },
  {
   "cell_type": "code",
   "execution_count": 15,
   "metadata": {
    "colab": {
     "base_uri": "https://localhost:8080/",
     "height": 38
    },
    "executionInfo": {
     "elapsed": 6,
     "status": "ok",
     "timestamp": 1667904353579,
     "user": {
      "displayName": "Ester Martínez Martín",
      "userId": "04354067800048159174"
     },
     "user_tz": -60
    },
    "id": "D611wwb1ZDdS",
    "outputId": "c94546d1-a93b-4ee9-c657-81bff552e058"
   },
   "outputs": [
    {
     "data": {
      "text/latex": [
       "$\\displaystyle 2 x$"
      ],
      "text/plain": [
       "2*x"
      ]
     },
     "execution_count": 15,
     "metadata": {},
     "output_type": "execute_result"
    }
   ],
   "source": [
    "diff(g,x) # Primera derivada parcial con respecto a x"
   ]
  },
  {
   "cell_type": "code",
   "execution_count": 16,
   "metadata": {
    "colab": {
     "base_uri": "https://localhost:8080/",
     "height": 38
    },
    "executionInfo": {
     "elapsed": 6,
     "status": "ok",
     "timestamp": 1667904353580,
     "user": {
      "displayName": "Ester Martínez Martín",
      "userId": "04354067800048159174"
     },
     "user_tz": -60
    },
    "id": "6alxHbsAZGoU",
    "outputId": "b0ff560c-06fc-47f8-da79-362de2e58f07"
   },
   "outputs": [
    {
     "data": {
      "text/latex": [
       "$\\displaystyle 3 y^{2}$"
      ],
      "text/plain": [
       "3*y**2"
      ]
     },
     "execution_count": 16,
     "metadata": {},
     "output_type": "execute_result"
    }
   ],
   "source": [
    "diff(g,y) # Primera derivada parcial con respecto a y"
   ]
  },
  {
   "cell_type": "code",
   "execution_count": 17,
   "metadata": {
    "colab": {
     "base_uri": "https://localhost:8080/",
     "height": 37
    },
    "executionInfo": {
     "elapsed": 250,
     "status": "ok",
     "timestamp": 1667904353824,
     "user": {
      "displayName": "Ester Martínez Martín",
      "userId": "04354067800048159174"
     },
     "user_tz": -60
    },
    "id": "KN5-R7UCZQcd",
    "outputId": "b6089278-34ee-4376-a81e-8a80983d61ee"
   },
   "outputs": [
    {
     "data": {
      "text/latex": [
       "$\\displaystyle 2$"
      ],
      "text/plain": [
       "2"
      ]
     },
     "execution_count": 17,
     "metadata": {},
     "output_type": "execute_result"
    }
   ],
   "source": [
    "# Segunda derivada parcial con respecto a x\n",
    "diff(g,x,2) # o diff(g,x,x)"
   ]
  },
  {
   "cell_type": "code",
   "execution_count": 18,
   "metadata": {
    "colab": {
     "base_uri": "https://localhost:8080/",
     "height": 38
    },
    "executionInfo": {
     "elapsed": 4,
     "status": "ok",
     "timestamp": 1667904353825,
     "user": {
      "displayName": "Ester Martínez Martín",
      "userId": "04354067800048159174"
     },
     "user_tz": -60
    },
    "id": "cVSPwC-1ZVKG",
    "outputId": "4eaddbca-6ae6-473e-e791-94abfe95956b"
   },
   "outputs": [
    {
     "data": {
      "text/latex": [
       "$\\displaystyle 6 y$"
      ],
      "text/plain": [
       "6*y"
      ]
     },
     "execution_count": 18,
     "metadata": {},
     "output_type": "execute_result"
    }
   ],
   "source": [
    "diff(g,y,y) # Segunda derivada parcial con respecto a y"
   ]
  },
  {
   "cell_type": "markdown",
   "metadata": {
    "id": "NYJ4GcS3Wpqx"
   },
   "source": [
    "## Análisis de funciones"
   ]
  },
  {
   "cell_type": "markdown",
   "metadata": {
    "id": "ko6iW_73cZNz"
   },
   "source": [
    "### Definición de una función"
   ]
  },
  {
   "cell_type": "code",
   "execution_count": 19,
   "metadata": {
    "id": "usUFXSchZV_A"
   },
   "outputs": [],
   "source": [
    "num = 2 * (x**2 - 9)\n",
    "den = (x**2 - 4)"
   ]
  },
  {
   "cell_type": "code",
   "execution_count": 20,
   "metadata": {
    "colab": {
     "base_uri": "https://localhost:8080/",
     "height": 55
    },
    "executionInfo": {
     "elapsed": 7,
     "status": "ok",
     "timestamp": 1667904354106,
     "user": {
      "displayName": "Ester Martínez Martín",
      "userId": "04354067800048159174"
     },
     "user_tz": -60
    },
    "id": "TTUkTO3-WuqN",
    "outputId": "6ddcfe86-9678-4241-c8ea-a2c5718d9825"
   },
   "outputs": [
    {
     "data": {
      "text/latex": [
       "$\\displaystyle \\frac{2 x^{2} - 18}{x^{2} - 4}$"
      ],
      "text/plain": [
       "(2*x**2 - 18)/(x**2 - 4)"
      ]
     },
     "execution_count": 20,
     "metadata": {},
     "output_type": "execute_result"
    }
   ],
   "source": [
    "f = num / den\n",
    "f"
   ]
  },
  {
   "cell_type": "code",
   "execution_count": 21,
   "metadata": {
    "colab": {
     "base_uri": "https://localhost:8080/",
     "height": 297
    },
    "executionInfo": {
     "elapsed": 804,
     "status": "ok",
     "timestamp": 1667904354903,
     "user": {
      "displayName": "Ester Martínez Martín",
      "userId": "04354067800048159174"
     },
     "user_tz": -60
    },
    "id": "ZmsDhTebZfrL",
    "outputId": "654e41a7-0f86-47a7-ec87-7789bb94d7c0"
   },
   "outputs": [
    {
     "data": {
      "image/png": "[encoded data removed]",
      "text/plain": [
       "<Figure size 432x288 with 1 Axes>"
      ]
     },
     "metadata": {
      "needs_background": "light"
     },
     "output_type": "display_data"
    }
   ],
   "source": [
    "p = symplot(f, xlim=(-6,6), ylim=(-12,12)) "
   ]
  },
  {
   "cell_type": "markdown",
   "metadata": {
    "id": "hhvnXmLGcljb"
   },
   "source": [
    "### Asíntotas Horizontales"
   ]
  },
  {
   "cell_type": "code",
   "execution_count": 22,
   "metadata": {
    "colab": {
     "base_uri": "https://localhost:8080/",
     "height": 37
    },
    "executionInfo": {
     "elapsed": 359,
     "status": "ok",
     "timestamp": 1667904355260,
     "user": {
      "displayName": "Ester Martínez Martín",
      "userId": "04354067800048159174"
     },
     "user_tz": -60
    },
    "id": "pA897K1cazjs",
    "outputId": "3d245e7d-341a-401c-b7bf-41c04ef31171"
   },
   "outputs": [
    {
     "data": {
      "text/latex": [
       "$\\displaystyle 2$"
      ],
      "text/plain": [
       "2"
      ]
     },
     "execution_count": 22,
     "metadata": {},
     "output_type": "execute_result"
    }
   ],
   "source": [
    "limit(f,x,oo) # oo representa infinito"
   ]
  },
  {
   "cell_type": "markdown",
   "metadata": {
    "id": "MCPRUkmIc04H"
   },
   "source": [
    "### Asíntotas Verticales\n",
    "\n",
    "\n",
    "Se iguala el denominador a cero y se almacenan las raíces en una variable."
   ]
  },
  {
   "cell_type": "code",
   "execution_count": 23,
   "metadata": {
    "colab": {
     "base_uri": "https://localhost:8080/"
    },
    "executionInfo": {
     "elapsed": 6,
     "status": "ok",
     "timestamp": 1667904355261,
     "user": {
      "displayName": "Ester Martínez Martín",
      "userId": "04354067800048159174"
     },
     "user_tz": -60
    },
    "id": "DweABoXabuyr",
    "outputId": "c7dec437-a06d-4c61-8887-8b556aa491fd"
   },
   "outputs": [
    {
     "data": {
      "text/plain": [
       "[-2, 2]"
      ]
     },
     "execution_count": 23,
     "metadata": {},
     "output_type": "execute_result"
    }
   ],
   "source": [
    "r = solve(den, x)\n",
    "r"
   ]
  },
  {
   "cell_type": "code",
   "execution_count": 24,
   "metadata": {
    "colab": {
     "base_uri": "https://localhost:8080/",
     "height": 297
    },
    "executionInfo": {
     "elapsed": 750,
     "status": "ok",
     "timestamp": 1667904356008,
     "user": {
      "displayName": "Ester Martínez Martín",
      "userId": "04354067800048159174"
     },
     "user_tz": -60
    },
    "id": "LqKOdfbkcHrp",
    "outputId": "3aa3016e-bd21-4670-d580-41cfb4f8dd0e"
   },
   "outputs": [
    {
     "data": {
      "image/png": "[encoded data removed]",
      "text/plain": [
       "<Figure size 432x288 with 1 Axes>"
      ]
     },
     "metadata": {
      "needs_background": "light"
     },
     "output_type": "display_data"
    }
   ],
   "source": [
    "# Grafica con la asíntota horizontal\n",
    "p = symplot(f,2, xlim=(-6,6), ylim=(-12,12),show=false)\n",
    "p.show()"
   ]
  },
  {
   "cell_type": "markdown",
   "metadata": {
    "id": "1zV127yQdA_m"
   },
   "source": [
    "### Puntos críticos\n",
    "\n",
    "Calculamos la primera derivada e igualamos a cero.\n"
   ]
  },
  {
   "cell_type": "code",
   "execution_count": 25,
   "metadata": {
    "colab": {
     "base_uri": "https://localhost:8080/",
     "height": 62
    },
    "executionInfo": {
     "elapsed": 4,
     "status": "ok",
     "timestamp": 1667904356008,
     "user": {
      "displayName": "Ester Martínez Martín",
      "userId": "04354067800048159174"
     },
     "user_tz": -60
    },
    "id": "THcgjLfPdPT8",
    "outputId": "142af832-b7cd-421a-dedb-f0e5e333c119"
   },
   "outputs": [
    {
     "data": {
      "text/latex": [
       "$\\displaystyle \\frac{4 x}{x^{2} - 4} - \\frac{2 x \\left(2 x^{2} - 18\\right)}{\\left(x^{2} - 4\\right)^{2}}$"
      ],
      "text/plain": [
       "4*x/(x**2 - 4) - 2*x*(2*x**2 - 18)/(x**2 - 4)**2"
      ]
     },
     "execution_count": 25,
     "metadata": {},
     "output_type": "execute_result"
    }
   ],
   "source": [
    "f1 = diff(f)\n",
    "f1"
   ]
  },
  {
   "cell_type": "code",
   "execution_count": 26,
   "metadata": {
    "colab": {
     "base_uri": "https://localhost:8080/"
    },
    "executionInfo": {
     "elapsed": 7,
     "status": "ok",
     "timestamp": 1667904356426,
     "user": {
      "displayName": "Ester Martínez Martín",
      "userId": "04354067800048159174"
     },
     "user_tz": -60
    },
    "id": "eoV76g2UdZOr",
    "outputId": "0bcb9a0a-f7b5-4227-9581-e1568074816e"
   },
   "outputs": [
    {
     "data": {
      "text/plain": [
       "[0]"
      ]
     },
     "execution_count": 26,
     "metadata": {},
     "output_type": "execute_result"
    }
   ],
   "source": [
    "criticosX = list(solveset(f1, x))\n",
    "criticosX"
   ]
  },
  {
   "cell_type": "markdown",
   "metadata": {
    "id": "91KnwcXXdhvW"
   },
   "source": [
    "Así pues, en este ejemplo, se tiene un único punto crítico en x = 0"
   ]
  },
  {
   "cell_type": "code",
   "execution_count": 27,
   "metadata": {
    "colab": {
     "base_uri": "https://localhost:8080/"
    },
    "executionInfo": {
     "elapsed": 4,
     "status": "ok",
     "timestamp": 1667904356426,
     "user": {
      "displayName": "Ester Martínez Martín",
      "userId": "04354067800048159174"
     },
     "user_tz": -60
    },
    "id": "m9W_AC4fgDh8",
    "outputId": "7109f701-f843-4a48-c7d6-5d87835d9e00"
   },
   "outputs": [
    {
     "data": {
      "text/plain": [
       "[9/2]"
      ]
     },
     "execution_count": 27,
     "metadata": {},
     "output_type": "execute_result"
    }
   ],
   "source": [
    "criticosY = [f.subs(x, a) for a in criticosX]\n",
    "criticosY"
   ]
  },
  {
   "cell_type": "markdown",
   "metadata": {
    "id": "YThxvxkIgDzf"
   },
   "source": [
    "Para ver si es un máximo o un mínimo, se analizará el signo de la segunda derivada.\n",
    "\n",
    "\n",
    "### Segunda derivada"
   ]
  },
  {
   "cell_type": "code",
   "execution_count": 28,
   "metadata": {
    "colab": {
     "base_uri": "https://localhost:8080/",
     "height": 78
    },
    "executionInfo": {
     "elapsed": 233,
     "status": "ok",
     "timestamp": 1667904356657,
     "user": {
      "displayName": "Ester Martínez Martín",
      "userId": "04354067800048159174"
     },
     "user_tz": -60
    },
    "id": "18VRmozhdhX2",
    "outputId": "72435c1b-3610-437a-c82c-aa361401acf3"
   },
   "outputs": [
    {
     "data": {
      "text/latex": [
       "$\\displaystyle \\frac{4 \\left(- \\frac{4 x^{2}}{x^{2} - 4} + \\frac{\\left(x^{2} - 9\\right) \\left(\\frac{4 x^{2}}{x^{2} - 4} - 1\\right)}{x^{2} - 4} + 1\\right)}{x^{2} - 4}$"
      ],
      "text/plain": [
       "4*(-4*x**2/(x**2 - 4) + (x**2 - 9)*(4*x**2/(x**2 - 4) - 1)/(x**2 - 4) + 1)/(x**2 - 4)"
      ]
     },
     "execution_count": 28,
     "metadata": {},
     "output_type": "execute_result"
    }
   ],
   "source": [
    "f2 = diff (f, x, 2) # Calculamos la segunda derivada\n",
    "f2"
   ]
  },
  {
   "cell_type": "markdown",
   "metadata": {
    "id": "a6LuziOEd5JG"
   },
   "source": [
    "### Sustituimos el/los puntos críticos en la segunda derivada"
   ]
  },
  {
   "cell_type": "code",
   "execution_count": 29,
   "metadata": {
    "colab": {
     "base_uri": "https://localhost:8080/"
    },
    "executionInfo": {
     "elapsed": 5,
     "status": "ok",
     "timestamp": 1667904356657,
     "user": {
      "displayName": "Ester Martínez Martín",
      "userId": "04354067800048159174"
     },
     "user_tz": -60
    },
    "id": "CFUrnZTzeCTp",
    "outputId": "ee9a615e-4ae1-4a74-c51b-869733a851e7"
   },
   "outputs": [
    {
     "data": {
      "text/plain": [
       "[5/4]"
      ]
     },
     "execution_count": 29,
     "metadata": {},
     "output_type": "execute_result"
    }
   ],
   "source": [
    "segderiv = [f2.subs(x, cr) for cr in criticosX]\n",
    "segderiv"
   ]
  },
  {
   "cell_type": "markdown",
   "metadata": {
    "id": "AJhe6S8te0Ag"
   },
   "source": [
    "Es positivo, luego hay un mínimo relativo en x = 0\n",
    "\n",
    "Ahora se representan los puntos críticos"
   ]
  },
  {
   "cell_type": "code",
   "execution_count": 30,
   "metadata": {
    "colab": {
     "base_uri": "https://localhost:8080/",
     "height": 265
    },
    "executionInfo": {
     "elapsed": 230,
     "status": "ok",
     "timestamp": 1667904428807,
     "user": {
      "displayName": "Ester Martínez Martín",
      "userId": "04354067800048159174"
     },
     "user_tz": -60
    },
    "id": "QadCRLDnevo_",
    "outputId": "7c33a43a-922e-4918-f50d-1ad5832cedd4"
   },
   "outputs": [
    {
     "data": {
      "image/png": "[encoded data removed]",
      "text/plain": [
       "<Figure size 432x288 with 1 Axes>"
      ]
     },
     "metadata": {
      "needs_background": "light"
     },
     "output_type": "display_data"
    }
   ],
   "source": [
    "import matplotlib.pyplot as plt\n",
    "xx = np.linspace(-10, 10, 1000)\n",
    "yy = lambdify(x, f)(xx)\n",
    "plt.plot(xx, yy)\n",
    "plt.plot(criticosX, criticosY, 'k*')\n",
    "plt.show()"
   ]
  },
  {
   "cell_type": "markdown",
   "metadata": {
    "id": "HfJRDHBJUpVc"
   },
   "source": [
    "## Optimización"
   ]
  },
  {
   "cell_type": "markdown",
   "metadata": {
    "id": "AxsuxDnTRsTi"
   },
   "source": [
    "Para resolver un problema de optimización, normalmente se siguen los siguientes pasos:\n",
    "\n",
    "*   Identificar las variables del problema\n",
    "*   Encontrar la función a optimizar y, para el caso de dos variables (x,y),  reemplazar ```y = f(x)```\n",
    "*   Reducir la función a una única variable independiente\n",
    "*   Comprobar el dominio de admisión de las soluciones y descartar las absurdas\n",
    "*   Calcular el máximo o mínimo de la función objetivo según los requisitos del problema\n"
   ]
  },
  {
   "cell_type": "markdown",
   "metadata": {
    "id": "-HgzfG2PSUXh"
   },
   "source": [
    "**Ejemplo:**\n",
    "\n",
    "Queremos construir una caja cuya longitud sea tres veces su anchura.  \n",
    "El material usado para construir la tapa y la base cuesta 10 euros por metro cuadrado, mientras que el material usado para construir los lados cuesta 6 euros por metro cuadrado.  \n",
    "Si la caja tiene que tener un volumen de 50 metros cúbicos, determina las dimensiones que minimizan el coste de construir la caja"
   ]
  },
  {
   "cell_type": "code",
   "execution_count": 31,
   "metadata": {
    "id": "DnI3rMS9T7ks"
   },
   "outputs": [],
   "source": [
    "# Hacemos un dibujo del problema\n",
    "#    +--------+\n",
    "#   /        /|\n",
    "#  /        / |  altura\n",
    "# +--------+  |\n",
    "# |        |  |\n",
    "# |        |  +\n",
    "# |        | /\n",
    "# |        |/  longitud\n",
    "# +--------+\n",
    "#   ancho -> x"
   ]
  },
  {
   "cell_type": "code",
   "execution_count": 32,
   "metadata": {
    "id": "7f_0ActURrnS"
   },
   "outputs": [],
   "source": [
    "# Queremos construir una caja cuya longitud sea tres veces su anchura.\n",
    "ancho = x;\n",
    "longitud = 3*ancho;"
   ]
  },
  {
   "cell_type": "code",
   "execution_count": 33,
   "metadata": {
    "colab": {
     "base_uri": "https://localhost:8080/"
    },
    "executionInfo": {
     "elapsed": 206,
     "status": "ok",
     "timestamp": 1667904429240,
     "user": {
      "displayName": "Ester Martínez Martín",
      "userId": "04354067800048159174"
     },
     "user_tz": -60
    },
    "id": "W-P8sV41UosG",
    "outputId": "269618f6-121f-4cd7-c0d0-a181180a40d3"
   },
   "outputs": [
    {
     "name": "stdout",
     "output_type": "stream",
     "text": [
      "Coste total: 60*x**2 + 800/x\n",
      "Puntos criticos: [1.88207205776206]\n",
      "Las dimensiones que minimizan el coste son: Ancho = 1.88207205776206 m, Longitud = 5.64621617328617 m, Alto = 4.70518014440514 m\n",
      "Y su coste total es 637.595141509567 €\n"
     ]
    }
   ],
   "source": [
    "# Si la caja tiene que tener un volumen de 50 metros cúbicos\n",
    "# Volumen = ancho * longitud * altura\n",
    "# 50 = ancho * longitud * altura -> altura = 50/(ancho * longitud)\n",
    "altura = 50/(ancho*longitud)\n",
    "tapa = longitud*ancho\n",
    "base = longitud*ancho\n",
    "Coste1 = (tapa+base)*10\n",
    "lateral1 = ancho*altura # el lado de la frente\n",
    "lateral2 = 3*ancho*altura # el lado del lado\n",
    "Coste2 = (lateral1*2 + lateral2*2 ) * 6 # 2 lados frontales y 2 lados laterales con un coste de 6\n",
    "Costetotal = Coste1+Coste2\n",
    "print('Coste total:', Costetotal)\n",
    "\n",
    "# Calculamos la primera derivada\n",
    "derivada=diff(Costetotal)\n",
    "\n",
    "# Obtenemos los puntos criticos (primera derivada == 0\n",
    "criticosX = list(N(solveset(derivada, x, domain=S.Reals))) # domain=S.Reals elimina números complejos del cálculo\n",
    "criticosX = [cri for cri in criticosX if cri >= 0] # Solo las dimensiones positivas tienen sentido\n",
    "print(\"Puntos criticos:\", criticosX)\n",
    "\n",
    "# Resultado del problema\n",
    "for cri in criticosX:\n",
    "  print(f'Las dimensiones que minimizan el coste son: Ancho = {cri} m, Longitud = {longitud.subs(x,cri)} m, Alto = {altura.subs(x,cri)} m')\n",
    "  print(f'Y su coste total es {Costetotal.subs(x,cri)} €')"
   ]
  },
  {
   "cell_type": "markdown",
   "metadata": {
    "id": "iksPVC3xcsUA"
   },
   "source": [
    "### Optimización por búsqueda\n",
    "\n",
    "La librería ```scipy``` contiene funciones que ayudan a buscar los mínimos de manera automática. No obstante, esta librería y ```sympy``` son incompatibles, así pues para hacer uso de ```scipy``` es necesario crear funciones estándar."
   ]
  },
  {
   "cell_type": "code",
   "execution_count": 34,
   "metadata": {
    "colab": {
     "base_uri": "https://localhost:8080/"
    },
    "executionInfo": {
     "elapsed": 5,
     "status": "ok",
     "timestamp": 1667904429240,
     "user": {
      "displayName": "Ester Martínez Martín",
      "userId": "04354067800048159174"
     },
     "user_tz": -60
    },
    "id": "k77HFPyQbKyL",
    "outputId": "078377d5-6d11-4b01-a240-59baf3ba1ddb"
   },
   "outputs": [
    {
     "name": "stdout",
     "output_type": "stream",
     "text": [
      "Optimization terminated successfully.\n",
      "         Current function value: 637.595142\n",
      "         Iterations: 16\n",
      "         Function evaluations: 32\n"
     ]
    },
    {
     "data": {
      "text/plain": [
       "array([1.88203125])"
      ]
     },
     "execution_count": 34,
     "metadata": {},
     "output_type": "execute_result"
    }
   ],
   "source": [
    "from scipy import optimize\n",
    "\n",
    "# en este caso, sympy no puede utilizarse y, por lo tanto, se tiene que definir una función estándar manualmente\n",
    "def f(x):\n",
    "    return 60*x**2 + 800/x\n",
    "\n",
    "# Esta expresión calcula el mínimo de una función f a partir de un punto inicial \n",
    "# en este caso, \"1\" es la estimativa inicial\n",
    "optimize.fmin(f, 1)"
   ]
  },
  {
   "cell_type": "code",
   "execution_count": 35,
   "metadata": {
    "colab": {
     "base_uri": "https://localhost:8080/"
    },
    "executionInfo": {
     "elapsed": 3,
     "status": "ok",
     "timestamp": 1667904429240,
     "user": {
      "displayName": "Ester Martínez Martín",
      "userId": "04354067800048159174"
     },
     "user_tz": -60
    },
    "id": "WhpbTd5gedaU",
    "outputId": "fd1d94db-99cd-4855-e5d8-636b87ca8be1"
   },
   "outputs": [
    {
     "data": {
      "text/plain": [
       "1.8820717255379549"
      ]
     },
     "execution_count": 35,
     "metadata": {},
     "output_type": "execute_result"
    }
   ],
   "source": [
    "optimize.fminbound(f, -1, 2) # Igual que la anterior pero se tienen que indicar los puntos inicial y final de búsqueda"
   ]
  },
  {
   "cell_type": "markdown",
   "metadata": {
    "id": "3MG7lpprSnTk"
   },
   "source": [
    "# Ejercicios"
   ]
  },
  {
   "cell_type": "markdown",
   "metadata": {
    "id": "lzcD_VObTtc6"
   },
   "source": [
    "## Ejercicio 1\n",
    "\n",
    "Calcula el límite de las siguiente funciones y dibuja las mismas:\n",
    "\n",
    "$\\lim\\limits_{x \\to 0} \\frac{x^3+5}{x^4+7}$\n",
    "\n",
    "$\\lim\\limits_{x \\to3+} \\frac{x−3}{|x−3|}$\n",
    "\n",
    "$\\lim\\limits_{x \\to3-} \\frac{x−3}{|x−3|}$"
   ]
  },
  {
   "cell_type": "code",
   "execution_count": 36,
   "metadata": {
    "colab": {
     "base_uri": "https://localhost:8080/",
     "height": 51
    },
    "executionInfo": {
     "elapsed": 205,
     "status": "ok",
     "timestamp": 1667904619116,
     "user": {
      "displayName": "Ester Martínez Martín",
      "userId": "04354067800048159174"
     },
     "user_tz": -60
    },
    "id": "bcrARgGs2hjI",
    "outputId": "4b66316f-2669-4667-a2e8-04836c81f3bb"
   },
   "outputs": [
    {
     "data": {
      "text/latex": [
       "$\\displaystyle \\frac{5}{7}$"
      ],
      "text/plain": [
       "5/7"
      ]
     },
     "execution_count": 36,
     "metadata": {},
     "output_type": "execute_result"
    }
   ],
   "source": []
  },
  {
   "cell_type": "code",
   "execution_count": 37,
   "metadata": {
    "colab": {
     "base_uri": "https://localhost:8080/",
     "height": 297
    },
    "executionInfo": {
     "elapsed": 681,
     "status": "ok",
     "timestamp": 1667904658515,
     "user": {
      "displayName": "Ester Martínez Martín",
      "userId": "04354067800048159174"
     },
     "user_tz": -60
    },
    "id": "bhWDOiK92sf_",
    "outputId": "83135469-ba60-4aca-dc00-12464d774722"
   },
   "outputs": [
    {
     "data": {
      "image/png": "[encoded data removed]",
      "text/plain": [
       "<Figure size 432x288 with 1 Axes>"
      ]
     },
     "metadata": {
      "needs_background": "light"
     },
     "output_type": "display_data"
    }
   ],
   "source": []
  },
  {
   "cell_type": "code",
   "execution_count": 38,
   "metadata": {
    "colab": {
     "base_uri": "https://localhost:8080/",
     "height": 37
    },
    "executionInfo": {
     "elapsed": 244,
     "status": "ok",
     "timestamp": 1667904804722,
     "user": {
      "displayName": "Ester Martínez Martín",
      "userId": "04354067800048159174"
     },
     "user_tz": -60
    },
    "id": "jCamnmT53j5E",
    "outputId": "3fadf34a-635a-4b42-fa02-69bd7b88fcd7"
   },
   "outputs": [
    {
     "data": {
      "text/latex": [
       "$\\displaystyle 1$"
      ],
      "text/plain": [
       "1"
      ]
     },
     "execution_count": 38,
     "metadata": {},
     "output_type": "execute_result"
    }
   ],
   "source": []
  },
  {
   "cell_type": "code",
   "execution_count": 39,
   "metadata": {
    "colab": {
     "base_uri": "https://localhost:8080/",
     "height": 297
    },
    "executionInfo": {
     "elapsed": 551,
     "status": "ok",
     "timestamp": 1667904774674,
     "user": {
      "displayName": "Ester Martínez Martín",
      "userId": "04354067800048159174"
     },
     "user_tz": -60
    },
    "id": "0nJm9k7S3jsp",
    "outputId": "e8e1ad49-b029-45de-f630-8ac593714b37"
   },
   "outputs": [
    {
     "data": {
      "image/png": "[encoded data removed]",
      "text/plain": [
       "<Figure size 432x288 with 1 Axes>"
      ]
     },
     "metadata": {
      "needs_background": "light"
     },
     "output_type": "display_data"
    }
   ],
   "source": [
    " "
   ]
  },
  {
   "cell_type": "code",
   "execution_count": 40,
   "metadata": {
    "colab": {
     "base_uri": "https://localhost:8080/",
     "height": 37
    },
    "executionInfo": {
     "elapsed": 210,
     "status": "ok",
     "timestamp": 1667904811303,
     "user": {
      "displayName": "Ester Martínez Martín",
      "userId": "04354067800048159174"
     },
     "user_tz": -60
    },
    "id": "h1LekVCN3jgn",
    "outputId": "4798e79a-e78c-4853-a907-351b711eeb8d"
   },
   "outputs": [
    {
     "data": {
      "text/latex": [
       "$\\displaystyle -1$"
      ],
      "text/plain": [
       "-1"
      ]
     },
     "execution_count": 40,
     "metadata": {},
     "output_type": "execute_result"
    }
   ],
   "source": []
  },
  {
   "cell_type": "markdown",
   "metadata": {
    "id": "kbsxH29jU5I-"
   },
   "source": [
    "## Ejercicio 2\n",
    "\n",
    "Sabiendo que $f(x)=\\frac{3x+5}{x-3}$ y $g(x)=x^2+1$\n",
    "\n",
    "Calcula los siguientes límites:\n",
    "\n",
    "$l1 = \\lim\\limits_{x \\to4}~f(x)$\n",
    "\n",
    "$l2 = \\lim\\limits_{x \\to4}~g(x)$\n",
    "\n",
    "$lsum = \\lim\\limits_{x \\to4}~(f(x)+g(x))$\n",
    "\n",
    "$lrest = \\lim\\limits_{x \\to4}~(f(x)-g(x))$\n",
    "\n",
    "$lprod = \\lim\\limits_{x \\to4}~(f(x)*g(x))$\n",
    "\n",
    "$ldiv = \\lim\\limits_{x \\to4}~\\frac{f(x)}{g(x)}$"
   ]
  },
  {
   "cell_type": "code",
   "execution_count": 41,
   "metadata": {
    "colab": {
     "base_uri": "https://localhost:8080/",
     "height": 37
    },
    "executionInfo": {
     "elapsed": 210,
     "status": "ok",
     "timestamp": 1667904889593,
     "user": {
      "displayName": "Ester Martínez Martín",
      "userId": "04354067800048159174"
     },
     "user_tz": -60
    },
    "id": "pbwZM1AB4EeE",
    "outputId": "a15d1f3f-dc70-4c36-f0b5-a0c770c886ef"
   },
   "outputs": [
    {
     "data": {
      "text/latex": [
       "$\\displaystyle 17$"
      ],
      "text/plain": [
       "17"
      ]
     },
     "execution_count": 41,
     "metadata": {},
     "output_type": "execute_result"
    }
   ],
   "source": [
    "#l1\n"
   ]
  },
  {
   "cell_type": "code",
   "execution_count": 42,
   "metadata": {
    "colab": {
     "base_uri": "https://localhost:8080/",
     "height": 37
    },
    "executionInfo": {
     "elapsed": 187,
     "status": "ok",
     "timestamp": 1667904898673,
     "user": {
      "displayName": "Ester Martínez Martín",
      "userId": "04354067800048159174"
     },
     "user_tz": -60
    },
    "id": "P7pYmiTN4ESH",
    "outputId": "d194cd21-60f1-403b-f9cc-ab2afe380925"
   },
   "outputs": [
    {
     "data": {
      "text/latex": [
       "$\\displaystyle 17$"
      ],
      "text/plain": [
       "17"
      ]
     },
     "execution_count": 42,
     "metadata": {},
     "output_type": "execute_result"
    }
   ],
   "source": [
    "#l2\n"
   ]
  },
  {
   "cell_type": "code",
   "execution_count": 43,
   "metadata": {
    "colab": {
     "base_uri": "https://localhost:8080/",
     "height": 37
    },
    "executionInfo": {
     "elapsed": 192,
     "status": "ok",
     "timestamp": 1667904909073,
     "user": {
      "displayName": "Ester Martínez Martín",
      "userId": "04354067800048159174"
     },
     "user_tz": -60
    },
    "id": "EExBk-sT4EG8",
    "outputId": "82ebe121-bec9-4641-913b-e2553ee83316"
   },
   "outputs": [
    {
     "data": {
      "text/latex": [
       "$\\displaystyle 34$"
      ],
      "text/plain": [
       "34"
      ]
     },
     "execution_count": 43,
     "metadata": {},
     "output_type": "execute_result"
    }
   ],
   "source": [
    "#lsum\n"
   ]
  },
  {
   "cell_type": "code",
   "execution_count": 44,
   "metadata": {
    "colab": {
     "base_uri": "https://localhost:8080/",
     "height": 37
    },
    "executionInfo": {
     "elapsed": 218,
     "status": "ok",
     "timestamp": 1667904917272,
     "user": {
      "displayName": "Ester Martínez Martín",
      "userId": "04354067800048159174"
     },
     "user_tz": -60
    },
    "id": "ennTCLs64D0n",
    "outputId": "b8816f38-dcd9-4887-d527-7eb10ff47f06"
   },
   "outputs": [
    {
     "data": {
      "text/latex": [
       "$\\displaystyle 0$"
      ],
      "text/plain": [
       "0"
      ]
     },
     "execution_count": 44,
     "metadata": {},
     "output_type": "execute_result"
    }
   ],
   "source": [
    "#lrest\n"
   ]
  },
  {
   "cell_type": "code",
   "execution_count": 45,
   "metadata": {
    "colab": {
     "base_uri": "https://localhost:8080/",
     "height": 37
    },
    "executionInfo": {
     "elapsed": 197,
     "status": "ok",
     "timestamp": 1667904925277,
     "user": {
      "displayName": "Ester Martínez Martín",
      "userId": "04354067800048159174"
     },
     "user_tz": -60
    },
    "id": "kUyaJckO4Dm2",
    "outputId": "d4c6128c-ff95-4049-9eed-e337d9566cd4"
   },
   "outputs": [
    {
     "data": {
      "text/latex": [
       "$\\displaystyle 289$"
      ],
      "text/plain": [
       "289"
      ]
     },
     "execution_count": 45,
     "metadata": {},
     "output_type": "execute_result"
    }
   ],
   "source": [
    "#lprod\n"
   ]
  },
  {
   "cell_type": "code",
   "execution_count": 46,
   "metadata": {
    "colab": {
     "base_uri": "https://localhost:8080/",
     "height": 37
    },
    "executionInfo": {
     "elapsed": 193,
     "status": "ok",
     "timestamp": 1667904931836,
     "user": {
      "displayName": "Ester Martínez Martín",
      "userId": "04354067800048159174"
     },
     "user_tz": -60
    },
    "id": "8fUakDkA4DOm",
    "outputId": "20b0221e-09d5-47a0-a6b0-83f694fb1af7"
   },
   "outputs": [
    {
     "data": {
      "text/latex": [
       "$\\displaystyle 1$"
      ],
      "text/plain": [
       "1"
      ]
     },
     "execution_count": 46,
     "metadata": {},
     "output_type": "execute_result"
    }
   ],
   "source": [
    "#ldiv\n"
   ]
  },
  {
   "cell_type": "markdown",
   "metadata": {
    "id": "XtoG2lFaWId9"
   },
   "source": [
    "## Ejercicio 3\n",
    "\n",
    "Calcula los límites iterados de las siguientes funciones:\n",
    "\n",
    "$\\lim\\limits_{(x,y) \\to (4,3)}~\\frac{x^2-1}{3x+y}$\n",
    "\n",
    "$\\lim\\limits_{(x,y) \\to (2,2)}~\\frac{x+3}{xy-4}$"
   ]
  },
  {
   "cell_type": "code",
   "execution_count": 47,
   "metadata": {
    "colab": {
     "base_uri": "https://localhost:8080/",
     "height": 37
    },
    "executionInfo": {
     "elapsed": 206,
     "status": "ok",
     "timestamp": 1667905072983,
     "user": {
      "displayName": "Ester Martínez Martín",
      "userId": "04354067800048159174"
     },
     "user_tz": -60
    },
    "id": "XSfRxN1m4lZe",
    "outputId": "8cdfd57a-89d3-4261-856e-d0130f690477"
   },
   "outputs": [
    {
     "data": {
      "text/latex": [
       "$\\displaystyle 1$"
      ],
      "text/plain": [
       "1"
      ]
     },
     "execution_count": 47,
     "metadata": {},
     "output_type": "execute_result"
    }
   ],
   "source": [
    "# Primera\n",
    "#lxy\n"
   ]
  },
  {
   "cell_type": "code",
   "execution_count": 48,
   "metadata": {
    "colab": {
     "base_uri": "https://localhost:8080/",
     "height": 37
    },
    "executionInfo": {
     "elapsed": 201,
     "status": "ok",
     "timestamp": 1667905075396,
     "user": {
      "displayName": "Ester Martínez Martín",
      "userId": "04354067800048159174"
     },
     "user_tz": -60
    },
    "id": "4KoXQFOL40wH",
    "outputId": "36be406d-3cf4-433c-90ad-1ffd25e925c2"
   },
   "outputs": [
    {
     "data": {
      "text/latex": [
       "$\\displaystyle 1$"
      ],
      "text/plain": [
       "1"
      ]
     },
     "execution_count": 48,
     "metadata": {},
     "output_type": "execute_result"
    }
   ],
   "source": [
    "#lyx\n"
   ]
  },
  {
   "cell_type": "code",
   "execution_count": 49,
   "metadata": {
    "colab": {
     "base_uri": "https://localhost:8080/",
     "height": 37
    },
    "executionInfo": {
     "elapsed": 327,
     "status": "ok",
     "timestamp": 1667905011052,
     "user": {
      "displayName": "Ester Martínez Martín",
      "userId": "04354067800048159174"
     },
     "user_tz": -60
    },
    "id": "UAHx8KBm4lOX",
    "outputId": "a7ae3c7a-4f78-4c54-dccf-c3287afb6765"
   },
   "outputs": [
    {
     "data": {
      "text/latex": [
       "$\\displaystyle \\infty$"
      ],
      "text/plain": [
       "oo"
      ]
     },
     "execution_count": 49,
     "metadata": {},
     "output_type": "execute_result"
    }
   ],
   "source": [
    "# Segunda\n",
    "#lxy"
   ]
  },
  {
   "cell_type": "code",
   "execution_count": 50,
   "metadata": {
    "colab": {
     "base_uri": "https://localhost:8080/",
     "height": 37
    },
    "executionInfo": {
     "elapsed": 205,
     "status": "ok",
     "timestamp": 1667905100492,
     "user": {
      "displayName": "Ester Martínez Martín",
      "userId": "04354067800048159174"
     },
     "user_tz": -60
    },
    "id": "eLDb2lAu48K3",
    "outputId": "da07f56e-de05-4ac5-d329-d1eaf26b2316"
   },
   "outputs": [
    {
     "data": {
      "text/latex": [
       "$\\displaystyle \\infty$"
      ],
      "text/plain": [
       "oo"
      ]
     },
     "execution_count": 50,
     "metadata": {},
     "output_type": "execute_result"
    }
   ],
   "source": [
    "#lyx\n"
   ]
  },
  {
   "cell_type": "markdown",
   "metadata": {
    "id": "NJFhFYWYWPFZ"
   },
   "source": [
    "## Ejercicio 4"
   ]
  },
  {
   "cell_type": "markdown",
   "metadata": {
    "id": "RtMnW6g1eZTt"
   },
   "source": [
    "Calcula los límites iterados de la siguiente función y dibuja la función\n",
    "\n",
    "\n",
    "$\\lim\\limits_{(x,y) \\to (0,0)}~\\frac{xy}{x^2+y^2}$"
   ]
  },
  {
   "cell_type": "code",
   "execution_count": 51,
   "metadata": {
    "colab": {
     "base_uri": "https://localhost:8080/",
     "height": 37
    },
    "executionInfo": {
     "elapsed": 199,
     "status": "ok",
     "timestamp": 1667905145469,
     "user": {
      "displayName": "Ester Martínez Martín",
      "userId": "04354067800048159174"
     },
     "user_tz": -60
    },
    "id": "H88e5UVj5EFp",
    "outputId": "ab489f6e-e40f-451c-81c3-07def5e48b8a"
   },
   "outputs": [
    {
     "data": {
      "text/latex": [
       "$\\displaystyle 0$"
      ],
      "text/plain": [
       "0"
      ]
     },
     "execution_count": 51,
     "metadata": {},
     "output_type": "execute_result"
    }
   ],
   "source": [
    "#lxy\n"
   ]
  },
  {
   "cell_type": "code",
   "execution_count": 52,
   "metadata": {
    "colab": {
     "base_uri": "https://localhost:8080/",
     "height": 37
    },
    "executionInfo": {
     "elapsed": 381,
     "status": "ok",
     "timestamp": 1667905157554,
     "user": {
      "displayName": "Ester Martínez Martín",
      "userId": "04354067800048159174"
     },
     "user_tz": -60
    },
    "id": "3DDGFWfR5JRx",
    "outputId": "5e4ea43f-4894-498d-90fe-547ce56e7f30"
   },
   "outputs": [
    {
     "data": {
      "text/latex": [
       "$\\displaystyle 0$"
      ],
      "text/plain": [
       "0"
      ]
     },
     "execution_count": 52,
     "metadata": {},
     "output_type": "execute_result"
    }
   ],
   "source": [
    "#lyx\n"
   ]
  },
  {
   "cell_type": "code",
   "execution_count": 53,
   "metadata": {
    "colab": {
     "base_uri": "https://localhost:8080/",
     "height": 315
    },
    "executionInfo": {
     "elapsed": 977,
     "status": "ok",
     "timestamp": 1667905179342,
     "user": {
      "displayName": "Ester Martínez Martín",
      "userId": "04354067800048159174"
     },
     "user_tz": -60
    },
    "id": "xQfgU22E5Qq4",
    "outputId": "182a37db-e1a7-4e1a-d800-19b8a8e0a1b4"
   },
   "outputs": [
    {
     "data": {
      "image/png": "[encoded data removed]",
      "text/plain": [
       "<Figure size 432x288 with 1 Axes>"
      ]
     },
     "metadata": {
      "needs_background": "light"
     },
     "output_type": "display_data"
    },
    {
     "data": {
      "text/plain": [
       "<sympy.plotting.plot.Plot at 0x7f534cd9d420>"
      ]
     },
     "execution_count": 53,
     "metadata": {},
     "output_type": "execute_result"
    }
   ],
   "source": [
    "#gráfica\n"
   ]
  },
  {
   "cell_type": "markdown",
   "metadata": {
    "id": "zwOl83pTWPt5"
   },
   "source": [
    "## Ejercicio 5"
   ]
  },
  {
   "cell_type": "markdown",
   "metadata": {
    "id": "-PcYqmZue3qh"
   },
   "source": [
    "Obtén la derivada de la función $sin(x)$ recurriendo a la definición de derivada y utilizando el comando limit"
   ]
  },
  {
   "cell_type": "code",
   "execution_count": 54,
   "metadata": {
    "colab": {
     "base_uri": "https://localhost:8080/",
     "height": 38
    },
    "executionInfo": {
     "elapsed": 601,
     "status": "ok",
     "timestamp": 1667905200133,
     "user": {
      "displayName": "Ester Martínez Martín",
      "userId": "04354067800048159174"
     },
     "user_tz": -60
    },
    "id": "n74-zE4V5WmG",
    "outputId": "93622842-53fc-4a47-9021-9189fe01ba13"
   },
   "outputs": [
    {
     "data": {
      "text/latex": [
       "$\\displaystyle \\cos{\\left(x \\right)}$"
      ],
      "text/plain": [
       "cos(x)"
      ]
     },
     "execution_count": 54,
     "metadata": {},
     "output_type": "execute_result"
    }
   ],
   "source": []
  },
  {
   "cell_type": "markdown",
   "metadata": {
    "id": "KUCDsnyRWP1M"
   },
   "source": [
    "## Ejercicio 6"
   ]
  },
  {
   "cell_type": "markdown",
   "metadata": {
    "id": "VCPCYnmje_bG"
   },
   "source": [
    "Obtén la derivada de la matriz:\n",
    "\n",
    "$\\begin{bmatrix}cos(4x) & 3x\\\\x & sen(5x)\\end{bmatrix}$\n",
    "\n",
    "Verfica información sobre matrices en [https://docs.sympy.org/latest/modules/matrices/matrices.html#creating-matrices]"
   ]
  },
  {
   "cell_type": "code",
   "execution_count": 55,
   "metadata": {
    "colab": {
     "base_uri": "https://localhost:8080/",
     "height": 58
    },
    "executionInfo": {
     "elapsed": 226,
     "status": "ok",
     "timestamp": 1667905218018,
     "user": {
      "displayName": "Ester Martínez Martín",
      "userId": "04354067800048159174"
     },
     "user_tz": -60
    },
    "id": "u4eJQZZe5bke",
    "outputId": "ed6a1738-59b1-4fd5-b98f-164c49cb4ed8"
   },
   "outputs": [
    {
     "data": {
      "text/latex": [
       "$\\displaystyle \\left[\\begin{matrix}- 4 \\sin{\\left(4 x \\right)} & 3\\\\1 & 5 \\cos{\\left(5 x \\right)}\\end{matrix}\\right]$"
      ],
      "text/plain": [
       "Matrix([\n",
       "[-4*sin(4*x),          3],\n",
       "[          1, 5*cos(5*x)]])"
      ]
     },
     "execution_count": 55,
     "metadata": {},
     "output_type": "execute_result"
    }
   ],
   "source": []
  },
  {
   "cell_type": "markdown",
   "metadata": {
    "id": "qQqX55EhWP8k"
   },
   "source": [
    "## Ejercicio 7"
   ]
  },
  {
   "cell_type": "markdown",
   "metadata": {
    "id": "aDsrUP1_fwRC"
   },
   "source": [
    "Calcula la primera derivada parcial respecto a x de las siguientes expresiones:\n",
    "\n",
    "$tan(x + y)$\n",
    "\n",
    "$ay + bx + cz$\n",
    "\n",
    "$x^{0.5} − 3y$"
   ]
  },
  {
   "cell_type": "code",
   "execution_count": 56,
   "metadata": {
    "colab": {
     "base_uri": "https://localhost:8080/",
     "height": 38
    },
    "executionInfo": {
     "elapsed": 252,
     "status": "ok",
     "timestamp": 1667905237189,
     "user": {
      "displayName": "Ester Martínez Martín",
      "userId": "04354067800048159174"
     },
     "user_tz": -60
    },
    "id": "cAZm7ve55gHO",
    "outputId": "9b6a736c-1678-4399-8efe-f98256270f84"
   },
   "outputs": [
    {
     "data": {
      "text/latex": [
       "$\\displaystyle \\tan^{2}{\\left(x + y \\right)} + 1$"
      ],
      "text/plain": [
       "tan(x + y)**2 + 1"
      ]
     },
     "execution_count": 56,
     "metadata": {},
     "output_type": "execute_result"
    }
   ],
   "source": []
  },
  {
   "cell_type": "code",
   "execution_count": 57,
   "metadata": {
    "colab": {
     "base_uri": "https://localhost:8080/",
     "height": 38
    },
    "executionInfo": {
     "elapsed": 351,
     "status": "ok",
     "timestamp": 1667905249546,
     "user": {
      "displayName": "Ester Martínez Martín",
      "userId": "04354067800048159174"
     },
     "user_tz": -60
    },
    "id": "TIEIkCBD5f8N",
    "outputId": "2f050c5b-073e-4ec8-bd54-f1975c8bb923"
   },
   "outputs": [
    {
     "data": {
      "text/latex": [
       "$\\displaystyle b$"
      ],
      "text/plain": [
       "b"
      ]
     },
     "execution_count": 57,
     "metadata": {},
     "output_type": "execute_result"
    }
   ],
   "source": []
  },
  {
   "cell_type": "code",
   "execution_count": 58,
   "metadata": {
    "colab": {
     "base_uri": "https://localhost:8080/",
     "height": 51
    },
    "executionInfo": {
     "elapsed": 213,
     "status": "ok",
     "timestamp": 1667905262052,
     "user": {
      "displayName": "Ester Martínez Martín",
      "userId": "04354067800048159174"
     },
     "user_tz": -60
    },
    "id": "eVhjkyWL5fw6",
    "outputId": "123a5f3c-a572-4188-9fbb-8fc61ed75b35"
   },
   "outputs": [
    {
     "data": {
      "text/latex": [
       "$\\displaystyle \\frac{0.5}{x^{0.5}}$"
      ],
      "text/plain": [
       "0.5/x**0.5"
      ]
     },
     "execution_count": 58,
     "metadata": {},
     "output_type": "execute_result"
    }
   ],
   "source": []
  },
  {
   "cell_type": "markdown",
   "metadata": {
    "id": "7KvI_DGZWQK9"
   },
   "source": [
    "## Ejercicio 8"
   ]
  },
  {
   "cell_type": "markdown",
   "metadata": {
    "id": "dvKCo6tQgqr5"
   },
   "source": [
    "Analiza las siguientes expresiones. Crea una función que al introducir las expresiones cree un gráfico con la función junto con sus\n",
    "raíces, asíntotas y puntos críticos.\n",
    "\n",
    "$\\frac{2x}{x^2+1}$\n",
    "\n",
    "$\\frac{log(x)}{x}$\n",
    "\n",
    "$\\frac{x+1}{\\sqrt{x-1}-5}$\n",
    "\n",
    "$\\frac{x^3}{(x-1)^2}-8$"
   ]
  },
  {
   "cell_type": "code",
   "execution_count": 59,
   "metadata": {
    "id": "ANx46Gsg6OBp"
   },
   "outputs": [],
   "source": []
  },
  {
   "cell_type": "code",
   "execution_count": 60,
   "metadata": {
    "colab": {
     "base_uri": "https://localhost:8080/",
     "height": 476
    },
    "executionInfo": {
     "elapsed": 652,
     "status": "ok",
     "timestamp": 1667905517028,
     "user": {
      "displayName": "Ester Martínez Martín",
      "userId": "04354067800048159174"
     },
     "user_tz": -60
    },
    "id": "Nsyp3fp66N2t",
    "outputId": "9f556871-7bde-4c0e-8f18-c74e94168897"
   },
   "outputs": [
    {
     "name": "stdout",
     "output_type": "stream",
     "text": [
      "Original:"
     ]
    },
    {
     "data": {
      "text/latex": [
       "$\\displaystyle \\frac{2 x}{x^{2} + 1}$"
      ],
      "text/plain": [
       "2*x/(x**2 + 1)"
      ]
     },
     "metadata": {},
     "output_type": "display_data"
    },
    {
     "name": "stdout",
     "output_type": "stream",
     "text": [
      "Asíntotas horizontales: 0\n",
      "Asíntotas verticales: []\n",
      "Derivada:"
     ]
    },
    {
     "data": {
      "text/latex": [
       "$\\displaystyle - \\frac{4 x^{2}}{\\left(x^{2} + 1\\right)^{2}} + \\frac{2}{x^{2} + 1}$"
      ],
      "text/plain": [
       "-4*x**2/(x**2 + 1)**2 + 2/(x**2 + 1)"
      ]
     },
     "metadata": {},
     "output_type": "display_data"
    },
    {
     "name": "stdout",
     "output_type": "stream",
     "text": [
      "Puntos críticos: [-1, 1]\n",
      "Hay un mínimo en (-1,-1)\n",
      "Hay un mínimo en (1,1)\n"
     ]
    },
    {
     "data": {
      "image/png": "[encoded data removed]",
      "text/plain": [
       "<Figure size 432x288 with 1 Axes>"
      ]
     },
     "metadata": {
      "needs_background": "light"
     },
     "output_type": "display_data"
    }
   ],
   "source": []
  },
  {
   "cell_type": "code",
   "execution_count": 61,
   "metadata": {
    "colab": {
     "base_uri": "https://localhost:8080/",
     "height": 446
    },
    "executionInfo": {
     "elapsed": 688,
     "status": "ok",
     "timestamp": 1667905522051,
     "user": {
      "displayName": "Ester Martínez Martín",
      "userId": "04354067800048159174"
     },
     "user_tz": -60
    },
    "id": "C1bM_eDj6NqS",
    "outputId": "d32e1885-9fe1-48f7-b368-61104d4bef2f"
   },
   "outputs": [
    {
     "name": "stdout",
     "output_type": "stream",
     "text": [
      "Original:"
     ]
    },
    {
     "data": {
      "text/latex": [
       "$\\displaystyle \\frac{\\log{\\left(x \\right)}}{x}$"
      ],
      "text/plain": [
       "log(x)/x"
      ]
     },
     "metadata": {},
     "output_type": "display_data"
    },
    {
     "name": "stdout",
     "output_type": "stream",
     "text": [
      "Asíntotas horizontales: 0\n",
      "Asíntotas verticales: [0]\n",
      "Derivada:"
     ]
    },
    {
     "data": {
      "text/latex": [
       "$\\displaystyle - \\frac{\\log{\\left(x \\right)}}{x^{2}} + \\frac{1}{x^{2}}$"
      ],
      "text/plain": [
       "-log(x)/x**2 + x**(-2)"
      ]
     },
     "metadata": {},
     "output_type": "display_data"
    },
    {
     "name": "stdout",
     "output_type": "stream",
     "text": [
      "Puntos críticos: [E]\n",
      "Hay un mínimo en (E,exp(-1))\n"
     ]
    },
    {
     "data": {
      "image/png": "[encoded data removed]",
      "text/plain": [
       "<Figure size 432x288 with 1 Axes>"
      ]
     },
     "metadata": {
      "needs_background": "light"
     },
     "output_type": "display_data"
    }
   ],
   "source": []
  },
  {
   "cell_type": "code",
   "execution_count": 62,
   "metadata": {
    "colab": {
     "base_uri": "https://localhost:8080/",
     "height": 475
    },
    "executionInfo": {
     "elapsed": 801,
     "status": "ok",
     "timestamp": 1667905526522,
     "user": {
      "displayName": "Ester Martínez Martín",
      "userId": "04354067800048159174"
     },
     "user_tz": -60
    },
    "id": "9PXUyXxQ6Nc0",
    "outputId": "9c445130-784f-433f-d4ab-e27cfa62c283"
   },
   "outputs": [
    {
     "name": "stdout",
     "output_type": "stream",
     "text": [
      "Original:"
     ]
    },
    {
     "data": {
      "text/latex": [
       "$\\displaystyle \\frac{x + 1}{\\sqrt{x - 1} - 5}$"
      ],
      "text/plain": [
       "(x + 1)/(sqrt(x - 1) - 5)"
      ]
     },
     "metadata": {},
     "output_type": "display_data"
    },
    {
     "name": "stdout",
     "output_type": "stream",
     "text": [
      "Asíntotas horizontales: oo\n",
      "Asíntotas verticales: [26]\n",
      "Derivada:"
     ]
    },
    {
     "data": {
      "text/latex": [
       "$\\displaystyle \\frac{1}{\\sqrt{x - 1} - 5} - \\frac{x + 1}{2 \\sqrt{x - 1} \\left(\\sqrt{x - 1} - 5\\right)^{2}}$"
      ],
      "text/plain": [
       "1/(sqrt(x - 1) - 5) - (x + 1)/(2*sqrt(x - 1)*(sqrt(x - 1) - 5)**2)"
      ]
     },
     "metadata": {},
     "output_type": "display_data"
    },
    {
     "name": "stdout",
     "output_type": "stream",
     "text": [
      "Puntos críticos: [30*sqrt(3) + 53]\n",
      "Hay un máximo en (30*sqrt(3) + 53,(30*sqrt(3) + 54)/(-5 + sqrt(30*sqrt(3) + 52)))\n"
     ]
    },
    {
     "name": "stderr",
     "output_type": "stream",
     "text": [
      "<lambdifygenerated-4>:2: RuntimeWarning: invalid value encountered in sqrt\n",
      "  return (x + 1)/(sqrt(x - 1) - 5)\n"
     ]
    },
    {
     "data": {
      "image/png": "[encoded data removed]",
      "text/plain": [
       "<Figure size 432x288 with 1 Axes>"
      ]
     },
     "metadata": {
      "needs_background": "light"
     },
     "output_type": "display_data"
    }
   ],
   "source": []
  },
  {
   "cell_type": "code",
   "execution_count": 63,
   "metadata": {
    "colab": {
     "base_uri": "https://localhost:8080/",
     "height": 480
    },
    "executionInfo": {
     "elapsed": 677,
     "status": "ok",
     "timestamp": 1667905530050,
     "user": {
      "displayName": "Ester Martínez Martín",
      "userId": "04354067800048159174"
     },
     "user_tz": -60
    },
    "id": "_pUD6aki6ixK",
    "outputId": "0da04bb1-b607-4735-9717-4f0669b3fe0c"
   },
   "outputs": [
    {
     "name": "stdout",
     "output_type": "stream",
     "text": [
      "Original:"
     ]
    },
    {
     "data": {
      "text/latex": [
       "$\\displaystyle \\frac{x^{3}}{\\left(x - 1\\right)^{2}} - 8$"
      ],
      "text/plain": [
       "x**3/(x - 1)**2 - 8"
      ]
     },
     "metadata": {},
     "output_type": "display_data"
    },
    {
     "name": "stdout",
     "output_type": "stream",
     "text": [
      "Asíntotas horizontales: oo\n",
      "Asíntotas verticales: [1]\n",
      "Derivada:"
     ]
    },
    {
     "data": {
      "text/latex": [
       "$\\displaystyle - \\frac{2 x^{3}}{\\left(x - 1\\right)^{3}} + \\frac{3 x^{2}}{\\left(x - 1\\right)^{2}}$"
      ],
      "text/plain": [
       "-2*x**3/(x - 1)**3 + 3*x**2/(x - 1)**2"
      ]
     },
     "metadata": {},
     "output_type": "display_data"
    },
    {
     "name": "stdout",
     "output_type": "stream",
     "text": [
      "Puntos críticos: [0, 3]\n",
      "Hay un mínimo en (0,-8)\n",
      "Hay un máximo en (3,-5/4)\n"
     ]
    },
    {
     "data": {
      "image/png": "[encoded data removed]",
      "text/plain": [
       "<Figure size 432x288 with 1 Axes>"
      ]
     },
     "metadata": {
      "needs_background": "light"
     },
     "output_type": "display_data"
    }
   ],
   "source": []
  },
  {
   "cell_type": "markdown",
   "metadata": {
    "id": "PWhPvzePWQR1"
   },
   "source": [
    "## Ejercicio 9"
   ]
  },
  {
   "cell_type": "markdown",
   "metadata": {
    "id": "bU-rNSKWh1SR"
   },
   "source": [
    "Una ventana se construye en su parte superior con un semicírculo y en su parte inferior con un rectángulo. Si hay 12m de materiales, ¿cuáles serán las dimensiones de la ventana para que entre la mayor cantidad de luz?"
   ]
  },
  {
   "cell_type": "code",
   "execution_count": 64,
   "metadata": {
    "colab": {
     "base_uri": "https://localhost:8080/",
     "height": 368
    },
    "executionInfo": {
     "elapsed": 824,
     "status": "ok",
     "timestamp": 1667905564067,
     "user": {
      "displayName": "Ester Martínez Martín",
      "userId": "04354067800048159174"
     },
     "user_tz": -60
    },
    "id": "FM4Htp_B6xGl",
    "outputId": "153438d9-9356-4ad4-9ed7-dbe79eeb2a5c"
   },
   "outputs": [
    {
     "name": "stdout",
     "output_type": "stream",
     "text": [
      "nuevo_y:\n"
     ]
    },
    {
     "data": {
      "text/latex": [
       "$\\displaystyle - \\frac{\\pi x}{2} - x + 6$"
      ],
      "text/plain": [
       "-pi*x/2 - x + 6"
      ]
     },
     "metadata": {},
     "output_type": "display_data"
    },
    {
     "name": "stdout",
     "output_type": "stream",
     "text": [
      "Puntos criticos: [12/(pi + 4)]\n",
      "Anchura optima: 24/(pi + 4)\n",
      "Altura optima: -6*pi/(pi + 4) - 12/(pi + 4) + 6\n"
     ]
    },
    {
     "data": {
      "image/png": "[encoded data removed]",
      "text/plain": [
       "<Figure size 432x288 with 1 Axes>"
      ]
     },
     "metadata": {
      "needs_background": "light"
     },
     "output_type": "display_data"
    }
   ],
   "source": []
  },
  {
   "cell_type": "markdown",
   "metadata": {
    "id": "CRYK3tRhWQXK"
   },
   "source": [
    "## Ejercicio 10"
   ]
  },
  {
   "cell_type": "markdown",
   "metadata": {
    "id": "JauMrJI8iA0Y"
   },
   "source": [
    "Determina los puntos sobre $y = x^2 + 1$ más cercanos a $(0, 2)$"
   ]
  },
  {
   "cell_type": "code",
   "execution_count": 65,
   "metadata": {
    "colab": {
     "base_uri": "https://localhost:8080/",
     "height": 301
    },
    "executionInfo": {
     "elapsed": 611,
     "status": "ok",
     "timestamp": 1667905600816,
     "user": {
      "displayName": "Ester Martínez Martín",
      "userId": "04354067800048159174"
     },
     "user_tz": -60
    },
    "id": "IKs21ShP610l",
    "outputId": "b04392d1-841b-4001-ddc9-7311430f5613"
   },
   "outputs": [
    {
     "name": "stdout",
     "output_type": "stream",
     "text": [
      "Puntos críticos: [0, -sqrt(2)/2, sqrt(2)/2]\n"
     ]
    },
    {
     "data": {
      "text/plain": [
       "[<matplotlib.lines.Line2D at 0x7f534830c2e0>]"
      ]
     },
     "execution_count": 65,
     "metadata": {},
     "output_type": "execute_result"
    },
    {
     "data": {
      "image/png": "[encoded data removed]",
      "text/plain": [
       "<Figure size 432x288 with 1 Axes>"
      ]
     },
     "metadata": {
      "needs_background": "light"
     },
     "output_type": "display_data"
    }
   ],
   "source": []
  },
  {
   "cell_type": "markdown",
   "metadata": {
    "id": "m_tJ3OGIWQps"
   },
   "source": [
    "## Ejercicio 11"
   ]
  },
  {
   "cell_type": "markdown",
   "metadata": {
    "id": "KztsylNpikXG"
   },
   "source": [
    "Calcula la matriz Jacobiana de $g(x, y, z) = (e^x, cos(y), sen(z))$\n",
    "\n",
    "Verifica cómo calcular la jacobiana en [https://docs.sympy.org/latest/modules/matrices/matrices.html]"
   ]
  },
  {
   "cell_type": "code",
   "execution_count": 66,
   "metadata": {
    "colab": {
     "base_uri": "https://localhost:8080/",
     "height": 78
    },
    "executionInfo": {
     "elapsed": 203,
     "status": "ok",
     "timestamp": 1667905696257,
     "user": {
      "displayName": "Ester Martínez Martín",
      "userId": "04354067800048159174"
     },
     "user_tz": -60
    },
    "id": "x-P8XZTf7PPI",
    "outputId": "d368b86c-e708-4a20-b9aa-81c8693d3583"
   },
   "outputs": [
    {
     "data": {
      "text/latex": [
       "$\\displaystyle \\left[\\begin{matrix}e^{x} & 0 & 0\\\\0 & - \\sin{\\left(y \\right)} & 0\\\\0 & 0 & \\cos{\\left(z \\right)}\\end{matrix}\\right]$"
      ],
      "text/plain": [
       "Matrix([\n",
       "[exp(x),       0,      0],\n",
       "[     0, -sin(y),      0],\n",
       "[     0,       0, cos(z)]])"
      ]
     },
     "execution_count": 66,
     "metadata": {},
     "output_type": "execute_result"
    }
   ],
   "source": []
  },
  {
   "cell_type": "markdown",
   "metadata": {
    "id": "hsEUyyC9WQj_"
   },
   "source": [
    "## Ejercicio 12"
   ]
  },
  {
   "cell_type": "markdown",
   "metadata": {
    "id": "TJSOt37nicmF"
   },
   "source": [
    "Calcula la matriz Hessiana de la función $f (x, y) = xy + 2zx$\n",
    "\n",
    "Verifica cómo calcular la Hessiana en [https://docs.sympy.org/latest/modules/matrices/matrices.html]"
   ]
  },
  {
   "cell_type": "code",
   "execution_count": 67,
   "metadata": {
    "colab": {
     "base_uri": "https://localhost:8080/",
     "height": 78
    },
    "executionInfo": {
     "elapsed": 269,
     "status": "ok",
     "timestamp": 1667905675918,
     "user": {
      "displayName": "Ester Martínez Martín",
      "userId": "04354067800048159174"
     },
     "user_tz": -60
    },
    "id": "6YBdTqyW7Go9",
    "outputId": "9d9ca7ac-e420-4fbe-cc6f-5d435f7d1688"
   },
   "outputs": [
    {
     "data": {
      "text/latex": [
       "$\\displaystyle \\left[\\begin{matrix}0 & 1 & 2\\\\1 & 0 & 0\\\\2 & 0 & 0\\end{matrix}\\right]$"
      ],
      "text/plain": [
       "Matrix([\n",
       "[0, 1, 2],\n",
       "[1, 0, 0],\n",
       "[2, 0, 0]])"
      ]
     },
     "execution_count": 67,
     "metadata": {},
     "output_type": "execute_result"
    }
   ],
   "source": []
  },
  {
   "cell_type": "markdown",
   "metadata": {
    "id": "BiB5u8VLWQdj"
   },
   "source": [
    "## Ejercicio 11"
   ]
  },
  {
   "cell_type": "markdown",
   "metadata": {
    "id": "aUMT5KhUiOcV"
   },
   "source": [
    "Representa las siguientes funciones y calcula su gradiente\n",
    "\n",
    "$f (x, y) = x^2y^3$\n",
    "\n",
    "$g(x, y) = xe^{−x^2−y^2}$\n",
    "\n",
    "Recuerda que el **gradiente** es el vector formado por las derivadas parciales de una función **escalar**.\n",
    "\n",
    "La matriz **jacobiana** es la matriz formada por las derivadas parciales de una función vectorial. Sus vectores son los **gradientes** de los respectivos componentes de la función."
   ]
  },
  {
   "cell_type": "code",
   "execution_count": 68,
   "metadata": {
    "colab": {
     "base_uri": "https://localhost:8080/",
     "height": 319
    },
    "executionInfo": {
     "elapsed": 1101,
     "status": "ok",
     "timestamp": 1667905630738,
     "user": {
      "displayName": "Ester Martínez Martín",
      "userId": "04354067800048159174"
     },
     "user_tz": -60
    },
    "id": "9c36ezba69BY",
    "outputId": "c8ed8518-ec38-41b7-c1aa-7e8f1e784694"
   },
   "outputs": [
    {
     "data": {
      "image/png": "[encoded data removed]",
      "text/plain": [
       "<Figure size 432x288 with 1 Axes>"
      ]
     },
     "metadata": {
      "needs_background": "light"
     },
     "output_type": "display_data"
    },
    {
     "data": {
      "text/latex": [
       "$\\displaystyle \\left[\\begin{matrix}2 x y^{3} & 3 x^{2} y^{2}\\end{matrix}\\right]$"
      ],
      "text/plain": [
       "Matrix([[2*x*y**3, 3*x**2*y**2]])"
      ]
     },
     "metadata": {},
     "output_type": "display_data"
    }
   ],
   "source": []
  },
  {
   "cell_type": "code",
   "execution_count": 69,
   "metadata": {
    "colab": {
     "base_uri": "https://localhost:8080/",
     "height": 327
    },
    "executionInfo": {
     "elapsed": 1109,
     "status": "ok",
     "timestamp": 1667905635285,
     "user": {
      "displayName": "Ester Martínez Martín",
      "userId": "04354067800048159174"
     },
     "user_tz": -60
    },
    "id": "faP4TNou7AEL",
    "outputId": "16588cfc-916b-4490-91e0-f3680c8b693f"
   },
   "outputs": [
    {
     "data": {
      "image/png": "[encoded data removed]",
      "text/plain": [
       "<Figure size 432x288 with 1 Axes>"
      ]
     },
     "metadata": {
      "needs_background": "light"
     },
     "output_type": "display_data"
    },
    {
     "data": {
      "text/latex": [
       "$\\displaystyle \\left[\\begin{matrix}- 2 x^{2} e^{- x^{2} - y^{2}} + e^{- x^{2} - y^{2}} & - 2 x y e^{- x^{2} - y^{2}}\\end{matrix}\\right]$"
      ],
      "text/plain": [
       "Matrix([[-2*x**2*exp(-x**2 - y**2) + exp(-x**2 - y**2), -2*x*y*exp(-x**2 - y**2)]])"
      ]
     },
     "execution_count": 69,
     "metadata": {},
     "output_type": "execute_result"
    }
   ],
   "source": []
  }
 ],
 "metadata": {
  "colab": {
   "collapsed_sections": [],
   "provenance": [
    {
     "file_id": "1d160XbMuzSv11AXzcAI9UtOTRwzzy8yy",
     "timestamp": 1667905758790
    },
    {
     "file_id": "1yXMAKlGCgJuE1FZjB5eUpkVmVXy7NbQo",
     "timestamp": 1667904314819
    }
   ]
  },
  "kernelspec": {
   "display_name": "Python 3 (ipykernel)",
   "language": "python",
   "name": "python3"
  },
  "language_info": {
   "codemirror_mode": {
    "name": "ipython",
    "version": 3
   },
   "file_extension": ".py",
   "mimetype": "text/x-python",
   "name": "python",
   "nbconvert_exporter": "python",
   "pygments_lexer": "ipython3",
   "version": "3.10.9"
  },
  "vscode": {
   "interpreter": {
    "hash": "b197d077b85383597bf8661f92fb5e9423b402f9618d7eba444b50c094388fdb"
   }
  }
 },
 "nbformat": 4,
 "nbformat_minor": 4
}

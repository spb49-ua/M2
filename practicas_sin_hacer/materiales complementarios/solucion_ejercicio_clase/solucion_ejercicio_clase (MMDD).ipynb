{
 "cells": [
  {
   "cell_type": "code",
   "execution_count": 6,
   "metadata": {
    "id": "-JOT0Y-ai23t"
   },
   "outputs": [],
   "source": [
    "# Crea la clase \"operaciones\" que tenga como parámetros dos operandos y que incluya los siguientes métodos:\n",
    "# __init__, estableciendo como valores por defecto de los operandos 0\n",
    "# actualizar, permite modificar el valor de los operandos\n",
    "# suma, que devuelve la suma de los dos operandos\n",
    "# resta, que devuelve la resta de los dos operandos\n",
    "# multiplicación, que devuelve la multiplicación de los dos operandos\n",
    "# división, que devuelve la división de los dos operandos, primero dividido el segundo, o NaN, cuando el segundo operando es cero\n",
    "# un método que al hacer print(objeto) imprima el mensaje 'Los operandos de esta operación es operador1 y operador2'\n",
    "\n",
    "from math import nan\n",
    "\n",
    "class operaciones:\n",
    "  def __init__ (self, op1=0, op2=0):\n",
    "    self.op1 = op1\n",
    "    self.op2 = op2\n",
    "  \n",
    "  def actualizar (self, op1, op2):\n",
    "    self.op1 = op1\n",
    "    self.op2 = op2\n",
    "\n",
    "  def suma (self):\n",
    "    return self.op1 + self.op2\n",
    "\n",
    "  def resta (self):\n",
    "    return self.op1 - self.op2\n",
    "\n",
    "  def multiplicacion (self):\n",
    "    return self.op1 * self.op2\n",
    "\n",
    "  def division (self):\n",
    "    if self.op2 == 0:\n",
    "      return nan\n",
    "    else:\n",
    "      return self.op1 / self.op2\n",
    "\n",
    "  def __str__(self):\n",
    "    return f'Los operandos de esta operación son {self.op1} y {self.op2}'"
   ]
  },
  {
   "cell_type": "code",
   "execution_count": 8,
   "metadata": {},
   "outputs": [
    {
     "name": "stdout",
     "output_type": "stream",
     "text": [
      "Los operandos de esta operación son 3 y 5\n"
     ]
    }
   ],
   "source": [
    "x=operaciones(3,5)\n",
    "print(x)\n"
   ]
  },
  {
   "cell_type": "code",
   "execution_count": 7,
   "metadata": {},
   "outputs": [
    {
     "data": {
      "text/plain": [
       "nan"
      ]
     },
     "execution_count": 7,
     "metadata": {},
     "output_type": "execute_result"
    }
   ],
   "source": [
    "x.actualizar(6,0)\n",
    "x.division()"
   ]
  },
  {
   "cell_type": "code",
   "execution_count": 9,
   "metadata": {},
   "outputs": [
    {
     "data": {
      "text/plain": [
       "-2"
      ]
     },
     "execution_count": 9,
     "metadata": {},
     "output_type": "execute_result"
    }
   ],
   "source": [
    "x.multiplicacion()\n",
    "x.suma()\n",
    "x.resta()"
   ]
  },
  {
   "cell_type": "code",
   "execution_count": 10,
   "metadata": {},
   "outputs": [
    {
     "data": {
      "text/plain": [
       "8"
      ]
     },
     "execution_count": 10,
     "metadata": {},
     "output_type": "execute_result"
    }
   ],
   "source": [
    "x.suma()\n"
   ]
  },
  {
   "cell_type": "code",
   "execution_count": 11,
   "metadata": {},
   "outputs": [
    {
     "data": {
      "text/plain": [
       "15"
      ]
     },
     "execution_count": 11,
     "metadata": {},
     "output_type": "execute_result"
    }
   ],
   "source": [
    "x.multiplicacion()"
   ]
  },
  {
   "cell_type": "code",
   "execution_count": 12,
   "metadata": {},
   "outputs": [
    {
     "data": {
      "text/plain": [
       "0.6"
      ]
     },
     "execution_count": 12,
     "metadata": {},
     "output_type": "execute_result"
    }
   ],
   "source": [
    "x.division()"
   ]
  },
  {
   "cell_type": "code",
   "execution_count": null,
   "metadata": {},
   "outputs": [],
   "source": []
  }
 ],
 "metadata": {
  "colab": {
   "provenance": []
  },
  "kernelspec": {
   "display_name": "Python 3",
   "language": "python",
   "name": "python3"
  },
  "language_info": {
   "codemirror_mode": {
    "name": "ipython",
    "version": 3
   },
   "file_extension": ".py",
   "mimetype": "text/x-python",
   "name": "python",
   "nbconvert_exporter": "python",
   "pygments_lexer": "ipython3",
   "version": "3.8.10"
  }
 },
 "nbformat": 4,
 "nbformat_minor": 1
}
